{
  "nbformat": 4,
  "nbformat_minor": 0,
  "metadata": {
    "colab": {
      "name": "SolutionTemplateWiDS2021.ipynb",
      "provenance": [],
      "collapsed_sections": [
        "Z87MwgFlZpud",
        "mB3VAEYqZxtj",
        "NNoaQwjhZ-89",
        "xpqeSvk-9rDE",
        "PUtUCwb8iyHX",
        "8k7PtDs5puIo",
        "-G5u8Vysrf_Y",
        "W4VtNaJ6u5Ia",
        "__B-UoWc0mu6"
      ],
      "toc_visible": true
    },
    "kernelspec": {
      "name": "python3",
      "display_name": "Python 3"
    }
  },
  "cells": [
    {
      "cell_type": "markdown",
      "metadata": {
        "id": "Z87MwgFlZpud"
      },
      "source": [
        "# **Bibliotecas Python**"
      ]
    },
    {
      "cell_type": "code",
      "metadata": {
        "id": "Ihhu3GEChGqm",
        "colab": {
          "base_uri": "https://localhost:8080/"
        },
        "outputId": "74c0f6f6-c984-43cb-f7b3-d2f8df3cde99"
      },
      "source": [
        "# Importando as bibliotecas Python\r\n",
        "import pandas as pd\r\n",
        "import matplotlib.pyplot as plt\r\n",
        "import numpy as np\r\n",
        "from sklearn import preprocessing\r\n",
        "from sklearn.ensemble import RandomForestRegressor\r\n",
        "from sklearn.pipeline import make_pipeline\r\n",
        "from sklearn.model_selection import GridSearchCV\r\n",
        "from sklearn.externals import joblib\r\n",
        "import seaborn as sns\r\n",
        "from collections import Counter\r\n",
        "%matplotlib inline"
      ],
      "execution_count": null,
      "outputs": [
        {
          "output_type": "stream",
          "text": [
            "/usr/local/lib/python3.7/dist-packages/sklearn/externals/joblib/__init__.py:15: FutureWarning: sklearn.externals.joblib is deprecated in 0.21 and will be removed in 0.23. Please import this functionality directly from joblib, which can be installed with: pip install joblib. If this warning is raised when loading pickled models, you may need to re-serialize those models with scikit-learn 0.21+.\n",
            "  warnings.warn(msg, category=FutureWarning)\n"
          ],
          "name": "stderr"
        }
      ]
    },
    {
      "cell_type": "markdown",
      "metadata": {
        "id": "mB3VAEYqZxtj"
      },
      "source": [
        "# **Carregando Dados**"
      ]
    },
    {
      "cell_type": "code",
      "metadata": {
        "id": "fOY2g2oWhzwc",
        "colab": {
          "resources": {
            "http://localhost:8080/nbextensions/google.colab/files.js": {
              "data": "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",
              "ok": true,
              "headers": [
                [
                  "content-type",
                  "application/javascript"
                ]
              ],
              "status": 200,
              "status_text": ""
            }
          },
          "base_uri": "https://localhost:8080/",
          "height": 72
        },
        "outputId": "c2e75600-6022-47ef-f4a3-cb0de956ecee"
      },
      "source": [
        "#Upload do arquivo\r\n",
        "from google.colab import files\r\n",
        "arq = files.upload()"
      ],
      "execution_count": null,
      "outputs": [
        {
          "output_type": "display_data",
          "data": {
            "text/html": [
              "\n",
              "     <input type=\"file\" id=\"files-f50facba-9720-4b5d-9c37-714c96653ed3\" name=\"files[]\" multiple disabled\n",
              "        style=\"border:none\" />\n",
              "     <output id=\"result-f50facba-9720-4b5d-9c37-714c96653ed3\">\n",
              "      Upload widget is only available when the cell has been executed in the\n",
              "      current browser session. Please rerun this cell to enable.\n",
              "      </output>\n",
              "      <script src=\"/nbextensions/google.colab/files.js\"></script> "
            ],
            "text/plain": [
              "<IPython.core.display.HTML object>"
            ]
          },
          "metadata": {
            "tags": []
          }
        },
        {
          "output_type": "stream",
          "text": [
            "Saving TrainingWiDS2021.csv to TrainingWiDS2021.csv\n"
          ],
          "name": "stdout"
        }
      ]
    },
    {
      "cell_type": "code",
      "metadata": {
        "id": "3WsG3XjYi6CN"
      },
      "source": [
        "# Carregando os dados\r\n",
        "df = pd.read_csv('TrainingWiDS2021.csv')"
      ],
      "execution_count": null,
      "outputs": []
    },
    {
      "cell_type": "code",
      "metadata": {
        "colab": {
          "base_uri": "https://localhost:8080/"
        },
        "id": "qu2525I8nYL6",
        "outputId": "4eb289be-b0fb-4a88-b105-3e10c89041c0"
      },
      "source": [
        "# Verificando o formato dos dados\r\n",
        "df.shape"
      ],
      "execution_count": null,
      "outputs": [
        {
          "output_type": "execute_result",
          "data": {
            "text/plain": [
              "(130157, 181)"
            ]
          },
          "metadata": {
            "tags": []
          },
          "execution_count": 4
        }
      ]
    },
    {
      "cell_type": "code",
      "metadata": {
        "colab": {
          "base_uri": "https://localhost:8080/",
          "height": 338
        },
        "id": "cf2If1LXpVyj",
        "outputId": "14debcc6-02cb-4584-f664-d6117bf319e5"
      },
      "source": [
        "# Verificando as primeiras linhas do dataset\r\n",
        "df.head(5)"
      ],
      "execution_count": null,
      "outputs": [
        {
          "output_type": "execute_result",
          "data": {
            "text/html": [
              "<div>\n",
              "<style scoped>\n",
              "    .dataframe tbody tr th:only-of-type {\n",
              "        vertical-align: middle;\n",
              "    }\n",
              "\n",
              "    .dataframe tbody tr th {\n",
              "        vertical-align: top;\n",
              "    }\n",
              "\n",
              "    .dataframe thead th {\n",
              "        text-align: right;\n",
              "    }\n",
              "</style>\n",
              "<table border=\"1\" class=\"dataframe\">\n",
              "  <thead>\n",
              "    <tr style=\"text-align: right;\">\n",
              "      <th></th>\n",
              "      <th>Unnamed: 0</th>\n",
              "      <th>encounter_id</th>\n",
              "      <th>hospital_id</th>\n",
              "      <th>age</th>\n",
              "      <th>bmi</th>\n",
              "      <th>elective_surgery</th>\n",
              "      <th>ethnicity</th>\n",
              "      <th>gender</th>\n",
              "      <th>height</th>\n",
              "      <th>hospital_admit_source</th>\n",
              "      <th>icu_admit_source</th>\n",
              "      <th>icu_id</th>\n",
              "      <th>icu_stay_type</th>\n",
              "      <th>icu_type</th>\n",
              "      <th>pre_icu_los_days</th>\n",
              "      <th>readmission_status</th>\n",
              "      <th>weight</th>\n",
              "      <th>albumin_apache</th>\n",
              "      <th>apache_2_diagnosis</th>\n",
              "      <th>apache_3j_diagnosis</th>\n",
              "      <th>apache_post_operative</th>\n",
              "      <th>arf_apache</th>\n",
              "      <th>bilirubin_apache</th>\n",
              "      <th>bun_apache</th>\n",
              "      <th>creatinine_apache</th>\n",
              "      <th>fio2_apache</th>\n",
              "      <th>gcs_eyes_apache</th>\n",
              "      <th>gcs_motor_apache</th>\n",
              "      <th>gcs_unable_apache</th>\n",
              "      <th>gcs_verbal_apache</th>\n",
              "      <th>glucose_apache</th>\n",
              "      <th>heart_rate_apache</th>\n",
              "      <th>hematocrit_apache</th>\n",
              "      <th>intubated_apache</th>\n",
              "      <th>map_apache</th>\n",
              "      <th>paco2_apache</th>\n",
              "      <th>paco2_for_ph_apache</th>\n",
              "      <th>pao2_apache</th>\n",
              "      <th>ph_apache</th>\n",
              "      <th>resprate_apache</th>\n",
              "      <th>...</th>\n",
              "      <th>h1_hemaglobin_max</th>\n",
              "      <th>h1_hemaglobin_min</th>\n",
              "      <th>h1_hematocrit_max</th>\n",
              "      <th>h1_hematocrit_min</th>\n",
              "      <th>h1_inr_max</th>\n",
              "      <th>h1_inr_min</th>\n",
              "      <th>h1_lactate_max</th>\n",
              "      <th>h1_lactate_min</th>\n",
              "      <th>h1_platelets_max</th>\n",
              "      <th>h1_platelets_min</th>\n",
              "      <th>h1_potassium_max</th>\n",
              "      <th>h1_potassium_min</th>\n",
              "      <th>h1_sodium_max</th>\n",
              "      <th>h1_sodium_min</th>\n",
              "      <th>h1_wbc_max</th>\n",
              "      <th>h1_wbc_min</th>\n",
              "      <th>d1_arterial_pco2_max</th>\n",
              "      <th>d1_arterial_pco2_min</th>\n",
              "      <th>d1_arterial_ph_max</th>\n",
              "      <th>d1_arterial_ph_min</th>\n",
              "      <th>d1_arterial_po2_max</th>\n",
              "      <th>d1_arterial_po2_min</th>\n",
              "      <th>d1_pao2fio2ratio_max</th>\n",
              "      <th>d1_pao2fio2ratio_min</th>\n",
              "      <th>h1_arterial_pco2_max</th>\n",
              "      <th>h1_arterial_pco2_min</th>\n",
              "      <th>h1_arterial_ph_max</th>\n",
              "      <th>h1_arterial_ph_min</th>\n",
              "      <th>h1_arterial_po2_max</th>\n",
              "      <th>h1_arterial_po2_min</th>\n",
              "      <th>h1_pao2fio2ratio_max</th>\n",
              "      <th>h1_pao2fio2ratio_min</th>\n",
              "      <th>aids</th>\n",
              "      <th>cirrhosis</th>\n",
              "      <th>hepatic_failure</th>\n",
              "      <th>immunosuppression</th>\n",
              "      <th>leukemia</th>\n",
              "      <th>lymphoma</th>\n",
              "      <th>solid_tumor_with_metastasis</th>\n",
              "      <th>diabetes_mellitus</th>\n",
              "    </tr>\n",
              "  </thead>\n",
              "  <tbody>\n",
              "    <tr>\n",
              "      <th>0</th>\n",
              "      <td>1</td>\n",
              "      <td>214826</td>\n",
              "      <td>118</td>\n",
              "      <td>68.0</td>\n",
              "      <td>22.732803</td>\n",
              "      <td>0</td>\n",
              "      <td>Caucasian</td>\n",
              "      <td>M</td>\n",
              "      <td>180.3</td>\n",
              "      <td>Floor</td>\n",
              "      <td>Floor</td>\n",
              "      <td>92</td>\n",
              "      <td>admit</td>\n",
              "      <td>CTICU</td>\n",
              "      <td>0.541667</td>\n",
              "      <td>0</td>\n",
              "      <td>73.9</td>\n",
              "      <td>2.3</td>\n",
              "      <td>113.0</td>\n",
              "      <td>502.01</td>\n",
              "      <td>0</td>\n",
              "      <td>0</td>\n",
              "      <td>0.4</td>\n",
              "      <td>31.0</td>\n",
              "      <td>2.51</td>\n",
              "      <td>NaN</td>\n",
              "      <td>3.0</td>\n",
              "      <td>6.0</td>\n",
              "      <td>0.0</td>\n",
              "      <td>4.0</td>\n",
              "      <td>168.0</td>\n",
              "      <td>118.0</td>\n",
              "      <td>27.4</td>\n",
              "      <td>0</td>\n",
              "      <td>40.0</td>\n",
              "      <td>NaN</td>\n",
              "      <td>NaN</td>\n",
              "      <td>NaN</td>\n",
              "      <td>NaN</td>\n",
              "      <td>36.0</td>\n",
              "      <td>...</td>\n",
              "      <td>NaN</td>\n",
              "      <td>NaN</td>\n",
              "      <td>NaN</td>\n",
              "      <td>NaN</td>\n",
              "      <td>NaN</td>\n",
              "      <td>NaN</td>\n",
              "      <td>NaN</td>\n",
              "      <td>NaN</td>\n",
              "      <td>NaN</td>\n",
              "      <td>NaN</td>\n",
              "      <td>NaN</td>\n",
              "      <td>NaN</td>\n",
              "      <td>NaN</td>\n",
              "      <td>NaN</td>\n",
              "      <td>NaN</td>\n",
              "      <td>NaN</td>\n",
              "      <td>NaN</td>\n",
              "      <td>NaN</td>\n",
              "      <td>NaN</td>\n",
              "      <td>NaN</td>\n",
              "      <td>NaN</td>\n",
              "      <td>NaN</td>\n",
              "      <td>NaN</td>\n",
              "      <td>NaN</td>\n",
              "      <td>NaN</td>\n",
              "      <td>NaN</td>\n",
              "      <td>NaN</td>\n",
              "      <td>NaN</td>\n",
              "      <td>NaN</td>\n",
              "      <td>NaN</td>\n",
              "      <td>NaN</td>\n",
              "      <td>NaN</td>\n",
              "      <td>0</td>\n",
              "      <td>0</td>\n",
              "      <td>0</td>\n",
              "      <td>0</td>\n",
              "      <td>0</td>\n",
              "      <td>0</td>\n",
              "      <td>0</td>\n",
              "      <td>1</td>\n",
              "    </tr>\n",
              "    <tr>\n",
              "      <th>1</th>\n",
              "      <td>2</td>\n",
              "      <td>246060</td>\n",
              "      <td>81</td>\n",
              "      <td>77.0</td>\n",
              "      <td>27.421875</td>\n",
              "      <td>0</td>\n",
              "      <td>Caucasian</td>\n",
              "      <td>F</td>\n",
              "      <td>160.0</td>\n",
              "      <td>Floor</td>\n",
              "      <td>Floor</td>\n",
              "      <td>90</td>\n",
              "      <td>admit</td>\n",
              "      <td>Med-Surg ICU</td>\n",
              "      <td>0.927778</td>\n",
              "      <td>0</td>\n",
              "      <td>70.2</td>\n",
              "      <td>NaN</td>\n",
              "      <td>108.0</td>\n",
              "      <td>203.01</td>\n",
              "      <td>0</td>\n",
              "      <td>0</td>\n",
              "      <td>NaN</td>\n",
              "      <td>9.0</td>\n",
              "      <td>0.56</td>\n",
              "      <td>1.0</td>\n",
              "      <td>1.0</td>\n",
              "      <td>3.0</td>\n",
              "      <td>0.0</td>\n",
              "      <td>1.0</td>\n",
              "      <td>145.0</td>\n",
              "      <td>120.0</td>\n",
              "      <td>36.9</td>\n",
              "      <td>0</td>\n",
              "      <td>46.0</td>\n",
              "      <td>37.0</td>\n",
              "      <td>37.0</td>\n",
              "      <td>51.0</td>\n",
              "      <td>7.45</td>\n",
              "      <td>33.0</td>\n",
              "      <td>...</td>\n",
              "      <td>11.3</td>\n",
              "      <td>11.3</td>\n",
              "      <td>36.9</td>\n",
              "      <td>36.9</td>\n",
              "      <td>1.3</td>\n",
              "      <td>1.3</td>\n",
              "      <td>3.5</td>\n",
              "      <td>3.5</td>\n",
              "      <td>557.0</td>\n",
              "      <td>557.0</td>\n",
              "      <td>4.2</td>\n",
              "      <td>4.2</td>\n",
              "      <td>145.0</td>\n",
              "      <td>145.0</td>\n",
              "      <td>12.7</td>\n",
              "      <td>12.7</td>\n",
              "      <td>37.0</td>\n",
              "      <td>37.0</td>\n",
              "      <td>7.45</td>\n",
              "      <td>7.45</td>\n",
              "      <td>51.0</td>\n",
              "      <td>51.0</td>\n",
              "      <td>54.8</td>\n",
              "      <td>51.000000</td>\n",
              "      <td>37.0</td>\n",
              "      <td>37.0</td>\n",
              "      <td>7.45</td>\n",
              "      <td>7.45</td>\n",
              "      <td>51.0</td>\n",
              "      <td>51.0</td>\n",
              "      <td>51.0</td>\n",
              "      <td>51.0</td>\n",
              "      <td>0</td>\n",
              "      <td>0</td>\n",
              "      <td>0</td>\n",
              "      <td>0</td>\n",
              "      <td>0</td>\n",
              "      <td>0</td>\n",
              "      <td>0</td>\n",
              "      <td>1</td>\n",
              "    </tr>\n",
              "    <tr>\n",
              "      <th>2</th>\n",
              "      <td>3</td>\n",
              "      <td>276985</td>\n",
              "      <td>118</td>\n",
              "      <td>25.0</td>\n",
              "      <td>31.952749</td>\n",
              "      <td>0</td>\n",
              "      <td>Caucasian</td>\n",
              "      <td>F</td>\n",
              "      <td>172.7</td>\n",
              "      <td>Emergency Department</td>\n",
              "      <td>Accident &amp; Emergency</td>\n",
              "      <td>93</td>\n",
              "      <td>admit</td>\n",
              "      <td>Med-Surg ICU</td>\n",
              "      <td>0.000694</td>\n",
              "      <td>0</td>\n",
              "      <td>95.3</td>\n",
              "      <td>NaN</td>\n",
              "      <td>122.0</td>\n",
              "      <td>703.03</td>\n",
              "      <td>0</td>\n",
              "      <td>0</td>\n",
              "      <td>NaN</td>\n",
              "      <td>NaN</td>\n",
              "      <td>NaN</td>\n",
              "      <td>NaN</td>\n",
              "      <td>3.0</td>\n",
              "      <td>6.0</td>\n",
              "      <td>0.0</td>\n",
              "      <td>5.0</td>\n",
              "      <td>NaN</td>\n",
              "      <td>102.0</td>\n",
              "      <td>NaN</td>\n",
              "      <td>0</td>\n",
              "      <td>68.0</td>\n",
              "      <td>NaN</td>\n",
              "      <td>NaN</td>\n",
              "      <td>NaN</td>\n",
              "      <td>NaN</td>\n",
              "      <td>37.0</td>\n",
              "      <td>...</td>\n",
              "      <td>NaN</td>\n",
              "      <td>NaN</td>\n",
              "      <td>NaN</td>\n",
              "      <td>NaN</td>\n",
              "      <td>NaN</td>\n",
              "      <td>NaN</td>\n",
              "      <td>NaN</td>\n",
              "      <td>NaN</td>\n",
              "      <td>NaN</td>\n",
              "      <td>NaN</td>\n",
              "      <td>NaN</td>\n",
              "      <td>NaN</td>\n",
              "      <td>NaN</td>\n",
              "      <td>NaN</td>\n",
              "      <td>NaN</td>\n",
              "      <td>NaN</td>\n",
              "      <td>NaN</td>\n",
              "      <td>NaN</td>\n",
              "      <td>NaN</td>\n",
              "      <td>NaN</td>\n",
              "      <td>NaN</td>\n",
              "      <td>NaN</td>\n",
              "      <td>NaN</td>\n",
              "      <td>NaN</td>\n",
              "      <td>NaN</td>\n",
              "      <td>NaN</td>\n",
              "      <td>NaN</td>\n",
              "      <td>NaN</td>\n",
              "      <td>NaN</td>\n",
              "      <td>NaN</td>\n",
              "      <td>NaN</td>\n",
              "      <td>NaN</td>\n",
              "      <td>0</td>\n",
              "      <td>0</td>\n",
              "      <td>0</td>\n",
              "      <td>0</td>\n",
              "      <td>0</td>\n",
              "      <td>0</td>\n",
              "      <td>0</td>\n",
              "      <td>0</td>\n",
              "    </tr>\n",
              "    <tr>\n",
              "      <th>3</th>\n",
              "      <td>4</td>\n",
              "      <td>262220</td>\n",
              "      <td>118</td>\n",
              "      <td>81.0</td>\n",
              "      <td>22.635548</td>\n",
              "      <td>1</td>\n",
              "      <td>Caucasian</td>\n",
              "      <td>F</td>\n",
              "      <td>165.1</td>\n",
              "      <td>Operating Room</td>\n",
              "      <td>Operating Room / Recovery</td>\n",
              "      <td>92</td>\n",
              "      <td>admit</td>\n",
              "      <td>CTICU</td>\n",
              "      <td>0.000694</td>\n",
              "      <td>0</td>\n",
              "      <td>61.7</td>\n",
              "      <td>NaN</td>\n",
              "      <td>203.0</td>\n",
              "      <td>1206.03</td>\n",
              "      <td>1</td>\n",
              "      <td>0</td>\n",
              "      <td>NaN</td>\n",
              "      <td>NaN</td>\n",
              "      <td>NaN</td>\n",
              "      <td>0.6</td>\n",
              "      <td>4.0</td>\n",
              "      <td>6.0</td>\n",
              "      <td>0.0</td>\n",
              "      <td>5.0</td>\n",
              "      <td>185.0</td>\n",
              "      <td>114.0</td>\n",
              "      <td>25.9</td>\n",
              "      <td>1</td>\n",
              "      <td>60.0</td>\n",
              "      <td>30.0</td>\n",
              "      <td>30.0</td>\n",
              "      <td>142.0</td>\n",
              "      <td>7.39</td>\n",
              "      <td>4.0</td>\n",
              "      <td>...</td>\n",
              "      <td>11.6</td>\n",
              "      <td>11.6</td>\n",
              "      <td>34.0</td>\n",
              "      <td>34.0</td>\n",
              "      <td>1.6</td>\n",
              "      <td>1.1</td>\n",
              "      <td>NaN</td>\n",
              "      <td>NaN</td>\n",
              "      <td>43.0</td>\n",
              "      <td>43.0</td>\n",
              "      <td>NaN</td>\n",
              "      <td>NaN</td>\n",
              "      <td>NaN</td>\n",
              "      <td>NaN</td>\n",
              "      <td>8.8</td>\n",
              "      <td>8.8</td>\n",
              "      <td>37.0</td>\n",
              "      <td>27.0</td>\n",
              "      <td>7.44</td>\n",
              "      <td>7.34</td>\n",
              "      <td>337.0</td>\n",
              "      <td>102.0</td>\n",
              "      <td>342.5</td>\n",
              "      <td>236.666667</td>\n",
              "      <td>36.0</td>\n",
              "      <td>33.0</td>\n",
              "      <td>7.37</td>\n",
              "      <td>7.34</td>\n",
              "      <td>337.0</td>\n",
              "      <td>265.0</td>\n",
              "      <td>337.0</td>\n",
              "      <td>337.0</td>\n",
              "      <td>0</td>\n",
              "      <td>0</td>\n",
              "      <td>0</td>\n",
              "      <td>0</td>\n",
              "      <td>0</td>\n",
              "      <td>0</td>\n",
              "      <td>0</td>\n",
              "      <td>0</td>\n",
              "    </tr>\n",
              "    <tr>\n",
              "      <th>4</th>\n",
              "      <td>5</td>\n",
              "      <td>201746</td>\n",
              "      <td>33</td>\n",
              "      <td>19.0</td>\n",
              "      <td>NaN</td>\n",
              "      <td>0</td>\n",
              "      <td>Caucasian</td>\n",
              "      <td>M</td>\n",
              "      <td>188.0</td>\n",
              "      <td>NaN</td>\n",
              "      <td>Accident &amp; Emergency</td>\n",
              "      <td>91</td>\n",
              "      <td>admit</td>\n",
              "      <td>Med-Surg ICU</td>\n",
              "      <td>0.073611</td>\n",
              "      <td>0</td>\n",
              "      <td>NaN</td>\n",
              "      <td>NaN</td>\n",
              "      <td>119.0</td>\n",
              "      <td>601.01</td>\n",
              "      <td>0</td>\n",
              "      <td>0</td>\n",
              "      <td>NaN</td>\n",
              "      <td>NaN</td>\n",
              "      <td>NaN</td>\n",
              "      <td>NaN</td>\n",
              "      <td>NaN</td>\n",
              "      <td>NaN</td>\n",
              "      <td>NaN</td>\n",
              "      <td>NaN</td>\n",
              "      <td>NaN</td>\n",
              "      <td>60.0</td>\n",
              "      <td>NaN</td>\n",
              "      <td>0</td>\n",
              "      <td>103.0</td>\n",
              "      <td>NaN</td>\n",
              "      <td>NaN</td>\n",
              "      <td>NaN</td>\n",
              "      <td>NaN</td>\n",
              "      <td>16.0</td>\n",
              "      <td>...</td>\n",
              "      <td>NaN</td>\n",
              "      <td>NaN</td>\n",
              "      <td>NaN</td>\n",
              "      <td>NaN</td>\n",
              "      <td>NaN</td>\n",
              "      <td>NaN</td>\n",
              "      <td>NaN</td>\n",
              "      <td>NaN</td>\n",
              "      <td>NaN</td>\n",
              "      <td>NaN</td>\n",
              "      <td>NaN</td>\n",
              "      <td>NaN</td>\n",
              "      <td>NaN</td>\n",
              "      <td>NaN</td>\n",
              "      <td>NaN</td>\n",
              "      <td>NaN</td>\n",
              "      <td>NaN</td>\n",
              "      <td>NaN</td>\n",
              "      <td>NaN</td>\n",
              "      <td>NaN</td>\n",
              "      <td>NaN</td>\n",
              "      <td>NaN</td>\n",
              "      <td>NaN</td>\n",
              "      <td>NaN</td>\n",
              "      <td>NaN</td>\n",
              "      <td>NaN</td>\n",
              "      <td>NaN</td>\n",
              "      <td>NaN</td>\n",
              "      <td>NaN</td>\n",
              "      <td>NaN</td>\n",
              "      <td>NaN</td>\n",
              "      <td>NaN</td>\n",
              "      <td>0</td>\n",
              "      <td>0</td>\n",
              "      <td>0</td>\n",
              "      <td>0</td>\n",
              "      <td>0</td>\n",
              "      <td>0</td>\n",
              "      <td>0</td>\n",
              "      <td>0</td>\n",
              "    </tr>\n",
              "  </tbody>\n",
              "</table>\n",
              "<p>5 rows × 181 columns</p>\n",
              "</div>"
            ],
            "text/plain": [
              "   Unnamed: 0  encounter_id  ...  solid_tumor_with_metastasis  diabetes_mellitus\n",
              "0           1        214826  ...                            0                  1\n",
              "1           2        246060  ...                            0                  1\n",
              "2           3        276985  ...                            0                  0\n",
              "3           4        262220  ...                            0                  0\n",
              "4           5        201746  ...                            0                  0\n",
              "\n",
              "[5 rows x 181 columns]"
            ]
          },
          "metadata": {
            "tags": []
          },
          "execution_count": 5
        }
      ]
    },
    {
      "cell_type": "code",
      "metadata": {
        "colab": {
          "base_uri": "https://localhost:8080/",
          "height": 355
        },
        "id": "D4moYrYVtqZl",
        "outputId": "e9f0594a-b8da-4d1c-993d-f07d2d3945a9"
      },
      "source": [
        "# Verificando as últimas linhas do dataset\r\n",
        "df.tail(5)"
      ],
      "execution_count": null,
      "outputs": [
        {
          "output_type": "execute_result",
          "data": {
            "text/html": [
              "<div>\n",
              "<style scoped>\n",
              "    .dataframe tbody tr th:only-of-type {\n",
              "        vertical-align: middle;\n",
              "    }\n",
              "\n",
              "    .dataframe tbody tr th {\n",
              "        vertical-align: top;\n",
              "    }\n",
              "\n",
              "    .dataframe thead th {\n",
              "        text-align: right;\n",
              "    }\n",
              "</style>\n",
              "<table border=\"1\" class=\"dataframe\">\n",
              "  <thead>\n",
              "    <tr style=\"text-align: right;\">\n",
              "      <th></th>\n",
              "      <th>Unnamed: 0</th>\n",
              "      <th>encounter_id</th>\n",
              "      <th>hospital_id</th>\n",
              "      <th>age</th>\n",
              "      <th>bmi</th>\n",
              "      <th>elective_surgery</th>\n",
              "      <th>ethnicity</th>\n",
              "      <th>gender</th>\n",
              "      <th>height</th>\n",
              "      <th>hospital_admit_source</th>\n",
              "      <th>icu_admit_source</th>\n",
              "      <th>icu_id</th>\n",
              "      <th>icu_stay_type</th>\n",
              "      <th>icu_type</th>\n",
              "      <th>pre_icu_los_days</th>\n",
              "      <th>readmission_status</th>\n",
              "      <th>weight</th>\n",
              "      <th>albumin_apache</th>\n",
              "      <th>apache_2_diagnosis</th>\n",
              "      <th>apache_3j_diagnosis</th>\n",
              "      <th>apache_post_operative</th>\n",
              "      <th>arf_apache</th>\n",
              "      <th>bilirubin_apache</th>\n",
              "      <th>bun_apache</th>\n",
              "      <th>creatinine_apache</th>\n",
              "      <th>fio2_apache</th>\n",
              "      <th>gcs_eyes_apache</th>\n",
              "      <th>gcs_motor_apache</th>\n",
              "      <th>gcs_unable_apache</th>\n",
              "      <th>gcs_verbal_apache</th>\n",
              "      <th>glucose_apache</th>\n",
              "      <th>heart_rate_apache</th>\n",
              "      <th>hematocrit_apache</th>\n",
              "      <th>intubated_apache</th>\n",
              "      <th>map_apache</th>\n",
              "      <th>paco2_apache</th>\n",
              "      <th>paco2_for_ph_apache</th>\n",
              "      <th>pao2_apache</th>\n",
              "      <th>ph_apache</th>\n",
              "      <th>resprate_apache</th>\n",
              "      <th>...</th>\n",
              "      <th>h1_hemaglobin_max</th>\n",
              "      <th>h1_hemaglobin_min</th>\n",
              "      <th>h1_hematocrit_max</th>\n",
              "      <th>h1_hematocrit_min</th>\n",
              "      <th>h1_inr_max</th>\n",
              "      <th>h1_inr_min</th>\n",
              "      <th>h1_lactate_max</th>\n",
              "      <th>h1_lactate_min</th>\n",
              "      <th>h1_platelets_max</th>\n",
              "      <th>h1_platelets_min</th>\n",
              "      <th>h1_potassium_max</th>\n",
              "      <th>h1_potassium_min</th>\n",
              "      <th>h1_sodium_max</th>\n",
              "      <th>h1_sodium_min</th>\n",
              "      <th>h1_wbc_max</th>\n",
              "      <th>h1_wbc_min</th>\n",
              "      <th>d1_arterial_pco2_max</th>\n",
              "      <th>d1_arterial_pco2_min</th>\n",
              "      <th>d1_arterial_ph_max</th>\n",
              "      <th>d1_arterial_ph_min</th>\n",
              "      <th>d1_arterial_po2_max</th>\n",
              "      <th>d1_arterial_po2_min</th>\n",
              "      <th>d1_pao2fio2ratio_max</th>\n",
              "      <th>d1_pao2fio2ratio_min</th>\n",
              "      <th>h1_arterial_pco2_max</th>\n",
              "      <th>h1_arterial_pco2_min</th>\n",
              "      <th>h1_arterial_ph_max</th>\n",
              "      <th>h1_arterial_ph_min</th>\n",
              "      <th>h1_arterial_po2_max</th>\n",
              "      <th>h1_arterial_po2_min</th>\n",
              "      <th>h1_pao2fio2ratio_max</th>\n",
              "      <th>h1_pao2fio2ratio_min</th>\n",
              "      <th>aids</th>\n",
              "      <th>cirrhosis</th>\n",
              "      <th>hepatic_failure</th>\n",
              "      <th>immunosuppression</th>\n",
              "      <th>leukemia</th>\n",
              "      <th>lymphoma</th>\n",
              "      <th>solid_tumor_with_metastasis</th>\n",
              "      <th>diabetes_mellitus</th>\n",
              "    </tr>\n",
              "  </thead>\n",
              "  <tbody>\n",
              "    <tr>\n",
              "      <th>130152</th>\n",
              "      <td>130153</td>\n",
              "      <td>164758</td>\n",
              "      <td>7</td>\n",
              "      <td>50.0</td>\n",
              "      <td>29.287256</td>\n",
              "      <td>0</td>\n",
              "      <td>Caucasian</td>\n",
              "      <td>M</td>\n",
              "      <td>175.3</td>\n",
              "      <td>Emergency Department</td>\n",
              "      <td>Accident &amp; Emergency</td>\n",
              "      <td>1109</td>\n",
              "      <td>admit</td>\n",
              "      <td>Cardiac ICU</td>\n",
              "      <td>0.023611</td>\n",
              "      <td>0</td>\n",
              "      <td>90.0</td>\n",
              "      <td>NaN</td>\n",
              "      <td>110.0</td>\n",
              "      <td>104.01</td>\n",
              "      <td>0</td>\n",
              "      <td>0</td>\n",
              "      <td>NaN</td>\n",
              "      <td>NaN</td>\n",
              "      <td>NaN</td>\n",
              "      <td>NaN</td>\n",
              "      <td>4.0</td>\n",
              "      <td>6.0</td>\n",
              "      <td>0.0</td>\n",
              "      <td>5.0</td>\n",
              "      <td>NaN</td>\n",
              "      <td>106.0</td>\n",
              "      <td>NaN</td>\n",
              "      <td>0</td>\n",
              "      <td>120.0</td>\n",
              "      <td>NaN</td>\n",
              "      <td>NaN</td>\n",
              "      <td>NaN</td>\n",
              "      <td>NaN</td>\n",
              "      <td>50.0</td>\n",
              "      <td>...</td>\n",
              "      <td>NaN</td>\n",
              "      <td>NaN</td>\n",
              "      <td>NaN</td>\n",
              "      <td>NaN</td>\n",
              "      <td>NaN</td>\n",
              "      <td>NaN</td>\n",
              "      <td>NaN</td>\n",
              "      <td>NaN</td>\n",
              "      <td>NaN</td>\n",
              "      <td>NaN</td>\n",
              "      <td>NaN</td>\n",
              "      <td>NaN</td>\n",
              "      <td>NaN</td>\n",
              "      <td>NaN</td>\n",
              "      <td>NaN</td>\n",
              "      <td>NaN</td>\n",
              "      <td>NaN</td>\n",
              "      <td>NaN</td>\n",
              "      <td>NaN</td>\n",
              "      <td>NaN</td>\n",
              "      <td>NaN</td>\n",
              "      <td>NaN</td>\n",
              "      <td>NaN</td>\n",
              "      <td>NaN</td>\n",
              "      <td>NaN</td>\n",
              "      <td>NaN</td>\n",
              "      <td>NaN</td>\n",
              "      <td>NaN</td>\n",
              "      <td>NaN</td>\n",
              "      <td>NaN</td>\n",
              "      <td>NaN</td>\n",
              "      <td>NaN</td>\n",
              "      <td>0</td>\n",
              "      <td>0</td>\n",
              "      <td>0</td>\n",
              "      <td>0</td>\n",
              "      <td>0</td>\n",
              "      <td>0</td>\n",
              "      <td>0</td>\n",
              "      <td>0</td>\n",
              "    </tr>\n",
              "    <tr>\n",
              "      <th>130153</th>\n",
              "      <td>130154</td>\n",
              "      <td>197653</td>\n",
              "      <td>7</td>\n",
              "      <td>79.0</td>\n",
              "      <td>29.653433</td>\n",
              "      <td>0</td>\n",
              "      <td>Caucasian</td>\n",
              "      <td>F</td>\n",
              "      <td>162.6</td>\n",
              "      <td>Direct Admit</td>\n",
              "      <td>Accident &amp; Emergency</td>\n",
              "      <td>1106</td>\n",
              "      <td>admit</td>\n",
              "      <td>MICU</td>\n",
              "      <td>0.009722</td>\n",
              "      <td>0</td>\n",
              "      <td>78.4</td>\n",
              "      <td>3.5</td>\n",
              "      <td>105.0</td>\n",
              "      <td>207.01</td>\n",
              "      <td>0</td>\n",
              "      <td>0</td>\n",
              "      <td>0.7</td>\n",
              "      <td>32.0</td>\n",
              "      <td>1.07</td>\n",
              "      <td>NaN</td>\n",
              "      <td>4.0</td>\n",
              "      <td>6.0</td>\n",
              "      <td>0.0</td>\n",
              "      <td>4.0</td>\n",
              "      <td>139.0</td>\n",
              "      <td>112.0</td>\n",
              "      <td>39.0</td>\n",
              "      <td>0</td>\n",
              "      <td>125.0</td>\n",
              "      <td>NaN</td>\n",
              "      <td>NaN</td>\n",
              "      <td>NaN</td>\n",
              "      <td>NaN</td>\n",
              "      <td>42.0</td>\n",
              "      <td>...</td>\n",
              "      <td>NaN</td>\n",
              "      <td>NaN</td>\n",
              "      <td>NaN</td>\n",
              "      <td>NaN</td>\n",
              "      <td>1.27</td>\n",
              "      <td>1.27</td>\n",
              "      <td>NaN</td>\n",
              "      <td>NaN</td>\n",
              "      <td>NaN</td>\n",
              "      <td>NaN</td>\n",
              "      <td>NaN</td>\n",
              "      <td>NaN</td>\n",
              "      <td>NaN</td>\n",
              "      <td>NaN</td>\n",
              "      <td>NaN</td>\n",
              "      <td>NaN</td>\n",
              "      <td>NaN</td>\n",
              "      <td>NaN</td>\n",
              "      <td>NaN</td>\n",
              "      <td>NaN</td>\n",
              "      <td>NaN</td>\n",
              "      <td>NaN</td>\n",
              "      <td>NaN</td>\n",
              "      <td>NaN</td>\n",
              "      <td>NaN</td>\n",
              "      <td>NaN</td>\n",
              "      <td>NaN</td>\n",
              "      <td>NaN</td>\n",
              "      <td>NaN</td>\n",
              "      <td>NaN</td>\n",
              "      <td>NaN</td>\n",
              "      <td>NaN</td>\n",
              "      <td>0</td>\n",
              "      <td>0</td>\n",
              "      <td>0</td>\n",
              "      <td>0</td>\n",
              "      <td>0</td>\n",
              "      <td>0</td>\n",
              "      <td>0</td>\n",
              "      <td>0</td>\n",
              "    </tr>\n",
              "    <tr>\n",
              "      <th>130154</th>\n",
              "      <td>130155</td>\n",
              "      <td>219719</td>\n",
              "      <td>7</td>\n",
              "      <td>73.0</td>\n",
              "      <td>32.265371</td>\n",
              "      <td>0</td>\n",
              "      <td>African American</td>\n",
              "      <td>M</td>\n",
              "      <td>177.8</td>\n",
              "      <td>Emergency Department</td>\n",
              "      <td>Accident &amp; Emergency</td>\n",
              "      <td>1104</td>\n",
              "      <td>admit</td>\n",
              "      <td>Cardiac ICU</td>\n",
              "      <td>0.143056</td>\n",
              "      <td>0</td>\n",
              "      <td>102.0</td>\n",
              "      <td>NaN</td>\n",
              "      <td>114.0</td>\n",
              "      <td>102.01</td>\n",
              "      <td>0</td>\n",
              "      <td>0</td>\n",
              "      <td>NaN</td>\n",
              "      <td>30.0</td>\n",
              "      <td>2.43</td>\n",
              "      <td>1.0</td>\n",
              "      <td>1.0</td>\n",
              "      <td>1.0</td>\n",
              "      <td>0.0</td>\n",
              "      <td>1.0</td>\n",
              "      <td>346.0</td>\n",
              "      <td>104.0</td>\n",
              "      <td>NaN</td>\n",
              "      <td>1</td>\n",
              "      <td>58.0</td>\n",
              "      <td>44.0</td>\n",
              "      <td>44.0</td>\n",
              "      <td>80.0</td>\n",
              "      <td>7.224</td>\n",
              "      <td>34.0</td>\n",
              "      <td>...</td>\n",
              "      <td>10.2</td>\n",
              "      <td>10.2</td>\n",
              "      <td>33.0</td>\n",
              "      <td>33.0</td>\n",
              "      <td>1.14</td>\n",
              "      <td>1.11</td>\n",
              "      <td>9.8</td>\n",
              "      <td>9.8</td>\n",
              "      <td>232.0</td>\n",
              "      <td>232.0</td>\n",
              "      <td>3.9</td>\n",
              "      <td>3.9</td>\n",
              "      <td>NaN</td>\n",
              "      <td>NaN</td>\n",
              "      <td>41.8</td>\n",
              "      <td>41.8</td>\n",
              "      <td>44.0</td>\n",
              "      <td>23.2</td>\n",
              "      <td>7.614</td>\n",
              "      <td>7.161</td>\n",
              "      <td>163.0</td>\n",
              "      <td>80.0</td>\n",
              "      <td>163.0</td>\n",
              "      <td>80.0</td>\n",
              "      <td>36.9</td>\n",
              "      <td>36.9</td>\n",
              "      <td>7.231</td>\n",
              "      <td>7.231</td>\n",
              "      <td>163.0</td>\n",
              "      <td>163.0</td>\n",
              "      <td>163.0</td>\n",
              "      <td>163.0</td>\n",
              "      <td>0</td>\n",
              "      <td>0</td>\n",
              "      <td>0</td>\n",
              "      <td>0</td>\n",
              "      <td>0</td>\n",
              "      <td>0</td>\n",
              "      <td>0</td>\n",
              "      <td>1</td>\n",
              "    </tr>\n",
              "    <tr>\n",
              "      <th>130155</th>\n",
              "      <td>130156</td>\n",
              "      <td>222562</td>\n",
              "      <td>170</td>\n",
              "      <td>81.0</td>\n",
              "      <td>24.408579</td>\n",
              "      <td>0</td>\n",
              "      <td>Caucasian</td>\n",
              "      <td>M</td>\n",
              "      <td>185.4</td>\n",
              "      <td>Emergency Department</td>\n",
              "      <td>Accident &amp; Emergency</td>\n",
              "      <td>1108</td>\n",
              "      <td>admit</td>\n",
              "      <td>Med-Surg ICU</td>\n",
              "      <td>0.188194</td>\n",
              "      <td>0</td>\n",
              "      <td>83.9</td>\n",
              "      <td>NaN</td>\n",
              "      <td>124.0</td>\n",
              "      <td>306.01</td>\n",
              "      <td>0</td>\n",
              "      <td>0</td>\n",
              "      <td>NaN</td>\n",
              "      <td>NaN</td>\n",
              "      <td>NaN</td>\n",
              "      <td>NaN</td>\n",
              "      <td>4.0</td>\n",
              "      <td>6.0</td>\n",
              "      <td>0.0</td>\n",
              "      <td>5.0</td>\n",
              "      <td>137.0</td>\n",
              "      <td>83.0</td>\n",
              "      <td>32.0</td>\n",
              "      <td>0</td>\n",
              "      <td>60.0</td>\n",
              "      <td>NaN</td>\n",
              "      <td>NaN</td>\n",
              "      <td>NaN</td>\n",
              "      <td>NaN</td>\n",
              "      <td>31.0</td>\n",
              "      <td>...</td>\n",
              "      <td>10.9</td>\n",
              "      <td>10.9</td>\n",
              "      <td>33.0</td>\n",
              "      <td>33.0</td>\n",
              "      <td>NaN</td>\n",
              "      <td>NaN</td>\n",
              "      <td>1.3</td>\n",
              "      <td>1.3</td>\n",
              "      <td>NaN</td>\n",
              "      <td>NaN</td>\n",
              "      <td>NaN</td>\n",
              "      <td>NaN</td>\n",
              "      <td>NaN</td>\n",
              "      <td>NaN</td>\n",
              "      <td>NaN</td>\n",
              "      <td>NaN</td>\n",
              "      <td>NaN</td>\n",
              "      <td>NaN</td>\n",
              "      <td>NaN</td>\n",
              "      <td>NaN</td>\n",
              "      <td>NaN</td>\n",
              "      <td>NaN</td>\n",
              "      <td>NaN</td>\n",
              "      <td>NaN</td>\n",
              "      <td>NaN</td>\n",
              "      <td>NaN</td>\n",
              "      <td>NaN</td>\n",
              "      <td>NaN</td>\n",
              "      <td>NaN</td>\n",
              "      <td>NaN</td>\n",
              "      <td>NaN</td>\n",
              "      <td>NaN</td>\n",
              "      <td>0</td>\n",
              "      <td>0</td>\n",
              "      <td>0</td>\n",
              "      <td>0</td>\n",
              "      <td>0</td>\n",
              "      <td>0</td>\n",
              "      <td>0</td>\n",
              "      <td>0</td>\n",
              "    </tr>\n",
              "    <tr>\n",
              "      <th>130156</th>\n",
              "      <td>130157</td>\n",
              "      <td>157942</td>\n",
              "      <td>7</td>\n",
              "      <td>35.0</td>\n",
              "      <td>30.132358</td>\n",
              "      <td>0</td>\n",
              "      <td>African American</td>\n",
              "      <td>M</td>\n",
              "      <td>182.9</td>\n",
              "      <td>Emergency Department</td>\n",
              "      <td>Accident &amp; Emergency</td>\n",
              "      <td>1106</td>\n",
              "      <td>admit</td>\n",
              "      <td>MICU</td>\n",
              "      <td>0.075000</td>\n",
              "      <td>0</td>\n",
              "      <td>100.8</td>\n",
              "      <td>NaN</td>\n",
              "      <td>105.0</td>\n",
              "      <td>207.01</td>\n",
              "      <td>0</td>\n",
              "      <td>0</td>\n",
              "      <td>NaN</td>\n",
              "      <td>NaN</td>\n",
              "      <td>NaN</td>\n",
              "      <td>NaN</td>\n",
              "      <td>4.0</td>\n",
              "      <td>6.0</td>\n",
              "      <td>0.0</td>\n",
              "      <td>5.0</td>\n",
              "      <td>NaN</td>\n",
              "      <td>97.0</td>\n",
              "      <td>NaN</td>\n",
              "      <td>0</td>\n",
              "      <td>118.0</td>\n",
              "      <td>NaN</td>\n",
              "      <td>NaN</td>\n",
              "      <td>NaN</td>\n",
              "      <td>NaN</td>\n",
              "      <td>57.0</td>\n",
              "      <td>...</td>\n",
              "      <td>NaN</td>\n",
              "      <td>NaN</td>\n",
              "      <td>NaN</td>\n",
              "      <td>NaN</td>\n",
              "      <td>NaN</td>\n",
              "      <td>NaN</td>\n",
              "      <td>NaN</td>\n",
              "      <td>NaN</td>\n",
              "      <td>NaN</td>\n",
              "      <td>NaN</td>\n",
              "      <td>4.1</td>\n",
              "      <td>4.1</td>\n",
              "      <td>135.0</td>\n",
              "      <td>135.0</td>\n",
              "      <td>NaN</td>\n",
              "      <td>NaN</td>\n",
              "      <td>NaN</td>\n",
              "      <td>NaN</td>\n",
              "      <td>NaN</td>\n",
              "      <td>NaN</td>\n",
              "      <td>NaN</td>\n",
              "      <td>NaN</td>\n",
              "      <td>NaN</td>\n",
              "      <td>NaN</td>\n",
              "      <td>NaN</td>\n",
              "      <td>NaN</td>\n",
              "      <td>NaN</td>\n",
              "      <td>NaN</td>\n",
              "      <td>NaN</td>\n",
              "      <td>NaN</td>\n",
              "      <td>NaN</td>\n",
              "      <td>NaN</td>\n",
              "      <td>0</td>\n",
              "      <td>0</td>\n",
              "      <td>0</td>\n",
              "      <td>0</td>\n",
              "      <td>0</td>\n",
              "      <td>0</td>\n",
              "      <td>0</td>\n",
              "      <td>0</td>\n",
              "    </tr>\n",
              "  </tbody>\n",
              "</table>\n",
              "<p>5 rows × 181 columns</p>\n",
              "</div>"
            ],
            "text/plain": [
              "        Unnamed: 0  ...  diabetes_mellitus\n",
              "130152      130153  ...                  0\n",
              "130153      130154  ...                  0\n",
              "130154      130155  ...                  1\n",
              "130155      130156  ...                  0\n",
              "130156      130157  ...                  0\n",
              "\n",
              "[5 rows x 181 columns]"
            ]
          },
          "metadata": {
            "tags": []
          },
          "execution_count": 6
        }
      ]
    },
    {
      "cell_type": "markdown",
      "metadata": {
        "id": "NNoaQwjhZ-89"
      },
      "source": [
        "# **Verificação de Dados Nulos**"
      ]
    },
    {
      "cell_type": "code",
      "metadata": {
        "colab": {
          "base_uri": "https://localhost:8080/"
        },
        "id": "8YhfeIrkuEhW",
        "outputId": "025b36b5-d31a-4573-e77f-99e3313522db"
      },
      "source": [
        "# Verificando se existem valores nulos\r\n",
        "df.isnull().values.any()"
      ],
      "execution_count": null,
      "outputs": [
        {
          "output_type": "execute_result",
          "data": {
            "text/plain": [
              "True"
            ]
          },
          "metadata": {
            "tags": []
          },
          "execution_count": 7
        }
      ]
    },
    {
      "cell_type": "code",
      "metadata": {
        "colab": {
          "base_uri": "https://localhost:8080/"
        },
        "id": "BSY6AX5e9Lzw",
        "outputId": "eaae7eb1-e90b-4836-d1f8-ba4f9eeacf0f"
      },
      "source": [
        "# Verificando os dados faltantes em cada coluna\r\n",
        "data_null = df.isnull().sum()\r\n",
        "print(data_null)"
      ],
      "execution_count": null,
      "outputs": [
        {
          "output_type": "stream",
          "text": [
            "Unnamed: 0                        0\n",
            "encounter_id                      0\n",
            "hospital_id                       0\n",
            "age                            4988\n",
            "bmi                            4490\n",
            "                               ... \n",
            "immunosuppression                 0\n",
            "leukemia                          0\n",
            "lymphoma                          0\n",
            "solid_tumor_with_metastasis       0\n",
            "diabetes_mellitus                 0\n",
            "Length: 181, dtype: int64\n"
          ],
          "name": "stdout"
        }
      ]
    },
    {
      "cell_type": "code",
      "metadata": {
        "colab": {
          "base_uri": "https://localhost:8080/"
        },
        "id": "chz0JoGJ_fJP",
        "outputId": "1a571bea-486d-40a5-baf0-1c7e535abdec"
      },
      "source": [
        "# Verificando o percentual em cada coluna de dados faltantes\r\n",
        "data_null_perc = (df.isnull().sum() / len(df['encounter_id']))*100\r\n",
        "print(data_null_perc)"
      ],
      "execution_count": null,
      "outputs": [
        {
          "output_type": "stream",
          "text": [
            "Unnamed: 0                     0.000000\n",
            "encounter_id                   0.000000\n",
            "hospital_id                    0.000000\n",
            "age                            3.832295\n",
            "bmi                            3.449680\n",
            "                                 ...   \n",
            "immunosuppression              0.000000\n",
            "leukemia                       0.000000\n",
            "lymphoma                       0.000000\n",
            "solid_tumor_with_metastasis    0.000000\n",
            "diabetes_mellitus              0.000000\n",
            "Length: 181, dtype: float64\n"
          ],
          "name": "stdout"
        }
      ]
    },
    {
      "cell_type": "code",
      "metadata": {
        "colab": {
          "base_uri": "https://localhost:8080/",
          "height": 578
        },
        "id": "zLNiV1GeCZTT",
        "outputId": "def2d02e-e2ec-4df7-ab9b-877e832a044d"
      },
      "source": [
        "# Substituir os dados faltantes: Na variável bmi por nenhuma.\r\n",
        "# E na idade substituir pela média de idades no dataset.\r\n",
        "df['bmi'].fillna('None', inplace = True)\r\n",
        "df['age'].fillna(df['age'].mean(), inplace = True)\r\n",
        "df.head(10)"
      ],
      "execution_count": null,
      "outputs": [
        {
          "output_type": "execute_result",
          "data": {
            "text/html": [
              "<div>\n",
              "<style scoped>\n",
              "    .dataframe tbody tr th:only-of-type {\n",
              "        vertical-align: middle;\n",
              "    }\n",
              "\n",
              "    .dataframe tbody tr th {\n",
              "        vertical-align: top;\n",
              "    }\n",
              "\n",
              "    .dataframe thead th {\n",
              "        text-align: right;\n",
              "    }\n",
              "</style>\n",
              "<table border=\"1\" class=\"dataframe\">\n",
              "  <thead>\n",
              "    <tr style=\"text-align: right;\">\n",
              "      <th></th>\n",
              "      <th>Unnamed: 0</th>\n",
              "      <th>encounter_id</th>\n",
              "      <th>hospital_id</th>\n",
              "      <th>age</th>\n",
              "      <th>bmi</th>\n",
              "      <th>elective_surgery</th>\n",
              "      <th>ethnicity</th>\n",
              "      <th>gender</th>\n",
              "      <th>height</th>\n",
              "      <th>hospital_admit_source</th>\n",
              "      <th>icu_admit_source</th>\n",
              "      <th>icu_id</th>\n",
              "      <th>icu_stay_type</th>\n",
              "      <th>icu_type</th>\n",
              "      <th>pre_icu_los_days</th>\n",
              "      <th>readmission_status</th>\n",
              "      <th>weight</th>\n",
              "      <th>albumin_apache</th>\n",
              "      <th>apache_2_diagnosis</th>\n",
              "      <th>apache_3j_diagnosis</th>\n",
              "      <th>apache_post_operative</th>\n",
              "      <th>arf_apache</th>\n",
              "      <th>bilirubin_apache</th>\n",
              "      <th>bun_apache</th>\n",
              "      <th>creatinine_apache</th>\n",
              "      <th>fio2_apache</th>\n",
              "      <th>gcs_eyes_apache</th>\n",
              "      <th>gcs_motor_apache</th>\n",
              "      <th>gcs_unable_apache</th>\n",
              "      <th>gcs_verbal_apache</th>\n",
              "      <th>glucose_apache</th>\n",
              "      <th>heart_rate_apache</th>\n",
              "      <th>hematocrit_apache</th>\n",
              "      <th>intubated_apache</th>\n",
              "      <th>map_apache</th>\n",
              "      <th>paco2_apache</th>\n",
              "      <th>paco2_for_ph_apache</th>\n",
              "      <th>pao2_apache</th>\n",
              "      <th>ph_apache</th>\n",
              "      <th>resprate_apache</th>\n",
              "      <th>...</th>\n",
              "      <th>h1_hemaglobin_max</th>\n",
              "      <th>h1_hemaglobin_min</th>\n",
              "      <th>h1_hematocrit_max</th>\n",
              "      <th>h1_hematocrit_min</th>\n",
              "      <th>h1_inr_max</th>\n",
              "      <th>h1_inr_min</th>\n",
              "      <th>h1_lactate_max</th>\n",
              "      <th>h1_lactate_min</th>\n",
              "      <th>h1_platelets_max</th>\n",
              "      <th>h1_platelets_min</th>\n",
              "      <th>h1_potassium_max</th>\n",
              "      <th>h1_potassium_min</th>\n",
              "      <th>h1_sodium_max</th>\n",
              "      <th>h1_sodium_min</th>\n",
              "      <th>h1_wbc_max</th>\n",
              "      <th>h1_wbc_min</th>\n",
              "      <th>d1_arterial_pco2_max</th>\n",
              "      <th>d1_arterial_pco2_min</th>\n",
              "      <th>d1_arterial_ph_max</th>\n",
              "      <th>d1_arterial_ph_min</th>\n",
              "      <th>d1_arterial_po2_max</th>\n",
              "      <th>d1_arterial_po2_min</th>\n",
              "      <th>d1_pao2fio2ratio_max</th>\n",
              "      <th>d1_pao2fio2ratio_min</th>\n",
              "      <th>h1_arterial_pco2_max</th>\n",
              "      <th>h1_arterial_pco2_min</th>\n",
              "      <th>h1_arterial_ph_max</th>\n",
              "      <th>h1_arterial_ph_min</th>\n",
              "      <th>h1_arterial_po2_max</th>\n",
              "      <th>h1_arterial_po2_min</th>\n",
              "      <th>h1_pao2fio2ratio_max</th>\n",
              "      <th>h1_pao2fio2ratio_min</th>\n",
              "      <th>aids</th>\n",
              "      <th>cirrhosis</th>\n",
              "      <th>hepatic_failure</th>\n",
              "      <th>immunosuppression</th>\n",
              "      <th>leukemia</th>\n",
              "      <th>lymphoma</th>\n",
              "      <th>solid_tumor_with_metastasis</th>\n",
              "      <th>diabetes_mellitus</th>\n",
              "    </tr>\n",
              "  </thead>\n",
              "  <tbody>\n",
              "    <tr>\n",
              "      <th>0</th>\n",
              "      <td>1</td>\n",
              "      <td>214826</td>\n",
              "      <td>118</td>\n",
              "      <td>68.0</td>\n",
              "      <td>22.7328</td>\n",
              "      <td>0</td>\n",
              "      <td>Caucasian</td>\n",
              "      <td>M</td>\n",
              "      <td>180.3</td>\n",
              "      <td>Floor</td>\n",
              "      <td>Floor</td>\n",
              "      <td>92</td>\n",
              "      <td>admit</td>\n",
              "      <td>CTICU</td>\n",
              "      <td>0.541667</td>\n",
              "      <td>0</td>\n",
              "      <td>73.9</td>\n",
              "      <td>2.3</td>\n",
              "      <td>113.0</td>\n",
              "      <td>502.01</td>\n",
              "      <td>0</td>\n",
              "      <td>0</td>\n",
              "      <td>0.4</td>\n",
              "      <td>31.0</td>\n",
              "      <td>2.51</td>\n",
              "      <td>NaN</td>\n",
              "      <td>3.0</td>\n",
              "      <td>6.0</td>\n",
              "      <td>0.0</td>\n",
              "      <td>4.0</td>\n",
              "      <td>168.0</td>\n",
              "      <td>118.0</td>\n",
              "      <td>27.4</td>\n",
              "      <td>0</td>\n",
              "      <td>40.0</td>\n",
              "      <td>NaN</td>\n",
              "      <td>NaN</td>\n",
              "      <td>NaN</td>\n",
              "      <td>NaN</td>\n",
              "      <td>36.0</td>\n",
              "      <td>...</td>\n",
              "      <td>NaN</td>\n",
              "      <td>NaN</td>\n",
              "      <td>NaN</td>\n",
              "      <td>NaN</td>\n",
              "      <td>NaN</td>\n",
              "      <td>NaN</td>\n",
              "      <td>NaN</td>\n",
              "      <td>NaN</td>\n",
              "      <td>NaN</td>\n",
              "      <td>NaN</td>\n",
              "      <td>NaN</td>\n",
              "      <td>NaN</td>\n",
              "      <td>NaN</td>\n",
              "      <td>NaN</td>\n",
              "      <td>NaN</td>\n",
              "      <td>NaN</td>\n",
              "      <td>NaN</td>\n",
              "      <td>NaN</td>\n",
              "      <td>NaN</td>\n",
              "      <td>NaN</td>\n",
              "      <td>NaN</td>\n",
              "      <td>NaN</td>\n",
              "      <td>NaN</td>\n",
              "      <td>NaN</td>\n",
              "      <td>NaN</td>\n",
              "      <td>NaN</td>\n",
              "      <td>NaN</td>\n",
              "      <td>NaN</td>\n",
              "      <td>NaN</td>\n",
              "      <td>NaN</td>\n",
              "      <td>NaN</td>\n",
              "      <td>NaN</td>\n",
              "      <td>0</td>\n",
              "      <td>0</td>\n",
              "      <td>0</td>\n",
              "      <td>0</td>\n",
              "      <td>0</td>\n",
              "      <td>0</td>\n",
              "      <td>0</td>\n",
              "      <td>1</td>\n",
              "    </tr>\n",
              "    <tr>\n",
              "      <th>1</th>\n",
              "      <td>2</td>\n",
              "      <td>246060</td>\n",
              "      <td>81</td>\n",
              "      <td>77.0</td>\n",
              "      <td>27.4219</td>\n",
              "      <td>0</td>\n",
              "      <td>Caucasian</td>\n",
              "      <td>F</td>\n",
              "      <td>160.0</td>\n",
              "      <td>Floor</td>\n",
              "      <td>Floor</td>\n",
              "      <td>90</td>\n",
              "      <td>admit</td>\n",
              "      <td>Med-Surg ICU</td>\n",
              "      <td>0.927778</td>\n",
              "      <td>0</td>\n",
              "      <td>70.2</td>\n",
              "      <td>NaN</td>\n",
              "      <td>108.0</td>\n",
              "      <td>203.01</td>\n",
              "      <td>0</td>\n",
              "      <td>0</td>\n",
              "      <td>NaN</td>\n",
              "      <td>9.0</td>\n",
              "      <td>0.56</td>\n",
              "      <td>1.0</td>\n",
              "      <td>1.0</td>\n",
              "      <td>3.0</td>\n",
              "      <td>0.0</td>\n",
              "      <td>1.0</td>\n",
              "      <td>145.0</td>\n",
              "      <td>120.0</td>\n",
              "      <td>36.9</td>\n",
              "      <td>0</td>\n",
              "      <td>46.0</td>\n",
              "      <td>37.0</td>\n",
              "      <td>37.0</td>\n",
              "      <td>51.0</td>\n",
              "      <td>7.45</td>\n",
              "      <td>33.0</td>\n",
              "      <td>...</td>\n",
              "      <td>11.3</td>\n",
              "      <td>11.3</td>\n",
              "      <td>36.9</td>\n",
              "      <td>36.9</td>\n",
              "      <td>1.3</td>\n",
              "      <td>1.3</td>\n",
              "      <td>3.5</td>\n",
              "      <td>3.5</td>\n",
              "      <td>557.0</td>\n",
              "      <td>557.0</td>\n",
              "      <td>4.2</td>\n",
              "      <td>4.2</td>\n",
              "      <td>145.0</td>\n",
              "      <td>145.0</td>\n",
              "      <td>12.7</td>\n",
              "      <td>12.7</td>\n",
              "      <td>37.0</td>\n",
              "      <td>37.0</td>\n",
              "      <td>7.45</td>\n",
              "      <td>7.45</td>\n",
              "      <td>51.0</td>\n",
              "      <td>51.0</td>\n",
              "      <td>54.8</td>\n",
              "      <td>51.000000</td>\n",
              "      <td>37.0</td>\n",
              "      <td>37.0</td>\n",
              "      <td>7.45</td>\n",
              "      <td>7.45</td>\n",
              "      <td>51.0</td>\n",
              "      <td>51.0</td>\n",
              "      <td>51.0</td>\n",
              "      <td>51.0</td>\n",
              "      <td>0</td>\n",
              "      <td>0</td>\n",
              "      <td>0</td>\n",
              "      <td>0</td>\n",
              "      <td>0</td>\n",
              "      <td>0</td>\n",
              "      <td>0</td>\n",
              "      <td>1</td>\n",
              "    </tr>\n",
              "    <tr>\n",
              "      <th>2</th>\n",
              "      <td>3</td>\n",
              "      <td>276985</td>\n",
              "      <td>118</td>\n",
              "      <td>25.0</td>\n",
              "      <td>31.9527</td>\n",
              "      <td>0</td>\n",
              "      <td>Caucasian</td>\n",
              "      <td>F</td>\n",
              "      <td>172.7</td>\n",
              "      <td>Emergency Department</td>\n",
              "      <td>Accident &amp; Emergency</td>\n",
              "      <td>93</td>\n",
              "      <td>admit</td>\n",
              "      <td>Med-Surg ICU</td>\n",
              "      <td>0.000694</td>\n",
              "      <td>0</td>\n",
              "      <td>95.3</td>\n",
              "      <td>NaN</td>\n",
              "      <td>122.0</td>\n",
              "      <td>703.03</td>\n",
              "      <td>0</td>\n",
              "      <td>0</td>\n",
              "      <td>NaN</td>\n",
              "      <td>NaN</td>\n",
              "      <td>NaN</td>\n",
              "      <td>NaN</td>\n",
              "      <td>3.0</td>\n",
              "      <td>6.0</td>\n",
              "      <td>0.0</td>\n",
              "      <td>5.0</td>\n",
              "      <td>NaN</td>\n",
              "      <td>102.0</td>\n",
              "      <td>NaN</td>\n",
              "      <td>0</td>\n",
              "      <td>68.0</td>\n",
              "      <td>NaN</td>\n",
              "      <td>NaN</td>\n",
              "      <td>NaN</td>\n",
              "      <td>NaN</td>\n",
              "      <td>37.0</td>\n",
              "      <td>...</td>\n",
              "      <td>NaN</td>\n",
              "      <td>NaN</td>\n",
              "      <td>NaN</td>\n",
              "      <td>NaN</td>\n",
              "      <td>NaN</td>\n",
              "      <td>NaN</td>\n",
              "      <td>NaN</td>\n",
              "      <td>NaN</td>\n",
              "      <td>NaN</td>\n",
              "      <td>NaN</td>\n",
              "      <td>NaN</td>\n",
              "      <td>NaN</td>\n",
              "      <td>NaN</td>\n",
              "      <td>NaN</td>\n",
              "      <td>NaN</td>\n",
              "      <td>NaN</td>\n",
              "      <td>NaN</td>\n",
              "      <td>NaN</td>\n",
              "      <td>NaN</td>\n",
              "      <td>NaN</td>\n",
              "      <td>NaN</td>\n",
              "      <td>NaN</td>\n",
              "      <td>NaN</td>\n",
              "      <td>NaN</td>\n",
              "      <td>NaN</td>\n",
              "      <td>NaN</td>\n",
              "      <td>NaN</td>\n",
              "      <td>NaN</td>\n",
              "      <td>NaN</td>\n",
              "      <td>NaN</td>\n",
              "      <td>NaN</td>\n",
              "      <td>NaN</td>\n",
              "      <td>0</td>\n",
              "      <td>0</td>\n",
              "      <td>0</td>\n",
              "      <td>0</td>\n",
              "      <td>0</td>\n",
              "      <td>0</td>\n",
              "      <td>0</td>\n",
              "      <td>0</td>\n",
              "    </tr>\n",
              "    <tr>\n",
              "      <th>3</th>\n",
              "      <td>4</td>\n",
              "      <td>262220</td>\n",
              "      <td>118</td>\n",
              "      <td>81.0</td>\n",
              "      <td>22.6355</td>\n",
              "      <td>1</td>\n",
              "      <td>Caucasian</td>\n",
              "      <td>F</td>\n",
              "      <td>165.1</td>\n",
              "      <td>Operating Room</td>\n",
              "      <td>Operating Room / Recovery</td>\n",
              "      <td>92</td>\n",
              "      <td>admit</td>\n",
              "      <td>CTICU</td>\n",
              "      <td>0.000694</td>\n",
              "      <td>0</td>\n",
              "      <td>61.7</td>\n",
              "      <td>NaN</td>\n",
              "      <td>203.0</td>\n",
              "      <td>1206.03</td>\n",
              "      <td>1</td>\n",
              "      <td>0</td>\n",
              "      <td>NaN</td>\n",
              "      <td>NaN</td>\n",
              "      <td>NaN</td>\n",
              "      <td>0.6</td>\n",
              "      <td>4.0</td>\n",
              "      <td>6.0</td>\n",
              "      <td>0.0</td>\n",
              "      <td>5.0</td>\n",
              "      <td>185.0</td>\n",
              "      <td>114.0</td>\n",
              "      <td>25.9</td>\n",
              "      <td>1</td>\n",
              "      <td>60.0</td>\n",
              "      <td>30.0</td>\n",
              "      <td>30.0</td>\n",
              "      <td>142.0</td>\n",
              "      <td>7.39</td>\n",
              "      <td>4.0</td>\n",
              "      <td>...</td>\n",
              "      <td>11.6</td>\n",
              "      <td>11.6</td>\n",
              "      <td>34.0</td>\n",
              "      <td>34.0</td>\n",
              "      <td>1.6</td>\n",
              "      <td>1.1</td>\n",
              "      <td>NaN</td>\n",
              "      <td>NaN</td>\n",
              "      <td>43.0</td>\n",
              "      <td>43.0</td>\n",
              "      <td>NaN</td>\n",
              "      <td>NaN</td>\n",
              "      <td>NaN</td>\n",
              "      <td>NaN</td>\n",
              "      <td>8.8</td>\n",
              "      <td>8.8</td>\n",
              "      <td>37.0</td>\n",
              "      <td>27.0</td>\n",
              "      <td>7.44</td>\n",
              "      <td>7.34</td>\n",
              "      <td>337.0</td>\n",
              "      <td>102.0</td>\n",
              "      <td>342.5</td>\n",
              "      <td>236.666667</td>\n",
              "      <td>36.0</td>\n",
              "      <td>33.0</td>\n",
              "      <td>7.37</td>\n",
              "      <td>7.34</td>\n",
              "      <td>337.0</td>\n",
              "      <td>265.0</td>\n",
              "      <td>337.0</td>\n",
              "      <td>337.0</td>\n",
              "      <td>0</td>\n",
              "      <td>0</td>\n",
              "      <td>0</td>\n",
              "      <td>0</td>\n",
              "      <td>0</td>\n",
              "      <td>0</td>\n",
              "      <td>0</td>\n",
              "      <td>0</td>\n",
              "    </tr>\n",
              "    <tr>\n",
              "      <th>4</th>\n",
              "      <td>5</td>\n",
              "      <td>201746</td>\n",
              "      <td>33</td>\n",
              "      <td>19.0</td>\n",
              "      <td>None</td>\n",
              "      <td>0</td>\n",
              "      <td>Caucasian</td>\n",
              "      <td>M</td>\n",
              "      <td>188.0</td>\n",
              "      <td>NaN</td>\n",
              "      <td>Accident &amp; Emergency</td>\n",
              "      <td>91</td>\n",
              "      <td>admit</td>\n",
              "      <td>Med-Surg ICU</td>\n",
              "      <td>0.073611</td>\n",
              "      <td>0</td>\n",
              "      <td>NaN</td>\n",
              "      <td>NaN</td>\n",
              "      <td>119.0</td>\n",
              "      <td>601.01</td>\n",
              "      <td>0</td>\n",
              "      <td>0</td>\n",
              "      <td>NaN</td>\n",
              "      <td>NaN</td>\n",
              "      <td>NaN</td>\n",
              "      <td>NaN</td>\n",
              "      <td>NaN</td>\n",
              "      <td>NaN</td>\n",
              "      <td>NaN</td>\n",
              "      <td>NaN</td>\n",
              "      <td>NaN</td>\n",
              "      <td>60.0</td>\n",
              "      <td>NaN</td>\n",
              "      <td>0</td>\n",
              "      <td>103.0</td>\n",
              "      <td>NaN</td>\n",
              "      <td>NaN</td>\n",
              "      <td>NaN</td>\n",
              "      <td>NaN</td>\n",
              "      <td>16.0</td>\n",
              "      <td>...</td>\n",
              "      <td>NaN</td>\n",
              "      <td>NaN</td>\n",
              "      <td>NaN</td>\n",
              "      <td>NaN</td>\n",
              "      <td>NaN</td>\n",
              "      <td>NaN</td>\n",
              "      <td>NaN</td>\n",
              "      <td>NaN</td>\n",
              "      <td>NaN</td>\n",
              "      <td>NaN</td>\n",
              "      <td>NaN</td>\n",
              "      <td>NaN</td>\n",
              "      <td>NaN</td>\n",
              "      <td>NaN</td>\n",
              "      <td>NaN</td>\n",
              "      <td>NaN</td>\n",
              "      <td>NaN</td>\n",
              "      <td>NaN</td>\n",
              "      <td>NaN</td>\n",
              "      <td>NaN</td>\n",
              "      <td>NaN</td>\n",
              "      <td>NaN</td>\n",
              "      <td>NaN</td>\n",
              "      <td>NaN</td>\n",
              "      <td>NaN</td>\n",
              "      <td>NaN</td>\n",
              "      <td>NaN</td>\n",
              "      <td>NaN</td>\n",
              "      <td>NaN</td>\n",
              "      <td>NaN</td>\n",
              "      <td>NaN</td>\n",
              "      <td>NaN</td>\n",
              "      <td>0</td>\n",
              "      <td>0</td>\n",
              "      <td>0</td>\n",
              "      <td>0</td>\n",
              "      <td>0</td>\n",
              "      <td>0</td>\n",
              "      <td>0</td>\n",
              "      <td>0</td>\n",
              "    </tr>\n",
              "    <tr>\n",
              "      <th>5</th>\n",
              "      <td>6</td>\n",
              "      <td>182697</td>\n",
              "      <td>83</td>\n",
              "      <td>67.0</td>\n",
              "      <td>27.5556</td>\n",
              "      <td>0</td>\n",
              "      <td>Caucasian</td>\n",
              "      <td>M</td>\n",
              "      <td>190.5</td>\n",
              "      <td>Direct Admit</td>\n",
              "      <td>Accident &amp; Emergency</td>\n",
              "      <td>95</td>\n",
              "      <td>admit</td>\n",
              "      <td>Med-Surg ICU</td>\n",
              "      <td>0.000694</td>\n",
              "      <td>0</td>\n",
              "      <td>100.0</td>\n",
              "      <td>NaN</td>\n",
              "      <td>301.0</td>\n",
              "      <td>403.01</td>\n",
              "      <td>0</td>\n",
              "      <td>0</td>\n",
              "      <td>NaN</td>\n",
              "      <td>13.0</td>\n",
              "      <td>0.71</td>\n",
              "      <td>NaN</td>\n",
              "      <td>4.0</td>\n",
              "      <td>6.0</td>\n",
              "      <td>0.0</td>\n",
              "      <td>5.0</td>\n",
              "      <td>156.0</td>\n",
              "      <td>113.0</td>\n",
              "      <td>44.2</td>\n",
              "      <td>0</td>\n",
              "      <td>130.0</td>\n",
              "      <td>NaN</td>\n",
              "      <td>NaN</td>\n",
              "      <td>NaN</td>\n",
              "      <td>NaN</td>\n",
              "      <td>35.0</td>\n",
              "      <td>...</td>\n",
              "      <td>NaN</td>\n",
              "      <td>NaN</td>\n",
              "      <td>NaN</td>\n",
              "      <td>NaN</td>\n",
              "      <td>1.1</td>\n",
              "      <td>1.1</td>\n",
              "      <td>NaN</td>\n",
              "      <td>NaN</td>\n",
              "      <td>NaN</td>\n",
              "      <td>NaN</td>\n",
              "      <td>NaN</td>\n",
              "      <td>NaN</td>\n",
              "      <td>NaN</td>\n",
              "      <td>NaN</td>\n",
              "      <td>NaN</td>\n",
              "      <td>NaN</td>\n",
              "      <td>NaN</td>\n",
              "      <td>NaN</td>\n",
              "      <td>NaN</td>\n",
              "      <td>NaN</td>\n",
              "      <td>NaN</td>\n",
              "      <td>NaN</td>\n",
              "      <td>NaN</td>\n",
              "      <td>NaN</td>\n",
              "      <td>NaN</td>\n",
              "      <td>NaN</td>\n",
              "      <td>NaN</td>\n",
              "      <td>NaN</td>\n",
              "      <td>NaN</td>\n",
              "      <td>NaN</td>\n",
              "      <td>NaN</td>\n",
              "      <td>NaN</td>\n",
              "      <td>0</td>\n",
              "      <td>0</td>\n",
              "      <td>0</td>\n",
              "      <td>0</td>\n",
              "      <td>0</td>\n",
              "      <td>0</td>\n",
              "      <td>0</td>\n",
              "      <td>1</td>\n",
              "    </tr>\n",
              "    <tr>\n",
              "      <th>6</th>\n",
              "      <td>7</td>\n",
              "      <td>195124</td>\n",
              "      <td>83</td>\n",
              "      <td>59.0</td>\n",
              "      <td>57.451</td>\n",
              "      <td>0</td>\n",
              "      <td>Caucasian</td>\n",
              "      <td>F</td>\n",
              "      <td>165.1</td>\n",
              "      <td>Operating Room</td>\n",
              "      <td>Accident &amp; Emergency</td>\n",
              "      <td>95</td>\n",
              "      <td>admit</td>\n",
              "      <td>Med-Surg ICU</td>\n",
              "      <td>0.000694</td>\n",
              "      <td>0</td>\n",
              "      <td>156.6</td>\n",
              "      <td>NaN</td>\n",
              "      <td>108.0</td>\n",
              "      <td>203.01</td>\n",
              "      <td>0</td>\n",
              "      <td>0</td>\n",
              "      <td>NaN</td>\n",
              "      <td>18.0</td>\n",
              "      <td>0.78</td>\n",
              "      <td>1.0</td>\n",
              "      <td>4.0</td>\n",
              "      <td>6.0</td>\n",
              "      <td>0.0</td>\n",
              "      <td>5.0</td>\n",
              "      <td>197.0</td>\n",
              "      <td>133.0</td>\n",
              "      <td>33.5</td>\n",
              "      <td>1</td>\n",
              "      <td>138.0</td>\n",
              "      <td>43.0</td>\n",
              "      <td>43.0</td>\n",
              "      <td>370.0</td>\n",
              "      <td>7.42</td>\n",
              "      <td>53.0</td>\n",
              "      <td>...</td>\n",
              "      <td>10.7</td>\n",
              "      <td>10.7</td>\n",
              "      <td>33.5</td>\n",
              "      <td>33.5</td>\n",
              "      <td>NaN</td>\n",
              "      <td>NaN</td>\n",
              "      <td>NaN</td>\n",
              "      <td>NaN</td>\n",
              "      <td>278.0</td>\n",
              "      <td>278.0</td>\n",
              "      <td>4.2</td>\n",
              "      <td>4.2</td>\n",
              "      <td>135.0</td>\n",
              "      <td>135.0</td>\n",
              "      <td>5.9</td>\n",
              "      <td>5.9</td>\n",
              "      <td>43.0</td>\n",
              "      <td>43.0</td>\n",
              "      <td>7.42</td>\n",
              "      <td>7.42</td>\n",
              "      <td>370.0</td>\n",
              "      <td>370.0</td>\n",
              "      <td>370.0</td>\n",
              "      <td>370.000000</td>\n",
              "      <td>43.0</td>\n",
              "      <td>43.0</td>\n",
              "      <td>7.42</td>\n",
              "      <td>7.42</td>\n",
              "      <td>370.0</td>\n",
              "      <td>370.0</td>\n",
              "      <td>370.0</td>\n",
              "      <td>370.0</td>\n",
              "      <td>0</td>\n",
              "      <td>0</td>\n",
              "      <td>0</td>\n",
              "      <td>0</td>\n",
              "      <td>0</td>\n",
              "      <td>0</td>\n",
              "      <td>0</td>\n",
              "      <td>1</td>\n",
              "    </tr>\n",
              "    <tr>\n",
              "      <th>7</th>\n",
              "      <td>8</td>\n",
              "      <td>179261</td>\n",
              "      <td>33</td>\n",
              "      <td>70.0</td>\n",
              "      <td>None</td>\n",
              "      <td>0</td>\n",
              "      <td>Caucasian</td>\n",
              "      <td>M</td>\n",
              "      <td>165.0</td>\n",
              "      <td>Emergency Department</td>\n",
              "      <td>Accident &amp; Emergency</td>\n",
              "      <td>91</td>\n",
              "      <td>admit</td>\n",
              "      <td>Med-Surg ICU</td>\n",
              "      <td>0.002083</td>\n",
              "      <td>0</td>\n",
              "      <td>NaN</td>\n",
              "      <td>NaN</td>\n",
              "      <td>113.0</td>\n",
              "      <td>501.05</td>\n",
              "      <td>0</td>\n",
              "      <td>0</td>\n",
              "      <td>NaN</td>\n",
              "      <td>48.0</td>\n",
              "      <td>2.05</td>\n",
              "      <td>NaN</td>\n",
              "      <td>4.0</td>\n",
              "      <td>6.0</td>\n",
              "      <td>0.0</td>\n",
              "      <td>5.0</td>\n",
              "      <td>164.0</td>\n",
              "      <td>120.0</td>\n",
              "      <td>22.6</td>\n",
              "      <td>0</td>\n",
              "      <td>60.0</td>\n",
              "      <td>NaN</td>\n",
              "      <td>NaN</td>\n",
              "      <td>NaN</td>\n",
              "      <td>NaN</td>\n",
              "      <td>28.0</td>\n",
              "      <td>...</td>\n",
              "      <td>NaN</td>\n",
              "      <td>NaN</td>\n",
              "      <td>NaN</td>\n",
              "      <td>NaN</td>\n",
              "      <td>NaN</td>\n",
              "      <td>NaN</td>\n",
              "      <td>NaN</td>\n",
              "      <td>NaN</td>\n",
              "      <td>NaN</td>\n",
              "      <td>NaN</td>\n",
              "      <td>NaN</td>\n",
              "      <td>NaN</td>\n",
              "      <td>NaN</td>\n",
              "      <td>NaN</td>\n",
              "      <td>NaN</td>\n",
              "      <td>NaN</td>\n",
              "      <td>43.0</td>\n",
              "      <td>43.0</td>\n",
              "      <td>7.38</td>\n",
              "      <td>7.38</td>\n",
              "      <td>89.0</td>\n",
              "      <td>89.0</td>\n",
              "      <td>NaN</td>\n",
              "      <td>NaN</td>\n",
              "      <td>NaN</td>\n",
              "      <td>NaN</td>\n",
              "      <td>NaN</td>\n",
              "      <td>NaN</td>\n",
              "      <td>NaN</td>\n",
              "      <td>NaN</td>\n",
              "      <td>NaN</td>\n",
              "      <td>NaN</td>\n",
              "      <td>0</td>\n",
              "      <td>0</td>\n",
              "      <td>0</td>\n",
              "      <td>1</td>\n",
              "      <td>0</td>\n",
              "      <td>0</td>\n",
              "      <td>0</td>\n",
              "      <td>0</td>\n",
              "    </tr>\n",
              "    <tr>\n",
              "      <th>8</th>\n",
              "      <td>9</td>\n",
              "      <td>271041</td>\n",
              "      <td>118</td>\n",
              "      <td>45.0</td>\n",
              "      <td>None</td>\n",
              "      <td>0</td>\n",
              "      <td>Caucasian</td>\n",
              "      <td>M</td>\n",
              "      <td>170.2</td>\n",
              "      <td>Other Hospital</td>\n",
              "      <td>Other Hospital</td>\n",
              "      <td>114</td>\n",
              "      <td>admit</td>\n",
              "      <td>CCU-CTICU</td>\n",
              "      <td>0.009028</td>\n",
              "      <td>0</td>\n",
              "      <td>NaN</td>\n",
              "      <td>2.7</td>\n",
              "      <td>116.0</td>\n",
              "      <td>103.01</td>\n",
              "      <td>0</td>\n",
              "      <td>0</td>\n",
              "      <td>0.2</td>\n",
              "      <td>15.0</td>\n",
              "      <td>1.16</td>\n",
              "      <td>1.0</td>\n",
              "      <td>4.0</td>\n",
              "      <td>6.0</td>\n",
              "      <td>0.0</td>\n",
              "      <td>5.0</td>\n",
              "      <td>380.0</td>\n",
              "      <td>82.0</td>\n",
              "      <td>37.9</td>\n",
              "      <td>0</td>\n",
              "      <td>66.0</td>\n",
              "      <td>60.0</td>\n",
              "      <td>60.0</td>\n",
              "      <td>92.0</td>\n",
              "      <td>7.14</td>\n",
              "      <td>14.0</td>\n",
              "      <td>...</td>\n",
              "      <td>12.3</td>\n",
              "      <td>12.3</td>\n",
              "      <td>37.9</td>\n",
              "      <td>37.9</td>\n",
              "      <td>1.2</td>\n",
              "      <td>1.2</td>\n",
              "      <td>5.9</td>\n",
              "      <td>5.9</td>\n",
              "      <td>226.0</td>\n",
              "      <td>226.0</td>\n",
              "      <td>5.2</td>\n",
              "      <td>5.2</td>\n",
              "      <td>142.0</td>\n",
              "      <td>142.0</td>\n",
              "      <td>24.7</td>\n",
              "      <td>24.7</td>\n",
              "      <td>60.0</td>\n",
              "      <td>33.0</td>\n",
              "      <td>7.62</td>\n",
              "      <td>6.99</td>\n",
              "      <td>256.0</td>\n",
              "      <td>92.0</td>\n",
              "      <td>92.0</td>\n",
              "      <td>92.000000</td>\n",
              "      <td>60.0</td>\n",
              "      <td>60.0</td>\n",
              "      <td>7.14</td>\n",
              "      <td>7.14</td>\n",
              "      <td>92.0</td>\n",
              "      <td>92.0</td>\n",
              "      <td>92.0</td>\n",
              "      <td>92.0</td>\n",
              "      <td>0</td>\n",
              "      <td>0</td>\n",
              "      <td>0</td>\n",
              "      <td>0</td>\n",
              "      <td>0</td>\n",
              "      <td>0</td>\n",
              "      <td>0</td>\n",
              "      <td>0</td>\n",
              "    </tr>\n",
              "    <tr>\n",
              "      <th>9</th>\n",
              "      <td>10</td>\n",
              "      <td>238874</td>\n",
              "      <td>118</td>\n",
              "      <td>50.0</td>\n",
              "      <td>25.7077</td>\n",
              "      <td>0</td>\n",
              "      <td>NaN</td>\n",
              "      <td>M</td>\n",
              "      <td>175.3</td>\n",
              "      <td>Direct Admit</td>\n",
              "      <td>Accident &amp; Emergency</td>\n",
              "      <td>114</td>\n",
              "      <td>admit</td>\n",
              "      <td>CCU-CTICU</td>\n",
              "      <td>0.060417</td>\n",
              "      <td>0</td>\n",
              "      <td>79.0</td>\n",
              "      <td>3.6</td>\n",
              "      <td>112.0</td>\n",
              "      <td>107.01</td>\n",
              "      <td>0</td>\n",
              "      <td>0</td>\n",
              "      <td>0.4</td>\n",
              "      <td>10.0</td>\n",
              "      <td>0.83</td>\n",
              "      <td>NaN</td>\n",
              "      <td>4.0</td>\n",
              "      <td>6.0</td>\n",
              "      <td>0.0</td>\n",
              "      <td>5.0</td>\n",
              "      <td>134.0</td>\n",
              "      <td>94.0</td>\n",
              "      <td>37.2</td>\n",
              "      <td>0</td>\n",
              "      <td>58.0</td>\n",
              "      <td>NaN</td>\n",
              "      <td>NaN</td>\n",
              "      <td>NaN</td>\n",
              "      <td>NaN</td>\n",
              "      <td>46.0</td>\n",
              "      <td>...</td>\n",
              "      <td>12.8</td>\n",
              "      <td>12.8</td>\n",
              "      <td>37.2</td>\n",
              "      <td>37.2</td>\n",
              "      <td>NaN</td>\n",
              "      <td>NaN</td>\n",
              "      <td>NaN</td>\n",
              "      <td>NaN</td>\n",
              "      <td>232.0</td>\n",
              "      <td>232.0</td>\n",
              "      <td>3.3</td>\n",
              "      <td>3.3</td>\n",
              "      <td>139.0</td>\n",
              "      <td>139.0</td>\n",
              "      <td>12.8</td>\n",
              "      <td>12.8</td>\n",
              "      <td>NaN</td>\n",
              "      <td>NaN</td>\n",
              "      <td>NaN</td>\n",
              "      <td>NaN</td>\n",
              "      <td>NaN</td>\n",
              "      <td>NaN</td>\n",
              "      <td>NaN</td>\n",
              "      <td>NaN</td>\n",
              "      <td>NaN</td>\n",
              "      <td>NaN</td>\n",
              "      <td>NaN</td>\n",
              "      <td>NaN</td>\n",
              "      <td>NaN</td>\n",
              "      <td>NaN</td>\n",
              "      <td>NaN</td>\n",
              "      <td>NaN</td>\n",
              "      <td>0</td>\n",
              "      <td>0</td>\n",
              "      <td>0</td>\n",
              "      <td>0</td>\n",
              "      <td>0</td>\n",
              "      <td>0</td>\n",
              "      <td>0</td>\n",
              "      <td>0</td>\n",
              "    </tr>\n",
              "  </tbody>\n",
              "</table>\n",
              "<p>10 rows × 181 columns</p>\n",
              "</div>"
            ],
            "text/plain": [
              "   Unnamed: 0  encounter_id  ...  solid_tumor_with_metastasis  diabetes_mellitus\n",
              "0           1        214826  ...                            0                  1\n",
              "1           2        246060  ...                            0                  1\n",
              "2           3        276985  ...                            0                  0\n",
              "3           4        262220  ...                            0                  0\n",
              "4           5        201746  ...                            0                  0\n",
              "5           6        182697  ...                            0                  1\n",
              "6           7        195124  ...                            0                  1\n",
              "7           8        179261  ...                            0                  0\n",
              "8           9        271041  ...                            0                  0\n",
              "9          10        238874  ...                            0                  0\n",
              "\n",
              "[10 rows x 181 columns]"
            ]
          },
          "metadata": {
            "tags": []
          },
          "execution_count": 10
        }
      ]
    },
    {
      "cell_type": "code",
      "metadata": {
        "colab": {
          "base_uri": "https://localhost:8080/"
        },
        "id": "5dzRbF5LFBZ4",
        "outputId": "a88f53d1-e2e1-4290-e772-60dd3c178d79"
      },
      "source": [
        "# Média de idade nesse dataset\r\n",
        "age_mean = df['age'].mean()\r\n",
        "print(age_mean)"
      ],
      "execution_count": null,
      "outputs": [
        {
          "output_type": "stream",
          "text": [
            "61.99510262126124\n"
          ],
          "name": "stdout"
        }
      ]
    },
    {
      "cell_type": "code",
      "metadata": {
        "colab": {
          "base_uri": "https://localhost:8080/"
        },
        "id": "z1J5FAX1GQKq",
        "outputId": "9806ea49-01e0-4692-aa57-a82fe6283290"
      },
      "source": [
        "# Verificando os dados faltantes em cada coluna que não foi visualizada anteriormente\r\n",
        "df['ethnicity'].isnull().sum()"
      ],
      "execution_count": null,
      "outputs": [
        {
          "output_type": "execute_result",
          "data": {
            "text/plain": [
              "1587"
            ]
          },
          "metadata": {
            "tags": []
          },
          "execution_count": 12
        }
      ]
    },
    {
      "cell_type": "code",
      "metadata": {
        "colab": {
          "base_uri": "https://localhost:8080/"
        },
        "id": "5y1pK6v8H2xU",
        "outputId": "6a84b2df-d10d-4b52-f06a-80323693ec36"
      },
      "source": [
        "# Verificando o percentual em cada coluna de dados faltantes\r\n",
        "data_null_perc1 = (df['ethnicity'].isnull().sum() / len(df['encounter_id']))*100\r\n",
        "print(data_null_perc1)"
      ],
      "execution_count": null,
      "outputs": [
        {
          "output_type": "stream",
          "text": [
            "1.2192966955292455\n"
          ],
          "name": "stdout"
        }
      ]
    },
    {
      "cell_type": "markdown",
      "metadata": {
        "id": "Zi8pPkrPJKrf"
      },
      "source": [
        "**Contagem de cada uma das palavras na variável ethnicity E substituindo os valores nulos**"
      ]
    },
    {
      "cell_type": "code",
      "metadata": {
        "id": "91C325e7Ipko",
        "colab": {
          "base_uri": "https://localhost:8080/"
        },
        "outputId": "abe84bfd-29b2-4668-ed5a-423114693be4"
      },
      "source": [
        "# Quantidade de cada uma das etnias na pesquisa\r\n",
        "ethnicity_text = df['ethnicity']\r\n",
        "counter = Counter(ethnicity_text)\r\n",
        "print(counter)"
      ],
      "execution_count": null,
      "outputs": [
        {
          "output_type": "stream",
          "text": [
            "Counter({'Caucasian': 100236, 'African American': 13911, 'Other/Unknown': 6261, 'Hispanic': 5049, 'Asian': 2198, nan: 1587, 'Native American': 915})\n"
          ],
          "name": "stdout"
        }
      ]
    },
    {
      "cell_type": "code",
      "metadata": {
        "colab": {
          "base_uri": "https://localhost:8080/",
          "height": 722
        },
        "id": "Rh0HValNpxgX",
        "outputId": "68df405c-2f2d-43af-89bc-06e271174a3e"
      },
      "source": [
        "# Como a maioria das etnias são caucasian vamos substituir os valores nulos por caucasian\r\n",
        "df['ethnicity'].fillna('Caucasian', inplace = True)\r\n",
        "df.head(13)"
      ],
      "execution_count": null,
      "outputs": [
        {
          "output_type": "execute_result",
          "data": {
            "text/html": [
              "<div>\n",
              "<style scoped>\n",
              "    .dataframe tbody tr th:only-of-type {\n",
              "        vertical-align: middle;\n",
              "    }\n",
              "\n",
              "    .dataframe tbody tr th {\n",
              "        vertical-align: top;\n",
              "    }\n",
              "\n",
              "    .dataframe thead th {\n",
              "        text-align: right;\n",
              "    }\n",
              "</style>\n",
              "<table border=\"1\" class=\"dataframe\">\n",
              "  <thead>\n",
              "    <tr style=\"text-align: right;\">\n",
              "      <th></th>\n",
              "      <th>Unnamed: 0</th>\n",
              "      <th>encounter_id</th>\n",
              "      <th>hospital_id</th>\n",
              "      <th>age</th>\n",
              "      <th>bmi</th>\n",
              "      <th>elective_surgery</th>\n",
              "      <th>ethnicity</th>\n",
              "      <th>gender</th>\n",
              "      <th>height</th>\n",
              "      <th>hospital_admit_source</th>\n",
              "      <th>icu_admit_source</th>\n",
              "      <th>icu_id</th>\n",
              "      <th>icu_stay_type</th>\n",
              "      <th>icu_type</th>\n",
              "      <th>pre_icu_los_days</th>\n",
              "      <th>readmission_status</th>\n",
              "      <th>weight</th>\n",
              "      <th>albumin_apache</th>\n",
              "      <th>apache_2_diagnosis</th>\n",
              "      <th>apache_3j_diagnosis</th>\n",
              "      <th>apache_post_operative</th>\n",
              "      <th>arf_apache</th>\n",
              "      <th>bilirubin_apache</th>\n",
              "      <th>bun_apache</th>\n",
              "      <th>creatinine_apache</th>\n",
              "      <th>fio2_apache</th>\n",
              "      <th>gcs_eyes_apache</th>\n",
              "      <th>gcs_motor_apache</th>\n",
              "      <th>gcs_unable_apache</th>\n",
              "      <th>gcs_verbal_apache</th>\n",
              "      <th>glucose_apache</th>\n",
              "      <th>heart_rate_apache</th>\n",
              "      <th>hematocrit_apache</th>\n",
              "      <th>intubated_apache</th>\n",
              "      <th>map_apache</th>\n",
              "      <th>paco2_apache</th>\n",
              "      <th>paco2_for_ph_apache</th>\n",
              "      <th>pao2_apache</th>\n",
              "      <th>ph_apache</th>\n",
              "      <th>resprate_apache</th>\n",
              "      <th>...</th>\n",
              "      <th>h1_hemaglobin_max</th>\n",
              "      <th>h1_hemaglobin_min</th>\n",
              "      <th>h1_hematocrit_max</th>\n",
              "      <th>h1_hematocrit_min</th>\n",
              "      <th>h1_inr_max</th>\n",
              "      <th>h1_inr_min</th>\n",
              "      <th>h1_lactate_max</th>\n",
              "      <th>h1_lactate_min</th>\n",
              "      <th>h1_platelets_max</th>\n",
              "      <th>h1_platelets_min</th>\n",
              "      <th>h1_potassium_max</th>\n",
              "      <th>h1_potassium_min</th>\n",
              "      <th>h1_sodium_max</th>\n",
              "      <th>h1_sodium_min</th>\n",
              "      <th>h1_wbc_max</th>\n",
              "      <th>h1_wbc_min</th>\n",
              "      <th>d1_arterial_pco2_max</th>\n",
              "      <th>d1_arterial_pco2_min</th>\n",
              "      <th>d1_arterial_ph_max</th>\n",
              "      <th>d1_arterial_ph_min</th>\n",
              "      <th>d1_arterial_po2_max</th>\n",
              "      <th>d1_arterial_po2_min</th>\n",
              "      <th>d1_pao2fio2ratio_max</th>\n",
              "      <th>d1_pao2fio2ratio_min</th>\n",
              "      <th>h1_arterial_pco2_max</th>\n",
              "      <th>h1_arterial_pco2_min</th>\n",
              "      <th>h1_arterial_ph_max</th>\n",
              "      <th>h1_arterial_ph_min</th>\n",
              "      <th>h1_arterial_po2_max</th>\n",
              "      <th>h1_arterial_po2_min</th>\n",
              "      <th>h1_pao2fio2ratio_max</th>\n",
              "      <th>h1_pao2fio2ratio_min</th>\n",
              "      <th>aids</th>\n",
              "      <th>cirrhosis</th>\n",
              "      <th>hepatic_failure</th>\n",
              "      <th>immunosuppression</th>\n",
              "      <th>leukemia</th>\n",
              "      <th>lymphoma</th>\n",
              "      <th>solid_tumor_with_metastasis</th>\n",
              "      <th>diabetes_mellitus</th>\n",
              "    </tr>\n",
              "  </thead>\n",
              "  <tbody>\n",
              "    <tr>\n",
              "      <th>0</th>\n",
              "      <td>1</td>\n",
              "      <td>214826</td>\n",
              "      <td>118</td>\n",
              "      <td>68.0</td>\n",
              "      <td>22.7328</td>\n",
              "      <td>0</td>\n",
              "      <td>Caucasian</td>\n",
              "      <td>M</td>\n",
              "      <td>180.3</td>\n",
              "      <td>Floor</td>\n",
              "      <td>Floor</td>\n",
              "      <td>92</td>\n",
              "      <td>admit</td>\n",
              "      <td>CTICU</td>\n",
              "      <td>0.541667</td>\n",
              "      <td>0</td>\n",
              "      <td>73.9</td>\n",
              "      <td>2.3</td>\n",
              "      <td>113.0</td>\n",
              "      <td>502.01</td>\n",
              "      <td>0</td>\n",
              "      <td>0</td>\n",
              "      <td>0.4</td>\n",
              "      <td>31.0</td>\n",
              "      <td>2.51</td>\n",
              "      <td>NaN</td>\n",
              "      <td>3.0</td>\n",
              "      <td>6.0</td>\n",
              "      <td>0.0</td>\n",
              "      <td>4.0</td>\n",
              "      <td>168.0</td>\n",
              "      <td>118.0</td>\n",
              "      <td>27.4</td>\n",
              "      <td>0</td>\n",
              "      <td>40.0</td>\n",
              "      <td>NaN</td>\n",
              "      <td>NaN</td>\n",
              "      <td>NaN</td>\n",
              "      <td>NaN</td>\n",
              "      <td>36.0</td>\n",
              "      <td>...</td>\n",
              "      <td>NaN</td>\n",
              "      <td>NaN</td>\n",
              "      <td>NaN</td>\n",
              "      <td>NaN</td>\n",
              "      <td>NaN</td>\n",
              "      <td>NaN</td>\n",
              "      <td>NaN</td>\n",
              "      <td>NaN</td>\n",
              "      <td>NaN</td>\n",
              "      <td>NaN</td>\n",
              "      <td>NaN</td>\n",
              "      <td>NaN</td>\n",
              "      <td>NaN</td>\n",
              "      <td>NaN</td>\n",
              "      <td>NaN</td>\n",
              "      <td>NaN</td>\n",
              "      <td>NaN</td>\n",
              "      <td>NaN</td>\n",
              "      <td>NaN</td>\n",
              "      <td>NaN</td>\n",
              "      <td>NaN</td>\n",
              "      <td>NaN</td>\n",
              "      <td>NaN</td>\n",
              "      <td>NaN</td>\n",
              "      <td>NaN</td>\n",
              "      <td>NaN</td>\n",
              "      <td>NaN</td>\n",
              "      <td>NaN</td>\n",
              "      <td>NaN</td>\n",
              "      <td>NaN</td>\n",
              "      <td>NaN</td>\n",
              "      <td>NaN</td>\n",
              "      <td>0</td>\n",
              "      <td>0</td>\n",
              "      <td>0</td>\n",
              "      <td>0</td>\n",
              "      <td>0</td>\n",
              "      <td>0</td>\n",
              "      <td>0</td>\n",
              "      <td>1</td>\n",
              "    </tr>\n",
              "    <tr>\n",
              "      <th>1</th>\n",
              "      <td>2</td>\n",
              "      <td>246060</td>\n",
              "      <td>81</td>\n",
              "      <td>77.0</td>\n",
              "      <td>27.4219</td>\n",
              "      <td>0</td>\n",
              "      <td>Caucasian</td>\n",
              "      <td>F</td>\n",
              "      <td>160.0</td>\n",
              "      <td>Floor</td>\n",
              "      <td>Floor</td>\n",
              "      <td>90</td>\n",
              "      <td>admit</td>\n",
              "      <td>Med-Surg ICU</td>\n",
              "      <td>0.927778</td>\n",
              "      <td>0</td>\n",
              "      <td>70.2</td>\n",
              "      <td>NaN</td>\n",
              "      <td>108.0</td>\n",
              "      <td>203.01</td>\n",
              "      <td>0</td>\n",
              "      <td>0</td>\n",
              "      <td>NaN</td>\n",
              "      <td>9.0</td>\n",
              "      <td>0.56</td>\n",
              "      <td>1.0</td>\n",
              "      <td>1.0</td>\n",
              "      <td>3.0</td>\n",
              "      <td>0.0</td>\n",
              "      <td>1.0</td>\n",
              "      <td>145.0</td>\n",
              "      <td>120.0</td>\n",
              "      <td>36.9</td>\n",
              "      <td>0</td>\n",
              "      <td>46.0</td>\n",
              "      <td>37.0</td>\n",
              "      <td>37.0</td>\n",
              "      <td>51.0</td>\n",
              "      <td>7.45</td>\n",
              "      <td>33.0</td>\n",
              "      <td>...</td>\n",
              "      <td>11.3</td>\n",
              "      <td>11.3</td>\n",
              "      <td>36.9</td>\n",
              "      <td>36.9</td>\n",
              "      <td>1.3</td>\n",
              "      <td>1.3</td>\n",
              "      <td>3.5</td>\n",
              "      <td>3.5</td>\n",
              "      <td>557.0</td>\n",
              "      <td>557.0</td>\n",
              "      <td>4.2</td>\n",
              "      <td>4.2</td>\n",
              "      <td>145.0</td>\n",
              "      <td>145.0</td>\n",
              "      <td>12.7</td>\n",
              "      <td>12.7</td>\n",
              "      <td>37.0</td>\n",
              "      <td>37.0</td>\n",
              "      <td>7.45</td>\n",
              "      <td>7.45</td>\n",
              "      <td>51.0</td>\n",
              "      <td>51.0</td>\n",
              "      <td>54.8</td>\n",
              "      <td>51.000000</td>\n",
              "      <td>37.0</td>\n",
              "      <td>37.0</td>\n",
              "      <td>7.45</td>\n",
              "      <td>7.45</td>\n",
              "      <td>51.0</td>\n",
              "      <td>51.0</td>\n",
              "      <td>51.0</td>\n",
              "      <td>51.0</td>\n",
              "      <td>0</td>\n",
              "      <td>0</td>\n",
              "      <td>0</td>\n",
              "      <td>0</td>\n",
              "      <td>0</td>\n",
              "      <td>0</td>\n",
              "      <td>0</td>\n",
              "      <td>1</td>\n",
              "    </tr>\n",
              "    <tr>\n",
              "      <th>2</th>\n",
              "      <td>3</td>\n",
              "      <td>276985</td>\n",
              "      <td>118</td>\n",
              "      <td>25.0</td>\n",
              "      <td>31.9527</td>\n",
              "      <td>0</td>\n",
              "      <td>Caucasian</td>\n",
              "      <td>F</td>\n",
              "      <td>172.7</td>\n",
              "      <td>Emergency Department</td>\n",
              "      <td>Accident &amp; Emergency</td>\n",
              "      <td>93</td>\n",
              "      <td>admit</td>\n",
              "      <td>Med-Surg ICU</td>\n",
              "      <td>0.000694</td>\n",
              "      <td>0</td>\n",
              "      <td>95.3</td>\n",
              "      <td>NaN</td>\n",
              "      <td>122.0</td>\n",
              "      <td>703.03</td>\n",
              "      <td>0</td>\n",
              "      <td>0</td>\n",
              "      <td>NaN</td>\n",
              "      <td>NaN</td>\n",
              "      <td>NaN</td>\n",
              "      <td>NaN</td>\n",
              "      <td>3.0</td>\n",
              "      <td>6.0</td>\n",
              "      <td>0.0</td>\n",
              "      <td>5.0</td>\n",
              "      <td>NaN</td>\n",
              "      <td>102.0</td>\n",
              "      <td>NaN</td>\n",
              "      <td>0</td>\n",
              "      <td>68.0</td>\n",
              "      <td>NaN</td>\n",
              "      <td>NaN</td>\n",
              "      <td>NaN</td>\n",
              "      <td>NaN</td>\n",
              "      <td>37.0</td>\n",
              "      <td>...</td>\n",
              "      <td>NaN</td>\n",
              "      <td>NaN</td>\n",
              "      <td>NaN</td>\n",
              "      <td>NaN</td>\n",
              "      <td>NaN</td>\n",
              "      <td>NaN</td>\n",
              "      <td>NaN</td>\n",
              "      <td>NaN</td>\n",
              "      <td>NaN</td>\n",
              "      <td>NaN</td>\n",
              "      <td>NaN</td>\n",
              "      <td>NaN</td>\n",
              "      <td>NaN</td>\n",
              "      <td>NaN</td>\n",
              "      <td>NaN</td>\n",
              "      <td>NaN</td>\n",
              "      <td>NaN</td>\n",
              "      <td>NaN</td>\n",
              "      <td>NaN</td>\n",
              "      <td>NaN</td>\n",
              "      <td>NaN</td>\n",
              "      <td>NaN</td>\n",
              "      <td>NaN</td>\n",
              "      <td>NaN</td>\n",
              "      <td>NaN</td>\n",
              "      <td>NaN</td>\n",
              "      <td>NaN</td>\n",
              "      <td>NaN</td>\n",
              "      <td>NaN</td>\n",
              "      <td>NaN</td>\n",
              "      <td>NaN</td>\n",
              "      <td>NaN</td>\n",
              "      <td>0</td>\n",
              "      <td>0</td>\n",
              "      <td>0</td>\n",
              "      <td>0</td>\n",
              "      <td>0</td>\n",
              "      <td>0</td>\n",
              "      <td>0</td>\n",
              "      <td>0</td>\n",
              "    </tr>\n",
              "    <tr>\n",
              "      <th>3</th>\n",
              "      <td>4</td>\n",
              "      <td>262220</td>\n",
              "      <td>118</td>\n",
              "      <td>81.0</td>\n",
              "      <td>22.6355</td>\n",
              "      <td>1</td>\n",
              "      <td>Caucasian</td>\n",
              "      <td>F</td>\n",
              "      <td>165.1</td>\n",
              "      <td>Operating Room</td>\n",
              "      <td>Operating Room / Recovery</td>\n",
              "      <td>92</td>\n",
              "      <td>admit</td>\n",
              "      <td>CTICU</td>\n",
              "      <td>0.000694</td>\n",
              "      <td>0</td>\n",
              "      <td>61.7</td>\n",
              "      <td>NaN</td>\n",
              "      <td>203.0</td>\n",
              "      <td>1206.03</td>\n",
              "      <td>1</td>\n",
              "      <td>0</td>\n",
              "      <td>NaN</td>\n",
              "      <td>NaN</td>\n",
              "      <td>NaN</td>\n",
              "      <td>0.6</td>\n",
              "      <td>4.0</td>\n",
              "      <td>6.0</td>\n",
              "      <td>0.0</td>\n",
              "      <td>5.0</td>\n",
              "      <td>185.0</td>\n",
              "      <td>114.0</td>\n",
              "      <td>25.9</td>\n",
              "      <td>1</td>\n",
              "      <td>60.0</td>\n",
              "      <td>30.0</td>\n",
              "      <td>30.0</td>\n",
              "      <td>142.0</td>\n",
              "      <td>7.39</td>\n",
              "      <td>4.0</td>\n",
              "      <td>...</td>\n",
              "      <td>11.6</td>\n",
              "      <td>11.6</td>\n",
              "      <td>34.0</td>\n",
              "      <td>34.0</td>\n",
              "      <td>1.6</td>\n",
              "      <td>1.1</td>\n",
              "      <td>NaN</td>\n",
              "      <td>NaN</td>\n",
              "      <td>43.0</td>\n",
              "      <td>43.0</td>\n",
              "      <td>NaN</td>\n",
              "      <td>NaN</td>\n",
              "      <td>NaN</td>\n",
              "      <td>NaN</td>\n",
              "      <td>8.8</td>\n",
              "      <td>8.8</td>\n",
              "      <td>37.0</td>\n",
              "      <td>27.0</td>\n",
              "      <td>7.44</td>\n",
              "      <td>7.34</td>\n",
              "      <td>337.0</td>\n",
              "      <td>102.0</td>\n",
              "      <td>342.5</td>\n",
              "      <td>236.666667</td>\n",
              "      <td>36.0</td>\n",
              "      <td>33.0</td>\n",
              "      <td>7.37</td>\n",
              "      <td>7.34</td>\n",
              "      <td>337.0</td>\n",
              "      <td>265.0</td>\n",
              "      <td>337.0</td>\n",
              "      <td>337.0</td>\n",
              "      <td>0</td>\n",
              "      <td>0</td>\n",
              "      <td>0</td>\n",
              "      <td>0</td>\n",
              "      <td>0</td>\n",
              "      <td>0</td>\n",
              "      <td>0</td>\n",
              "      <td>0</td>\n",
              "    </tr>\n",
              "    <tr>\n",
              "      <th>4</th>\n",
              "      <td>5</td>\n",
              "      <td>201746</td>\n",
              "      <td>33</td>\n",
              "      <td>19.0</td>\n",
              "      <td>None</td>\n",
              "      <td>0</td>\n",
              "      <td>Caucasian</td>\n",
              "      <td>M</td>\n",
              "      <td>188.0</td>\n",
              "      <td>NaN</td>\n",
              "      <td>Accident &amp; Emergency</td>\n",
              "      <td>91</td>\n",
              "      <td>admit</td>\n",
              "      <td>Med-Surg ICU</td>\n",
              "      <td>0.073611</td>\n",
              "      <td>0</td>\n",
              "      <td>NaN</td>\n",
              "      <td>NaN</td>\n",
              "      <td>119.0</td>\n",
              "      <td>601.01</td>\n",
              "      <td>0</td>\n",
              "      <td>0</td>\n",
              "      <td>NaN</td>\n",
              "      <td>NaN</td>\n",
              "      <td>NaN</td>\n",
              "      <td>NaN</td>\n",
              "      <td>NaN</td>\n",
              "      <td>NaN</td>\n",
              "      <td>NaN</td>\n",
              "      <td>NaN</td>\n",
              "      <td>NaN</td>\n",
              "      <td>60.0</td>\n",
              "      <td>NaN</td>\n",
              "      <td>0</td>\n",
              "      <td>103.0</td>\n",
              "      <td>NaN</td>\n",
              "      <td>NaN</td>\n",
              "      <td>NaN</td>\n",
              "      <td>NaN</td>\n",
              "      <td>16.0</td>\n",
              "      <td>...</td>\n",
              "      <td>NaN</td>\n",
              "      <td>NaN</td>\n",
              "      <td>NaN</td>\n",
              "      <td>NaN</td>\n",
              "      <td>NaN</td>\n",
              "      <td>NaN</td>\n",
              "      <td>NaN</td>\n",
              "      <td>NaN</td>\n",
              "      <td>NaN</td>\n",
              "      <td>NaN</td>\n",
              "      <td>NaN</td>\n",
              "      <td>NaN</td>\n",
              "      <td>NaN</td>\n",
              "      <td>NaN</td>\n",
              "      <td>NaN</td>\n",
              "      <td>NaN</td>\n",
              "      <td>NaN</td>\n",
              "      <td>NaN</td>\n",
              "      <td>NaN</td>\n",
              "      <td>NaN</td>\n",
              "      <td>NaN</td>\n",
              "      <td>NaN</td>\n",
              "      <td>NaN</td>\n",
              "      <td>NaN</td>\n",
              "      <td>NaN</td>\n",
              "      <td>NaN</td>\n",
              "      <td>NaN</td>\n",
              "      <td>NaN</td>\n",
              "      <td>NaN</td>\n",
              "      <td>NaN</td>\n",
              "      <td>NaN</td>\n",
              "      <td>NaN</td>\n",
              "      <td>0</td>\n",
              "      <td>0</td>\n",
              "      <td>0</td>\n",
              "      <td>0</td>\n",
              "      <td>0</td>\n",
              "      <td>0</td>\n",
              "      <td>0</td>\n",
              "      <td>0</td>\n",
              "    </tr>\n",
              "    <tr>\n",
              "      <th>5</th>\n",
              "      <td>6</td>\n",
              "      <td>182697</td>\n",
              "      <td>83</td>\n",
              "      <td>67.0</td>\n",
              "      <td>27.5556</td>\n",
              "      <td>0</td>\n",
              "      <td>Caucasian</td>\n",
              "      <td>M</td>\n",
              "      <td>190.5</td>\n",
              "      <td>Direct Admit</td>\n",
              "      <td>Accident &amp; Emergency</td>\n",
              "      <td>95</td>\n",
              "      <td>admit</td>\n",
              "      <td>Med-Surg ICU</td>\n",
              "      <td>0.000694</td>\n",
              "      <td>0</td>\n",
              "      <td>100.0</td>\n",
              "      <td>NaN</td>\n",
              "      <td>301.0</td>\n",
              "      <td>403.01</td>\n",
              "      <td>0</td>\n",
              "      <td>0</td>\n",
              "      <td>NaN</td>\n",
              "      <td>13.0</td>\n",
              "      <td>0.71</td>\n",
              "      <td>NaN</td>\n",
              "      <td>4.0</td>\n",
              "      <td>6.0</td>\n",
              "      <td>0.0</td>\n",
              "      <td>5.0</td>\n",
              "      <td>156.0</td>\n",
              "      <td>113.0</td>\n",
              "      <td>44.2</td>\n",
              "      <td>0</td>\n",
              "      <td>130.0</td>\n",
              "      <td>NaN</td>\n",
              "      <td>NaN</td>\n",
              "      <td>NaN</td>\n",
              "      <td>NaN</td>\n",
              "      <td>35.0</td>\n",
              "      <td>...</td>\n",
              "      <td>NaN</td>\n",
              "      <td>NaN</td>\n",
              "      <td>NaN</td>\n",
              "      <td>NaN</td>\n",
              "      <td>1.1</td>\n",
              "      <td>1.1</td>\n",
              "      <td>NaN</td>\n",
              "      <td>NaN</td>\n",
              "      <td>NaN</td>\n",
              "      <td>NaN</td>\n",
              "      <td>NaN</td>\n",
              "      <td>NaN</td>\n",
              "      <td>NaN</td>\n",
              "      <td>NaN</td>\n",
              "      <td>NaN</td>\n",
              "      <td>NaN</td>\n",
              "      <td>NaN</td>\n",
              "      <td>NaN</td>\n",
              "      <td>NaN</td>\n",
              "      <td>NaN</td>\n",
              "      <td>NaN</td>\n",
              "      <td>NaN</td>\n",
              "      <td>NaN</td>\n",
              "      <td>NaN</td>\n",
              "      <td>NaN</td>\n",
              "      <td>NaN</td>\n",
              "      <td>NaN</td>\n",
              "      <td>NaN</td>\n",
              "      <td>NaN</td>\n",
              "      <td>NaN</td>\n",
              "      <td>NaN</td>\n",
              "      <td>NaN</td>\n",
              "      <td>0</td>\n",
              "      <td>0</td>\n",
              "      <td>0</td>\n",
              "      <td>0</td>\n",
              "      <td>0</td>\n",
              "      <td>0</td>\n",
              "      <td>0</td>\n",
              "      <td>1</td>\n",
              "    </tr>\n",
              "    <tr>\n",
              "      <th>6</th>\n",
              "      <td>7</td>\n",
              "      <td>195124</td>\n",
              "      <td>83</td>\n",
              "      <td>59.0</td>\n",
              "      <td>57.451</td>\n",
              "      <td>0</td>\n",
              "      <td>Caucasian</td>\n",
              "      <td>F</td>\n",
              "      <td>165.1</td>\n",
              "      <td>Operating Room</td>\n",
              "      <td>Accident &amp; Emergency</td>\n",
              "      <td>95</td>\n",
              "      <td>admit</td>\n",
              "      <td>Med-Surg ICU</td>\n",
              "      <td>0.000694</td>\n",
              "      <td>0</td>\n",
              "      <td>156.6</td>\n",
              "      <td>NaN</td>\n",
              "      <td>108.0</td>\n",
              "      <td>203.01</td>\n",
              "      <td>0</td>\n",
              "      <td>0</td>\n",
              "      <td>NaN</td>\n",
              "      <td>18.0</td>\n",
              "      <td>0.78</td>\n",
              "      <td>1.0</td>\n",
              "      <td>4.0</td>\n",
              "      <td>6.0</td>\n",
              "      <td>0.0</td>\n",
              "      <td>5.0</td>\n",
              "      <td>197.0</td>\n",
              "      <td>133.0</td>\n",
              "      <td>33.5</td>\n",
              "      <td>1</td>\n",
              "      <td>138.0</td>\n",
              "      <td>43.0</td>\n",
              "      <td>43.0</td>\n",
              "      <td>370.0</td>\n",
              "      <td>7.42</td>\n",
              "      <td>53.0</td>\n",
              "      <td>...</td>\n",
              "      <td>10.7</td>\n",
              "      <td>10.7</td>\n",
              "      <td>33.5</td>\n",
              "      <td>33.5</td>\n",
              "      <td>NaN</td>\n",
              "      <td>NaN</td>\n",
              "      <td>NaN</td>\n",
              "      <td>NaN</td>\n",
              "      <td>278.0</td>\n",
              "      <td>278.0</td>\n",
              "      <td>4.2</td>\n",
              "      <td>4.2</td>\n",
              "      <td>135.0</td>\n",
              "      <td>135.0</td>\n",
              "      <td>5.9</td>\n",
              "      <td>5.9</td>\n",
              "      <td>43.0</td>\n",
              "      <td>43.0</td>\n",
              "      <td>7.42</td>\n",
              "      <td>7.42</td>\n",
              "      <td>370.0</td>\n",
              "      <td>370.0</td>\n",
              "      <td>370.0</td>\n",
              "      <td>370.000000</td>\n",
              "      <td>43.0</td>\n",
              "      <td>43.0</td>\n",
              "      <td>7.42</td>\n",
              "      <td>7.42</td>\n",
              "      <td>370.0</td>\n",
              "      <td>370.0</td>\n",
              "      <td>370.0</td>\n",
              "      <td>370.0</td>\n",
              "      <td>0</td>\n",
              "      <td>0</td>\n",
              "      <td>0</td>\n",
              "      <td>0</td>\n",
              "      <td>0</td>\n",
              "      <td>0</td>\n",
              "      <td>0</td>\n",
              "      <td>1</td>\n",
              "    </tr>\n",
              "    <tr>\n",
              "      <th>7</th>\n",
              "      <td>8</td>\n",
              "      <td>179261</td>\n",
              "      <td>33</td>\n",
              "      <td>70.0</td>\n",
              "      <td>None</td>\n",
              "      <td>0</td>\n",
              "      <td>Caucasian</td>\n",
              "      <td>M</td>\n",
              "      <td>165.0</td>\n",
              "      <td>Emergency Department</td>\n",
              "      <td>Accident &amp; Emergency</td>\n",
              "      <td>91</td>\n",
              "      <td>admit</td>\n",
              "      <td>Med-Surg ICU</td>\n",
              "      <td>0.002083</td>\n",
              "      <td>0</td>\n",
              "      <td>NaN</td>\n",
              "      <td>NaN</td>\n",
              "      <td>113.0</td>\n",
              "      <td>501.05</td>\n",
              "      <td>0</td>\n",
              "      <td>0</td>\n",
              "      <td>NaN</td>\n",
              "      <td>48.0</td>\n",
              "      <td>2.05</td>\n",
              "      <td>NaN</td>\n",
              "      <td>4.0</td>\n",
              "      <td>6.0</td>\n",
              "      <td>0.0</td>\n",
              "      <td>5.0</td>\n",
              "      <td>164.0</td>\n",
              "      <td>120.0</td>\n",
              "      <td>22.6</td>\n",
              "      <td>0</td>\n",
              "      <td>60.0</td>\n",
              "      <td>NaN</td>\n",
              "      <td>NaN</td>\n",
              "      <td>NaN</td>\n",
              "      <td>NaN</td>\n",
              "      <td>28.0</td>\n",
              "      <td>...</td>\n",
              "      <td>NaN</td>\n",
              "      <td>NaN</td>\n",
              "      <td>NaN</td>\n",
              "      <td>NaN</td>\n",
              "      <td>NaN</td>\n",
              "      <td>NaN</td>\n",
              "      <td>NaN</td>\n",
              "      <td>NaN</td>\n",
              "      <td>NaN</td>\n",
              "      <td>NaN</td>\n",
              "      <td>NaN</td>\n",
              "      <td>NaN</td>\n",
              "      <td>NaN</td>\n",
              "      <td>NaN</td>\n",
              "      <td>NaN</td>\n",
              "      <td>NaN</td>\n",
              "      <td>43.0</td>\n",
              "      <td>43.0</td>\n",
              "      <td>7.38</td>\n",
              "      <td>7.38</td>\n",
              "      <td>89.0</td>\n",
              "      <td>89.0</td>\n",
              "      <td>NaN</td>\n",
              "      <td>NaN</td>\n",
              "      <td>NaN</td>\n",
              "      <td>NaN</td>\n",
              "      <td>NaN</td>\n",
              "      <td>NaN</td>\n",
              "      <td>NaN</td>\n",
              "      <td>NaN</td>\n",
              "      <td>NaN</td>\n",
              "      <td>NaN</td>\n",
              "      <td>0</td>\n",
              "      <td>0</td>\n",
              "      <td>0</td>\n",
              "      <td>1</td>\n",
              "      <td>0</td>\n",
              "      <td>0</td>\n",
              "      <td>0</td>\n",
              "      <td>0</td>\n",
              "    </tr>\n",
              "    <tr>\n",
              "      <th>8</th>\n",
              "      <td>9</td>\n",
              "      <td>271041</td>\n",
              "      <td>118</td>\n",
              "      <td>45.0</td>\n",
              "      <td>None</td>\n",
              "      <td>0</td>\n",
              "      <td>Caucasian</td>\n",
              "      <td>M</td>\n",
              "      <td>170.2</td>\n",
              "      <td>Other Hospital</td>\n",
              "      <td>Other Hospital</td>\n",
              "      <td>114</td>\n",
              "      <td>admit</td>\n",
              "      <td>CCU-CTICU</td>\n",
              "      <td>0.009028</td>\n",
              "      <td>0</td>\n",
              "      <td>NaN</td>\n",
              "      <td>2.7</td>\n",
              "      <td>116.0</td>\n",
              "      <td>103.01</td>\n",
              "      <td>0</td>\n",
              "      <td>0</td>\n",
              "      <td>0.2</td>\n",
              "      <td>15.0</td>\n",
              "      <td>1.16</td>\n",
              "      <td>1.0</td>\n",
              "      <td>4.0</td>\n",
              "      <td>6.0</td>\n",
              "      <td>0.0</td>\n",
              "      <td>5.0</td>\n",
              "      <td>380.0</td>\n",
              "      <td>82.0</td>\n",
              "      <td>37.9</td>\n",
              "      <td>0</td>\n",
              "      <td>66.0</td>\n",
              "      <td>60.0</td>\n",
              "      <td>60.0</td>\n",
              "      <td>92.0</td>\n",
              "      <td>7.14</td>\n",
              "      <td>14.0</td>\n",
              "      <td>...</td>\n",
              "      <td>12.3</td>\n",
              "      <td>12.3</td>\n",
              "      <td>37.9</td>\n",
              "      <td>37.9</td>\n",
              "      <td>1.2</td>\n",
              "      <td>1.2</td>\n",
              "      <td>5.9</td>\n",
              "      <td>5.9</td>\n",
              "      <td>226.0</td>\n",
              "      <td>226.0</td>\n",
              "      <td>5.2</td>\n",
              "      <td>5.2</td>\n",
              "      <td>142.0</td>\n",
              "      <td>142.0</td>\n",
              "      <td>24.7</td>\n",
              "      <td>24.7</td>\n",
              "      <td>60.0</td>\n",
              "      <td>33.0</td>\n",
              "      <td>7.62</td>\n",
              "      <td>6.99</td>\n",
              "      <td>256.0</td>\n",
              "      <td>92.0</td>\n",
              "      <td>92.0</td>\n",
              "      <td>92.000000</td>\n",
              "      <td>60.0</td>\n",
              "      <td>60.0</td>\n",
              "      <td>7.14</td>\n",
              "      <td>7.14</td>\n",
              "      <td>92.0</td>\n",
              "      <td>92.0</td>\n",
              "      <td>92.0</td>\n",
              "      <td>92.0</td>\n",
              "      <td>0</td>\n",
              "      <td>0</td>\n",
              "      <td>0</td>\n",
              "      <td>0</td>\n",
              "      <td>0</td>\n",
              "      <td>0</td>\n",
              "      <td>0</td>\n",
              "      <td>0</td>\n",
              "    </tr>\n",
              "    <tr>\n",
              "      <th>9</th>\n",
              "      <td>10</td>\n",
              "      <td>238874</td>\n",
              "      <td>118</td>\n",
              "      <td>50.0</td>\n",
              "      <td>25.7077</td>\n",
              "      <td>0</td>\n",
              "      <td>Caucasian</td>\n",
              "      <td>M</td>\n",
              "      <td>175.3</td>\n",
              "      <td>Direct Admit</td>\n",
              "      <td>Accident &amp; Emergency</td>\n",
              "      <td>114</td>\n",
              "      <td>admit</td>\n",
              "      <td>CCU-CTICU</td>\n",
              "      <td>0.060417</td>\n",
              "      <td>0</td>\n",
              "      <td>79.0</td>\n",
              "      <td>3.6</td>\n",
              "      <td>112.0</td>\n",
              "      <td>107.01</td>\n",
              "      <td>0</td>\n",
              "      <td>0</td>\n",
              "      <td>0.4</td>\n",
              "      <td>10.0</td>\n",
              "      <td>0.83</td>\n",
              "      <td>NaN</td>\n",
              "      <td>4.0</td>\n",
              "      <td>6.0</td>\n",
              "      <td>0.0</td>\n",
              "      <td>5.0</td>\n",
              "      <td>134.0</td>\n",
              "      <td>94.0</td>\n",
              "      <td>37.2</td>\n",
              "      <td>0</td>\n",
              "      <td>58.0</td>\n",
              "      <td>NaN</td>\n",
              "      <td>NaN</td>\n",
              "      <td>NaN</td>\n",
              "      <td>NaN</td>\n",
              "      <td>46.0</td>\n",
              "      <td>...</td>\n",
              "      <td>12.8</td>\n",
              "      <td>12.8</td>\n",
              "      <td>37.2</td>\n",
              "      <td>37.2</td>\n",
              "      <td>NaN</td>\n",
              "      <td>NaN</td>\n",
              "      <td>NaN</td>\n",
              "      <td>NaN</td>\n",
              "      <td>232.0</td>\n",
              "      <td>232.0</td>\n",
              "      <td>3.3</td>\n",
              "      <td>3.3</td>\n",
              "      <td>139.0</td>\n",
              "      <td>139.0</td>\n",
              "      <td>12.8</td>\n",
              "      <td>12.8</td>\n",
              "      <td>NaN</td>\n",
              "      <td>NaN</td>\n",
              "      <td>NaN</td>\n",
              "      <td>NaN</td>\n",
              "      <td>NaN</td>\n",
              "      <td>NaN</td>\n",
              "      <td>NaN</td>\n",
              "      <td>NaN</td>\n",
              "      <td>NaN</td>\n",
              "      <td>NaN</td>\n",
              "      <td>NaN</td>\n",
              "      <td>NaN</td>\n",
              "      <td>NaN</td>\n",
              "      <td>NaN</td>\n",
              "      <td>NaN</td>\n",
              "      <td>NaN</td>\n",
              "      <td>0</td>\n",
              "      <td>0</td>\n",
              "      <td>0</td>\n",
              "      <td>0</td>\n",
              "      <td>0</td>\n",
              "      <td>0</td>\n",
              "      <td>0</td>\n",
              "      <td>0</td>\n",
              "    </tr>\n",
              "    <tr>\n",
              "      <th>10</th>\n",
              "      <td>11</td>\n",
              "      <td>260801</td>\n",
              "      <td>77</td>\n",
              "      <td>72.0</td>\n",
              "      <td>28.2571</td>\n",
              "      <td>1</td>\n",
              "      <td>Hispanic</td>\n",
              "      <td>F</td>\n",
              "      <td>154.9</td>\n",
              "      <td>Operating Room</td>\n",
              "      <td>Operating Room / Recovery</td>\n",
              "      <td>113</td>\n",
              "      <td>admit</td>\n",
              "      <td>Med-Surg ICU</td>\n",
              "      <td>0.004861</td>\n",
              "      <td>0</td>\n",
              "      <td>67.8</td>\n",
              "      <td>NaN</td>\n",
              "      <td>303.0</td>\n",
              "      <td>1304.08</td>\n",
              "      <td>1</td>\n",
              "      <td>0</td>\n",
              "      <td>NaN</td>\n",
              "      <td>NaN</td>\n",
              "      <td>NaN</td>\n",
              "      <td>NaN</td>\n",
              "      <td>4.0</td>\n",
              "      <td>6.0</td>\n",
              "      <td>0.0</td>\n",
              "      <td>5.0</td>\n",
              "      <td>NaN</td>\n",
              "      <td>101.0</td>\n",
              "      <td>NaN</td>\n",
              "      <td>0</td>\n",
              "      <td>72.0</td>\n",
              "      <td>NaN</td>\n",
              "      <td>NaN</td>\n",
              "      <td>NaN</td>\n",
              "      <td>NaN</td>\n",
              "      <td>15.0</td>\n",
              "      <td>...</td>\n",
              "      <td>NaN</td>\n",
              "      <td>NaN</td>\n",
              "      <td>NaN</td>\n",
              "      <td>NaN</td>\n",
              "      <td>NaN</td>\n",
              "      <td>NaN</td>\n",
              "      <td>NaN</td>\n",
              "      <td>NaN</td>\n",
              "      <td>NaN</td>\n",
              "      <td>NaN</td>\n",
              "      <td>NaN</td>\n",
              "      <td>NaN</td>\n",
              "      <td>NaN</td>\n",
              "      <td>NaN</td>\n",
              "      <td>NaN</td>\n",
              "      <td>NaN</td>\n",
              "      <td>NaN</td>\n",
              "      <td>NaN</td>\n",
              "      <td>NaN</td>\n",
              "      <td>NaN</td>\n",
              "      <td>NaN</td>\n",
              "      <td>NaN</td>\n",
              "      <td>NaN</td>\n",
              "      <td>NaN</td>\n",
              "      <td>NaN</td>\n",
              "      <td>NaN</td>\n",
              "      <td>NaN</td>\n",
              "      <td>NaN</td>\n",
              "      <td>NaN</td>\n",
              "      <td>NaN</td>\n",
              "      <td>NaN</td>\n",
              "      <td>NaN</td>\n",
              "      <td>0</td>\n",
              "      <td>0</td>\n",
              "      <td>0</td>\n",
              "      <td>1</td>\n",
              "      <td>0</td>\n",
              "      <td>0</td>\n",
              "      <td>0</td>\n",
              "      <td>0</td>\n",
              "    </tr>\n",
              "    <tr>\n",
              "      <th>11</th>\n",
              "      <td>12</td>\n",
              "      <td>268720</td>\n",
              "      <td>83</td>\n",
              "      <td>80.0</td>\n",
              "      <td>27.3828</td>\n",
              "      <td>1</td>\n",
              "      <td>Caucasian</td>\n",
              "      <td>F</td>\n",
              "      <td>160.0</td>\n",
              "      <td>Operating Room</td>\n",
              "      <td>Operating Room / Recovery</td>\n",
              "      <td>95</td>\n",
              "      <td>admit</td>\n",
              "      <td>Med-Surg ICU</td>\n",
              "      <td>1.271528</td>\n",
              "      <td>0</td>\n",
              "      <td>70.1</td>\n",
              "      <td>NaN</td>\n",
              "      <td>218.0</td>\n",
              "      <td>1505.02</td>\n",
              "      <td>1</td>\n",
              "      <td>0</td>\n",
              "      <td>NaN</td>\n",
              "      <td>29.0</td>\n",
              "      <td>1.72</td>\n",
              "      <td>NaN</td>\n",
              "      <td>4.0</td>\n",
              "      <td>6.0</td>\n",
              "      <td>0.0</td>\n",
              "      <td>4.0</td>\n",
              "      <td>123.0</td>\n",
              "      <td>95.0</td>\n",
              "      <td>NaN</td>\n",
              "      <td>0</td>\n",
              "      <td>67.0</td>\n",
              "      <td>NaN</td>\n",
              "      <td>NaN</td>\n",
              "      <td>NaN</td>\n",
              "      <td>NaN</td>\n",
              "      <td>24.0</td>\n",
              "      <td>...</td>\n",
              "      <td>NaN</td>\n",
              "      <td>NaN</td>\n",
              "      <td>NaN</td>\n",
              "      <td>NaN</td>\n",
              "      <td>NaN</td>\n",
              "      <td>NaN</td>\n",
              "      <td>NaN</td>\n",
              "      <td>NaN</td>\n",
              "      <td>NaN</td>\n",
              "      <td>NaN</td>\n",
              "      <td>NaN</td>\n",
              "      <td>NaN</td>\n",
              "      <td>NaN</td>\n",
              "      <td>NaN</td>\n",
              "      <td>NaN</td>\n",
              "      <td>NaN</td>\n",
              "      <td>NaN</td>\n",
              "      <td>NaN</td>\n",
              "      <td>NaN</td>\n",
              "      <td>NaN</td>\n",
              "      <td>NaN</td>\n",
              "      <td>NaN</td>\n",
              "      <td>NaN</td>\n",
              "      <td>NaN</td>\n",
              "      <td>NaN</td>\n",
              "      <td>NaN</td>\n",
              "      <td>NaN</td>\n",
              "      <td>NaN</td>\n",
              "      <td>NaN</td>\n",
              "      <td>NaN</td>\n",
              "      <td>NaN</td>\n",
              "      <td>NaN</td>\n",
              "      <td>0</td>\n",
              "      <td>0</td>\n",
              "      <td>0</td>\n",
              "      <td>0</td>\n",
              "      <td>1</td>\n",
              "      <td>0</td>\n",
              "      <td>0</td>\n",
              "      <td>0</td>\n",
              "    </tr>\n",
              "    <tr>\n",
              "      <th>12</th>\n",
              "      <td>13</td>\n",
              "      <td>203469</td>\n",
              "      <td>118</td>\n",
              "      <td>48.0</td>\n",
              "      <td>None</td>\n",
              "      <td>0</td>\n",
              "      <td>Caucasian</td>\n",
              "      <td>M</td>\n",
              "      <td>175.3</td>\n",
              "      <td>Emergency Department</td>\n",
              "      <td>Accident &amp; Emergency</td>\n",
              "      <td>102</td>\n",
              "      <td>admit</td>\n",
              "      <td>Neuro ICU</td>\n",
              "      <td>0.020833</td>\n",
              "      <td>0</td>\n",
              "      <td>NaN</td>\n",
              "      <td>NaN</td>\n",
              "      <td>301.0</td>\n",
              "      <td>403.01</td>\n",
              "      <td>0</td>\n",
              "      <td>0</td>\n",
              "      <td>NaN</td>\n",
              "      <td>NaN</td>\n",
              "      <td>NaN</td>\n",
              "      <td>NaN</td>\n",
              "      <td>4.0</td>\n",
              "      <td>6.0</td>\n",
              "      <td>0.0</td>\n",
              "      <td>5.0</td>\n",
              "      <td>98.0</td>\n",
              "      <td>106.0</td>\n",
              "      <td>NaN</td>\n",
              "      <td>0</td>\n",
              "      <td>140.0</td>\n",
              "      <td>NaN</td>\n",
              "      <td>NaN</td>\n",
              "      <td>NaN</td>\n",
              "      <td>NaN</td>\n",
              "      <td>28.0</td>\n",
              "      <td>...</td>\n",
              "      <td>NaN</td>\n",
              "      <td>NaN</td>\n",
              "      <td>NaN</td>\n",
              "      <td>NaN</td>\n",
              "      <td>NaN</td>\n",
              "      <td>NaN</td>\n",
              "      <td>NaN</td>\n",
              "      <td>NaN</td>\n",
              "      <td>NaN</td>\n",
              "      <td>NaN</td>\n",
              "      <td>NaN</td>\n",
              "      <td>NaN</td>\n",
              "      <td>NaN</td>\n",
              "      <td>NaN</td>\n",
              "      <td>NaN</td>\n",
              "      <td>NaN</td>\n",
              "      <td>NaN</td>\n",
              "      <td>NaN</td>\n",
              "      <td>NaN</td>\n",
              "      <td>NaN</td>\n",
              "      <td>NaN</td>\n",
              "      <td>NaN</td>\n",
              "      <td>NaN</td>\n",
              "      <td>NaN</td>\n",
              "      <td>NaN</td>\n",
              "      <td>NaN</td>\n",
              "      <td>NaN</td>\n",
              "      <td>NaN</td>\n",
              "      <td>NaN</td>\n",
              "      <td>NaN</td>\n",
              "      <td>NaN</td>\n",
              "      <td>NaN</td>\n",
              "      <td>0</td>\n",
              "      <td>0</td>\n",
              "      <td>0</td>\n",
              "      <td>0</td>\n",
              "      <td>0</td>\n",
              "      <td>0</td>\n",
              "      <td>0</td>\n",
              "      <td>0</td>\n",
              "    </tr>\n",
              "  </tbody>\n",
              "</table>\n",
              "<p>13 rows × 181 columns</p>\n",
              "</div>"
            ],
            "text/plain": [
              "    Unnamed: 0  encounter_id  ...  solid_tumor_with_metastasis  diabetes_mellitus\n",
              "0            1        214826  ...                            0                  1\n",
              "1            2        246060  ...                            0                  1\n",
              "2            3        276985  ...                            0                  0\n",
              "3            4        262220  ...                            0                  0\n",
              "4            5        201746  ...                            0                  0\n",
              "5            6        182697  ...                            0                  1\n",
              "6            7        195124  ...                            0                  1\n",
              "7            8        179261  ...                            0                  0\n",
              "8            9        271041  ...                            0                  0\n",
              "9           10        238874  ...                            0                  0\n",
              "10          11        260801  ...                            0                  0\n",
              "11          12        268720  ...                            0                  0\n",
              "12          13        203469  ...                            0                  0\n",
              "\n",
              "[13 rows x 181 columns]"
            ]
          },
          "metadata": {
            "tags": []
          },
          "execution_count": 15
        }
      ]
    },
    {
      "cell_type": "markdown",
      "metadata": {
        "id": "bvFLGxBcsZPo"
      },
      "source": [
        "**Contagem de dados faltantes na variável gender e substituindo pela maioria**"
      ]
    },
    {
      "cell_type": "code",
      "metadata": {
        "colab": {
          "base_uri": "https://localhost:8080/"
        },
        "id": "IzFKl7PSsBVC",
        "outputId": "4f98a56a-ae53-45f0-c38a-47ac50ef98c8"
      },
      "source": [
        "# Verificando os dados faltantes em cada coluna que não foi visualizada anteriormente\r\n",
        "df['gender'].isnull().sum()"
      ],
      "execution_count": null,
      "outputs": [
        {
          "output_type": "execute_result",
          "data": {
            "text/plain": [
              "66"
            ]
          },
          "metadata": {
            "tags": []
          },
          "execution_count": 16
        }
      ]
    },
    {
      "cell_type": "code",
      "metadata": {
        "colab": {
          "base_uri": "https://localhost:8080/"
        },
        "id": "o5aMaTWesm-L",
        "outputId": "53776663-52e9-4901-d475-c645888615d7"
      },
      "source": [
        "# Quantidade de cada um dos gêneros na pesquisa\r\n",
        "gender_text = df['gender']\r\n",
        "counter1 = Counter(gender_text)\r\n",
        "print(counter1)"
      ],
      "execution_count": null,
      "outputs": [
        {
          "output_type": "stream",
          "text": [
            "Counter({'M': 70518, 'F': 59573, nan: 66})\n"
          ],
          "name": "stdout"
        }
      ]
    },
    {
      "cell_type": "code",
      "metadata": {
        "colab": {
          "base_uri": "https://localhost:8080/",
          "height": 578
        },
        "id": "MRjNa_4ktPtp",
        "outputId": "ea77ceee-9c61-462f-e00a-c3f7bde22fc5"
      },
      "source": [
        "# Como a maioria dos gêneros são masculinos vamos substituir os valores nulos por M\r\n",
        "df['gender'].fillna('M', inplace = True)\r\n",
        "df.head(10)"
      ],
      "execution_count": null,
      "outputs": [
        {
          "output_type": "execute_result",
          "data": {
            "text/html": [
              "<div>\n",
              "<style scoped>\n",
              "    .dataframe tbody tr th:only-of-type {\n",
              "        vertical-align: middle;\n",
              "    }\n",
              "\n",
              "    .dataframe tbody tr th {\n",
              "        vertical-align: top;\n",
              "    }\n",
              "\n",
              "    .dataframe thead th {\n",
              "        text-align: right;\n",
              "    }\n",
              "</style>\n",
              "<table border=\"1\" class=\"dataframe\">\n",
              "  <thead>\n",
              "    <tr style=\"text-align: right;\">\n",
              "      <th></th>\n",
              "      <th>Unnamed: 0</th>\n",
              "      <th>encounter_id</th>\n",
              "      <th>hospital_id</th>\n",
              "      <th>age</th>\n",
              "      <th>bmi</th>\n",
              "      <th>elective_surgery</th>\n",
              "      <th>ethnicity</th>\n",
              "      <th>gender</th>\n",
              "      <th>height</th>\n",
              "      <th>hospital_admit_source</th>\n",
              "      <th>icu_admit_source</th>\n",
              "      <th>icu_id</th>\n",
              "      <th>icu_stay_type</th>\n",
              "      <th>icu_type</th>\n",
              "      <th>pre_icu_los_days</th>\n",
              "      <th>readmission_status</th>\n",
              "      <th>weight</th>\n",
              "      <th>albumin_apache</th>\n",
              "      <th>apache_2_diagnosis</th>\n",
              "      <th>apache_3j_diagnosis</th>\n",
              "      <th>apache_post_operative</th>\n",
              "      <th>arf_apache</th>\n",
              "      <th>bilirubin_apache</th>\n",
              "      <th>bun_apache</th>\n",
              "      <th>creatinine_apache</th>\n",
              "      <th>fio2_apache</th>\n",
              "      <th>gcs_eyes_apache</th>\n",
              "      <th>gcs_motor_apache</th>\n",
              "      <th>gcs_unable_apache</th>\n",
              "      <th>gcs_verbal_apache</th>\n",
              "      <th>glucose_apache</th>\n",
              "      <th>heart_rate_apache</th>\n",
              "      <th>hematocrit_apache</th>\n",
              "      <th>intubated_apache</th>\n",
              "      <th>map_apache</th>\n",
              "      <th>paco2_apache</th>\n",
              "      <th>paco2_for_ph_apache</th>\n",
              "      <th>pao2_apache</th>\n",
              "      <th>ph_apache</th>\n",
              "      <th>resprate_apache</th>\n",
              "      <th>...</th>\n",
              "      <th>h1_hemaglobin_max</th>\n",
              "      <th>h1_hemaglobin_min</th>\n",
              "      <th>h1_hematocrit_max</th>\n",
              "      <th>h1_hematocrit_min</th>\n",
              "      <th>h1_inr_max</th>\n",
              "      <th>h1_inr_min</th>\n",
              "      <th>h1_lactate_max</th>\n",
              "      <th>h1_lactate_min</th>\n",
              "      <th>h1_platelets_max</th>\n",
              "      <th>h1_platelets_min</th>\n",
              "      <th>h1_potassium_max</th>\n",
              "      <th>h1_potassium_min</th>\n",
              "      <th>h1_sodium_max</th>\n",
              "      <th>h1_sodium_min</th>\n",
              "      <th>h1_wbc_max</th>\n",
              "      <th>h1_wbc_min</th>\n",
              "      <th>d1_arterial_pco2_max</th>\n",
              "      <th>d1_arterial_pco2_min</th>\n",
              "      <th>d1_arterial_ph_max</th>\n",
              "      <th>d1_arterial_ph_min</th>\n",
              "      <th>d1_arterial_po2_max</th>\n",
              "      <th>d1_arterial_po2_min</th>\n",
              "      <th>d1_pao2fio2ratio_max</th>\n",
              "      <th>d1_pao2fio2ratio_min</th>\n",
              "      <th>h1_arterial_pco2_max</th>\n",
              "      <th>h1_arterial_pco2_min</th>\n",
              "      <th>h1_arterial_ph_max</th>\n",
              "      <th>h1_arterial_ph_min</th>\n",
              "      <th>h1_arterial_po2_max</th>\n",
              "      <th>h1_arterial_po2_min</th>\n",
              "      <th>h1_pao2fio2ratio_max</th>\n",
              "      <th>h1_pao2fio2ratio_min</th>\n",
              "      <th>aids</th>\n",
              "      <th>cirrhosis</th>\n",
              "      <th>hepatic_failure</th>\n",
              "      <th>immunosuppression</th>\n",
              "      <th>leukemia</th>\n",
              "      <th>lymphoma</th>\n",
              "      <th>solid_tumor_with_metastasis</th>\n",
              "      <th>diabetes_mellitus</th>\n",
              "    </tr>\n",
              "  </thead>\n",
              "  <tbody>\n",
              "    <tr>\n",
              "      <th>0</th>\n",
              "      <td>1</td>\n",
              "      <td>214826</td>\n",
              "      <td>118</td>\n",
              "      <td>68.0</td>\n",
              "      <td>22.7328</td>\n",
              "      <td>0</td>\n",
              "      <td>Caucasian</td>\n",
              "      <td>M</td>\n",
              "      <td>180.3</td>\n",
              "      <td>Floor</td>\n",
              "      <td>Floor</td>\n",
              "      <td>92</td>\n",
              "      <td>admit</td>\n",
              "      <td>CTICU</td>\n",
              "      <td>0.541667</td>\n",
              "      <td>0</td>\n",
              "      <td>73.9</td>\n",
              "      <td>2.3</td>\n",
              "      <td>113.0</td>\n",
              "      <td>502.01</td>\n",
              "      <td>0</td>\n",
              "      <td>0</td>\n",
              "      <td>0.4</td>\n",
              "      <td>31.0</td>\n",
              "      <td>2.51</td>\n",
              "      <td>NaN</td>\n",
              "      <td>3.0</td>\n",
              "      <td>6.0</td>\n",
              "      <td>0.0</td>\n",
              "      <td>4.0</td>\n",
              "      <td>168.0</td>\n",
              "      <td>118.0</td>\n",
              "      <td>27.4</td>\n",
              "      <td>0</td>\n",
              "      <td>40.0</td>\n",
              "      <td>NaN</td>\n",
              "      <td>NaN</td>\n",
              "      <td>NaN</td>\n",
              "      <td>NaN</td>\n",
              "      <td>36.0</td>\n",
              "      <td>...</td>\n",
              "      <td>NaN</td>\n",
              "      <td>NaN</td>\n",
              "      <td>NaN</td>\n",
              "      <td>NaN</td>\n",
              "      <td>NaN</td>\n",
              "      <td>NaN</td>\n",
              "      <td>NaN</td>\n",
              "      <td>NaN</td>\n",
              "      <td>NaN</td>\n",
              "      <td>NaN</td>\n",
              "      <td>NaN</td>\n",
              "      <td>NaN</td>\n",
              "      <td>NaN</td>\n",
              "      <td>NaN</td>\n",
              "      <td>NaN</td>\n",
              "      <td>NaN</td>\n",
              "      <td>NaN</td>\n",
              "      <td>NaN</td>\n",
              "      <td>NaN</td>\n",
              "      <td>NaN</td>\n",
              "      <td>NaN</td>\n",
              "      <td>NaN</td>\n",
              "      <td>NaN</td>\n",
              "      <td>NaN</td>\n",
              "      <td>NaN</td>\n",
              "      <td>NaN</td>\n",
              "      <td>NaN</td>\n",
              "      <td>NaN</td>\n",
              "      <td>NaN</td>\n",
              "      <td>NaN</td>\n",
              "      <td>NaN</td>\n",
              "      <td>NaN</td>\n",
              "      <td>0</td>\n",
              "      <td>0</td>\n",
              "      <td>0</td>\n",
              "      <td>0</td>\n",
              "      <td>0</td>\n",
              "      <td>0</td>\n",
              "      <td>0</td>\n",
              "      <td>1</td>\n",
              "    </tr>\n",
              "    <tr>\n",
              "      <th>1</th>\n",
              "      <td>2</td>\n",
              "      <td>246060</td>\n",
              "      <td>81</td>\n",
              "      <td>77.0</td>\n",
              "      <td>27.4219</td>\n",
              "      <td>0</td>\n",
              "      <td>Caucasian</td>\n",
              "      <td>F</td>\n",
              "      <td>160.0</td>\n",
              "      <td>Floor</td>\n",
              "      <td>Floor</td>\n",
              "      <td>90</td>\n",
              "      <td>admit</td>\n",
              "      <td>Med-Surg ICU</td>\n",
              "      <td>0.927778</td>\n",
              "      <td>0</td>\n",
              "      <td>70.2</td>\n",
              "      <td>NaN</td>\n",
              "      <td>108.0</td>\n",
              "      <td>203.01</td>\n",
              "      <td>0</td>\n",
              "      <td>0</td>\n",
              "      <td>NaN</td>\n",
              "      <td>9.0</td>\n",
              "      <td>0.56</td>\n",
              "      <td>1.0</td>\n",
              "      <td>1.0</td>\n",
              "      <td>3.0</td>\n",
              "      <td>0.0</td>\n",
              "      <td>1.0</td>\n",
              "      <td>145.0</td>\n",
              "      <td>120.0</td>\n",
              "      <td>36.9</td>\n",
              "      <td>0</td>\n",
              "      <td>46.0</td>\n",
              "      <td>37.0</td>\n",
              "      <td>37.0</td>\n",
              "      <td>51.0</td>\n",
              "      <td>7.45</td>\n",
              "      <td>33.0</td>\n",
              "      <td>...</td>\n",
              "      <td>11.3</td>\n",
              "      <td>11.3</td>\n",
              "      <td>36.9</td>\n",
              "      <td>36.9</td>\n",
              "      <td>1.3</td>\n",
              "      <td>1.3</td>\n",
              "      <td>3.5</td>\n",
              "      <td>3.5</td>\n",
              "      <td>557.0</td>\n",
              "      <td>557.0</td>\n",
              "      <td>4.2</td>\n",
              "      <td>4.2</td>\n",
              "      <td>145.0</td>\n",
              "      <td>145.0</td>\n",
              "      <td>12.7</td>\n",
              "      <td>12.7</td>\n",
              "      <td>37.0</td>\n",
              "      <td>37.0</td>\n",
              "      <td>7.45</td>\n",
              "      <td>7.45</td>\n",
              "      <td>51.0</td>\n",
              "      <td>51.0</td>\n",
              "      <td>54.8</td>\n",
              "      <td>51.000000</td>\n",
              "      <td>37.0</td>\n",
              "      <td>37.0</td>\n",
              "      <td>7.45</td>\n",
              "      <td>7.45</td>\n",
              "      <td>51.0</td>\n",
              "      <td>51.0</td>\n",
              "      <td>51.0</td>\n",
              "      <td>51.0</td>\n",
              "      <td>0</td>\n",
              "      <td>0</td>\n",
              "      <td>0</td>\n",
              "      <td>0</td>\n",
              "      <td>0</td>\n",
              "      <td>0</td>\n",
              "      <td>0</td>\n",
              "      <td>1</td>\n",
              "    </tr>\n",
              "    <tr>\n",
              "      <th>2</th>\n",
              "      <td>3</td>\n",
              "      <td>276985</td>\n",
              "      <td>118</td>\n",
              "      <td>25.0</td>\n",
              "      <td>31.9527</td>\n",
              "      <td>0</td>\n",
              "      <td>Caucasian</td>\n",
              "      <td>F</td>\n",
              "      <td>172.7</td>\n",
              "      <td>Emergency Department</td>\n",
              "      <td>Accident &amp; Emergency</td>\n",
              "      <td>93</td>\n",
              "      <td>admit</td>\n",
              "      <td>Med-Surg ICU</td>\n",
              "      <td>0.000694</td>\n",
              "      <td>0</td>\n",
              "      <td>95.3</td>\n",
              "      <td>NaN</td>\n",
              "      <td>122.0</td>\n",
              "      <td>703.03</td>\n",
              "      <td>0</td>\n",
              "      <td>0</td>\n",
              "      <td>NaN</td>\n",
              "      <td>NaN</td>\n",
              "      <td>NaN</td>\n",
              "      <td>NaN</td>\n",
              "      <td>3.0</td>\n",
              "      <td>6.0</td>\n",
              "      <td>0.0</td>\n",
              "      <td>5.0</td>\n",
              "      <td>NaN</td>\n",
              "      <td>102.0</td>\n",
              "      <td>NaN</td>\n",
              "      <td>0</td>\n",
              "      <td>68.0</td>\n",
              "      <td>NaN</td>\n",
              "      <td>NaN</td>\n",
              "      <td>NaN</td>\n",
              "      <td>NaN</td>\n",
              "      <td>37.0</td>\n",
              "      <td>...</td>\n",
              "      <td>NaN</td>\n",
              "      <td>NaN</td>\n",
              "      <td>NaN</td>\n",
              "      <td>NaN</td>\n",
              "      <td>NaN</td>\n",
              "      <td>NaN</td>\n",
              "      <td>NaN</td>\n",
              "      <td>NaN</td>\n",
              "      <td>NaN</td>\n",
              "      <td>NaN</td>\n",
              "      <td>NaN</td>\n",
              "      <td>NaN</td>\n",
              "      <td>NaN</td>\n",
              "      <td>NaN</td>\n",
              "      <td>NaN</td>\n",
              "      <td>NaN</td>\n",
              "      <td>NaN</td>\n",
              "      <td>NaN</td>\n",
              "      <td>NaN</td>\n",
              "      <td>NaN</td>\n",
              "      <td>NaN</td>\n",
              "      <td>NaN</td>\n",
              "      <td>NaN</td>\n",
              "      <td>NaN</td>\n",
              "      <td>NaN</td>\n",
              "      <td>NaN</td>\n",
              "      <td>NaN</td>\n",
              "      <td>NaN</td>\n",
              "      <td>NaN</td>\n",
              "      <td>NaN</td>\n",
              "      <td>NaN</td>\n",
              "      <td>NaN</td>\n",
              "      <td>0</td>\n",
              "      <td>0</td>\n",
              "      <td>0</td>\n",
              "      <td>0</td>\n",
              "      <td>0</td>\n",
              "      <td>0</td>\n",
              "      <td>0</td>\n",
              "      <td>0</td>\n",
              "    </tr>\n",
              "    <tr>\n",
              "      <th>3</th>\n",
              "      <td>4</td>\n",
              "      <td>262220</td>\n",
              "      <td>118</td>\n",
              "      <td>81.0</td>\n",
              "      <td>22.6355</td>\n",
              "      <td>1</td>\n",
              "      <td>Caucasian</td>\n",
              "      <td>F</td>\n",
              "      <td>165.1</td>\n",
              "      <td>Operating Room</td>\n",
              "      <td>Operating Room / Recovery</td>\n",
              "      <td>92</td>\n",
              "      <td>admit</td>\n",
              "      <td>CTICU</td>\n",
              "      <td>0.000694</td>\n",
              "      <td>0</td>\n",
              "      <td>61.7</td>\n",
              "      <td>NaN</td>\n",
              "      <td>203.0</td>\n",
              "      <td>1206.03</td>\n",
              "      <td>1</td>\n",
              "      <td>0</td>\n",
              "      <td>NaN</td>\n",
              "      <td>NaN</td>\n",
              "      <td>NaN</td>\n",
              "      <td>0.6</td>\n",
              "      <td>4.0</td>\n",
              "      <td>6.0</td>\n",
              "      <td>0.0</td>\n",
              "      <td>5.0</td>\n",
              "      <td>185.0</td>\n",
              "      <td>114.0</td>\n",
              "      <td>25.9</td>\n",
              "      <td>1</td>\n",
              "      <td>60.0</td>\n",
              "      <td>30.0</td>\n",
              "      <td>30.0</td>\n",
              "      <td>142.0</td>\n",
              "      <td>7.39</td>\n",
              "      <td>4.0</td>\n",
              "      <td>...</td>\n",
              "      <td>11.6</td>\n",
              "      <td>11.6</td>\n",
              "      <td>34.0</td>\n",
              "      <td>34.0</td>\n",
              "      <td>1.6</td>\n",
              "      <td>1.1</td>\n",
              "      <td>NaN</td>\n",
              "      <td>NaN</td>\n",
              "      <td>43.0</td>\n",
              "      <td>43.0</td>\n",
              "      <td>NaN</td>\n",
              "      <td>NaN</td>\n",
              "      <td>NaN</td>\n",
              "      <td>NaN</td>\n",
              "      <td>8.8</td>\n",
              "      <td>8.8</td>\n",
              "      <td>37.0</td>\n",
              "      <td>27.0</td>\n",
              "      <td>7.44</td>\n",
              "      <td>7.34</td>\n",
              "      <td>337.0</td>\n",
              "      <td>102.0</td>\n",
              "      <td>342.5</td>\n",
              "      <td>236.666667</td>\n",
              "      <td>36.0</td>\n",
              "      <td>33.0</td>\n",
              "      <td>7.37</td>\n",
              "      <td>7.34</td>\n",
              "      <td>337.0</td>\n",
              "      <td>265.0</td>\n",
              "      <td>337.0</td>\n",
              "      <td>337.0</td>\n",
              "      <td>0</td>\n",
              "      <td>0</td>\n",
              "      <td>0</td>\n",
              "      <td>0</td>\n",
              "      <td>0</td>\n",
              "      <td>0</td>\n",
              "      <td>0</td>\n",
              "      <td>0</td>\n",
              "    </tr>\n",
              "    <tr>\n",
              "      <th>4</th>\n",
              "      <td>5</td>\n",
              "      <td>201746</td>\n",
              "      <td>33</td>\n",
              "      <td>19.0</td>\n",
              "      <td>None</td>\n",
              "      <td>0</td>\n",
              "      <td>Caucasian</td>\n",
              "      <td>M</td>\n",
              "      <td>188.0</td>\n",
              "      <td>NaN</td>\n",
              "      <td>Accident &amp; Emergency</td>\n",
              "      <td>91</td>\n",
              "      <td>admit</td>\n",
              "      <td>Med-Surg ICU</td>\n",
              "      <td>0.073611</td>\n",
              "      <td>0</td>\n",
              "      <td>NaN</td>\n",
              "      <td>NaN</td>\n",
              "      <td>119.0</td>\n",
              "      <td>601.01</td>\n",
              "      <td>0</td>\n",
              "      <td>0</td>\n",
              "      <td>NaN</td>\n",
              "      <td>NaN</td>\n",
              "      <td>NaN</td>\n",
              "      <td>NaN</td>\n",
              "      <td>NaN</td>\n",
              "      <td>NaN</td>\n",
              "      <td>NaN</td>\n",
              "      <td>NaN</td>\n",
              "      <td>NaN</td>\n",
              "      <td>60.0</td>\n",
              "      <td>NaN</td>\n",
              "      <td>0</td>\n",
              "      <td>103.0</td>\n",
              "      <td>NaN</td>\n",
              "      <td>NaN</td>\n",
              "      <td>NaN</td>\n",
              "      <td>NaN</td>\n",
              "      <td>16.0</td>\n",
              "      <td>...</td>\n",
              "      <td>NaN</td>\n",
              "      <td>NaN</td>\n",
              "      <td>NaN</td>\n",
              "      <td>NaN</td>\n",
              "      <td>NaN</td>\n",
              "      <td>NaN</td>\n",
              "      <td>NaN</td>\n",
              "      <td>NaN</td>\n",
              "      <td>NaN</td>\n",
              "      <td>NaN</td>\n",
              "      <td>NaN</td>\n",
              "      <td>NaN</td>\n",
              "      <td>NaN</td>\n",
              "      <td>NaN</td>\n",
              "      <td>NaN</td>\n",
              "      <td>NaN</td>\n",
              "      <td>NaN</td>\n",
              "      <td>NaN</td>\n",
              "      <td>NaN</td>\n",
              "      <td>NaN</td>\n",
              "      <td>NaN</td>\n",
              "      <td>NaN</td>\n",
              "      <td>NaN</td>\n",
              "      <td>NaN</td>\n",
              "      <td>NaN</td>\n",
              "      <td>NaN</td>\n",
              "      <td>NaN</td>\n",
              "      <td>NaN</td>\n",
              "      <td>NaN</td>\n",
              "      <td>NaN</td>\n",
              "      <td>NaN</td>\n",
              "      <td>NaN</td>\n",
              "      <td>0</td>\n",
              "      <td>0</td>\n",
              "      <td>0</td>\n",
              "      <td>0</td>\n",
              "      <td>0</td>\n",
              "      <td>0</td>\n",
              "      <td>0</td>\n",
              "      <td>0</td>\n",
              "    </tr>\n",
              "    <tr>\n",
              "      <th>5</th>\n",
              "      <td>6</td>\n",
              "      <td>182697</td>\n",
              "      <td>83</td>\n",
              "      <td>67.0</td>\n",
              "      <td>27.5556</td>\n",
              "      <td>0</td>\n",
              "      <td>Caucasian</td>\n",
              "      <td>M</td>\n",
              "      <td>190.5</td>\n",
              "      <td>Direct Admit</td>\n",
              "      <td>Accident &amp; Emergency</td>\n",
              "      <td>95</td>\n",
              "      <td>admit</td>\n",
              "      <td>Med-Surg ICU</td>\n",
              "      <td>0.000694</td>\n",
              "      <td>0</td>\n",
              "      <td>100.0</td>\n",
              "      <td>NaN</td>\n",
              "      <td>301.0</td>\n",
              "      <td>403.01</td>\n",
              "      <td>0</td>\n",
              "      <td>0</td>\n",
              "      <td>NaN</td>\n",
              "      <td>13.0</td>\n",
              "      <td>0.71</td>\n",
              "      <td>NaN</td>\n",
              "      <td>4.0</td>\n",
              "      <td>6.0</td>\n",
              "      <td>0.0</td>\n",
              "      <td>5.0</td>\n",
              "      <td>156.0</td>\n",
              "      <td>113.0</td>\n",
              "      <td>44.2</td>\n",
              "      <td>0</td>\n",
              "      <td>130.0</td>\n",
              "      <td>NaN</td>\n",
              "      <td>NaN</td>\n",
              "      <td>NaN</td>\n",
              "      <td>NaN</td>\n",
              "      <td>35.0</td>\n",
              "      <td>...</td>\n",
              "      <td>NaN</td>\n",
              "      <td>NaN</td>\n",
              "      <td>NaN</td>\n",
              "      <td>NaN</td>\n",
              "      <td>1.1</td>\n",
              "      <td>1.1</td>\n",
              "      <td>NaN</td>\n",
              "      <td>NaN</td>\n",
              "      <td>NaN</td>\n",
              "      <td>NaN</td>\n",
              "      <td>NaN</td>\n",
              "      <td>NaN</td>\n",
              "      <td>NaN</td>\n",
              "      <td>NaN</td>\n",
              "      <td>NaN</td>\n",
              "      <td>NaN</td>\n",
              "      <td>NaN</td>\n",
              "      <td>NaN</td>\n",
              "      <td>NaN</td>\n",
              "      <td>NaN</td>\n",
              "      <td>NaN</td>\n",
              "      <td>NaN</td>\n",
              "      <td>NaN</td>\n",
              "      <td>NaN</td>\n",
              "      <td>NaN</td>\n",
              "      <td>NaN</td>\n",
              "      <td>NaN</td>\n",
              "      <td>NaN</td>\n",
              "      <td>NaN</td>\n",
              "      <td>NaN</td>\n",
              "      <td>NaN</td>\n",
              "      <td>NaN</td>\n",
              "      <td>0</td>\n",
              "      <td>0</td>\n",
              "      <td>0</td>\n",
              "      <td>0</td>\n",
              "      <td>0</td>\n",
              "      <td>0</td>\n",
              "      <td>0</td>\n",
              "      <td>1</td>\n",
              "    </tr>\n",
              "    <tr>\n",
              "      <th>6</th>\n",
              "      <td>7</td>\n",
              "      <td>195124</td>\n",
              "      <td>83</td>\n",
              "      <td>59.0</td>\n",
              "      <td>57.451</td>\n",
              "      <td>0</td>\n",
              "      <td>Caucasian</td>\n",
              "      <td>F</td>\n",
              "      <td>165.1</td>\n",
              "      <td>Operating Room</td>\n",
              "      <td>Accident &amp; Emergency</td>\n",
              "      <td>95</td>\n",
              "      <td>admit</td>\n",
              "      <td>Med-Surg ICU</td>\n",
              "      <td>0.000694</td>\n",
              "      <td>0</td>\n",
              "      <td>156.6</td>\n",
              "      <td>NaN</td>\n",
              "      <td>108.0</td>\n",
              "      <td>203.01</td>\n",
              "      <td>0</td>\n",
              "      <td>0</td>\n",
              "      <td>NaN</td>\n",
              "      <td>18.0</td>\n",
              "      <td>0.78</td>\n",
              "      <td>1.0</td>\n",
              "      <td>4.0</td>\n",
              "      <td>6.0</td>\n",
              "      <td>0.0</td>\n",
              "      <td>5.0</td>\n",
              "      <td>197.0</td>\n",
              "      <td>133.0</td>\n",
              "      <td>33.5</td>\n",
              "      <td>1</td>\n",
              "      <td>138.0</td>\n",
              "      <td>43.0</td>\n",
              "      <td>43.0</td>\n",
              "      <td>370.0</td>\n",
              "      <td>7.42</td>\n",
              "      <td>53.0</td>\n",
              "      <td>...</td>\n",
              "      <td>10.7</td>\n",
              "      <td>10.7</td>\n",
              "      <td>33.5</td>\n",
              "      <td>33.5</td>\n",
              "      <td>NaN</td>\n",
              "      <td>NaN</td>\n",
              "      <td>NaN</td>\n",
              "      <td>NaN</td>\n",
              "      <td>278.0</td>\n",
              "      <td>278.0</td>\n",
              "      <td>4.2</td>\n",
              "      <td>4.2</td>\n",
              "      <td>135.0</td>\n",
              "      <td>135.0</td>\n",
              "      <td>5.9</td>\n",
              "      <td>5.9</td>\n",
              "      <td>43.0</td>\n",
              "      <td>43.0</td>\n",
              "      <td>7.42</td>\n",
              "      <td>7.42</td>\n",
              "      <td>370.0</td>\n",
              "      <td>370.0</td>\n",
              "      <td>370.0</td>\n",
              "      <td>370.000000</td>\n",
              "      <td>43.0</td>\n",
              "      <td>43.0</td>\n",
              "      <td>7.42</td>\n",
              "      <td>7.42</td>\n",
              "      <td>370.0</td>\n",
              "      <td>370.0</td>\n",
              "      <td>370.0</td>\n",
              "      <td>370.0</td>\n",
              "      <td>0</td>\n",
              "      <td>0</td>\n",
              "      <td>0</td>\n",
              "      <td>0</td>\n",
              "      <td>0</td>\n",
              "      <td>0</td>\n",
              "      <td>0</td>\n",
              "      <td>1</td>\n",
              "    </tr>\n",
              "    <tr>\n",
              "      <th>7</th>\n",
              "      <td>8</td>\n",
              "      <td>179261</td>\n",
              "      <td>33</td>\n",
              "      <td>70.0</td>\n",
              "      <td>None</td>\n",
              "      <td>0</td>\n",
              "      <td>Caucasian</td>\n",
              "      <td>M</td>\n",
              "      <td>165.0</td>\n",
              "      <td>Emergency Department</td>\n",
              "      <td>Accident &amp; Emergency</td>\n",
              "      <td>91</td>\n",
              "      <td>admit</td>\n",
              "      <td>Med-Surg ICU</td>\n",
              "      <td>0.002083</td>\n",
              "      <td>0</td>\n",
              "      <td>NaN</td>\n",
              "      <td>NaN</td>\n",
              "      <td>113.0</td>\n",
              "      <td>501.05</td>\n",
              "      <td>0</td>\n",
              "      <td>0</td>\n",
              "      <td>NaN</td>\n",
              "      <td>48.0</td>\n",
              "      <td>2.05</td>\n",
              "      <td>NaN</td>\n",
              "      <td>4.0</td>\n",
              "      <td>6.0</td>\n",
              "      <td>0.0</td>\n",
              "      <td>5.0</td>\n",
              "      <td>164.0</td>\n",
              "      <td>120.0</td>\n",
              "      <td>22.6</td>\n",
              "      <td>0</td>\n",
              "      <td>60.0</td>\n",
              "      <td>NaN</td>\n",
              "      <td>NaN</td>\n",
              "      <td>NaN</td>\n",
              "      <td>NaN</td>\n",
              "      <td>28.0</td>\n",
              "      <td>...</td>\n",
              "      <td>NaN</td>\n",
              "      <td>NaN</td>\n",
              "      <td>NaN</td>\n",
              "      <td>NaN</td>\n",
              "      <td>NaN</td>\n",
              "      <td>NaN</td>\n",
              "      <td>NaN</td>\n",
              "      <td>NaN</td>\n",
              "      <td>NaN</td>\n",
              "      <td>NaN</td>\n",
              "      <td>NaN</td>\n",
              "      <td>NaN</td>\n",
              "      <td>NaN</td>\n",
              "      <td>NaN</td>\n",
              "      <td>NaN</td>\n",
              "      <td>NaN</td>\n",
              "      <td>43.0</td>\n",
              "      <td>43.0</td>\n",
              "      <td>7.38</td>\n",
              "      <td>7.38</td>\n",
              "      <td>89.0</td>\n",
              "      <td>89.0</td>\n",
              "      <td>NaN</td>\n",
              "      <td>NaN</td>\n",
              "      <td>NaN</td>\n",
              "      <td>NaN</td>\n",
              "      <td>NaN</td>\n",
              "      <td>NaN</td>\n",
              "      <td>NaN</td>\n",
              "      <td>NaN</td>\n",
              "      <td>NaN</td>\n",
              "      <td>NaN</td>\n",
              "      <td>0</td>\n",
              "      <td>0</td>\n",
              "      <td>0</td>\n",
              "      <td>1</td>\n",
              "      <td>0</td>\n",
              "      <td>0</td>\n",
              "      <td>0</td>\n",
              "      <td>0</td>\n",
              "    </tr>\n",
              "    <tr>\n",
              "      <th>8</th>\n",
              "      <td>9</td>\n",
              "      <td>271041</td>\n",
              "      <td>118</td>\n",
              "      <td>45.0</td>\n",
              "      <td>None</td>\n",
              "      <td>0</td>\n",
              "      <td>Caucasian</td>\n",
              "      <td>M</td>\n",
              "      <td>170.2</td>\n",
              "      <td>Other Hospital</td>\n",
              "      <td>Other Hospital</td>\n",
              "      <td>114</td>\n",
              "      <td>admit</td>\n",
              "      <td>CCU-CTICU</td>\n",
              "      <td>0.009028</td>\n",
              "      <td>0</td>\n",
              "      <td>NaN</td>\n",
              "      <td>2.7</td>\n",
              "      <td>116.0</td>\n",
              "      <td>103.01</td>\n",
              "      <td>0</td>\n",
              "      <td>0</td>\n",
              "      <td>0.2</td>\n",
              "      <td>15.0</td>\n",
              "      <td>1.16</td>\n",
              "      <td>1.0</td>\n",
              "      <td>4.0</td>\n",
              "      <td>6.0</td>\n",
              "      <td>0.0</td>\n",
              "      <td>5.0</td>\n",
              "      <td>380.0</td>\n",
              "      <td>82.0</td>\n",
              "      <td>37.9</td>\n",
              "      <td>0</td>\n",
              "      <td>66.0</td>\n",
              "      <td>60.0</td>\n",
              "      <td>60.0</td>\n",
              "      <td>92.0</td>\n",
              "      <td>7.14</td>\n",
              "      <td>14.0</td>\n",
              "      <td>...</td>\n",
              "      <td>12.3</td>\n",
              "      <td>12.3</td>\n",
              "      <td>37.9</td>\n",
              "      <td>37.9</td>\n",
              "      <td>1.2</td>\n",
              "      <td>1.2</td>\n",
              "      <td>5.9</td>\n",
              "      <td>5.9</td>\n",
              "      <td>226.0</td>\n",
              "      <td>226.0</td>\n",
              "      <td>5.2</td>\n",
              "      <td>5.2</td>\n",
              "      <td>142.0</td>\n",
              "      <td>142.0</td>\n",
              "      <td>24.7</td>\n",
              "      <td>24.7</td>\n",
              "      <td>60.0</td>\n",
              "      <td>33.0</td>\n",
              "      <td>7.62</td>\n",
              "      <td>6.99</td>\n",
              "      <td>256.0</td>\n",
              "      <td>92.0</td>\n",
              "      <td>92.0</td>\n",
              "      <td>92.000000</td>\n",
              "      <td>60.0</td>\n",
              "      <td>60.0</td>\n",
              "      <td>7.14</td>\n",
              "      <td>7.14</td>\n",
              "      <td>92.0</td>\n",
              "      <td>92.0</td>\n",
              "      <td>92.0</td>\n",
              "      <td>92.0</td>\n",
              "      <td>0</td>\n",
              "      <td>0</td>\n",
              "      <td>0</td>\n",
              "      <td>0</td>\n",
              "      <td>0</td>\n",
              "      <td>0</td>\n",
              "      <td>0</td>\n",
              "      <td>0</td>\n",
              "    </tr>\n",
              "    <tr>\n",
              "      <th>9</th>\n",
              "      <td>10</td>\n",
              "      <td>238874</td>\n",
              "      <td>118</td>\n",
              "      <td>50.0</td>\n",
              "      <td>25.7077</td>\n",
              "      <td>0</td>\n",
              "      <td>Caucasian</td>\n",
              "      <td>M</td>\n",
              "      <td>175.3</td>\n",
              "      <td>Direct Admit</td>\n",
              "      <td>Accident &amp; Emergency</td>\n",
              "      <td>114</td>\n",
              "      <td>admit</td>\n",
              "      <td>CCU-CTICU</td>\n",
              "      <td>0.060417</td>\n",
              "      <td>0</td>\n",
              "      <td>79.0</td>\n",
              "      <td>3.6</td>\n",
              "      <td>112.0</td>\n",
              "      <td>107.01</td>\n",
              "      <td>0</td>\n",
              "      <td>0</td>\n",
              "      <td>0.4</td>\n",
              "      <td>10.0</td>\n",
              "      <td>0.83</td>\n",
              "      <td>NaN</td>\n",
              "      <td>4.0</td>\n",
              "      <td>6.0</td>\n",
              "      <td>0.0</td>\n",
              "      <td>5.0</td>\n",
              "      <td>134.0</td>\n",
              "      <td>94.0</td>\n",
              "      <td>37.2</td>\n",
              "      <td>0</td>\n",
              "      <td>58.0</td>\n",
              "      <td>NaN</td>\n",
              "      <td>NaN</td>\n",
              "      <td>NaN</td>\n",
              "      <td>NaN</td>\n",
              "      <td>46.0</td>\n",
              "      <td>...</td>\n",
              "      <td>12.8</td>\n",
              "      <td>12.8</td>\n",
              "      <td>37.2</td>\n",
              "      <td>37.2</td>\n",
              "      <td>NaN</td>\n",
              "      <td>NaN</td>\n",
              "      <td>NaN</td>\n",
              "      <td>NaN</td>\n",
              "      <td>232.0</td>\n",
              "      <td>232.0</td>\n",
              "      <td>3.3</td>\n",
              "      <td>3.3</td>\n",
              "      <td>139.0</td>\n",
              "      <td>139.0</td>\n",
              "      <td>12.8</td>\n",
              "      <td>12.8</td>\n",
              "      <td>NaN</td>\n",
              "      <td>NaN</td>\n",
              "      <td>NaN</td>\n",
              "      <td>NaN</td>\n",
              "      <td>NaN</td>\n",
              "      <td>NaN</td>\n",
              "      <td>NaN</td>\n",
              "      <td>NaN</td>\n",
              "      <td>NaN</td>\n",
              "      <td>NaN</td>\n",
              "      <td>NaN</td>\n",
              "      <td>NaN</td>\n",
              "      <td>NaN</td>\n",
              "      <td>NaN</td>\n",
              "      <td>NaN</td>\n",
              "      <td>NaN</td>\n",
              "      <td>0</td>\n",
              "      <td>0</td>\n",
              "      <td>0</td>\n",
              "      <td>0</td>\n",
              "      <td>0</td>\n",
              "      <td>0</td>\n",
              "      <td>0</td>\n",
              "      <td>0</td>\n",
              "    </tr>\n",
              "  </tbody>\n",
              "</table>\n",
              "<p>10 rows × 181 columns</p>\n",
              "</div>"
            ],
            "text/plain": [
              "   Unnamed: 0  encounter_id  ...  solid_tumor_with_metastasis  diabetes_mellitus\n",
              "0           1        214826  ...                            0                  1\n",
              "1           2        246060  ...                            0                  1\n",
              "2           3        276985  ...                            0                  0\n",
              "3           4        262220  ...                            0                  0\n",
              "4           5        201746  ...                            0                  0\n",
              "5           6        182697  ...                            0                  1\n",
              "6           7        195124  ...                            0                  1\n",
              "7           8        179261  ...                            0                  0\n",
              "8           9        271041  ...                            0                  0\n",
              "9          10        238874  ...                            0                  0\n",
              "\n",
              "[10 rows x 181 columns]"
            ]
          },
          "metadata": {
            "tags": []
          },
          "execution_count": 18
        }
      ]
    },
    {
      "cell_type": "markdown",
      "metadata": {
        "id": "lC5JsN3WuZkZ"
      },
      "source": [
        "**Verificando os dados faltantes na variável height e fazendo a média para substituir nos valores nulos**"
      ]
    },
    {
      "cell_type": "code",
      "metadata": {
        "colab": {
          "base_uri": "https://localhost:8080/"
        },
        "id": "z1EHdYIxttIK",
        "outputId": "2cee06a8-f4c5-4061-eea3-58195179d533"
      },
      "source": [
        "# Quantidade de valores nulos na variável height\r\n",
        "df['height'].isnull().sum()"
      ],
      "execution_count": null,
      "outputs": [
        {
          "output_type": "execute_result",
          "data": {
            "text/plain": [
              "2077"
            ]
          },
          "metadata": {
            "tags": []
          },
          "execution_count": 19
        }
      ]
    },
    {
      "cell_type": "code",
      "metadata": {
        "colab": {
          "base_uri": "https://localhost:8080/"
        },
        "id": "-vuLR6zSu_v9",
        "outputId": "7ffc966b-0bbf-4157-d77b-dc1634dfa71b"
      },
      "source": [
        "# Média de altura nesse dataset\r\n",
        "height_mean = df['height'].mean()\r\n",
        "print(height_mean)"
      ],
      "execution_count": null,
      "outputs": [
        {
          "output_type": "stream",
          "text": [
            "169.60721892569077\n"
          ],
          "name": "stdout"
        }
      ]
    },
    {
      "cell_type": "code",
      "metadata": {
        "id": "jLetKbOTvZFR"
      },
      "source": [
        "# E na altura substituir pela média de alturas no dataset.\r\n",
        "df['height'].fillna(df['height'].mean(), inplace = True)"
      ],
      "execution_count": null,
      "outputs": []
    },
    {
      "cell_type": "markdown",
      "metadata": {
        "id": "3TzOdwKkwHAl"
      },
      "source": [
        "**Verificando os dados faltantes na variável hospital_admit_source e fazendo a média para substituir nos valores nulos**"
      ]
    },
    {
      "cell_type": "code",
      "metadata": {
        "colab": {
          "base_uri": "https://localhost:8080/"
        },
        "id": "7BTCoBFXwDM_",
        "outputId": "47095db7-abe6-4bce-a167-a569c5cc87c3"
      },
      "source": [
        "# Quantidade de valores nulos na variável hospital_admit_source\r\n",
        "df['hospital_admit_source'].isnull().sum()"
      ],
      "execution_count": null,
      "outputs": [
        {
          "output_type": "execute_result",
          "data": {
            "text/plain": [
              "33198"
            ]
          },
          "metadata": {
            "tags": []
          },
          "execution_count": 22
        }
      ]
    },
    {
      "cell_type": "code",
      "metadata": {
        "id": "cbAiTwA5xf6X"
      },
      "source": [
        "# Substituir os dados faltantes: Na variável hospital_admit_source por nenhuma.\r\n",
        "df['hospital_admit_source'].fillna('None', inplace = True)"
      ],
      "execution_count": null,
      "outputs": []
    },
    {
      "cell_type": "markdown",
      "metadata": {
        "id": "YkNyDLinyQsL"
      },
      "source": [
        "**Verificando os dados faltantes na variável icu_admit_source e fazendo a média para substituir nos valores nulos**"
      ]
    },
    {
      "cell_type": "code",
      "metadata": {
        "colab": {
          "base_uri": "https://localhost:8080/"
        },
        "id": "KR2CpKhjyOl_",
        "outputId": "e6d2b31e-068e-4026-82c1-c2e4c687f79a"
      },
      "source": [
        "# Quantidade de valores nulos na variável icu_admit_source\r\n",
        "df['icu_admit_source'].isnull().sum()"
      ],
      "execution_count": null,
      "outputs": [
        {
          "output_type": "execute_result",
          "data": {
            "text/plain": [
              "240"
            ]
          },
          "metadata": {
            "tags": []
          },
          "execution_count": 24
        }
      ]
    },
    {
      "cell_type": "code",
      "metadata": {
        "id": "vjLpXSdyy21B"
      },
      "source": [
        "# Substituir os dados faltantes: Na variável icu_admit_source por nenhuma.\r\n",
        "df['icu_admit_source'].fillna('None', inplace = True)"
      ],
      "execution_count": null,
      "outputs": []
    },
    {
      "cell_type": "markdown",
      "metadata": {
        "id": "6VqNWu2wzQ6d"
      },
      "source": [
        "**Verificando os dados faltantes na variável weight e fazendo a média para substituir nos valores nulos**"
      ]
    },
    {
      "cell_type": "code",
      "metadata": {
        "colab": {
          "base_uri": "https://localhost:8080/"
        },
        "id": "nWXy2J4RzEoX",
        "outputId": "fac1d562-a6ac-495f-8d8e-1db40fae6b9e"
      },
      "source": [
        "# Quantidade de valores nulos na variável weight\r\n",
        "df['weight'].isnull().sum()"
      ],
      "execution_count": null,
      "outputs": [
        {
          "output_type": "execute_result",
          "data": {
            "text/plain": [
              "3463"
            ]
          },
          "metadata": {
            "tags": []
          },
          "execution_count": 26
        }
      ]
    },
    {
      "cell_type": "code",
      "metadata": {
        "colab": {
          "base_uri": "https://localhost:8080/"
        },
        "id": "N5vhggSx0ZZm",
        "outputId": "3ed55261-0264-4e1b-a04b-169ccbcf5ad7"
      },
      "source": [
        "# Média de peso nesse dataset\r\n",
        "weight_mean = df['weight'].mean()\r\n",
        "print(weight_mean)"
      ],
      "execution_count": null,
      "outputs": [
        {
          "output_type": "stream",
          "text": [
            "83.79110431433001\n"
          ],
          "name": "stdout"
        }
      ]
    },
    {
      "cell_type": "code",
      "metadata": {
        "id": "Bzy4cFG00_-T"
      },
      "source": [
        "# E no peso substituir pela média de peso no dataset.\r\n",
        "df['weight'].fillna(df['weight'].mean(), inplace = True)"
      ],
      "execution_count": null,
      "outputs": []
    },
    {
      "cell_type": "markdown",
      "metadata": {
        "id": "kw5U86iu1ct5"
      },
      "source": [
        "**Verificando os dados faltantes na variável albumin_apache e fazendo a média para substituir nos valores nulos**"
      ]
    },
    {
      "cell_type": "code",
      "metadata": {
        "colab": {
          "base_uri": "https://localhost:8080/"
        },
        "id": "oV-4sCVs1XKb",
        "outputId": "51835f90-69f5-4129-e61f-bbbbf237a608"
      },
      "source": [
        "# Quantidade de valores nulos na variável albumin_apache\r\n",
        "df['albumin_apache'].isnull().sum()"
      ],
      "execution_count": null,
      "outputs": [
        {
          "output_type": "execute_result",
          "data": {
            "text/plain": [
              "78163"
            ]
          },
          "metadata": {
            "tags": []
          },
          "execution_count": 29
        }
      ]
    },
    {
      "cell_type": "code",
      "metadata": {
        "colab": {
          "base_uri": "https://localhost:8080/"
        },
        "id": "X7o5zdud1yhf",
        "outputId": "e42fdaa2-becc-4866-fa6d-4155992a85f2"
      },
      "source": [
        "# Média de albumin_apache nesse dataset\r\n",
        "albumin_apache_mean = df['albumin_apache'].mean()\r\n",
        "print(albumin_apache_mean)"
      ],
      "execution_count": null,
      "outputs": [
        {
          "output_type": "stream",
          "text": [
            "2.886149171058234\n"
          ],
          "name": "stdout"
        }
      ]
    },
    {
      "cell_type": "code",
      "metadata": {
        "id": "1Cl3kn-V4MYg"
      },
      "source": [
        "# E no albumin substituir pela média de albumin no dataset.\r\n",
        "df['albumin_apache'].fillna(df['albumin_apache'].mean(), inplace = True)"
      ],
      "execution_count": null,
      "outputs": []
    },
    {
      "cell_type": "markdown",
      "metadata": {
        "id": "a-Q__TJu428S"
      },
      "source": [
        "**Verificando os dados faltantes na variável apache_2_diagnosis e fazendo a média para substituir nos valores nulos**"
      ]
    },
    {
      "cell_type": "code",
      "metadata": {
        "colab": {
          "base_uri": "https://localhost:8080/"
        },
        "id": "xCiKuXrf4vUE",
        "outputId": "64c9320a-08cd-4cf7-fbfc-fea433bd6619"
      },
      "source": [
        "# Quantidade de valores nulos na variável apache_2_diagnosis\r\n",
        "df['apache_2_diagnosis'].isnull().sum()"
      ],
      "execution_count": null,
      "outputs": [
        {
          "output_type": "execute_result",
          "data": {
            "text/plain": [
              "1685"
            ]
          },
          "metadata": {
            "tags": []
          },
          "execution_count": 32
        }
      ]
    },
    {
      "cell_type": "code",
      "metadata": {
        "colab": {
          "base_uri": "https://localhost:8080/"
        },
        "id": "qPDD0Q5G5Xg0",
        "outputId": "274d0c09-53db-4e3d-bd11-601c42a2a9c8"
      },
      "source": [
        "# Quantidade de cada tipo de diagnóstico de gravidade Apache II na pesquisa\r\n",
        "apache_2_diagnosis_text = df['apache_2_diagnosis']\r\n",
        "counter2 = Counter(apache_2_diagnosis_text)\r\n",
        "print(counter2)"
      ],
      "execution_count": null,
      "outputs": [
        {
          "output_type": "stream",
          "text": [
            "Counter({113.0: 16402, 301.0: 9858, 302.0: 8904, 112.0: 5981, 308.0: 5855, 124.0: 5548, 117.0: 5290, 122.0: 5206, 303.0: 5072, 304.0: 4594, 110.0: 4395, 203.0: 3860, 106.0: 3537, 121.0: 3431, 202.0: 3408, 114.0: 3298, 305.0: 3111, 123.0: 2918, 119.0: 2712, 102.0: 2631, 307.0: 2629, 118.0: 2338, 120.0: 1994, 108.0: 1668, 214.0: 1656, 109.0: 1440, 105.0: 1369, 218.0: 1086, 213.0: 1041, 207.0: 973, 306.0: 830, 217.0: 802, 219.0: 714, 209.0: 645, 101.0: 605, 104.0: 580, 103.0: 487, 115.0: 392, 107.0: 300, 116.0: 279, 215.0: 215, 208.0: 214, 212.0: 138, 216.0: 66, nan: 1, nan: 1, nan: 1, nan: 1, nan: 1, nan: 1, nan: 1, nan: 1, nan: 1, nan: 1, nan: 1, nan: 1, nan: 1, nan: 1, nan: 1, nan: 1, nan: 1, nan: 1, nan: 1, nan: 1, nan: 1, nan: 1, nan: 1, nan: 1, nan: 1, nan: 1, nan: 1, nan: 1, nan: 1, nan: 1, nan: 1, nan: 1, nan: 1, nan: 1, nan: 1, nan: 1, nan: 1, nan: 1, nan: 1, nan: 1, nan: 1, nan: 1, nan: 1, nan: 1, nan: 1, nan: 1, nan: 1, nan: 1, nan: 1, nan: 1, nan: 1, nan: 1, nan: 1, nan: 1, nan: 1, nan: 1, nan: 1, nan: 1, nan: 1, nan: 1, nan: 1, nan: 1, nan: 1, nan: 1, nan: 1, nan: 1, nan: 1, nan: 1, nan: 1, nan: 1, nan: 1, nan: 1, nan: 1, nan: 1, nan: 1, nan: 1, nan: 1, nan: 1, nan: 1, nan: 1, nan: 1, nan: 1, nan: 1, nan: 1, nan: 1, nan: 1, nan: 1, nan: 1, nan: 1, nan: 1, nan: 1, nan: 1, nan: 1, nan: 1, nan: 1, nan: 1, nan: 1, nan: 1, nan: 1, nan: 1, nan: 1, nan: 1, nan: 1, nan: 1, nan: 1, nan: 1, nan: 1, nan: 1, nan: 1, nan: 1, nan: 1, nan: 1, nan: 1, nan: 1, nan: 1, nan: 1, nan: 1, nan: 1, nan: 1, nan: 1, nan: 1, nan: 1, nan: 1, nan: 1, nan: 1, nan: 1, nan: 1, nan: 1, nan: 1, nan: 1, nan: 1, nan: 1, nan: 1, nan: 1, nan: 1, nan: 1, nan: 1, nan: 1, nan: 1, nan: 1, nan: 1, nan: 1, nan: 1, nan: 1, nan: 1, nan: 1, nan: 1, nan: 1, nan: 1, nan: 1, nan: 1, nan: 1, nan: 1, nan: 1, nan: 1, nan: 1, nan: 1, nan: 1, nan: 1, nan: 1, nan: 1, nan: 1, nan: 1, nan: 1, nan: 1, nan: 1, nan: 1, nan: 1, nan: 1, nan: 1, nan: 1, nan: 1, nan: 1, nan: 1, nan: 1, nan: 1, nan: 1, nan: 1, nan: 1, nan: 1, nan: 1, nan: 1, nan: 1, nan: 1, nan: 1, nan: 1, nan: 1, nan: 1, nan: 1, nan: 1, nan: 1, nan: 1, nan: 1, nan: 1, nan: 1, nan: 1, nan: 1, nan: 1, nan: 1, nan: 1, nan: 1, nan: 1, nan: 1, nan: 1, nan: 1, nan: 1, nan: 1, nan: 1, nan: 1, nan: 1, nan: 1, nan: 1, nan: 1, nan: 1, nan: 1, nan: 1, nan: 1, nan: 1, nan: 1, nan: 1, nan: 1, nan: 1, nan: 1, nan: 1, nan: 1, nan: 1, nan: 1, nan: 1, nan: 1, nan: 1, nan: 1, nan: 1, nan: 1, nan: 1, nan: 1, nan: 1, nan: 1, nan: 1, nan: 1, nan: 1, nan: 1, nan: 1, nan: 1, nan: 1, nan: 1, nan: 1, nan: 1, nan: 1, nan: 1, nan: 1, nan: 1, nan: 1, nan: 1, nan: 1, nan: 1, nan: 1, nan: 1, nan: 1, nan: 1, nan: 1, nan: 1, nan: 1, nan: 1, nan: 1, nan: 1, nan: 1, nan: 1, nan: 1, nan: 1, nan: 1, nan: 1, nan: 1, nan: 1, nan: 1, nan: 1, nan: 1, nan: 1, nan: 1, nan: 1, nan: 1, nan: 1, nan: 1, nan: 1, nan: 1, nan: 1, nan: 1, nan: 1, nan: 1, nan: 1, nan: 1, nan: 1, nan: 1, nan: 1, nan: 1, nan: 1, nan: 1, nan: 1, nan: 1, nan: 1, nan: 1, nan: 1, nan: 1, nan: 1, nan: 1, nan: 1, nan: 1, nan: 1, nan: 1, nan: 1, nan: 1, nan: 1, nan: 1, nan: 1, nan: 1, nan: 1, nan: 1, nan: 1, nan: 1, nan: 1, nan: 1, nan: 1, nan: 1, nan: 1, nan: 1, nan: 1, nan: 1, nan: 1, nan: 1, nan: 1, nan: 1, nan: 1, nan: 1, nan: 1, nan: 1, nan: 1, nan: 1, nan: 1, nan: 1, nan: 1, nan: 1, nan: 1, nan: 1, nan: 1, nan: 1, nan: 1, nan: 1, nan: 1, nan: 1, nan: 1, nan: 1, nan: 1, nan: 1, nan: 1, nan: 1, nan: 1, nan: 1, nan: 1, nan: 1, nan: 1, nan: 1, nan: 1, nan: 1, nan: 1, nan: 1, nan: 1, nan: 1, nan: 1, nan: 1, nan: 1, nan: 1, nan: 1, nan: 1, nan: 1, nan: 1, nan: 1, nan: 1, nan: 1, nan: 1, nan: 1, nan: 1, nan: 1, nan: 1, nan: 1, nan: 1, nan: 1, nan: 1, nan: 1, nan: 1, nan: 1, nan: 1, nan: 1, nan: 1, nan: 1, nan: 1, nan: 1, nan: 1, nan: 1, nan: 1, nan: 1, nan: 1, nan: 1, nan: 1, nan: 1, nan: 1, nan: 1, nan: 1, nan: 1, nan: 1, nan: 1, nan: 1, nan: 1, nan: 1, nan: 1, nan: 1, nan: 1, nan: 1, nan: 1, nan: 1, nan: 1, nan: 1, nan: 1, nan: 1, nan: 1, nan: 1, nan: 1, nan: 1, nan: 1, nan: 1, nan: 1, nan: 1, nan: 1, nan: 1, nan: 1, nan: 1, nan: 1, nan: 1, nan: 1, nan: 1, nan: 1, nan: 1, nan: 1, nan: 1, nan: 1, nan: 1, nan: 1, nan: 1, nan: 1, nan: 1, nan: 1, nan: 1, nan: 1, nan: 1, nan: 1, nan: 1, nan: 1, nan: 1, nan: 1, nan: 1, nan: 1, nan: 1, nan: 1, nan: 1, nan: 1, nan: 1, nan: 1, nan: 1, nan: 1, nan: 1, nan: 1, nan: 1, nan: 1, nan: 1, nan: 1, nan: 1, nan: 1, nan: 1, nan: 1, nan: 1, nan: 1, nan: 1, nan: 1, nan: 1, nan: 1, nan: 1, nan: 1, nan: 1, nan: 1, nan: 1, nan: 1, nan: 1, nan: 1, nan: 1, nan: 1, nan: 1, nan: 1, nan: 1, nan: 1, nan: 1, nan: 1, nan: 1, nan: 1, nan: 1, nan: 1, nan: 1, nan: 1, nan: 1, nan: 1, nan: 1, nan: 1, nan: 1, nan: 1, nan: 1, nan: 1, nan: 1, nan: 1, nan: 1, nan: 1, nan: 1, nan: 1, nan: 1, nan: 1, nan: 1, nan: 1, nan: 1, nan: 1, nan: 1, nan: 1, nan: 1, nan: 1, nan: 1, nan: 1, nan: 1, nan: 1, nan: 1, nan: 1, nan: 1, nan: 1, nan: 1, nan: 1, nan: 1, nan: 1, nan: 1, nan: 1, nan: 1, nan: 1, nan: 1, nan: 1, nan: 1, nan: 1, nan: 1, nan: 1, nan: 1, nan: 1, nan: 1, nan: 1, nan: 1, nan: 1, nan: 1, nan: 1, nan: 1, nan: 1, nan: 1, nan: 1, nan: 1, nan: 1, nan: 1, nan: 1, nan: 1, nan: 1, nan: 1, nan: 1, nan: 1, nan: 1, nan: 1, nan: 1, nan: 1, nan: 1, nan: 1, nan: 1, nan: 1, nan: 1, nan: 1, nan: 1, nan: 1, nan: 1, nan: 1, nan: 1, nan: 1, nan: 1, nan: 1, nan: 1, nan: 1, nan: 1, nan: 1, nan: 1, nan: 1, nan: 1, nan: 1, nan: 1, nan: 1, nan: 1, nan: 1, nan: 1, nan: 1, nan: 1, nan: 1, nan: 1, nan: 1, nan: 1, nan: 1, nan: 1, nan: 1, nan: 1, nan: 1, nan: 1, nan: 1, nan: 1, nan: 1, nan: 1, nan: 1, nan: 1, nan: 1, nan: 1, nan: 1, nan: 1, nan: 1, nan: 1, nan: 1, nan: 1, nan: 1, nan: 1, nan: 1, nan: 1, nan: 1, nan: 1, nan: 1, nan: 1, nan: 1, nan: 1, nan: 1, nan: 1, nan: 1, nan: 1, nan: 1, nan: 1, nan: 1, nan: 1, nan: 1, nan: 1, nan: 1, nan: 1, nan: 1, nan: 1, nan: 1, nan: 1, nan: 1, nan: 1, nan: 1, nan: 1, nan: 1, nan: 1, nan: 1, nan: 1, nan: 1, nan: 1, nan: 1, nan: 1, nan: 1, nan: 1, nan: 1, nan: 1, nan: 1, nan: 1, nan: 1, nan: 1, nan: 1, nan: 1, nan: 1, nan: 1, nan: 1, nan: 1, nan: 1, nan: 1, nan: 1, nan: 1, nan: 1, nan: 1, nan: 1, nan: 1, nan: 1, nan: 1, nan: 1, nan: 1, nan: 1, nan: 1, nan: 1, nan: 1, nan: 1, nan: 1, nan: 1, nan: 1, nan: 1, nan: 1, nan: 1, nan: 1, nan: 1, nan: 1, nan: 1, nan: 1, nan: 1, nan: 1, nan: 1, nan: 1, nan: 1, nan: 1, nan: 1, nan: 1, nan: 1, nan: 1, nan: 1, nan: 1, nan: 1, nan: 1, nan: 1, nan: 1, nan: 1, nan: 1, nan: 1, nan: 1, nan: 1, nan: 1, nan: 1, nan: 1, nan: 1, nan: 1, nan: 1, nan: 1, nan: 1, nan: 1, nan: 1, nan: 1, nan: 1, nan: 1, nan: 1, nan: 1, nan: 1, nan: 1, nan: 1, nan: 1, nan: 1, nan: 1, nan: 1, nan: 1, nan: 1, nan: 1, nan: 1, nan: 1, nan: 1, nan: 1, nan: 1, nan: 1, nan: 1, nan: 1, nan: 1, nan: 1, nan: 1, nan: 1, nan: 1, nan: 1, nan: 1, nan: 1, nan: 1, nan: 1, nan: 1, nan: 1, nan: 1, nan: 1, nan: 1, nan: 1, nan: 1, nan: 1, nan: 1, nan: 1, nan: 1, nan: 1, nan: 1, nan: 1, nan: 1, nan: 1, nan: 1, nan: 1, nan: 1, nan: 1, nan: 1, nan: 1, nan: 1, nan: 1, nan: 1, nan: 1, nan: 1, nan: 1, nan: 1, nan: 1, nan: 1, nan: 1, nan: 1, nan: 1, nan: 1, nan: 1, nan: 1, nan: 1, nan: 1, nan: 1, nan: 1, nan: 1, nan: 1, nan: 1, nan: 1, nan: 1, nan: 1, nan: 1, nan: 1, nan: 1, nan: 1, nan: 1, nan: 1, nan: 1, nan: 1, nan: 1, nan: 1, nan: 1, nan: 1, nan: 1, nan: 1, nan: 1, nan: 1, nan: 1, nan: 1, nan: 1, nan: 1, nan: 1, nan: 1, nan: 1, nan: 1, nan: 1, nan: 1, nan: 1, nan: 1, nan: 1, nan: 1, nan: 1, nan: 1, nan: 1, nan: 1, nan: 1, nan: 1, nan: 1, nan: 1, nan: 1, nan: 1, nan: 1, nan: 1, nan: 1, nan: 1, nan: 1, nan: 1, nan: 1, nan: 1, nan: 1, nan: 1, nan: 1, nan: 1, nan: 1, nan: 1, nan: 1, nan: 1, nan: 1, nan: 1, nan: 1, nan: 1, nan: 1, nan: 1, nan: 1, nan: 1, nan: 1, nan: 1, nan: 1, nan: 1, nan: 1, nan: 1, nan: 1, nan: 1, nan: 1, nan: 1, nan: 1, nan: 1, nan: 1, nan: 1, nan: 1, nan: 1, nan: 1, nan: 1, nan: 1, nan: 1, nan: 1, nan: 1, nan: 1, nan: 1, nan: 1, nan: 1, nan: 1, nan: 1, nan: 1, nan: 1, nan: 1, nan: 1, nan: 1, nan: 1, nan: 1, nan: 1, nan: 1, nan: 1, nan: 1, nan: 1, nan: 1, nan: 1, nan: 1, nan: 1, nan: 1, nan: 1, nan: 1, nan: 1, nan: 1, nan: 1, nan: 1, nan: 1, nan: 1, nan: 1, nan: 1, nan: 1, nan: 1, nan: 1, nan: 1, nan: 1, nan: 1, nan: 1, nan: 1, nan: 1, nan: 1, nan: 1, nan: 1, nan: 1, nan: 1, nan: 1, nan: 1, nan: 1, nan: 1, nan: 1, nan: 1, nan: 1, nan: 1, nan: 1, nan: 1, nan: 1, nan: 1, nan: 1, nan: 1, nan: 1, nan: 1, nan: 1, nan: 1, nan: 1, nan: 1, nan: 1, nan: 1, nan: 1, nan: 1, nan: 1, nan: 1, nan: 1, nan: 1, nan: 1, nan: 1, nan: 1, nan: 1, nan: 1, nan: 1, nan: 1, nan: 1, nan: 1, nan: 1, nan: 1, nan: 1, nan: 1, nan: 1, nan: 1, nan: 1, nan: 1, nan: 1, nan: 1, nan: 1, nan: 1, nan: 1, nan: 1, nan: 1, nan: 1, nan: 1, nan: 1, nan: 1, nan: 1, nan: 1, nan: 1, nan: 1, nan: 1, nan: 1, nan: 1, nan: 1, nan: 1, nan: 1, nan: 1, nan: 1, nan: 1, nan: 1, nan: 1, nan: 1, nan: 1, nan: 1, nan: 1, nan: 1, nan: 1, nan: 1, nan: 1, nan: 1, nan: 1, nan: 1, nan: 1, nan: 1, nan: 1, nan: 1, nan: 1, nan: 1, nan: 1, nan: 1, nan: 1, nan: 1, nan: 1, nan: 1, nan: 1, nan: 1, nan: 1, nan: 1, nan: 1, nan: 1, nan: 1, nan: 1, nan: 1, nan: 1, nan: 1, nan: 1, nan: 1, nan: 1, nan: 1, nan: 1, nan: 1, nan: 1, nan: 1, nan: 1, nan: 1, nan: 1, nan: 1, nan: 1, nan: 1, nan: 1, nan: 1, nan: 1, nan: 1, nan: 1, nan: 1, nan: 1, nan: 1, nan: 1, nan: 1, nan: 1, nan: 1, nan: 1, nan: 1, nan: 1, nan: 1, nan: 1, nan: 1, nan: 1, nan: 1, nan: 1, nan: 1, nan: 1, nan: 1, nan: 1, nan: 1, nan: 1, nan: 1, nan: 1, nan: 1, nan: 1, nan: 1, nan: 1, nan: 1, nan: 1, nan: 1, nan: 1, nan: 1, nan: 1, nan: 1, nan: 1, nan: 1, nan: 1, nan: 1, nan: 1, nan: 1, nan: 1, nan: 1, nan: 1, nan: 1, nan: 1, nan: 1, nan: 1, nan: 1, nan: 1, nan: 1, nan: 1, nan: 1, nan: 1, nan: 1, nan: 1, nan: 1, nan: 1, nan: 1, nan: 1, nan: 1, nan: 1, nan: 1, nan: 1, nan: 1, nan: 1, nan: 1, nan: 1, nan: 1, nan: 1, nan: 1, nan: 1, nan: 1, nan: 1, nan: 1, nan: 1, nan: 1, nan: 1, nan: 1, nan: 1, nan: 1, nan: 1, nan: 1, nan: 1, nan: 1, nan: 1, nan: 1, nan: 1, nan: 1, nan: 1, nan: 1, nan: 1, nan: 1, nan: 1, nan: 1, nan: 1, nan: 1, nan: 1, nan: 1, nan: 1, nan: 1, nan: 1, nan: 1, nan: 1, nan: 1, nan: 1, nan: 1, nan: 1, nan: 1, nan: 1, nan: 1, nan: 1, nan: 1, nan: 1, nan: 1, nan: 1, nan: 1, nan: 1, nan: 1, nan: 1, nan: 1, nan: 1, nan: 1, nan: 1, nan: 1, nan: 1, nan: 1, nan: 1, nan: 1, nan: 1, nan: 1, nan: 1, nan: 1, nan: 1, nan: 1, nan: 1, nan: 1, nan: 1, nan: 1, nan: 1, nan: 1, nan: 1, nan: 1, nan: 1, nan: 1, nan: 1, nan: 1, nan: 1, nan: 1, nan: 1, nan: 1, nan: 1, nan: 1, nan: 1, nan: 1, nan: 1, nan: 1, nan: 1, nan: 1, nan: 1, nan: 1, nan: 1, nan: 1, nan: 1, nan: 1, nan: 1, nan: 1, nan: 1, nan: 1, nan: 1, nan: 1, nan: 1, nan: 1, nan: 1, nan: 1, nan: 1, nan: 1, nan: 1, nan: 1, nan: 1, nan: 1, nan: 1, nan: 1, nan: 1, nan: 1, nan: 1, nan: 1, nan: 1, nan: 1, nan: 1, nan: 1, nan: 1, nan: 1, nan: 1, nan: 1, nan: 1, nan: 1, nan: 1, nan: 1, nan: 1, nan: 1, nan: 1, nan: 1, nan: 1, nan: 1, nan: 1, nan: 1, nan: 1, nan: 1, nan: 1, nan: 1, nan: 1, nan: 1, nan: 1, nan: 1, nan: 1, nan: 1, nan: 1, nan: 1, nan: 1, nan: 1, nan: 1, nan: 1, nan: 1, nan: 1, nan: 1, nan: 1, nan: 1, nan: 1, nan: 1, nan: 1, nan: 1, nan: 1, nan: 1, nan: 1, nan: 1, nan: 1, nan: 1, nan: 1, nan: 1, nan: 1, nan: 1, nan: 1, nan: 1, nan: 1, nan: 1, nan: 1, nan: 1, nan: 1, nan: 1, nan: 1, nan: 1, nan: 1, nan: 1, nan: 1, nan: 1, nan: 1, nan: 1, nan: 1, nan: 1, nan: 1, nan: 1, nan: 1, nan: 1, nan: 1, nan: 1, nan: 1, nan: 1, nan: 1, nan: 1, nan: 1, nan: 1, nan: 1, nan: 1, nan: 1, nan: 1, nan: 1, nan: 1, nan: 1, nan: 1, nan: 1, nan: 1, nan: 1, nan: 1, nan: 1, nan: 1, nan: 1, nan: 1, nan: 1, nan: 1, nan: 1, nan: 1, nan: 1, nan: 1, nan: 1, nan: 1, nan: 1, nan: 1, nan: 1, nan: 1, nan: 1, nan: 1, nan: 1, nan: 1, nan: 1, nan: 1, nan: 1, nan: 1, nan: 1, nan: 1, nan: 1, nan: 1, nan: 1, nan: 1, nan: 1, nan: 1, nan: 1, nan: 1, nan: 1, nan: 1, nan: 1, nan: 1, nan: 1, nan: 1, nan: 1, nan: 1, nan: 1, nan: 1, nan: 1, nan: 1, nan: 1, nan: 1, nan: 1, nan: 1, nan: 1, nan: 1, nan: 1, nan: 1, nan: 1, nan: 1, nan: 1, nan: 1, nan: 1, nan: 1, nan: 1, nan: 1, nan: 1, nan: 1, nan: 1, nan: 1, nan: 1, nan: 1, nan: 1, nan: 1, nan: 1, nan: 1, nan: 1, nan: 1, nan: 1, nan: 1, nan: 1, nan: 1, nan: 1, nan: 1, nan: 1, nan: 1, nan: 1, nan: 1, nan: 1, nan: 1, nan: 1, nan: 1, nan: 1, nan: 1, nan: 1, nan: 1, nan: 1, nan: 1, nan: 1, nan: 1, nan: 1, nan: 1, nan: 1, nan: 1, nan: 1, nan: 1, nan: 1, nan: 1, nan: 1, nan: 1, nan: 1, nan: 1, nan: 1, nan: 1, nan: 1, nan: 1, nan: 1, nan: 1, nan: 1, nan: 1, nan: 1, nan: 1, nan: 1, nan: 1, nan: 1, nan: 1, nan: 1, nan: 1, nan: 1, nan: 1, nan: 1, nan: 1, nan: 1, nan: 1, nan: 1, nan: 1, nan: 1, nan: 1, nan: 1, nan: 1, nan: 1, nan: 1, nan: 1, nan: 1, nan: 1, nan: 1, nan: 1, nan: 1, nan: 1, nan: 1, nan: 1, nan: 1, nan: 1, nan: 1, nan: 1, nan: 1, nan: 1, nan: 1, nan: 1, nan: 1, nan: 1, nan: 1, nan: 1, nan: 1, nan: 1, nan: 1, nan: 1, nan: 1, nan: 1, nan: 1, nan: 1, nan: 1, nan: 1, nan: 1, nan: 1, nan: 1, nan: 1, nan: 1, nan: 1, nan: 1, nan: 1, nan: 1, nan: 1, nan: 1, nan: 1, nan: 1, nan: 1, nan: 1, nan: 1, nan: 1, nan: 1, nan: 1, nan: 1, nan: 1, nan: 1, nan: 1, nan: 1, nan: 1, nan: 1, nan: 1, nan: 1, nan: 1, nan: 1, nan: 1, nan: 1, nan: 1, nan: 1, nan: 1, nan: 1, nan: 1, nan: 1, nan: 1, nan: 1, nan: 1, nan: 1, nan: 1, nan: 1, nan: 1, nan: 1, nan: 1, nan: 1, nan: 1, nan: 1, nan: 1, nan: 1, nan: 1, nan: 1, nan: 1, nan: 1, nan: 1, nan: 1, nan: 1, nan: 1, nan: 1, nan: 1, nan: 1, nan: 1, nan: 1, nan: 1, nan: 1, nan: 1, nan: 1, nan: 1, nan: 1, nan: 1, nan: 1, nan: 1, nan: 1, nan: 1, nan: 1, nan: 1, nan: 1, nan: 1, nan: 1, nan: 1, nan: 1, nan: 1, nan: 1, nan: 1, nan: 1, nan: 1, nan: 1, nan: 1, nan: 1, nan: 1, nan: 1, nan: 1, nan: 1, nan: 1, nan: 1, nan: 1, nan: 1, nan: 1, nan: 1, nan: 1, nan: 1, nan: 1, nan: 1, nan: 1, nan: 1, nan: 1, nan: 1, nan: 1, nan: 1, nan: 1, nan: 1, nan: 1, nan: 1, nan: 1, nan: 1, nan: 1, nan: 1, nan: 1, nan: 1, nan: 1, nan: 1, nan: 1, nan: 1, nan: 1, nan: 1, nan: 1, nan: 1, nan: 1, nan: 1, nan: 1, nan: 1, nan: 1, nan: 1, nan: 1, nan: 1, nan: 1, nan: 1, nan: 1, nan: 1, nan: 1, nan: 1, nan: 1, nan: 1, nan: 1, nan: 1, nan: 1, nan: 1, nan: 1, nan: 1, nan: 1, nan: 1, nan: 1, nan: 1})\n"
          ],
          "name": "stdout"
        }
      ]
    },
    {
      "cell_type": "code",
      "metadata": {
        "id": "KPXSeZ-R8pjF"
      },
      "source": [
        "# Por ser valor de tipo de diagnóstico optei por não colocar o valor que mais aparece e \r\n",
        "# substituir os campos nulos por nenhum (None)\r\n",
        "df['apache_2_diagnosis'].fillna('None', inplace = True)"
      ],
      "execution_count": null,
      "outputs": []
    },
    {
      "cell_type": "markdown",
      "metadata": {
        "id": "WukJxzXP9YWH"
      },
      "source": [
        "**Verificando os dados faltantes na variável apache_3j_diagnosis e fazendo a média para substituir nos valores nulos**"
      ]
    },
    {
      "cell_type": "code",
      "metadata": {
        "colab": {
          "base_uri": "https://localhost:8080/"
        },
        "id": "vC8xoz_i9Ph0",
        "outputId": "b619293f-8081-4789-c594-00b73a17981d"
      },
      "source": [
        "# Quantidade de valores nulos na variável apache_3j_diagnosis\r\n",
        "df['apache_3j_diagnosis'].isnull().sum()"
      ],
      "execution_count": null,
      "outputs": [
        {
          "output_type": "execute_result",
          "data": {
            "text/plain": [
              "865"
            ]
          },
          "metadata": {
            "tags": []
          },
          "execution_count": 35
        }
      ]
    },
    {
      "cell_type": "code",
      "metadata": {
        "id": "yEDHZNT5-uF0"
      },
      "source": [
        "# Por ser valor de subtipo de diagnóstico optei por não colocar o valor que mais aparece e \r\n",
        "# substituir os campos nulos por nenhum (None)\r\n",
        "df['apache_3j_diagnosis'].fillna('None', inplace = True)"
      ],
      "execution_count": null,
      "outputs": []
    },
    {
      "cell_type": "markdown",
      "metadata": {
        "id": "u0IC46-y_Kf9"
      },
      "source": [
        "**Verificando os dados faltantes na variável bilirubin_apache e fazendo a média para substituir nos valores nulos**"
      ]
    },
    {
      "cell_type": "code",
      "metadata": {
        "colab": {
          "base_uri": "https://localhost:8080/"
        },
        "id": "K3C5ThAK-_mj",
        "outputId": "4d6ff6ff-8250-4943-c35d-2953ef0599e5"
      },
      "source": [
        "# Quantidade de valores nulos na variável bilirubin_apache\r\n",
        "df['bilirubin_apache'].isnull().sum()"
      ],
      "execution_count": null,
      "outputs": [
        {
          "output_type": "execute_result",
          "data": {
            "text/plain": [
              "82560"
            ]
          },
          "metadata": {
            "tags": []
          },
          "execution_count": 37
        }
      ]
    },
    {
      "cell_type": "code",
      "metadata": {
        "colab": {
          "base_uri": "https://localhost:8080/"
        },
        "id": "NayIxLMXAAL8",
        "outputId": "b2a0519a-0a8e-4dcd-b69b-521348785d23"
      },
      "source": [
        "# Média de bilirubin_apache nesse dataset\r\n",
        "bilirubin_apache_mean = df['bilirubin_apache'].mean()\r\n",
        "print(bilirubin_apache_mean)"
      ],
      "execution_count": null,
      "outputs": [
        {
          "output_type": "stream",
          "text": [
            "1.2012217156544167\n"
          ],
          "name": "stdout"
        }
      ]
    },
    {
      "cell_type": "code",
      "metadata": {
        "id": "H8b_9vsMBFDL"
      },
      "source": [
        "# E no bilirubin substituir pela média de bilirubin no dataset.\r\n",
        "df['bilirubin_apache'].fillna(df['bilirubin_apache'].mean(), inplace = True)"
      ],
      "execution_count": null,
      "outputs": []
    },
    {
      "cell_type": "markdown",
      "metadata": {
        "id": "gdfkCPbwBgWf"
      },
      "source": [
        "**Verificando os dados faltantes na variável bun_apache e fazendo a média para substituir nos valores nulos**"
      ]
    },
    {
      "cell_type": "code",
      "metadata": {
        "colab": {
          "base_uri": "https://localhost:8080/"
        },
        "id": "WhsB9I6NBbNH",
        "outputId": "c8acb1cc-c9b8-4b7f-ce59-4a5b40df6ea6"
      },
      "source": [
        "# Quantidade de valores nulos na variável bun_apache\r\n",
        "df['bun_apache'].isnull().sum()"
      ],
      "execution_count": null,
      "outputs": [
        {
          "output_type": "execute_result",
          "data": {
            "text/plain": [
              "25411"
            ]
          },
          "metadata": {
            "tags": []
          },
          "execution_count": 40
        }
      ]
    },
    {
      "cell_type": "code",
      "metadata": {
        "colab": {
          "base_uri": "https://localhost:8080/"
        },
        "id": "BYHAioxZB4qQ",
        "outputId": "6f770fd4-c889-48a8-89af-100056b91e21"
      },
      "source": [
        "# Média de bun_apache nesse dataset\r\n",
        "bun_apache_mean = df['bun_apache'].mean()\r\n",
        "print(bun_apache_mean)"
      ],
      "execution_count": null,
      "outputs": [
        {
          "output_type": "stream",
          "text": [
            "25.718070475244886\n"
          ],
          "name": "stdout"
        }
      ]
    },
    {
      "cell_type": "code",
      "metadata": {
        "id": "_TqKORCcCdzp"
      },
      "source": [
        "# E no bun_apache substituir pela média de bun_apache no dataset.\r\n",
        "df['bun_apache'].fillna(df['bun_apache'].mean(), inplace = True)"
      ],
      "execution_count": null,
      "outputs": []
    },
    {
      "cell_type": "markdown",
      "metadata": {
        "id": "RQ4wka9kC5hZ"
      },
      "source": [
        "**Verificando os dados faltantes na variável creatinine_apache e fazendo a média para substituir nos valores nulos**"
      ]
    },
    {
      "cell_type": "code",
      "metadata": {
        "colab": {
          "base_uri": "https://localhost:8080/"
        },
        "id": "3kHGAX9ICuFh",
        "outputId": "9a0b09c8-d3b2-404a-9498-62f34730a31d"
      },
      "source": [
        "# Quantidade de valores nulos na variável creatinine_apache\r\n",
        "df['creatinine_apache'].isnull().sum()"
      ],
      "execution_count": null,
      "outputs": [
        {
          "output_type": "execute_result",
          "data": {
            "text/plain": [
              "24882"
            ]
          },
          "metadata": {
            "tags": []
          },
          "execution_count": 43
        }
      ]
    },
    {
      "cell_type": "code",
      "metadata": {
        "colab": {
          "base_uri": "https://localhost:8080/"
        },
        "id": "H_gDlhYpDRYa",
        "outputId": "74167b0b-6ae6-4e6b-cc95-98794075fe8d"
      },
      "source": [
        "# Média de creatinine_apache nesse dataset\r\n",
        "creatinine_apache_mean = df['creatinine_apache'].mean()\r\n",
        "print(creatinine_apache_mean)"
      ],
      "execution_count": null,
      "outputs": [
        {
          "output_type": "stream",
          "text": [
            "1.4816293516979149\n"
          ],
          "name": "stdout"
        }
      ]
    },
    {
      "cell_type": "code",
      "metadata": {
        "id": "pBKsRyW3DoVM"
      },
      "source": [
        "# E no creatinine_apache substituir pela média de creatinine_apache no dataset.\r\n",
        "df['creatinine_apache'].fillna(df['creatinine_apache'].mean(), inplace = True)"
      ],
      "execution_count": null,
      "outputs": []
    },
    {
      "cell_type": "markdown",
      "metadata": {
        "id": "gdPXJM2eD_tA"
      },
      "source": [
        "**Verificando os dados faltantes na variável fio2_apache e fazendo a média para substituir nos valores nulos**"
      ]
    },
    {
      "cell_type": "code",
      "metadata": {
        "colab": {
          "base_uri": "https://localhost:8080/"
        },
        "id": "QQARj0goD3n2",
        "outputId": "61ff7a35-a532-409a-b659-14666cced83e"
      },
      "source": [
        "# Quantidade de valores nulos na variável fio2_apache\r\n",
        "df['fio2_apache'].isnull().sum()"
      ],
      "execution_count": null,
      "outputs": [
        {
          "output_type": "execute_result",
          "data": {
            "text/plain": [
              "99720"
            ]
          },
          "metadata": {
            "tags": []
          },
          "execution_count": 46
        }
      ]
    },
    {
      "cell_type": "code",
      "metadata": {
        "colab": {
          "base_uri": "https://localhost:8080/"
        },
        "id": "xDa1JG1XH1pi",
        "outputId": "dfc43392-d71a-4240-e8c8-d9c59374720a"
      },
      "source": [
        "# Média de fio2_apache nesse dataset\r\n",
        "fio2_apache_mean = df['fio2_apache'].mean()\r\n",
        "print(fio2_apache_mean)"
      ],
      "execution_count": null,
      "outputs": [
        {
          "output_type": "stream",
          "text": [
            "0.5957347636100355\n"
          ],
          "name": "stdout"
        }
      ]
    },
    {
      "cell_type": "code",
      "metadata": {
        "id": "-60OMfCtIgzJ"
      },
      "source": [
        "# E no fio2_apache substituir pela média de fio2_apache no dataset.\r\n",
        "df['fio2_apache'].fillna(df['fio2_apache'].mean(), inplace = True)"
      ],
      "execution_count": null,
      "outputs": []
    },
    {
      "cell_type": "markdown",
      "metadata": {
        "id": "0ocP8jRjJCOQ"
      },
      "source": [
        "**Verificando os dados faltantes na variável gcs_eyes_apache**"
      ]
    },
    {
      "cell_type": "code",
      "metadata": {
        "colab": {
          "base_uri": "https://localhost:8080/"
        },
        "id": "kA6kRZtDI7H1",
        "outputId": "77ee6e9c-681e-4bce-9319-abc76487817b"
      },
      "source": [
        "# Quantidade de valores nulos na variável gcs_eyes_apache\r\n",
        "df['gcs_eyes_apache'].isnull().sum()"
      ],
      "execution_count": null,
      "outputs": [
        {
          "output_type": "execute_result",
          "data": {
            "text/plain": [
              "2190"
            ]
          },
          "metadata": {
            "tags": []
          },
          "execution_count": 49
        }
      ]
    },
    {
      "cell_type": "code",
      "metadata": {
        "colab": {
          "base_uri": "https://localhost:8080/"
        },
        "id": "BMe23253JXQV",
        "outputId": "932119d5-18dd-434a-e77f-3cba632d111e"
      },
      "source": [
        "# Quantidade de cada gcs_eyes_apache na pesquisa por ser tipo inteiro\r\n",
        "gcs_eyes_apache_qtd = df['gcs_eyes_apache']\r\n",
        "counter3 = Counter(gcs_eyes_apache_qtd)\r\n",
        "print(counter3)"
      ],
      "execution_count": null,
      "outputs": [
        {
          "output_type": "stream",
          "text": [
            "Counter({4.0: 91601, 3.0: 18662, 1.0: 11412, 2.0: 6292, nan: 1, nan: 1, nan: 1, nan: 1, nan: 1, nan: 1, nan: 1, nan: 1, nan: 1, nan: 1, nan: 1, nan: 1, nan: 1, nan: 1, nan: 1, nan: 1, nan: 1, nan: 1, nan: 1, nan: 1, nan: 1, nan: 1, nan: 1, nan: 1, nan: 1, nan: 1, nan: 1, nan: 1, nan: 1, nan: 1, nan: 1, nan: 1, nan: 1, nan: 1, nan: 1, nan: 1, nan: 1, nan: 1, nan: 1, nan: 1, nan: 1, nan: 1, nan: 1, nan: 1, nan: 1, nan: 1, nan: 1, nan: 1, nan: 1, nan: 1, nan: 1, nan: 1, nan: 1, nan: 1, nan: 1, nan: 1, nan: 1, nan: 1, nan: 1, nan: 1, nan: 1, nan: 1, nan: 1, nan: 1, nan: 1, nan: 1, nan: 1, nan: 1, nan: 1, nan: 1, nan: 1, nan: 1, nan: 1, nan: 1, nan: 1, nan: 1, nan: 1, nan: 1, nan: 1, nan: 1, nan: 1, nan: 1, nan: 1, nan: 1, nan: 1, nan: 1, nan: 1, nan: 1, nan: 1, nan: 1, nan: 1, nan: 1, nan: 1, nan: 1, nan: 1, nan: 1, nan: 1, nan: 1, nan: 1, nan: 1, nan: 1, nan: 1, nan: 1, nan: 1, nan: 1, nan: 1, nan: 1, nan: 1, nan: 1, nan: 1, nan: 1, nan: 1, nan: 1, nan: 1, nan: 1, nan: 1, nan: 1, nan: 1, nan: 1, nan: 1, nan: 1, nan: 1, nan: 1, nan: 1, nan: 1, nan: 1, nan: 1, nan: 1, nan: 1, nan: 1, nan: 1, nan: 1, nan: 1, nan: 1, nan: 1, nan: 1, nan: 1, nan: 1, nan: 1, nan: 1, nan: 1, nan: 1, nan: 1, nan: 1, nan: 1, nan: 1, nan: 1, nan: 1, nan: 1, nan: 1, nan: 1, nan: 1, nan: 1, nan: 1, nan: 1, nan: 1, nan: 1, nan: 1, nan: 1, nan: 1, nan: 1, nan: 1, nan: 1, nan: 1, nan: 1, nan: 1, nan: 1, nan: 1, nan: 1, nan: 1, nan: 1, nan: 1, nan: 1, nan: 1, nan: 1, nan: 1, nan: 1, nan: 1, nan: 1, nan: 1, nan: 1, nan: 1, nan: 1, nan: 1, nan: 1, nan: 1, nan: 1, nan: 1, nan: 1, nan: 1, nan: 1, nan: 1, nan: 1, nan: 1, nan: 1, nan: 1, nan: 1, nan: 1, nan: 1, nan: 1, nan: 1, nan: 1, nan: 1, nan: 1, nan: 1, nan: 1, nan: 1, nan: 1, nan: 1, nan: 1, nan: 1, nan: 1, nan: 1, nan: 1, nan: 1, nan: 1, nan: 1, nan: 1, nan: 1, nan: 1, nan: 1, nan: 1, nan: 1, nan: 1, nan: 1, nan: 1, nan: 1, nan: 1, nan: 1, nan: 1, nan: 1, nan: 1, nan: 1, nan: 1, nan: 1, nan: 1, nan: 1, nan: 1, nan: 1, nan: 1, nan: 1, nan: 1, nan: 1, nan: 1, nan: 1, nan: 1, nan: 1, nan: 1, nan: 1, nan: 1, nan: 1, nan: 1, nan: 1, nan: 1, nan: 1, nan: 1, nan: 1, nan: 1, nan: 1, nan: 1, nan: 1, nan: 1, nan: 1, nan: 1, nan: 1, nan: 1, nan: 1, nan: 1, nan: 1, nan: 1, nan: 1, nan: 1, nan: 1, nan: 1, nan: 1, nan: 1, nan: 1, nan: 1, nan: 1, nan: 1, nan: 1, nan: 1, nan: 1, nan: 1, nan: 1, nan: 1, nan: 1, nan: 1, nan: 1, nan: 1, nan: 1, nan: 1, nan: 1, nan: 1, nan: 1, nan: 1, nan: 1, nan: 1, nan: 1, nan: 1, nan: 1, nan: 1, nan: 1, nan: 1, nan: 1, nan: 1, nan: 1, nan: 1, nan: 1, nan: 1, nan: 1, nan: 1, nan: 1, nan: 1, nan: 1, nan: 1, nan: 1, nan: 1, nan: 1, nan: 1, nan: 1, nan: 1, nan: 1, nan: 1, nan: 1, nan: 1, nan: 1, nan: 1, nan: 1, nan: 1, nan: 1, nan: 1, nan: 1, nan: 1, nan: 1, nan: 1, nan: 1, nan: 1, nan: 1, nan: 1, nan: 1, nan: 1, nan: 1, nan: 1, nan: 1, nan: 1, nan: 1, nan: 1, nan: 1, nan: 1, nan: 1, nan: 1, nan: 1, nan: 1, nan: 1, nan: 1, nan: 1, nan: 1, nan: 1, nan: 1, nan: 1, nan: 1, nan: 1, nan: 1, nan: 1, nan: 1, nan: 1, nan: 1, nan: 1, nan: 1, nan: 1, nan: 1, nan: 1, nan: 1, nan: 1, nan: 1, nan: 1, nan: 1, nan: 1, nan: 1, nan: 1, nan: 1, nan: 1, nan: 1, nan: 1, nan: 1, nan: 1, nan: 1, nan: 1, nan: 1, nan: 1, nan: 1, nan: 1, nan: 1, nan: 1, nan: 1, nan: 1, nan: 1, nan: 1, nan: 1, nan: 1, nan: 1, nan: 1, nan: 1, nan: 1, nan: 1, nan: 1, nan: 1, nan: 1, nan: 1, nan: 1, nan: 1, nan: 1, nan: 1, nan: 1, nan: 1, nan: 1, nan: 1, nan: 1, nan: 1, nan: 1, nan: 1, nan: 1, nan: 1, nan: 1, nan: 1, nan: 1, nan: 1, nan: 1, nan: 1, nan: 1, nan: 1, nan: 1, nan: 1, nan: 1, nan: 1, nan: 1, nan: 1, nan: 1, nan: 1, nan: 1, nan: 1, nan: 1, nan: 1, nan: 1, nan: 1, nan: 1, nan: 1, nan: 1, nan: 1, nan: 1, nan: 1, nan: 1, nan: 1, nan: 1, nan: 1, nan: 1, nan: 1, nan: 1, nan: 1, nan: 1, nan: 1, nan: 1, nan: 1, nan: 1, nan: 1, nan: 1, nan: 1, nan: 1, nan: 1, nan: 1, nan: 1, nan: 1, nan: 1, nan: 1, nan: 1, nan: 1, nan: 1, nan: 1, nan: 1, nan: 1, nan: 1, nan: 1, nan: 1, nan: 1, nan: 1, nan: 1, nan: 1, nan: 1, nan: 1, nan: 1, nan: 1, nan: 1, nan: 1, nan: 1, nan: 1, nan: 1, nan: 1, nan: 1, nan: 1, nan: 1, nan: 1, nan: 1, nan: 1, nan: 1, nan: 1, nan: 1, nan: 1, nan: 1, nan: 1, nan: 1, nan: 1, nan: 1, nan: 1, nan: 1, nan: 1, nan: 1, nan: 1, nan: 1, nan: 1, nan: 1, nan: 1, nan: 1, nan: 1, nan: 1, nan: 1, nan: 1, nan: 1, nan: 1, nan: 1, nan: 1, nan: 1, nan: 1, nan: 1, nan: 1, nan: 1, nan: 1, nan: 1, nan: 1, nan: 1, nan: 1, nan: 1, nan: 1, nan: 1, nan: 1, nan: 1, nan: 1, nan: 1, nan: 1, nan: 1, nan: 1, nan: 1, nan: 1, nan: 1, nan: 1, nan: 1, nan: 1, nan: 1, nan: 1, nan: 1, nan: 1, nan: 1, nan: 1, nan: 1, nan: 1, nan: 1, nan: 1, nan: 1, nan: 1, nan: 1, nan: 1, nan: 1, nan: 1, nan: 1, nan: 1, nan: 1, nan: 1, nan: 1, nan: 1, nan: 1, nan: 1, nan: 1, nan: 1, nan: 1, nan: 1, nan: 1, nan: 1, nan: 1, nan: 1, nan: 1, nan: 1, nan: 1, nan: 1, nan: 1, nan: 1, nan: 1, nan: 1, nan: 1, nan: 1, nan: 1, nan: 1, nan: 1, nan: 1, nan: 1, nan: 1, nan: 1, nan: 1, nan: 1, nan: 1, nan: 1, nan: 1, nan: 1, nan: 1, nan: 1, nan: 1, nan: 1, nan: 1, nan: 1, nan: 1, nan: 1, nan: 1, nan: 1, nan: 1, nan: 1, nan: 1, nan: 1, nan: 1, nan: 1, nan: 1, nan: 1, nan: 1, nan: 1, nan: 1, nan: 1, nan: 1, nan: 1, nan: 1, nan: 1, nan: 1, nan: 1, nan: 1, nan: 1, nan: 1, nan: 1, nan: 1, nan: 1, nan: 1, nan: 1, nan: 1, nan: 1, nan: 1, nan: 1, nan: 1, nan: 1, nan: 1, nan: 1, nan: 1, nan: 1, nan: 1, nan: 1, nan: 1, nan: 1, nan: 1, nan: 1, nan: 1, nan: 1, nan: 1, nan: 1, nan: 1, nan: 1, nan: 1, nan: 1, nan: 1, nan: 1, nan: 1, nan: 1, nan: 1, nan: 1, nan: 1, nan: 1, nan: 1, nan: 1, nan: 1, nan: 1, nan: 1, nan: 1, nan: 1, nan: 1, nan: 1, nan: 1, nan: 1, nan: 1, nan: 1, nan: 1, nan: 1, nan: 1, nan: 1, nan: 1, nan: 1, nan: 1, nan: 1, nan: 1, nan: 1, nan: 1, nan: 1, nan: 1, nan: 1, nan: 1, nan: 1, nan: 1, nan: 1, nan: 1, nan: 1, nan: 1, nan: 1, nan: 1, nan: 1, nan: 1, nan: 1, nan: 1, nan: 1, nan: 1, nan: 1, nan: 1, nan: 1, nan: 1, nan: 1, nan: 1, nan: 1, nan: 1, nan: 1, nan: 1, nan: 1, nan: 1, nan: 1, nan: 1, nan: 1, nan: 1, nan: 1, nan: 1, nan: 1, nan: 1, nan: 1, nan: 1, nan: 1, nan: 1, nan: 1, nan: 1, nan: 1, nan: 1, nan: 1, nan: 1, nan: 1, nan: 1, nan: 1, nan: 1, nan: 1, nan: 1, nan: 1, nan: 1, nan: 1, nan: 1, nan: 1, nan: 1, nan: 1, nan: 1, nan: 1, nan: 1, nan: 1, nan: 1, nan: 1, nan: 1, nan: 1, nan: 1, nan: 1, nan: 1, nan: 1, nan: 1, nan: 1, nan: 1, nan: 1, nan: 1, nan: 1, nan: 1, nan: 1, nan: 1, nan: 1, nan: 1, nan: 1, nan: 1, nan: 1, nan: 1, nan: 1, nan: 1, nan: 1, nan: 1, nan: 1, nan: 1, nan: 1, nan: 1, nan: 1, nan: 1, nan: 1, nan: 1, nan: 1, nan: 1, nan: 1, nan: 1, nan: 1, nan: 1, nan: 1, nan: 1, nan: 1, nan: 1, nan: 1, nan: 1, nan: 1, nan: 1, nan: 1, nan: 1, nan: 1, nan: 1, nan: 1, nan: 1, nan: 1, nan: 1, nan: 1, nan: 1, nan: 1, nan: 1, nan: 1, nan: 1, nan: 1, nan: 1, nan: 1, nan: 1, nan: 1, nan: 1, nan: 1, nan: 1, nan: 1, nan: 1, nan: 1, nan: 1, nan: 1, nan: 1, nan: 1, nan: 1, nan: 1, nan: 1, nan: 1, nan: 1, nan: 1, nan: 1, nan: 1, nan: 1, nan: 1, nan: 1, nan: 1, nan: 1, nan: 1, nan: 1, nan: 1, nan: 1, nan: 1, nan: 1, nan: 1, nan: 1, nan: 1, nan: 1, nan: 1, nan: 1, nan: 1, nan: 1, nan: 1, nan: 1, nan: 1, nan: 1, nan: 1, nan: 1, nan: 1, nan: 1, nan: 1, nan: 1, nan: 1, nan: 1, nan: 1, nan: 1, nan: 1, nan: 1, nan: 1, nan: 1, nan: 1, nan: 1, nan: 1, nan: 1, nan: 1, nan: 1, nan: 1, nan: 1, nan: 1, nan: 1, nan: 1, nan: 1, nan: 1, nan: 1, nan: 1, nan: 1, nan: 1, nan: 1, nan: 1, nan: 1, nan: 1, nan: 1, nan: 1, nan: 1, nan: 1, nan: 1, nan: 1, nan: 1, nan: 1, nan: 1, nan: 1, nan: 1, nan: 1, nan: 1, nan: 1, nan: 1, nan: 1, nan: 1, nan: 1, nan: 1, nan: 1, nan: 1, nan: 1, nan: 1, nan: 1, nan: 1, nan: 1, nan: 1, nan: 1, nan: 1, nan: 1, nan: 1, nan: 1, nan: 1, nan: 1, nan: 1, nan: 1, nan: 1, nan: 1, nan: 1, nan: 1, nan: 1, nan: 1, nan: 1, nan: 1, nan: 1, nan: 1, nan: 1, nan: 1, nan: 1, nan: 1, nan: 1, nan: 1, nan: 1, nan: 1, nan: 1, nan: 1, nan: 1, nan: 1, nan: 1, nan: 1, nan: 1, nan: 1, nan: 1, nan: 1, nan: 1, nan: 1, nan: 1, nan: 1, nan: 1, nan: 1, nan: 1, nan: 1, nan: 1, nan: 1, nan: 1, nan: 1, nan: 1, nan: 1, nan: 1, nan: 1, nan: 1, nan: 1, nan: 1, nan: 1, nan: 1, nan: 1, nan: 1, nan: 1, nan: 1, nan: 1, nan: 1, nan: 1, nan: 1, nan: 1, nan: 1, nan: 1, nan: 1, nan: 1, nan: 1, nan: 1, nan: 1, nan: 1, nan: 1, nan: 1, nan: 1, nan: 1, nan: 1, nan: 1, nan: 1, nan: 1, nan: 1, nan: 1, nan: 1, nan: 1, nan: 1, nan: 1, nan: 1, nan: 1, nan: 1, nan: 1, nan: 1, nan: 1, nan: 1, nan: 1, nan: 1, nan: 1, nan: 1, nan: 1, nan: 1, nan: 1, nan: 1, nan: 1, nan: 1, nan: 1, nan: 1, nan: 1, nan: 1, nan: 1, nan: 1, nan: 1, nan: 1, nan: 1, nan: 1, nan: 1, nan: 1, nan: 1, nan: 1, nan: 1, nan: 1, nan: 1, nan: 1, nan: 1, nan: 1, nan: 1, nan: 1, nan: 1, nan: 1, nan: 1, nan: 1, nan: 1, nan: 1, nan: 1, nan: 1, nan: 1, nan: 1, nan: 1, nan: 1, nan: 1, nan: 1, nan: 1, nan: 1, nan: 1, nan: 1, nan: 1, nan: 1, nan: 1, nan: 1, nan: 1, nan: 1, nan: 1, nan: 1, nan: 1, nan: 1, nan: 1, nan: 1, nan: 1, nan: 1, nan: 1, nan: 1, nan: 1, nan: 1, nan: 1, nan: 1, nan: 1, nan: 1, nan: 1, nan: 1, nan: 1, nan: 1, nan: 1, nan: 1, nan: 1, nan: 1, nan: 1, nan: 1, nan: 1, nan: 1, nan: 1, nan: 1, nan: 1, nan: 1, nan: 1, nan: 1, nan: 1, nan: 1, nan: 1, nan: 1, nan: 1, nan: 1, nan: 1, nan: 1, nan: 1, nan: 1, nan: 1, nan: 1, nan: 1, nan: 1, nan: 1, nan: 1, nan: 1, nan: 1, nan: 1, nan: 1, nan: 1, nan: 1, nan: 1, nan: 1, nan: 1, nan: 1, nan: 1, nan: 1, nan: 1, nan: 1, nan: 1, nan: 1, nan: 1, nan: 1, nan: 1, nan: 1, nan: 1, nan: 1, nan: 1, nan: 1, nan: 1, nan: 1, nan: 1, nan: 1, nan: 1, nan: 1, nan: 1, nan: 1, nan: 1, nan: 1, nan: 1, nan: 1, nan: 1, nan: 1, nan: 1, nan: 1, nan: 1, nan: 1, nan: 1, nan: 1, nan: 1, nan: 1, nan: 1, nan: 1, nan: 1, nan: 1, nan: 1, nan: 1, nan: 1, nan: 1, nan: 1, nan: 1, nan: 1, nan: 1, nan: 1, nan: 1, nan: 1, nan: 1, nan: 1, nan: 1, nan: 1, nan: 1, nan: 1, nan: 1, nan: 1, nan: 1, nan: 1, nan: 1, nan: 1, nan: 1, nan: 1, nan: 1, nan: 1, nan: 1, nan: 1, nan: 1, nan: 1, nan: 1, nan: 1, nan: 1, nan: 1, nan: 1, nan: 1, nan: 1, nan: 1, nan: 1, nan: 1, nan: 1, nan: 1, nan: 1, nan: 1, nan: 1, nan: 1, nan: 1, nan: 1, nan: 1, nan: 1, nan: 1, nan: 1, nan: 1, nan: 1, nan: 1, nan: 1, nan: 1, nan: 1, nan: 1, nan: 1, nan: 1, nan: 1, nan: 1, nan: 1, nan: 1, nan: 1, nan: 1, nan: 1, nan: 1, nan: 1, nan: 1, nan: 1, nan: 1, nan: 1, nan: 1, nan: 1, nan: 1, nan: 1, nan: 1, nan: 1, nan: 1, nan: 1, nan: 1, nan: 1, nan: 1, nan: 1, nan: 1, nan: 1, nan: 1, nan: 1, nan: 1, nan: 1, nan: 1, nan: 1, nan: 1, nan: 1, nan: 1, nan: 1, nan: 1, nan: 1, nan: 1, nan: 1, nan: 1, nan: 1, nan: 1, nan: 1, nan: 1, nan: 1, nan: 1, nan: 1, nan: 1, nan: 1, nan: 1, nan: 1, nan: 1, nan: 1, nan: 1, nan: 1, nan: 1, nan: 1, nan: 1, nan: 1, nan: 1, nan: 1, nan: 1, nan: 1, nan: 1, nan: 1, nan: 1, nan: 1, nan: 1, nan: 1, nan: 1, nan: 1, nan: 1, nan: 1, nan: 1, nan: 1, nan: 1, nan: 1, nan: 1, nan: 1, nan: 1, nan: 1, nan: 1, nan: 1, nan: 1, nan: 1, nan: 1, nan: 1, nan: 1, nan: 1, nan: 1, nan: 1, nan: 1, nan: 1, nan: 1, nan: 1, nan: 1, nan: 1, nan: 1, nan: 1, nan: 1, nan: 1, nan: 1, nan: 1, nan: 1, nan: 1, nan: 1, nan: 1, nan: 1, nan: 1, nan: 1, nan: 1, nan: 1, nan: 1, nan: 1, nan: 1, nan: 1, nan: 1, nan: 1, nan: 1, nan: 1, nan: 1, nan: 1, nan: 1, nan: 1, nan: 1, nan: 1, nan: 1, nan: 1, nan: 1, nan: 1, nan: 1, nan: 1, nan: 1, nan: 1, nan: 1, nan: 1, nan: 1, nan: 1, nan: 1, nan: 1, nan: 1, nan: 1, nan: 1, nan: 1, nan: 1, nan: 1, nan: 1, nan: 1, nan: 1, nan: 1, nan: 1, nan: 1, nan: 1, nan: 1, nan: 1, nan: 1, nan: 1, nan: 1, nan: 1, nan: 1, nan: 1, nan: 1, nan: 1, nan: 1, nan: 1, nan: 1, nan: 1, nan: 1, nan: 1, nan: 1, nan: 1, nan: 1, nan: 1, nan: 1, nan: 1, nan: 1, nan: 1, nan: 1, nan: 1, nan: 1, nan: 1, nan: 1, nan: 1, nan: 1, nan: 1, nan: 1, nan: 1, nan: 1, nan: 1, nan: 1, nan: 1, nan: 1, nan: 1, nan: 1, nan: 1, nan: 1, nan: 1, nan: 1, nan: 1, nan: 1, nan: 1, nan: 1, nan: 1, nan: 1, nan: 1, nan: 1, nan: 1, nan: 1, nan: 1, nan: 1, nan: 1, nan: 1, nan: 1, nan: 1, nan: 1, nan: 1, nan: 1, nan: 1, nan: 1, nan: 1, nan: 1, nan: 1, nan: 1, nan: 1, nan: 1, nan: 1, nan: 1, nan: 1, nan: 1, nan: 1, nan: 1, nan: 1, nan: 1, nan: 1, nan: 1, nan: 1, nan: 1, nan: 1, nan: 1, nan: 1, nan: 1, nan: 1, nan: 1, nan: 1, nan: 1, nan: 1, nan: 1, nan: 1, nan: 1, nan: 1, nan: 1, nan: 1, nan: 1, nan: 1, nan: 1, nan: 1, nan: 1, nan: 1, nan: 1, nan: 1, nan: 1, nan: 1, nan: 1, nan: 1, nan: 1, nan: 1, nan: 1, nan: 1, nan: 1, nan: 1, nan: 1, nan: 1, nan: 1, nan: 1, nan: 1, nan: 1, nan: 1, nan: 1, nan: 1, nan: 1, nan: 1, nan: 1, nan: 1, nan: 1, nan: 1, nan: 1, nan: 1, nan: 1, nan: 1, nan: 1, nan: 1, nan: 1, nan: 1, nan: 1, nan: 1, nan: 1, nan: 1, nan: 1, nan: 1, nan: 1, nan: 1, nan: 1, nan: 1, nan: 1, nan: 1, nan: 1, nan: 1, nan: 1, nan: 1, nan: 1, nan: 1, nan: 1, nan: 1, nan: 1, nan: 1, nan: 1, nan: 1, nan: 1, nan: 1, nan: 1, nan: 1, nan: 1, nan: 1, nan: 1, nan: 1, nan: 1, nan: 1, nan: 1, nan: 1, nan: 1, nan: 1, nan: 1, nan: 1, nan: 1, nan: 1, nan: 1, nan: 1, nan: 1, nan: 1, nan: 1, nan: 1, nan: 1, nan: 1, nan: 1, nan: 1, nan: 1, nan: 1, nan: 1, nan: 1, nan: 1, nan: 1, nan: 1, nan: 1, nan: 1, nan: 1, nan: 1, nan: 1, nan: 1, nan: 1, nan: 1, nan: 1, nan: 1, nan: 1, nan: 1, nan: 1, nan: 1, nan: 1, nan: 1, nan: 1, nan: 1, nan: 1, nan: 1, nan: 1, nan: 1, nan: 1, nan: 1, nan: 1, nan: 1, nan: 1, nan: 1, nan: 1, nan: 1, nan: 1, nan: 1, nan: 1, nan: 1, nan: 1, nan: 1, nan: 1, nan: 1, nan: 1, nan: 1, nan: 1, nan: 1, nan: 1, nan: 1, nan: 1, nan: 1, nan: 1, nan: 1, nan: 1, nan: 1, nan: 1, nan: 1, nan: 1, nan: 1, nan: 1, nan: 1, nan: 1, nan: 1, nan: 1, nan: 1, nan: 1, nan: 1, nan: 1, nan: 1, nan: 1, nan: 1, nan: 1, nan: 1, nan: 1, nan: 1, nan: 1, nan: 1, nan: 1, nan: 1, nan: 1, nan: 1, nan: 1, nan: 1, nan: 1, nan: 1, nan: 1, nan: 1, nan: 1, nan: 1, nan: 1, nan: 1, nan: 1, nan: 1, nan: 1, nan: 1, nan: 1, nan: 1, nan: 1, nan: 1, nan: 1, nan: 1, nan: 1, nan: 1, nan: 1, nan: 1, nan: 1, nan: 1, nan: 1, nan: 1, nan: 1, nan: 1, nan: 1, nan: 1, nan: 1, nan: 1, nan: 1, nan: 1, nan: 1, nan: 1, nan: 1, nan: 1, nan: 1, nan: 1, nan: 1, nan: 1, nan: 1, nan: 1, nan: 1, nan: 1, nan: 1, nan: 1, nan: 1, nan: 1, nan: 1, nan: 1, nan: 1, nan: 1, nan: 1, nan: 1, nan: 1, nan: 1, nan: 1, nan: 1, nan: 1, nan: 1, nan: 1, nan: 1, nan: 1, nan: 1, nan: 1, nan: 1, nan: 1, nan: 1, nan: 1, nan: 1, nan: 1, nan: 1, nan: 1, nan: 1, nan: 1, nan: 1, nan: 1, nan: 1, nan: 1, nan: 1, nan: 1, nan: 1, nan: 1, nan: 1, nan: 1, nan: 1, nan: 1, nan: 1, nan: 1, nan: 1, nan: 1, nan: 1, nan: 1, nan: 1, nan: 1, nan: 1, nan: 1, nan: 1, nan: 1, nan: 1, nan: 1, nan: 1, nan: 1, nan: 1, nan: 1, nan: 1, nan: 1, nan: 1, nan: 1, nan: 1, nan: 1, nan: 1, nan: 1, nan: 1, nan: 1, nan: 1, nan: 1, nan: 1, nan: 1, nan: 1, nan: 1, nan: 1, nan: 1, nan: 1, nan: 1, nan: 1, nan: 1, nan: 1, nan: 1, nan: 1, nan: 1, nan: 1, nan: 1, nan: 1, nan: 1, nan: 1, nan: 1, nan: 1, nan: 1, nan: 1, nan: 1, nan: 1, nan: 1, nan: 1, nan: 1, nan: 1, nan: 1, nan: 1, nan: 1, nan: 1, nan: 1, nan: 1, nan: 1, nan: 1, nan: 1, nan: 1, nan: 1, nan: 1, nan: 1, nan: 1, nan: 1, nan: 1, nan: 1, nan: 1, nan: 1, nan: 1, nan: 1, nan: 1, nan: 1, nan: 1, nan: 1, nan: 1, nan: 1, nan: 1, nan: 1, nan: 1, nan: 1, nan: 1, nan: 1, nan: 1, nan: 1, nan: 1, nan: 1, nan: 1, nan: 1, nan: 1, nan: 1, nan: 1, nan: 1, nan: 1, nan: 1, nan: 1, nan: 1, nan: 1, nan: 1, nan: 1, nan: 1, nan: 1, nan: 1, nan: 1, nan: 1, nan: 1, nan: 1, nan: 1, nan: 1, nan: 1, nan: 1, nan: 1, nan: 1, nan: 1, nan: 1, nan: 1, nan: 1, nan: 1, nan: 1, nan: 1, nan: 1, nan: 1, nan: 1, nan: 1, nan: 1, nan: 1, nan: 1, nan: 1, nan: 1, nan: 1, nan: 1, nan: 1, nan: 1, nan: 1, nan: 1, nan: 1, nan: 1, nan: 1, nan: 1, nan: 1, nan: 1, nan: 1, nan: 1, nan: 1, nan: 1, nan: 1, nan: 1, nan: 1, nan: 1, nan: 1, nan: 1, nan: 1, nan: 1, nan: 1, nan: 1, nan: 1, nan: 1, nan: 1, nan: 1, nan: 1, nan: 1, nan: 1, nan: 1, nan: 1, nan: 1, nan: 1, nan: 1, nan: 1, nan: 1, nan: 1, nan: 1, nan: 1, nan: 1, nan: 1, nan: 1, nan: 1, nan: 1, nan: 1, nan: 1, nan: 1, nan: 1, nan: 1, nan: 1, nan: 1, nan: 1, nan: 1, nan: 1, nan: 1, nan: 1, nan: 1, nan: 1, nan: 1, nan: 1, nan: 1, nan: 1, nan: 1, nan: 1, nan: 1, nan: 1, nan: 1, nan: 1, nan: 1, nan: 1, nan: 1, nan: 1, nan: 1, nan: 1, nan: 1, nan: 1, nan: 1, nan: 1, nan: 1, nan: 1, nan: 1, nan: 1, nan: 1, nan: 1, nan: 1, nan: 1, nan: 1, nan: 1, nan: 1, nan: 1, nan: 1, nan: 1, nan: 1, nan: 1, nan: 1, nan: 1, nan: 1, nan: 1, nan: 1, nan: 1, nan: 1, nan: 1, nan: 1, nan: 1, nan: 1, nan: 1, nan: 1, nan: 1, nan: 1, nan: 1, nan: 1, nan: 1, nan: 1, nan: 1, nan: 1, nan: 1, nan: 1, nan: 1, nan: 1, nan: 1, nan: 1, nan: 1, nan: 1, nan: 1, nan: 1, nan: 1, nan: 1, nan: 1, nan: 1, nan: 1, nan: 1, nan: 1, nan: 1, nan: 1, nan: 1, nan: 1, nan: 1, nan: 1, nan: 1, nan: 1, nan: 1, nan: 1, nan: 1, nan: 1, nan: 1, nan: 1, nan: 1, nan: 1, nan: 1, nan: 1, nan: 1, nan: 1, nan: 1, nan: 1, nan: 1, nan: 1, nan: 1, nan: 1, nan: 1, nan: 1, nan: 1, nan: 1, nan: 1, nan: 1, nan: 1, nan: 1, nan: 1, nan: 1, nan: 1, nan: 1, nan: 1, nan: 1, nan: 1, nan: 1, nan: 1, nan: 1, nan: 1, nan: 1, nan: 1, nan: 1, nan: 1, nan: 1, nan: 1, nan: 1, nan: 1, nan: 1, nan: 1, nan: 1, nan: 1, nan: 1, nan: 1, nan: 1, nan: 1, nan: 1, nan: 1, nan: 1, nan: 1, nan: 1, nan: 1, nan: 1, nan: 1, nan: 1, nan: 1, nan: 1, nan: 1, nan: 1, nan: 1, nan: 1, nan: 1, nan: 1, nan: 1, nan: 1, nan: 1, nan: 1, nan: 1, nan: 1, nan: 1, nan: 1, nan: 1, nan: 1, nan: 1, nan: 1, nan: 1, nan: 1, nan: 1, nan: 1, nan: 1, nan: 1, nan: 1, nan: 1, nan: 1, nan: 1, nan: 1, nan: 1, nan: 1, nan: 1, nan: 1, nan: 1, nan: 1, nan: 1, nan: 1, nan: 1, nan: 1, nan: 1, nan: 1, nan: 1, nan: 1, nan: 1, nan: 1, nan: 1, nan: 1, nan: 1, nan: 1, nan: 1, nan: 1, nan: 1, nan: 1, nan: 1, nan: 1, nan: 1, nan: 1, nan: 1, nan: 1, nan: 1, nan: 1, nan: 1, nan: 1, nan: 1, nan: 1, nan: 1, nan: 1, nan: 1, nan: 1})\n"
          ],
          "name": "stdout"
        }
      ]
    },
    {
      "cell_type": "code",
      "metadata": {
        "id": "fKLsS1Y5KoKG"
      },
      "source": [
        "# substituir os campos nulos pelo valor inteiro que mais aparece na contagem\r\n",
        "df['gcs_eyes_apache'].fillna(4, inplace = True)"
      ],
      "execution_count": null,
      "outputs": []
    },
    {
      "cell_type": "markdown",
      "metadata": {
        "id": "UTwLX3spLZCp"
      },
      "source": [
        "**Verificando os dados faltantes na variável gcs_motor_apache**"
      ]
    },
    {
      "cell_type": "code",
      "metadata": {
        "colab": {
          "base_uri": "https://localhost:8080/"
        },
        "id": "2QiuWcMVLTU5",
        "outputId": "d3b3bb88-63fb-4b56-8630-205ed82715b5"
      },
      "source": [
        "# Quantidade de valores nulos na variável gcs_motor_apache\r\n",
        "df['gcs_motor_apache'].isnull().sum()"
      ],
      "execution_count": null,
      "outputs": [
        {
          "output_type": "execute_result",
          "data": {
            "text/plain": [
              "2190"
            ]
          },
          "metadata": {
            "tags": []
          },
          "execution_count": 52
        }
      ]
    },
    {
      "cell_type": "code",
      "metadata": {
        "colab": {
          "base_uri": "https://localhost:8080/"
        },
        "id": "iz61mxol7q9K",
        "outputId": "3a64cc49-0890-4457-9823-e7e302726d99"
      },
      "source": [
        "# Quantidade de cada gcs_motor_apache na pesquisa por ser tipo inteiro\r\n",
        "# Também por ser o componente motor da Escala de Coma.\r\n",
        "gcs_motor_apache_qtd = df['gcs_motor_apache']\r\n",
        "counter4 = Counter(gcs_motor_apache_qtd)\r\n",
        "print(counter4)"
      ],
      "execution_count": null,
      "outputs": [
        {
          "output_type": "stream",
          "text": [
            "Counter({6.0: 101818, 5.0: 10833, 1.0: 7549, 4.0: 6457, 3.0: 807, 2.0: 503, nan: 1, nan: 1, nan: 1, nan: 1, nan: 1, nan: 1, nan: 1, nan: 1, nan: 1, nan: 1, nan: 1, nan: 1, nan: 1, nan: 1, nan: 1, nan: 1, nan: 1, nan: 1, nan: 1, nan: 1, nan: 1, nan: 1, nan: 1, nan: 1, nan: 1, nan: 1, nan: 1, nan: 1, nan: 1, nan: 1, nan: 1, nan: 1, nan: 1, nan: 1, nan: 1, nan: 1, nan: 1, nan: 1, nan: 1, nan: 1, nan: 1, nan: 1, nan: 1, nan: 1, nan: 1, nan: 1, nan: 1, nan: 1, nan: 1, nan: 1, nan: 1, nan: 1, nan: 1, nan: 1, nan: 1, nan: 1, nan: 1, nan: 1, nan: 1, nan: 1, nan: 1, nan: 1, nan: 1, nan: 1, nan: 1, nan: 1, nan: 1, nan: 1, nan: 1, nan: 1, nan: 1, nan: 1, nan: 1, nan: 1, nan: 1, nan: 1, nan: 1, nan: 1, nan: 1, nan: 1, nan: 1, nan: 1, nan: 1, nan: 1, nan: 1, nan: 1, nan: 1, nan: 1, nan: 1, nan: 1, nan: 1, nan: 1, nan: 1, nan: 1, nan: 1, nan: 1, nan: 1, nan: 1, nan: 1, nan: 1, nan: 1, nan: 1, nan: 1, nan: 1, nan: 1, nan: 1, nan: 1, nan: 1, nan: 1, nan: 1, nan: 1, nan: 1, nan: 1, nan: 1, nan: 1, nan: 1, nan: 1, nan: 1, nan: 1, nan: 1, nan: 1, nan: 1, nan: 1, nan: 1, nan: 1, nan: 1, nan: 1, nan: 1, nan: 1, nan: 1, nan: 1, nan: 1, nan: 1, nan: 1, nan: 1, nan: 1, nan: 1, nan: 1, nan: 1, nan: 1, nan: 1, nan: 1, nan: 1, nan: 1, nan: 1, nan: 1, nan: 1, nan: 1, nan: 1, nan: 1, nan: 1, nan: 1, nan: 1, nan: 1, nan: 1, nan: 1, nan: 1, nan: 1, nan: 1, nan: 1, nan: 1, nan: 1, nan: 1, nan: 1, nan: 1, nan: 1, nan: 1, nan: 1, nan: 1, nan: 1, nan: 1, nan: 1, nan: 1, nan: 1, nan: 1, nan: 1, nan: 1, nan: 1, nan: 1, nan: 1, nan: 1, nan: 1, nan: 1, nan: 1, nan: 1, nan: 1, nan: 1, nan: 1, nan: 1, nan: 1, nan: 1, nan: 1, nan: 1, nan: 1, nan: 1, nan: 1, nan: 1, nan: 1, nan: 1, nan: 1, nan: 1, nan: 1, nan: 1, nan: 1, nan: 1, nan: 1, nan: 1, nan: 1, nan: 1, nan: 1, nan: 1, nan: 1, nan: 1, nan: 1, nan: 1, nan: 1, nan: 1, nan: 1, nan: 1, nan: 1, nan: 1, nan: 1, nan: 1, nan: 1, nan: 1, nan: 1, nan: 1, nan: 1, nan: 1, nan: 1, nan: 1, nan: 1, nan: 1, nan: 1, nan: 1, nan: 1, nan: 1, nan: 1, nan: 1, nan: 1, nan: 1, nan: 1, nan: 1, nan: 1, nan: 1, nan: 1, nan: 1, nan: 1, nan: 1, nan: 1, nan: 1, nan: 1, nan: 1, nan: 1, nan: 1, nan: 1, nan: 1, nan: 1, nan: 1, nan: 1, nan: 1, nan: 1, nan: 1, nan: 1, nan: 1, nan: 1, nan: 1, nan: 1, nan: 1, nan: 1, nan: 1, nan: 1, nan: 1, nan: 1, nan: 1, nan: 1, nan: 1, nan: 1, nan: 1, nan: 1, nan: 1, nan: 1, nan: 1, nan: 1, nan: 1, nan: 1, nan: 1, nan: 1, nan: 1, nan: 1, nan: 1, nan: 1, nan: 1, nan: 1, nan: 1, nan: 1, nan: 1, nan: 1, nan: 1, nan: 1, nan: 1, nan: 1, nan: 1, nan: 1, nan: 1, nan: 1, nan: 1, nan: 1, nan: 1, nan: 1, nan: 1, nan: 1, nan: 1, nan: 1, nan: 1, nan: 1, nan: 1, nan: 1, nan: 1, nan: 1, nan: 1, nan: 1, nan: 1, nan: 1, nan: 1, nan: 1, nan: 1, nan: 1, nan: 1, nan: 1, nan: 1, nan: 1, nan: 1, nan: 1, nan: 1, nan: 1, nan: 1, nan: 1, nan: 1, nan: 1, nan: 1, nan: 1, nan: 1, nan: 1, nan: 1, nan: 1, nan: 1, nan: 1, nan: 1, nan: 1, nan: 1, nan: 1, nan: 1, nan: 1, nan: 1, nan: 1, nan: 1, nan: 1, nan: 1, nan: 1, nan: 1, nan: 1, nan: 1, nan: 1, nan: 1, nan: 1, nan: 1, nan: 1, nan: 1, nan: 1, nan: 1, nan: 1, nan: 1, nan: 1, nan: 1, nan: 1, nan: 1, nan: 1, nan: 1, nan: 1, nan: 1, nan: 1, nan: 1, nan: 1, nan: 1, nan: 1, nan: 1, nan: 1, nan: 1, nan: 1, nan: 1, nan: 1, nan: 1, nan: 1, nan: 1, nan: 1, nan: 1, nan: 1, nan: 1, nan: 1, nan: 1, nan: 1, nan: 1, nan: 1, nan: 1, nan: 1, nan: 1, nan: 1, nan: 1, nan: 1, nan: 1, nan: 1, nan: 1, nan: 1, nan: 1, nan: 1, nan: 1, nan: 1, nan: 1, nan: 1, nan: 1, nan: 1, nan: 1, nan: 1, nan: 1, nan: 1, nan: 1, nan: 1, nan: 1, nan: 1, nan: 1, nan: 1, nan: 1, nan: 1, nan: 1, nan: 1, nan: 1, nan: 1, nan: 1, nan: 1, nan: 1, nan: 1, nan: 1, nan: 1, nan: 1, nan: 1, nan: 1, nan: 1, nan: 1, nan: 1, nan: 1, nan: 1, nan: 1, nan: 1, nan: 1, nan: 1, nan: 1, nan: 1, nan: 1, nan: 1, nan: 1, nan: 1, nan: 1, nan: 1, nan: 1, nan: 1, nan: 1, nan: 1, nan: 1, nan: 1, nan: 1, nan: 1, nan: 1, nan: 1, nan: 1, nan: 1, nan: 1, nan: 1, nan: 1, nan: 1, nan: 1, nan: 1, nan: 1, nan: 1, nan: 1, nan: 1, nan: 1, nan: 1, nan: 1, nan: 1, nan: 1, nan: 1, nan: 1, nan: 1, nan: 1, nan: 1, nan: 1, nan: 1, nan: 1, nan: 1, nan: 1, nan: 1, nan: 1, nan: 1, nan: 1, nan: 1, nan: 1, nan: 1, nan: 1, nan: 1, nan: 1, nan: 1, nan: 1, nan: 1, nan: 1, nan: 1, nan: 1, nan: 1, nan: 1, nan: 1, nan: 1, nan: 1, nan: 1, nan: 1, nan: 1, nan: 1, nan: 1, nan: 1, nan: 1, nan: 1, nan: 1, nan: 1, nan: 1, nan: 1, nan: 1, nan: 1, nan: 1, nan: 1, nan: 1, nan: 1, nan: 1, nan: 1, nan: 1, nan: 1, nan: 1, nan: 1, nan: 1, nan: 1, nan: 1, nan: 1, nan: 1, nan: 1, nan: 1, nan: 1, nan: 1, nan: 1, nan: 1, nan: 1, nan: 1, nan: 1, nan: 1, nan: 1, nan: 1, nan: 1, nan: 1, nan: 1, nan: 1, nan: 1, nan: 1, nan: 1, nan: 1, nan: 1, nan: 1, nan: 1, nan: 1, nan: 1, nan: 1, nan: 1, nan: 1, nan: 1, nan: 1, nan: 1, nan: 1, nan: 1, nan: 1, nan: 1, nan: 1, nan: 1, nan: 1, nan: 1, nan: 1, nan: 1, nan: 1, nan: 1, nan: 1, nan: 1, nan: 1, nan: 1, nan: 1, nan: 1, nan: 1, nan: 1, nan: 1, nan: 1, nan: 1, nan: 1, nan: 1, nan: 1, nan: 1, nan: 1, nan: 1, nan: 1, nan: 1, nan: 1, nan: 1, nan: 1, nan: 1, nan: 1, nan: 1, nan: 1, nan: 1, nan: 1, nan: 1, nan: 1, nan: 1, nan: 1, nan: 1, nan: 1, nan: 1, nan: 1, nan: 1, nan: 1, nan: 1, nan: 1, nan: 1, nan: 1, nan: 1, nan: 1, nan: 1, nan: 1, nan: 1, nan: 1, nan: 1, nan: 1, nan: 1, nan: 1, nan: 1, nan: 1, nan: 1, nan: 1, nan: 1, nan: 1, nan: 1, nan: 1, nan: 1, nan: 1, nan: 1, nan: 1, nan: 1, nan: 1, nan: 1, nan: 1, nan: 1, nan: 1, nan: 1, nan: 1, nan: 1, nan: 1, nan: 1, nan: 1, nan: 1, nan: 1, nan: 1, nan: 1, nan: 1, nan: 1, nan: 1, nan: 1, nan: 1, nan: 1, nan: 1, nan: 1, nan: 1, nan: 1, nan: 1, nan: 1, nan: 1, nan: 1, nan: 1, nan: 1, nan: 1, nan: 1, nan: 1, nan: 1, nan: 1, nan: 1, nan: 1, nan: 1, nan: 1, nan: 1, nan: 1, nan: 1, nan: 1, nan: 1, nan: 1, nan: 1, nan: 1, nan: 1, nan: 1, nan: 1, nan: 1, nan: 1, nan: 1, nan: 1, nan: 1, nan: 1, nan: 1, nan: 1, nan: 1, nan: 1, nan: 1, nan: 1, nan: 1, nan: 1, nan: 1, nan: 1, nan: 1, nan: 1, nan: 1, nan: 1, nan: 1, nan: 1, nan: 1, nan: 1, nan: 1, nan: 1, nan: 1, nan: 1, nan: 1, nan: 1, nan: 1, nan: 1, nan: 1, nan: 1, nan: 1, nan: 1, nan: 1, nan: 1, nan: 1, nan: 1, nan: 1, nan: 1, nan: 1, nan: 1, nan: 1, nan: 1, nan: 1, nan: 1, nan: 1, nan: 1, nan: 1, nan: 1, nan: 1, nan: 1, nan: 1, nan: 1, nan: 1, nan: 1, nan: 1, nan: 1, nan: 1, nan: 1, nan: 1, nan: 1, nan: 1, nan: 1, nan: 1, nan: 1, nan: 1, nan: 1, nan: 1, nan: 1, nan: 1, nan: 1, nan: 1, nan: 1, nan: 1, nan: 1, nan: 1, nan: 1, nan: 1, nan: 1, nan: 1, nan: 1, nan: 1, nan: 1, nan: 1, nan: 1, nan: 1, nan: 1, nan: 1, nan: 1, nan: 1, nan: 1, nan: 1, nan: 1, nan: 1, nan: 1, nan: 1, nan: 1, nan: 1, nan: 1, nan: 1, nan: 1, nan: 1, nan: 1, nan: 1, nan: 1, nan: 1, nan: 1, nan: 1, nan: 1, nan: 1, nan: 1, nan: 1, nan: 1, nan: 1, nan: 1, nan: 1, nan: 1, nan: 1, nan: 1, nan: 1, nan: 1, nan: 1, nan: 1, nan: 1, nan: 1, nan: 1, nan: 1, nan: 1, nan: 1, nan: 1, nan: 1, nan: 1, nan: 1, nan: 1, nan: 1, nan: 1, nan: 1, nan: 1, nan: 1, nan: 1, nan: 1, nan: 1, nan: 1, nan: 1, nan: 1, nan: 1, nan: 1, nan: 1, nan: 1, nan: 1, nan: 1, nan: 1, nan: 1, nan: 1, nan: 1, nan: 1, nan: 1, nan: 1, nan: 1, nan: 1, nan: 1, nan: 1, nan: 1, nan: 1, nan: 1, nan: 1, nan: 1, nan: 1, nan: 1, nan: 1, nan: 1, nan: 1, nan: 1, nan: 1, nan: 1, nan: 1, nan: 1, nan: 1, nan: 1, nan: 1, nan: 1, nan: 1, nan: 1, nan: 1, nan: 1, nan: 1, nan: 1, nan: 1, nan: 1, nan: 1, nan: 1, nan: 1, nan: 1, nan: 1, nan: 1, nan: 1, nan: 1, nan: 1, nan: 1, nan: 1, nan: 1, nan: 1, nan: 1, nan: 1, nan: 1, nan: 1, nan: 1, nan: 1, nan: 1, nan: 1, nan: 1, nan: 1, nan: 1, nan: 1, nan: 1, nan: 1, nan: 1, nan: 1, nan: 1, nan: 1, nan: 1, nan: 1, nan: 1, nan: 1, nan: 1, nan: 1, nan: 1, nan: 1, nan: 1, nan: 1, nan: 1, nan: 1, nan: 1, nan: 1, nan: 1, nan: 1, nan: 1, nan: 1, nan: 1, nan: 1, nan: 1, nan: 1, nan: 1, nan: 1, nan: 1, nan: 1, nan: 1, nan: 1, nan: 1, nan: 1, nan: 1, nan: 1, nan: 1, nan: 1, nan: 1, nan: 1, nan: 1, nan: 1, nan: 1, nan: 1, nan: 1, nan: 1, nan: 1, nan: 1, nan: 1, nan: 1, nan: 1, nan: 1, nan: 1, nan: 1, nan: 1, nan: 1, nan: 1, nan: 1, nan: 1, nan: 1, nan: 1, nan: 1, nan: 1, nan: 1, nan: 1, nan: 1, nan: 1, nan: 1, nan: 1, nan: 1, nan: 1, nan: 1, nan: 1, nan: 1, nan: 1, nan: 1, nan: 1, nan: 1, nan: 1, nan: 1, nan: 1, nan: 1, nan: 1, nan: 1, nan: 1, nan: 1, nan: 1, nan: 1, nan: 1, nan: 1, nan: 1, nan: 1, nan: 1, nan: 1, nan: 1, nan: 1, nan: 1, nan: 1, nan: 1, nan: 1, nan: 1, nan: 1, nan: 1, nan: 1, nan: 1, nan: 1, nan: 1, nan: 1, nan: 1, nan: 1, nan: 1, nan: 1, nan: 1, nan: 1, nan: 1, nan: 1, nan: 1, nan: 1, nan: 1, nan: 1, nan: 1, nan: 1, nan: 1, nan: 1, nan: 1, nan: 1, nan: 1, nan: 1, nan: 1, nan: 1, nan: 1, nan: 1, nan: 1, nan: 1, nan: 1, nan: 1, nan: 1, nan: 1, nan: 1, nan: 1, nan: 1, nan: 1, nan: 1, nan: 1, nan: 1, nan: 1, nan: 1, nan: 1, nan: 1, nan: 1, nan: 1, nan: 1, nan: 1, nan: 1, nan: 1, nan: 1, nan: 1, nan: 1, nan: 1, nan: 1, nan: 1, nan: 1, nan: 1, nan: 1, nan: 1, nan: 1, nan: 1, nan: 1, nan: 1, nan: 1, nan: 1, nan: 1, nan: 1, nan: 1, nan: 1, nan: 1, nan: 1, nan: 1, nan: 1, nan: 1, nan: 1, nan: 1, nan: 1, nan: 1, nan: 1, nan: 1, nan: 1, nan: 1, nan: 1, nan: 1, nan: 1, nan: 1, nan: 1, nan: 1, nan: 1, nan: 1, nan: 1, nan: 1, nan: 1, nan: 1, nan: 1, nan: 1, nan: 1, nan: 1, nan: 1, nan: 1, nan: 1, nan: 1, nan: 1, nan: 1, nan: 1, nan: 1, nan: 1, nan: 1, nan: 1, nan: 1, nan: 1, nan: 1, nan: 1, nan: 1, nan: 1, nan: 1, nan: 1, nan: 1, nan: 1, nan: 1, nan: 1, nan: 1, nan: 1, nan: 1, nan: 1, nan: 1, nan: 1, nan: 1, nan: 1, nan: 1, nan: 1, nan: 1, nan: 1, nan: 1, nan: 1, nan: 1, nan: 1, nan: 1, nan: 1, nan: 1, nan: 1, nan: 1, nan: 1, nan: 1, nan: 1, nan: 1, nan: 1, nan: 1, nan: 1, nan: 1, nan: 1, nan: 1, nan: 1, nan: 1, nan: 1, nan: 1, nan: 1, nan: 1, nan: 1, nan: 1, nan: 1, nan: 1, nan: 1, nan: 1, nan: 1, nan: 1, nan: 1, nan: 1, nan: 1, nan: 1, nan: 1, nan: 1, nan: 1, nan: 1, nan: 1, nan: 1, nan: 1, nan: 1, nan: 1, nan: 1, nan: 1, nan: 1, nan: 1, nan: 1, nan: 1, nan: 1, nan: 1, nan: 1, nan: 1, nan: 1, nan: 1, nan: 1, nan: 1, nan: 1, nan: 1, nan: 1, nan: 1, nan: 1, nan: 1, nan: 1, nan: 1, nan: 1, nan: 1, nan: 1, nan: 1, nan: 1, nan: 1, nan: 1, nan: 1, nan: 1, nan: 1, nan: 1, nan: 1, nan: 1, nan: 1, nan: 1, nan: 1, nan: 1, nan: 1, nan: 1, nan: 1, nan: 1, nan: 1, nan: 1, nan: 1, nan: 1, nan: 1, nan: 1, nan: 1, nan: 1, nan: 1, nan: 1, nan: 1, nan: 1, nan: 1, nan: 1, nan: 1, nan: 1, nan: 1, nan: 1, nan: 1, nan: 1, nan: 1, nan: 1, nan: 1, nan: 1, nan: 1, nan: 1, nan: 1, nan: 1, nan: 1, nan: 1, nan: 1, nan: 1, nan: 1, nan: 1, nan: 1, nan: 1, nan: 1, nan: 1, nan: 1, nan: 1, nan: 1, nan: 1, nan: 1, nan: 1, nan: 1, nan: 1, nan: 1, nan: 1, nan: 1, nan: 1, nan: 1, nan: 1, nan: 1, nan: 1, nan: 1, nan: 1, nan: 1, nan: 1, nan: 1, nan: 1, nan: 1, nan: 1, nan: 1, nan: 1, nan: 1, nan: 1, nan: 1, nan: 1, nan: 1, nan: 1, nan: 1, nan: 1, nan: 1, nan: 1, nan: 1, nan: 1, nan: 1, nan: 1, nan: 1, nan: 1, nan: 1, nan: 1, nan: 1, nan: 1, nan: 1, nan: 1, nan: 1, nan: 1, nan: 1, nan: 1, nan: 1, nan: 1, nan: 1, nan: 1, nan: 1, nan: 1, nan: 1, nan: 1, nan: 1, nan: 1, nan: 1, nan: 1, nan: 1, nan: 1, nan: 1, nan: 1, nan: 1, nan: 1, nan: 1, nan: 1, nan: 1, nan: 1, nan: 1, nan: 1, nan: 1, nan: 1, nan: 1, nan: 1, nan: 1, nan: 1, nan: 1, nan: 1, nan: 1, nan: 1, nan: 1, nan: 1, nan: 1, nan: 1, nan: 1, nan: 1, nan: 1, nan: 1, nan: 1, nan: 1, nan: 1, nan: 1, nan: 1, nan: 1, nan: 1, nan: 1, nan: 1, nan: 1, nan: 1, nan: 1, nan: 1, nan: 1, nan: 1, nan: 1, nan: 1, nan: 1, nan: 1, nan: 1, nan: 1, nan: 1, nan: 1, nan: 1, nan: 1, nan: 1, nan: 1, nan: 1, nan: 1, nan: 1, nan: 1, nan: 1, nan: 1, nan: 1, nan: 1, nan: 1, nan: 1, nan: 1, nan: 1, nan: 1, nan: 1, nan: 1, nan: 1, nan: 1, nan: 1, nan: 1, nan: 1, nan: 1, nan: 1, nan: 1, nan: 1, nan: 1, nan: 1, nan: 1, nan: 1, nan: 1, nan: 1, nan: 1, nan: 1, nan: 1, nan: 1, nan: 1, nan: 1, nan: 1, nan: 1, nan: 1, nan: 1, nan: 1, nan: 1, nan: 1, nan: 1, nan: 1, nan: 1, nan: 1, nan: 1, nan: 1, nan: 1, nan: 1, nan: 1, nan: 1, nan: 1, nan: 1, nan: 1, nan: 1, nan: 1, nan: 1, nan: 1, nan: 1, nan: 1, nan: 1, nan: 1, nan: 1, nan: 1, nan: 1, nan: 1, nan: 1, nan: 1, nan: 1, nan: 1, nan: 1, nan: 1, nan: 1, nan: 1, nan: 1, nan: 1, nan: 1, nan: 1, nan: 1, nan: 1, nan: 1, nan: 1, nan: 1, nan: 1, nan: 1, nan: 1, nan: 1, nan: 1, nan: 1, nan: 1, nan: 1, nan: 1, nan: 1, nan: 1, nan: 1, nan: 1, nan: 1, nan: 1, nan: 1, nan: 1, nan: 1, nan: 1, nan: 1, nan: 1, nan: 1, nan: 1, nan: 1, nan: 1, nan: 1, nan: 1, nan: 1, nan: 1, nan: 1, nan: 1, nan: 1, nan: 1, nan: 1, nan: 1, nan: 1, nan: 1, nan: 1, nan: 1, nan: 1, nan: 1, nan: 1, nan: 1, nan: 1, nan: 1, nan: 1, nan: 1, nan: 1, nan: 1, nan: 1, nan: 1, nan: 1, nan: 1, nan: 1, nan: 1, nan: 1, nan: 1, nan: 1, nan: 1, nan: 1, nan: 1, nan: 1, nan: 1, nan: 1, nan: 1, nan: 1, nan: 1, nan: 1, nan: 1, nan: 1, nan: 1, nan: 1, nan: 1, nan: 1, nan: 1, nan: 1, nan: 1, nan: 1, nan: 1, nan: 1, nan: 1, nan: 1, nan: 1, nan: 1, nan: 1, nan: 1, nan: 1, nan: 1, nan: 1, nan: 1, nan: 1, nan: 1, nan: 1, nan: 1, nan: 1, nan: 1, nan: 1, nan: 1, nan: 1, nan: 1, nan: 1, nan: 1, nan: 1, nan: 1, nan: 1, nan: 1, nan: 1, nan: 1, nan: 1, nan: 1, nan: 1, nan: 1, nan: 1, nan: 1, nan: 1, nan: 1, nan: 1, nan: 1, nan: 1, nan: 1, nan: 1, nan: 1, nan: 1, nan: 1, nan: 1, nan: 1, nan: 1, nan: 1, nan: 1, nan: 1, nan: 1, nan: 1, nan: 1, nan: 1, nan: 1, nan: 1, nan: 1, nan: 1, nan: 1, nan: 1, nan: 1, nan: 1, nan: 1, nan: 1, nan: 1, nan: 1, nan: 1, nan: 1, nan: 1, nan: 1, nan: 1, nan: 1, nan: 1, nan: 1, nan: 1, nan: 1, nan: 1, nan: 1, nan: 1, nan: 1, nan: 1, nan: 1, nan: 1, nan: 1, nan: 1, nan: 1, nan: 1, nan: 1, nan: 1, nan: 1, nan: 1, nan: 1, nan: 1, nan: 1, nan: 1, nan: 1, nan: 1, nan: 1, nan: 1, nan: 1, nan: 1, nan: 1, nan: 1, nan: 1, nan: 1, nan: 1, nan: 1, nan: 1, nan: 1, nan: 1, nan: 1, nan: 1, nan: 1, nan: 1, nan: 1, nan: 1, nan: 1, nan: 1, nan: 1, nan: 1, nan: 1, nan: 1, nan: 1, nan: 1, nan: 1, nan: 1, nan: 1, nan: 1, nan: 1, nan: 1, nan: 1, nan: 1, nan: 1, nan: 1, nan: 1, nan: 1, nan: 1, nan: 1, nan: 1, nan: 1, nan: 1, nan: 1, nan: 1, nan: 1, nan: 1, nan: 1, nan: 1, nan: 1, nan: 1, nan: 1, nan: 1, nan: 1, nan: 1, nan: 1, nan: 1, nan: 1, nan: 1, nan: 1, nan: 1, nan: 1, nan: 1, nan: 1, nan: 1, nan: 1, nan: 1, nan: 1, nan: 1, nan: 1, nan: 1, nan: 1, nan: 1, nan: 1, nan: 1, nan: 1, nan: 1, nan: 1, nan: 1, nan: 1, nan: 1, nan: 1, nan: 1, nan: 1, nan: 1, nan: 1, nan: 1, nan: 1, nan: 1, nan: 1, nan: 1, nan: 1, nan: 1, nan: 1, nan: 1, nan: 1, nan: 1, nan: 1, nan: 1, nan: 1, nan: 1, nan: 1, nan: 1, nan: 1, nan: 1, nan: 1, nan: 1, nan: 1, nan: 1, nan: 1, nan: 1, nan: 1, nan: 1, nan: 1, nan: 1, nan: 1, nan: 1, nan: 1, nan: 1, nan: 1, nan: 1, nan: 1, nan: 1, nan: 1, nan: 1, nan: 1, nan: 1, nan: 1, nan: 1, nan: 1, nan: 1, nan: 1, nan: 1, nan: 1, nan: 1, nan: 1, nan: 1, nan: 1, nan: 1, nan: 1, nan: 1, nan: 1, nan: 1, nan: 1, nan: 1, nan: 1, nan: 1, nan: 1, nan: 1, nan: 1, nan: 1, nan: 1, nan: 1, nan: 1, nan: 1, nan: 1, nan: 1, nan: 1, nan: 1, nan: 1, nan: 1, nan: 1, nan: 1, nan: 1, nan: 1, nan: 1, nan: 1, nan: 1, nan: 1, nan: 1, nan: 1, nan: 1, nan: 1, nan: 1, nan: 1, nan: 1, nan: 1, nan: 1, nan: 1, nan: 1, nan: 1, nan: 1, nan: 1, nan: 1, nan: 1, nan: 1, nan: 1, nan: 1, nan: 1, nan: 1, nan: 1, nan: 1, nan: 1, nan: 1, nan: 1, nan: 1, nan: 1, nan: 1, nan: 1, nan: 1, nan: 1, nan: 1, nan: 1, nan: 1, nan: 1, nan: 1, nan: 1, nan: 1, nan: 1, nan: 1, nan: 1, nan: 1, nan: 1, nan: 1, nan: 1, nan: 1, nan: 1, nan: 1, nan: 1, nan: 1, nan: 1, nan: 1, nan: 1, nan: 1, nan: 1, nan: 1, nan: 1, nan: 1, nan: 1, nan: 1, nan: 1, nan: 1, nan: 1, nan: 1, nan: 1, nan: 1, nan: 1, nan: 1, nan: 1, nan: 1, nan: 1, nan: 1, nan: 1, nan: 1, nan: 1, nan: 1, nan: 1, nan: 1, nan: 1, nan: 1, nan: 1, nan: 1, nan: 1, nan: 1, nan: 1, nan: 1, nan: 1, nan: 1, nan: 1, nan: 1, nan: 1, nan: 1, nan: 1, nan: 1, nan: 1, nan: 1, nan: 1, nan: 1, nan: 1, nan: 1, nan: 1, nan: 1, nan: 1, nan: 1, nan: 1, nan: 1, nan: 1, nan: 1, nan: 1, nan: 1, nan: 1, nan: 1, nan: 1, nan: 1, nan: 1, nan: 1, nan: 1, nan: 1, nan: 1, nan: 1, nan: 1, nan: 1, nan: 1, nan: 1, nan: 1, nan: 1, nan: 1, nan: 1, nan: 1, nan: 1, nan: 1, nan: 1, nan: 1, nan: 1, nan: 1, nan: 1, nan: 1, nan: 1, nan: 1, nan: 1, nan: 1, nan: 1, nan: 1, nan: 1, nan: 1, nan: 1, nan: 1, nan: 1, nan: 1, nan: 1, nan: 1, nan: 1, nan: 1, nan: 1, nan: 1, nan: 1, nan: 1, nan: 1, nan: 1, nan: 1, nan: 1, nan: 1, nan: 1, nan: 1, nan: 1, nan: 1, nan: 1, nan: 1, nan: 1, nan: 1, nan: 1, nan: 1, nan: 1, nan: 1, nan: 1, nan: 1, nan: 1, nan: 1, nan: 1, nan: 1, nan: 1, nan: 1, nan: 1, nan: 1, nan: 1, nan: 1, nan: 1, nan: 1, nan: 1, nan: 1, nan: 1, nan: 1, nan: 1, nan: 1, nan: 1, nan: 1, nan: 1, nan: 1, nan: 1, nan: 1, nan: 1, nan: 1, nan: 1, nan: 1, nan: 1, nan: 1, nan: 1, nan: 1, nan: 1, nan: 1, nan: 1, nan: 1, nan: 1, nan: 1, nan: 1, nan: 1, nan: 1, nan: 1, nan: 1, nan: 1, nan: 1, nan: 1, nan: 1, nan: 1, nan: 1, nan: 1, nan: 1, nan: 1, nan: 1, nan: 1, nan: 1, nan: 1, nan: 1, nan: 1, nan: 1, nan: 1, nan: 1, nan: 1, nan: 1, nan: 1, nan: 1, nan: 1, nan: 1, nan: 1, nan: 1, nan: 1, nan: 1, nan: 1, nan: 1, nan: 1, nan: 1, nan: 1, nan: 1, nan: 1, nan: 1, nan: 1, nan: 1, nan: 1, nan: 1, nan: 1, nan: 1, nan: 1, nan: 1, nan: 1, nan: 1, nan: 1, nan: 1, nan: 1, nan: 1, nan: 1, nan: 1, nan: 1, nan: 1, nan: 1, nan: 1, nan: 1, nan: 1, nan: 1, nan: 1, nan: 1, nan: 1, nan: 1, nan: 1, nan: 1, nan: 1, nan: 1, nan: 1, nan: 1, nan: 1, nan: 1, nan: 1, nan: 1, nan: 1, nan: 1, nan: 1, nan: 1, nan: 1, nan: 1, nan: 1, nan: 1, nan: 1, nan: 1, nan: 1, nan: 1, nan: 1, nan: 1, nan: 1, nan: 1, nan: 1, nan: 1, nan: 1, nan: 1, nan: 1, nan: 1, nan: 1, nan: 1, nan: 1, nan: 1, nan: 1, nan: 1, nan: 1, nan: 1, nan: 1, nan: 1, nan: 1, nan: 1, nan: 1, nan: 1, nan: 1, nan: 1, nan: 1, nan: 1, nan: 1, nan: 1, nan: 1, nan: 1, nan: 1, nan: 1, nan: 1, nan: 1, nan: 1})\n"
          ],
          "name": "stdout"
        }
      ]
    },
    {
      "cell_type": "code",
      "metadata": {
        "id": "1d31tekW85Im"
      },
      "source": [
        "# substituir os campos nulos pelo valor inteiro que mais aparece na contagem\r\n",
        "df['gcs_motor_apache'].fillna(6, inplace = True)"
      ],
      "execution_count": null,
      "outputs": []
    },
    {
      "cell_type": "markdown",
      "metadata": {
        "id": "p1-QTIF49GW1"
      },
      "source": [
        "**Verificando os dados faltantes na variável gcs_unable_apache**"
      ]
    },
    {
      "cell_type": "code",
      "metadata": {
        "colab": {
          "base_uri": "https://localhost:8080/"
        },
        "id": "_qaY3pLX9NeP",
        "outputId": "0b4d29ad-c669-4dfe-e0ef-605b7f5a85a9"
      },
      "source": [
        "# Quantidade de valores nulos na variável gcs_unable_apache\r\n",
        "df['gcs_unable_apache'].isnull().sum()"
      ],
      "execution_count": null,
      "outputs": [
        {
          "output_type": "execute_result",
          "data": {
            "text/plain": [
              "709"
            ]
          },
          "metadata": {
            "tags": []
          },
          "execution_count": 55
        }
      ]
    },
    {
      "cell_type": "code",
      "metadata": {
        "colab": {
          "base_uri": "https://localhost:8080/"
        },
        "id": "JgfhFe01-TLg",
        "outputId": "74f02645-da8f-4113-e090-63da5139cbac"
      },
      "source": [
        "# Quantidade de cada gcs_unable_apache na pesquisa por ser tipo binário\r\n",
        "# Se a Escala de Coma de Glasgow não pôde ser avaliada devido à sedação do paciente\r\n",
        "gcs_unable_apache_qtd = df['gcs_unable_apache']\r\n",
        "counter5 = Counter(gcs_unable_apache_qtd)\r\n",
        "print(counter5)"
      ],
      "execution_count": null,
      "outputs": [
        {
          "output_type": "stream",
          "text": [
            "Counter({0.0: 127967, 1.0: 1481, nan: 1, nan: 1, nan: 1, nan: 1, nan: 1, nan: 1, nan: 1, nan: 1, nan: 1, nan: 1, nan: 1, nan: 1, nan: 1, nan: 1, nan: 1, nan: 1, nan: 1, nan: 1, nan: 1, nan: 1, nan: 1, nan: 1, nan: 1, nan: 1, nan: 1, nan: 1, nan: 1, nan: 1, nan: 1, nan: 1, nan: 1, nan: 1, nan: 1, nan: 1, nan: 1, nan: 1, nan: 1, nan: 1, nan: 1, nan: 1, nan: 1, nan: 1, nan: 1, nan: 1, nan: 1, nan: 1, nan: 1, nan: 1, nan: 1, nan: 1, nan: 1, nan: 1, nan: 1, nan: 1, nan: 1, nan: 1, nan: 1, nan: 1, nan: 1, nan: 1, nan: 1, nan: 1, nan: 1, nan: 1, nan: 1, nan: 1, nan: 1, nan: 1, nan: 1, nan: 1, nan: 1, nan: 1, nan: 1, nan: 1, nan: 1, nan: 1, nan: 1, nan: 1, nan: 1, nan: 1, nan: 1, nan: 1, nan: 1, nan: 1, nan: 1, nan: 1, nan: 1, nan: 1, nan: 1, nan: 1, nan: 1, nan: 1, nan: 1, nan: 1, nan: 1, nan: 1, nan: 1, nan: 1, nan: 1, nan: 1, nan: 1, nan: 1, nan: 1, nan: 1, nan: 1, nan: 1, nan: 1, nan: 1, nan: 1, nan: 1, nan: 1, nan: 1, nan: 1, nan: 1, nan: 1, nan: 1, nan: 1, nan: 1, nan: 1, nan: 1, nan: 1, nan: 1, nan: 1, nan: 1, nan: 1, nan: 1, nan: 1, nan: 1, nan: 1, nan: 1, nan: 1, nan: 1, nan: 1, nan: 1, nan: 1, nan: 1, nan: 1, nan: 1, nan: 1, nan: 1, nan: 1, nan: 1, nan: 1, nan: 1, nan: 1, nan: 1, nan: 1, nan: 1, nan: 1, nan: 1, nan: 1, nan: 1, nan: 1, nan: 1, nan: 1, nan: 1, nan: 1, nan: 1, nan: 1, nan: 1, nan: 1, nan: 1, nan: 1, nan: 1, nan: 1, nan: 1, nan: 1, nan: 1, nan: 1, nan: 1, nan: 1, nan: 1, nan: 1, nan: 1, nan: 1, nan: 1, nan: 1, nan: 1, nan: 1, nan: 1, nan: 1, nan: 1, nan: 1, nan: 1, nan: 1, nan: 1, nan: 1, nan: 1, nan: 1, nan: 1, nan: 1, nan: 1, nan: 1, nan: 1, nan: 1, nan: 1, nan: 1, nan: 1, nan: 1, nan: 1, nan: 1, nan: 1, nan: 1, nan: 1, nan: 1, nan: 1, nan: 1, nan: 1, nan: 1, nan: 1, nan: 1, nan: 1, nan: 1, nan: 1, nan: 1, nan: 1, nan: 1, nan: 1, nan: 1, nan: 1, nan: 1, nan: 1, nan: 1, nan: 1, nan: 1, nan: 1, nan: 1, nan: 1, nan: 1, nan: 1, nan: 1, nan: 1, nan: 1, nan: 1, nan: 1, nan: 1, nan: 1, nan: 1, nan: 1, nan: 1, nan: 1, nan: 1, nan: 1, nan: 1, nan: 1, nan: 1, nan: 1, nan: 1, nan: 1, nan: 1, nan: 1, nan: 1, nan: 1, nan: 1, nan: 1, nan: 1, nan: 1, nan: 1, nan: 1, nan: 1, nan: 1, nan: 1, nan: 1, nan: 1, nan: 1, nan: 1, nan: 1, nan: 1, nan: 1, nan: 1, nan: 1, nan: 1, nan: 1, nan: 1, nan: 1, nan: 1, nan: 1, nan: 1, nan: 1, nan: 1, nan: 1, nan: 1, nan: 1, nan: 1, nan: 1, nan: 1, nan: 1, nan: 1, nan: 1, nan: 1, nan: 1, nan: 1, nan: 1, nan: 1, nan: 1, nan: 1, nan: 1, nan: 1, nan: 1, nan: 1, nan: 1, nan: 1, nan: 1, nan: 1, nan: 1, nan: 1, nan: 1, nan: 1, nan: 1, nan: 1, nan: 1, nan: 1, nan: 1, nan: 1, nan: 1, nan: 1, nan: 1, nan: 1, nan: 1, nan: 1, nan: 1, nan: 1, nan: 1, nan: 1, nan: 1, nan: 1, nan: 1, nan: 1, nan: 1, nan: 1, nan: 1, nan: 1, nan: 1, nan: 1, nan: 1, nan: 1, nan: 1, nan: 1, nan: 1, nan: 1, nan: 1, nan: 1, nan: 1, nan: 1, nan: 1, nan: 1, nan: 1, nan: 1, nan: 1, nan: 1, nan: 1, nan: 1, nan: 1, nan: 1, nan: 1, nan: 1, nan: 1, nan: 1, nan: 1, nan: 1, nan: 1, nan: 1, nan: 1, nan: 1, nan: 1, nan: 1, nan: 1, nan: 1, nan: 1, nan: 1, nan: 1, nan: 1, nan: 1, nan: 1, nan: 1, nan: 1, nan: 1, nan: 1, nan: 1, nan: 1, nan: 1, nan: 1, nan: 1, nan: 1, nan: 1, nan: 1, nan: 1, nan: 1, nan: 1, nan: 1, nan: 1, nan: 1, nan: 1, nan: 1, nan: 1, nan: 1, nan: 1, nan: 1, nan: 1, nan: 1, nan: 1, nan: 1, nan: 1, nan: 1, nan: 1, nan: 1, nan: 1, nan: 1, nan: 1, nan: 1, nan: 1, nan: 1, nan: 1, nan: 1, nan: 1, nan: 1, nan: 1, nan: 1, nan: 1, nan: 1, nan: 1, nan: 1, nan: 1, nan: 1, nan: 1, nan: 1, nan: 1, nan: 1, nan: 1, nan: 1, nan: 1, nan: 1, nan: 1, nan: 1, nan: 1, nan: 1, nan: 1, nan: 1, nan: 1, nan: 1, nan: 1, nan: 1, nan: 1, nan: 1, nan: 1, nan: 1, nan: 1, nan: 1, nan: 1, nan: 1, nan: 1, nan: 1, nan: 1, nan: 1, nan: 1, nan: 1, nan: 1, nan: 1, nan: 1, nan: 1, nan: 1, nan: 1, nan: 1, nan: 1, nan: 1, nan: 1, nan: 1, nan: 1, nan: 1, nan: 1, nan: 1, nan: 1, nan: 1, nan: 1, nan: 1, nan: 1, nan: 1, nan: 1, nan: 1, nan: 1, nan: 1, nan: 1, nan: 1, nan: 1, nan: 1, nan: 1, nan: 1, nan: 1, nan: 1, nan: 1, nan: 1, nan: 1, nan: 1, nan: 1, nan: 1, nan: 1, nan: 1, nan: 1, nan: 1, nan: 1, nan: 1, nan: 1, nan: 1, nan: 1, nan: 1, nan: 1, nan: 1, nan: 1, nan: 1, nan: 1, nan: 1, nan: 1, nan: 1, nan: 1, nan: 1, nan: 1, nan: 1, nan: 1, nan: 1, nan: 1, nan: 1, nan: 1, nan: 1, nan: 1, nan: 1, nan: 1, nan: 1, nan: 1, nan: 1, nan: 1, nan: 1, nan: 1, nan: 1, nan: 1, nan: 1, nan: 1, nan: 1, nan: 1, nan: 1, nan: 1, nan: 1, nan: 1, nan: 1, nan: 1, nan: 1, nan: 1, nan: 1, nan: 1, nan: 1, nan: 1, nan: 1, nan: 1, nan: 1, nan: 1, nan: 1, nan: 1, nan: 1, nan: 1, nan: 1, nan: 1, nan: 1, nan: 1, nan: 1, nan: 1, nan: 1, nan: 1, nan: 1, nan: 1, nan: 1, nan: 1, nan: 1, nan: 1, nan: 1, nan: 1, nan: 1, nan: 1, nan: 1, nan: 1, nan: 1, nan: 1, nan: 1, nan: 1, nan: 1, nan: 1, nan: 1, nan: 1, nan: 1, nan: 1, nan: 1, nan: 1, nan: 1, nan: 1, nan: 1, nan: 1, nan: 1, nan: 1, nan: 1, nan: 1, nan: 1, nan: 1, nan: 1, nan: 1, nan: 1, nan: 1, nan: 1, nan: 1, nan: 1, nan: 1, nan: 1, nan: 1, nan: 1, nan: 1, nan: 1, nan: 1, nan: 1, nan: 1, nan: 1, nan: 1, nan: 1, nan: 1, nan: 1, nan: 1, nan: 1, nan: 1, nan: 1, nan: 1, nan: 1, nan: 1, nan: 1, nan: 1, nan: 1, nan: 1, nan: 1, nan: 1, nan: 1, nan: 1, nan: 1, nan: 1, nan: 1, nan: 1, nan: 1, nan: 1, nan: 1, nan: 1, nan: 1, nan: 1, nan: 1, nan: 1, nan: 1, nan: 1, nan: 1, nan: 1, nan: 1, nan: 1, nan: 1, nan: 1, nan: 1, nan: 1, nan: 1, nan: 1, nan: 1, nan: 1, nan: 1, nan: 1, nan: 1, nan: 1, nan: 1, nan: 1, nan: 1, nan: 1, nan: 1, nan: 1, nan: 1, nan: 1, nan: 1, nan: 1, nan: 1, nan: 1, nan: 1, nan: 1, nan: 1, nan: 1, nan: 1, nan: 1, nan: 1, nan: 1, nan: 1, nan: 1, nan: 1, nan: 1, nan: 1, nan: 1, nan: 1, nan: 1, nan: 1, nan: 1, nan: 1, nan: 1, nan: 1, nan: 1, nan: 1, nan: 1, nan: 1, nan: 1, nan: 1, nan: 1, nan: 1, nan: 1, nan: 1})\n"
          ],
          "name": "stdout"
        }
      ]
    },
    {
      "cell_type": "code",
      "metadata": {
        "id": "c5rdwfZs-7Ml"
      },
      "source": [
        "# substituir os campos nulos pelo valor inteiro que mais aparece na contagem\r\n",
        "df['gcs_unable_apache'].fillna(0, inplace = True)"
      ],
      "execution_count": null,
      "outputs": []
    },
    {
      "cell_type": "markdown",
      "metadata": {
        "id": "4RqJiQw-IUqV"
      },
      "source": [
        "**Verificando os dados faltantes na variável gcs_verbal_apache**"
      ]
    },
    {
      "cell_type": "code",
      "metadata": {
        "colab": {
          "base_uri": "https://localhost:8080/"
        },
        "id": "FxRZKodhIa56",
        "outputId": "982aff89-f257-4a6e-f628-ab5541870ece"
      },
      "source": [
        "# Quantidade de valores nulos na variável gcs_verbal_apache\r\n",
        "df['gcs_verbal_apache'].isnull().sum()"
      ],
      "execution_count": null,
      "outputs": [
        {
          "output_type": "execute_result",
          "data": {
            "text/plain": [
              "2190"
            ]
          },
          "metadata": {
            "tags": []
          },
          "execution_count": 58
        }
      ]
    },
    {
      "cell_type": "code",
      "metadata": {
        "colab": {
          "base_uri": "https://localhost:8080/"
        },
        "id": "WQaU_oJyI6Fw",
        "outputId": "7d5b2cd7-df1f-4442-c508-15328505f2c8"
      },
      "source": [
        "# Quantidade de cada gcs_verbal_apache na pesquisa por ser tipo inteiro\r\n",
        "# componente verbal da Escala de Coma de Glasgow medido durante as primeiras 24 horas, que resulta na pontuação APACHE III\r\n",
        "gcs_verbal_apache_qtd = df['gcs_verbal_apache']\r\n",
        "counter6 = Counter(gcs_verbal_apache_qtd)\r\n",
        "print(counter6)"
      ],
      "execution_count": null,
      "outputs": [
        {
          "output_type": "stream",
          "text": [
            "Counter({5.0: 82227, 1.0: 22818, 4.0: 15776, 3.0: 4384, 2.0: 2762, nan: 1, nan: 1, nan: 1, nan: 1, nan: 1, nan: 1, nan: 1, nan: 1, nan: 1, nan: 1, nan: 1, nan: 1, nan: 1, nan: 1, nan: 1, nan: 1, nan: 1, nan: 1, nan: 1, nan: 1, nan: 1, nan: 1, nan: 1, nan: 1, nan: 1, nan: 1, nan: 1, nan: 1, nan: 1, nan: 1, nan: 1, nan: 1, nan: 1, nan: 1, nan: 1, nan: 1, nan: 1, nan: 1, nan: 1, nan: 1, nan: 1, nan: 1, nan: 1, nan: 1, nan: 1, nan: 1, nan: 1, nan: 1, nan: 1, nan: 1, nan: 1, nan: 1, nan: 1, nan: 1, nan: 1, nan: 1, nan: 1, nan: 1, nan: 1, nan: 1, nan: 1, nan: 1, nan: 1, nan: 1, nan: 1, nan: 1, nan: 1, nan: 1, nan: 1, nan: 1, nan: 1, nan: 1, nan: 1, nan: 1, nan: 1, nan: 1, nan: 1, nan: 1, nan: 1, nan: 1, nan: 1, nan: 1, nan: 1, nan: 1, nan: 1, nan: 1, nan: 1, nan: 1, nan: 1, nan: 1, nan: 1, nan: 1, nan: 1, nan: 1, nan: 1, nan: 1, nan: 1, nan: 1, nan: 1, nan: 1, nan: 1, nan: 1, nan: 1, nan: 1, nan: 1, nan: 1, nan: 1, nan: 1, nan: 1, nan: 1, nan: 1, nan: 1, nan: 1, nan: 1, nan: 1, nan: 1, nan: 1, nan: 1, nan: 1, nan: 1, nan: 1, nan: 1, nan: 1, nan: 1, nan: 1, nan: 1, nan: 1, nan: 1, nan: 1, nan: 1, nan: 1, nan: 1, nan: 1, nan: 1, nan: 1, nan: 1, nan: 1, nan: 1, nan: 1, nan: 1, nan: 1, nan: 1, nan: 1, nan: 1, nan: 1, nan: 1, nan: 1, nan: 1, nan: 1, nan: 1, nan: 1, nan: 1, nan: 1, nan: 1, nan: 1, nan: 1, nan: 1, nan: 1, nan: 1, nan: 1, nan: 1, nan: 1, nan: 1, nan: 1, nan: 1, nan: 1, nan: 1, nan: 1, nan: 1, nan: 1, nan: 1, nan: 1, nan: 1, nan: 1, nan: 1, nan: 1, nan: 1, nan: 1, nan: 1, nan: 1, nan: 1, nan: 1, nan: 1, nan: 1, nan: 1, nan: 1, nan: 1, nan: 1, nan: 1, nan: 1, nan: 1, nan: 1, nan: 1, nan: 1, nan: 1, nan: 1, nan: 1, nan: 1, nan: 1, nan: 1, nan: 1, nan: 1, nan: 1, nan: 1, nan: 1, nan: 1, nan: 1, nan: 1, nan: 1, nan: 1, nan: 1, nan: 1, nan: 1, nan: 1, nan: 1, nan: 1, nan: 1, nan: 1, nan: 1, nan: 1, nan: 1, nan: 1, nan: 1, nan: 1, nan: 1, nan: 1, nan: 1, nan: 1, nan: 1, nan: 1, nan: 1, nan: 1, nan: 1, nan: 1, nan: 1, nan: 1, nan: 1, nan: 1, nan: 1, nan: 1, nan: 1, nan: 1, nan: 1, nan: 1, nan: 1, nan: 1, nan: 1, nan: 1, nan: 1, nan: 1, nan: 1, nan: 1, nan: 1, nan: 1, nan: 1, nan: 1, nan: 1, nan: 1, nan: 1, nan: 1, nan: 1, nan: 1, nan: 1, nan: 1, nan: 1, nan: 1, nan: 1, nan: 1, nan: 1, nan: 1, nan: 1, nan: 1, nan: 1, nan: 1, nan: 1, nan: 1, nan: 1, nan: 1, nan: 1, nan: 1, nan: 1, nan: 1, nan: 1, nan: 1, nan: 1, nan: 1, nan: 1, nan: 1, nan: 1, nan: 1, nan: 1, nan: 1, nan: 1, nan: 1, nan: 1, nan: 1, nan: 1, nan: 1, nan: 1, nan: 1, nan: 1, nan: 1, nan: 1, nan: 1, nan: 1, nan: 1, nan: 1, nan: 1, nan: 1, nan: 1, nan: 1, nan: 1, nan: 1, nan: 1, nan: 1, nan: 1, nan: 1, nan: 1, nan: 1, nan: 1, nan: 1, nan: 1, nan: 1, nan: 1, nan: 1, nan: 1, nan: 1, nan: 1, nan: 1, nan: 1, nan: 1, nan: 1, nan: 1, nan: 1, nan: 1, nan: 1, nan: 1, nan: 1, nan: 1, nan: 1, nan: 1, nan: 1, nan: 1, nan: 1, nan: 1, nan: 1, nan: 1, nan: 1, nan: 1, nan: 1, nan: 1, nan: 1, nan: 1, nan: 1, nan: 1, nan: 1, nan: 1, nan: 1, nan: 1, nan: 1, nan: 1, nan: 1, nan: 1, nan: 1, nan: 1, nan: 1, nan: 1, nan: 1, nan: 1, nan: 1, nan: 1, nan: 1, nan: 1, nan: 1, nan: 1, nan: 1, nan: 1, nan: 1, nan: 1, nan: 1, nan: 1, nan: 1, nan: 1, nan: 1, nan: 1, nan: 1, nan: 1, nan: 1, nan: 1, nan: 1, nan: 1, nan: 1, nan: 1, nan: 1, nan: 1, nan: 1, nan: 1, nan: 1, nan: 1, nan: 1, nan: 1, nan: 1, nan: 1, nan: 1, nan: 1, nan: 1, nan: 1, nan: 1, nan: 1, nan: 1, nan: 1, nan: 1, nan: 1, nan: 1, nan: 1, nan: 1, nan: 1, nan: 1, nan: 1, nan: 1, nan: 1, nan: 1, nan: 1, nan: 1, nan: 1, nan: 1, nan: 1, nan: 1, nan: 1, nan: 1, nan: 1, nan: 1, nan: 1, nan: 1, nan: 1, nan: 1, nan: 1, nan: 1, nan: 1, nan: 1, nan: 1, nan: 1, nan: 1, nan: 1, nan: 1, nan: 1, nan: 1, nan: 1, nan: 1, nan: 1, nan: 1, nan: 1, nan: 1, nan: 1, nan: 1, nan: 1, nan: 1, nan: 1, nan: 1, nan: 1, nan: 1, nan: 1, nan: 1, nan: 1, nan: 1, nan: 1, nan: 1, nan: 1, nan: 1, nan: 1, nan: 1, nan: 1, nan: 1, nan: 1, nan: 1, nan: 1, nan: 1, nan: 1, nan: 1, nan: 1, nan: 1, nan: 1, nan: 1, nan: 1, nan: 1, nan: 1, nan: 1, nan: 1, nan: 1, nan: 1, nan: 1, nan: 1, nan: 1, nan: 1, nan: 1, nan: 1, nan: 1, nan: 1, nan: 1, nan: 1, nan: 1, nan: 1, nan: 1, nan: 1, nan: 1, nan: 1, nan: 1, nan: 1, nan: 1, nan: 1, nan: 1, nan: 1, nan: 1, nan: 1, nan: 1, nan: 1, nan: 1, nan: 1, nan: 1, nan: 1, nan: 1, nan: 1, nan: 1, nan: 1, nan: 1, nan: 1, nan: 1, nan: 1, nan: 1, nan: 1, nan: 1, nan: 1, nan: 1, nan: 1, nan: 1, nan: 1, nan: 1, nan: 1, nan: 1, nan: 1, nan: 1, nan: 1, nan: 1, nan: 1, nan: 1, nan: 1, nan: 1, nan: 1, nan: 1, nan: 1, nan: 1, nan: 1, nan: 1, nan: 1, nan: 1, nan: 1, nan: 1, nan: 1, nan: 1, nan: 1, nan: 1, nan: 1, nan: 1, nan: 1, nan: 1, nan: 1, nan: 1, nan: 1, nan: 1, nan: 1, nan: 1, nan: 1, nan: 1, nan: 1, nan: 1, nan: 1, nan: 1, nan: 1, nan: 1, nan: 1, nan: 1, nan: 1, nan: 1, nan: 1, nan: 1, nan: 1, nan: 1, nan: 1, nan: 1, nan: 1, nan: 1, nan: 1, nan: 1, nan: 1, nan: 1, nan: 1, nan: 1, nan: 1, nan: 1, nan: 1, nan: 1, nan: 1, nan: 1, nan: 1, nan: 1, nan: 1, nan: 1, nan: 1, nan: 1, nan: 1, nan: 1, nan: 1, nan: 1, nan: 1, nan: 1, nan: 1, nan: 1, nan: 1, nan: 1, nan: 1, nan: 1, nan: 1, nan: 1, nan: 1, nan: 1, nan: 1, nan: 1, nan: 1, nan: 1, nan: 1, nan: 1, nan: 1, nan: 1, nan: 1, nan: 1, nan: 1, nan: 1, nan: 1, nan: 1, nan: 1, nan: 1, nan: 1, nan: 1, nan: 1, nan: 1, nan: 1, nan: 1, nan: 1, nan: 1, nan: 1, nan: 1, nan: 1, nan: 1, nan: 1, nan: 1, nan: 1, nan: 1, nan: 1, nan: 1, nan: 1, nan: 1, nan: 1, nan: 1, nan: 1, nan: 1, nan: 1, nan: 1, nan: 1, nan: 1, nan: 1, nan: 1, nan: 1, nan: 1, nan: 1, nan: 1, nan: 1, nan: 1, nan: 1, nan: 1, nan: 1, nan: 1, nan: 1, nan: 1, nan: 1, nan: 1, nan: 1, nan: 1, nan: 1, nan: 1, nan: 1, nan: 1, nan: 1, nan: 1, nan: 1, nan: 1, nan: 1, nan: 1, nan: 1, nan: 1, nan: 1, nan: 1, nan: 1, nan: 1, nan: 1, nan: 1, nan: 1, nan: 1, nan: 1, nan: 1, nan: 1, nan: 1, nan: 1, nan: 1, nan: 1, nan: 1, nan: 1, nan: 1, nan: 1, nan: 1, nan: 1, nan: 1, nan: 1, nan: 1, nan: 1, nan: 1, nan: 1, nan: 1, nan: 1, nan: 1, nan: 1, nan: 1, nan: 1, nan: 1, nan: 1, nan: 1, nan: 1, nan: 1, nan: 1, nan: 1, nan: 1, nan: 1, nan: 1, nan: 1, nan: 1, nan: 1, nan: 1, nan: 1, nan: 1, nan: 1, nan: 1, nan: 1, nan: 1, nan: 1, nan: 1, nan: 1, nan: 1, nan: 1, nan: 1, nan: 1, nan: 1, nan: 1, nan: 1, nan: 1, nan: 1, nan: 1, nan: 1, nan: 1, nan: 1, nan: 1, nan: 1, nan: 1, nan: 1, nan: 1, nan: 1, nan: 1, nan: 1, nan: 1, nan: 1, nan: 1, nan: 1, nan: 1, nan: 1, nan: 1, nan: 1, nan: 1, nan: 1, nan: 1, nan: 1, nan: 1, nan: 1, nan: 1, nan: 1, nan: 1, nan: 1, nan: 1, nan: 1, nan: 1, nan: 1, nan: 1, nan: 1, nan: 1, nan: 1, nan: 1, nan: 1, nan: 1, nan: 1, nan: 1, nan: 1, nan: 1, nan: 1, nan: 1, nan: 1, nan: 1, nan: 1, nan: 1, nan: 1, nan: 1, nan: 1, nan: 1, nan: 1, nan: 1, nan: 1, nan: 1, nan: 1, nan: 1, nan: 1, nan: 1, nan: 1, nan: 1, nan: 1, nan: 1, nan: 1, nan: 1, nan: 1, nan: 1, nan: 1, nan: 1, nan: 1, nan: 1, nan: 1, nan: 1, nan: 1, nan: 1, nan: 1, nan: 1, nan: 1, nan: 1, nan: 1, nan: 1, nan: 1, nan: 1, nan: 1, nan: 1, nan: 1, nan: 1, nan: 1, nan: 1, nan: 1, nan: 1, nan: 1, nan: 1, nan: 1, nan: 1, nan: 1, nan: 1, nan: 1, nan: 1, nan: 1, nan: 1, nan: 1, nan: 1, nan: 1, nan: 1, nan: 1, nan: 1, nan: 1, nan: 1, nan: 1, nan: 1, nan: 1, nan: 1, nan: 1, nan: 1, nan: 1, nan: 1, nan: 1, nan: 1, nan: 1, nan: 1, nan: 1, nan: 1, nan: 1, nan: 1, nan: 1, nan: 1, nan: 1, nan: 1, nan: 1, nan: 1, nan: 1, nan: 1, nan: 1, nan: 1, nan: 1, nan: 1, nan: 1, nan: 1, nan: 1, nan: 1, nan: 1, nan: 1, nan: 1, nan: 1, nan: 1, nan: 1, nan: 1, nan: 1, nan: 1, nan: 1, nan: 1, nan: 1, nan: 1, nan: 1, nan: 1, nan: 1, nan: 1, nan: 1, nan: 1, nan: 1, nan: 1, nan: 1, nan: 1, nan: 1, nan: 1, nan: 1, nan: 1, nan: 1, nan: 1, nan: 1, nan: 1, nan: 1, nan: 1, nan: 1, nan: 1, nan: 1, nan: 1, nan: 1, nan: 1, nan: 1, nan: 1, nan: 1, nan: 1, nan: 1, nan: 1, nan: 1, nan: 1, nan: 1, nan: 1, nan: 1, nan: 1, nan: 1, nan: 1, nan: 1, nan: 1, nan: 1, nan: 1, nan: 1, nan: 1, nan: 1, nan: 1, nan: 1, nan: 1, nan: 1, nan: 1, nan: 1, nan: 1, nan: 1, nan: 1, nan: 1, nan: 1, nan: 1, nan: 1, nan: 1, nan: 1, nan: 1, nan: 1, nan: 1, nan: 1, nan: 1, nan: 1, nan: 1, nan: 1, nan: 1, nan: 1, nan: 1, nan: 1, nan: 1, nan: 1, nan: 1, nan: 1, nan: 1, nan: 1, nan: 1, nan: 1, nan: 1, nan: 1, nan: 1, nan: 1, nan: 1, nan: 1, nan: 1, nan: 1, nan: 1, nan: 1, nan: 1, nan: 1, nan: 1, nan: 1, nan: 1, nan: 1, nan: 1, nan: 1, nan: 1, nan: 1, nan: 1, nan: 1, nan: 1, nan: 1, nan: 1, nan: 1, nan: 1, nan: 1, nan: 1, nan: 1, nan: 1, nan: 1, nan: 1, nan: 1, nan: 1, nan: 1, nan: 1, nan: 1, nan: 1, nan: 1, nan: 1, nan: 1, nan: 1, nan: 1, nan: 1, nan: 1, nan: 1, nan: 1, nan: 1, nan: 1, nan: 1, nan: 1, nan: 1, nan: 1, nan: 1, nan: 1, nan: 1, nan: 1, nan: 1, nan: 1, nan: 1, nan: 1, nan: 1, nan: 1, nan: 1, nan: 1, nan: 1, nan: 1, nan: 1, nan: 1, nan: 1, nan: 1, nan: 1, nan: 1, nan: 1, nan: 1, nan: 1, nan: 1, nan: 1, nan: 1, nan: 1, nan: 1, nan: 1, nan: 1, nan: 1, nan: 1, nan: 1, nan: 1, nan: 1, nan: 1, nan: 1, nan: 1, nan: 1, nan: 1, nan: 1, nan: 1, nan: 1, nan: 1, nan: 1, nan: 1, nan: 1, nan: 1, nan: 1, nan: 1, nan: 1, nan: 1, nan: 1, nan: 1, nan: 1, nan: 1, nan: 1, nan: 1, nan: 1, nan: 1, nan: 1, nan: 1, nan: 1, nan: 1, nan: 1, nan: 1, nan: 1, nan: 1, nan: 1, nan: 1, nan: 1, nan: 1, nan: 1, nan: 1, nan: 1, nan: 1, nan: 1, nan: 1, nan: 1, nan: 1, nan: 1, nan: 1, nan: 1, nan: 1, nan: 1, nan: 1, nan: 1, nan: 1, nan: 1, nan: 1, nan: 1, nan: 1, nan: 1, nan: 1, nan: 1, nan: 1, nan: 1, nan: 1, nan: 1, nan: 1, nan: 1, nan: 1, nan: 1, nan: 1, nan: 1, nan: 1, nan: 1, nan: 1, nan: 1, nan: 1, nan: 1, nan: 1, nan: 1, nan: 1, nan: 1, nan: 1, nan: 1, nan: 1, nan: 1, nan: 1, nan: 1, nan: 1, nan: 1, nan: 1, nan: 1, nan: 1, nan: 1, nan: 1, nan: 1, nan: 1, nan: 1, nan: 1, nan: 1, nan: 1, nan: 1, nan: 1, nan: 1, nan: 1, nan: 1, nan: 1, nan: 1, nan: 1, nan: 1, nan: 1, nan: 1, nan: 1, nan: 1, nan: 1, nan: 1, nan: 1, nan: 1, nan: 1, nan: 1, nan: 1, nan: 1, nan: 1, nan: 1, nan: 1, nan: 1, nan: 1, nan: 1, nan: 1, nan: 1, nan: 1, nan: 1, nan: 1, nan: 1, nan: 1, nan: 1, nan: 1, nan: 1, nan: 1, nan: 1, nan: 1, nan: 1, nan: 1, nan: 1, nan: 1, nan: 1, nan: 1, nan: 1, nan: 1, nan: 1, nan: 1, nan: 1, nan: 1, nan: 1, nan: 1, nan: 1, nan: 1, nan: 1, nan: 1, nan: 1, nan: 1, nan: 1, nan: 1, nan: 1, nan: 1, nan: 1, nan: 1, nan: 1, nan: 1, nan: 1, nan: 1, nan: 1, nan: 1, nan: 1, nan: 1, nan: 1, nan: 1, nan: 1, nan: 1, nan: 1, nan: 1, nan: 1, nan: 1, nan: 1, nan: 1, nan: 1, nan: 1, nan: 1, nan: 1, nan: 1, nan: 1, nan: 1, nan: 1, nan: 1, nan: 1, nan: 1, nan: 1, nan: 1, nan: 1, nan: 1, nan: 1, nan: 1, nan: 1, nan: 1, nan: 1, nan: 1, nan: 1, nan: 1, nan: 1, nan: 1, nan: 1, nan: 1, nan: 1, nan: 1, nan: 1, nan: 1, nan: 1, nan: 1, nan: 1, nan: 1, nan: 1, nan: 1, nan: 1, nan: 1, nan: 1, nan: 1, nan: 1, nan: 1, nan: 1, nan: 1, nan: 1, nan: 1, nan: 1, nan: 1, nan: 1, nan: 1, nan: 1, nan: 1, nan: 1, nan: 1, nan: 1, nan: 1, nan: 1, nan: 1, nan: 1, nan: 1, nan: 1, nan: 1, nan: 1, nan: 1, nan: 1, nan: 1, nan: 1, nan: 1, nan: 1, nan: 1, nan: 1, nan: 1, nan: 1, nan: 1, nan: 1, nan: 1, nan: 1, nan: 1, nan: 1, nan: 1, nan: 1, nan: 1, nan: 1, nan: 1, nan: 1, nan: 1, nan: 1, nan: 1, nan: 1, nan: 1, nan: 1, nan: 1, nan: 1, nan: 1, nan: 1, nan: 1, nan: 1, nan: 1, nan: 1, nan: 1, nan: 1, nan: 1, nan: 1, nan: 1, nan: 1, nan: 1, nan: 1, nan: 1, nan: 1, nan: 1, nan: 1, nan: 1, nan: 1, nan: 1, nan: 1, nan: 1, nan: 1, nan: 1, nan: 1, nan: 1, nan: 1, nan: 1, nan: 1, nan: 1, nan: 1, nan: 1, nan: 1, nan: 1, nan: 1, nan: 1, nan: 1, nan: 1, nan: 1, nan: 1, nan: 1, nan: 1, nan: 1, nan: 1, nan: 1, nan: 1, nan: 1, nan: 1, nan: 1, nan: 1, nan: 1, nan: 1, nan: 1, nan: 1, nan: 1, nan: 1, nan: 1, nan: 1, nan: 1, nan: 1, nan: 1, nan: 1, nan: 1, nan: 1, nan: 1, nan: 1, nan: 1, nan: 1, nan: 1, nan: 1, nan: 1, nan: 1, nan: 1, nan: 1, nan: 1, nan: 1, nan: 1, nan: 1, nan: 1, nan: 1, nan: 1, nan: 1, nan: 1, nan: 1, nan: 1, nan: 1, nan: 1, nan: 1, nan: 1, nan: 1, nan: 1, nan: 1, nan: 1, nan: 1, nan: 1, nan: 1, nan: 1, nan: 1, nan: 1, nan: 1, nan: 1, nan: 1, nan: 1, nan: 1, nan: 1, nan: 1, nan: 1, nan: 1, nan: 1, nan: 1, nan: 1, nan: 1, nan: 1, nan: 1, nan: 1, nan: 1, nan: 1, nan: 1, nan: 1, nan: 1, nan: 1, nan: 1, nan: 1, nan: 1, nan: 1, nan: 1, nan: 1, nan: 1, nan: 1, nan: 1, nan: 1, nan: 1, nan: 1, nan: 1, nan: 1, nan: 1, nan: 1, nan: 1, nan: 1, nan: 1, nan: 1, nan: 1, nan: 1, nan: 1, nan: 1, nan: 1, nan: 1, nan: 1, nan: 1, nan: 1, nan: 1, nan: 1, nan: 1, nan: 1, nan: 1, nan: 1, nan: 1, nan: 1, nan: 1, nan: 1, nan: 1, nan: 1, nan: 1, nan: 1, nan: 1, nan: 1, nan: 1, nan: 1, nan: 1, nan: 1, nan: 1, nan: 1, nan: 1, nan: 1, nan: 1, nan: 1, nan: 1, nan: 1, nan: 1, nan: 1, nan: 1, nan: 1, nan: 1, nan: 1, nan: 1, nan: 1, nan: 1, nan: 1, nan: 1, nan: 1, nan: 1, nan: 1, nan: 1, nan: 1, nan: 1, nan: 1, nan: 1, nan: 1, nan: 1, nan: 1, nan: 1, nan: 1, nan: 1, nan: 1, nan: 1, nan: 1, nan: 1, nan: 1, nan: 1, nan: 1, nan: 1, nan: 1, nan: 1, nan: 1, nan: 1, nan: 1, nan: 1, nan: 1, nan: 1, nan: 1, nan: 1, nan: 1, nan: 1, nan: 1, nan: 1, nan: 1, nan: 1, nan: 1, nan: 1, nan: 1, nan: 1, nan: 1, nan: 1, nan: 1, nan: 1, nan: 1, nan: 1, nan: 1, nan: 1, nan: 1, nan: 1, nan: 1, nan: 1, nan: 1, nan: 1, nan: 1, nan: 1, nan: 1, nan: 1, nan: 1, nan: 1, nan: 1, nan: 1, nan: 1, nan: 1, nan: 1, nan: 1, nan: 1, nan: 1, nan: 1, nan: 1, nan: 1, nan: 1, nan: 1, nan: 1, nan: 1, nan: 1, nan: 1, nan: 1, nan: 1, nan: 1, nan: 1, nan: 1, nan: 1, nan: 1, nan: 1, nan: 1, nan: 1, nan: 1, nan: 1, nan: 1, nan: 1, nan: 1, nan: 1, nan: 1, nan: 1, nan: 1, nan: 1, nan: 1, nan: 1, nan: 1, nan: 1, nan: 1, nan: 1, nan: 1, nan: 1, nan: 1, nan: 1, nan: 1, nan: 1, nan: 1, nan: 1, nan: 1, nan: 1, nan: 1, nan: 1, nan: 1, nan: 1, nan: 1, nan: 1, nan: 1, nan: 1, nan: 1, nan: 1, nan: 1, nan: 1, nan: 1, nan: 1, nan: 1, nan: 1, nan: 1, nan: 1, nan: 1, nan: 1, nan: 1, nan: 1, nan: 1, nan: 1, nan: 1, nan: 1, nan: 1, nan: 1, nan: 1, nan: 1, nan: 1, nan: 1, nan: 1, nan: 1, nan: 1, nan: 1, nan: 1, nan: 1, nan: 1, nan: 1, nan: 1, nan: 1, nan: 1, nan: 1, nan: 1, nan: 1, nan: 1, nan: 1, nan: 1, nan: 1, nan: 1, nan: 1, nan: 1, nan: 1, nan: 1, nan: 1, nan: 1, nan: 1, nan: 1, nan: 1, nan: 1, nan: 1, nan: 1, nan: 1, nan: 1, nan: 1, nan: 1, nan: 1, nan: 1, nan: 1, nan: 1, nan: 1, nan: 1, nan: 1, nan: 1, nan: 1, nan: 1, nan: 1, nan: 1, nan: 1, nan: 1, nan: 1, nan: 1, nan: 1, nan: 1, nan: 1, nan: 1, nan: 1, nan: 1, nan: 1, nan: 1, nan: 1, nan: 1, nan: 1, nan: 1, nan: 1, nan: 1, nan: 1, nan: 1, nan: 1, nan: 1, nan: 1, nan: 1, nan: 1, nan: 1, nan: 1, nan: 1, nan: 1, nan: 1, nan: 1, nan: 1, nan: 1, nan: 1, nan: 1, nan: 1, nan: 1, nan: 1, nan: 1, nan: 1, nan: 1, nan: 1, nan: 1, nan: 1, nan: 1, nan: 1, nan: 1, nan: 1, nan: 1, nan: 1, nan: 1, nan: 1, nan: 1, nan: 1, nan: 1, nan: 1, nan: 1, nan: 1, nan: 1, nan: 1, nan: 1, nan: 1, nan: 1, nan: 1, nan: 1, nan: 1, nan: 1, nan: 1, nan: 1, nan: 1, nan: 1, nan: 1, nan: 1, nan: 1, nan: 1, nan: 1, nan: 1, nan: 1, nan: 1, nan: 1, nan: 1, nan: 1, nan: 1, nan: 1, nan: 1, nan: 1, nan: 1, nan: 1, nan: 1, nan: 1, nan: 1, nan: 1, nan: 1, nan: 1, nan: 1, nan: 1, nan: 1, nan: 1, nan: 1, nan: 1, nan: 1, nan: 1, nan: 1, nan: 1, nan: 1, nan: 1, nan: 1, nan: 1, nan: 1, nan: 1, nan: 1, nan: 1, nan: 1, nan: 1, nan: 1, nan: 1, nan: 1, nan: 1, nan: 1, nan: 1, nan: 1, nan: 1, nan: 1, nan: 1, nan: 1, nan: 1, nan: 1, nan: 1, nan: 1, nan: 1, nan: 1, nan: 1, nan: 1, nan: 1, nan: 1, nan: 1, nan: 1, nan: 1, nan: 1, nan: 1, nan: 1, nan: 1, nan: 1, nan: 1, nan: 1, nan: 1, nan: 1, nan: 1, nan: 1, nan: 1, nan: 1, nan: 1, nan: 1, nan: 1, nan: 1, nan: 1, nan: 1, nan: 1, nan: 1, nan: 1, nan: 1, nan: 1, nan: 1, nan: 1, nan: 1, nan: 1, nan: 1, nan: 1, nan: 1, nan: 1, nan: 1, nan: 1, nan: 1, nan: 1, nan: 1, nan: 1, nan: 1, nan: 1, nan: 1, nan: 1, nan: 1, nan: 1, nan: 1, nan: 1, nan: 1, nan: 1, nan: 1, nan: 1, nan: 1, nan: 1, nan: 1, nan: 1, nan: 1, nan: 1, nan: 1, nan: 1, nan: 1, nan: 1, nan: 1, nan: 1, nan: 1, nan: 1, nan: 1, nan: 1, nan: 1, nan: 1, nan: 1, nan: 1, nan: 1, nan: 1, nan: 1, nan: 1, nan: 1, nan: 1, nan: 1, nan: 1, nan: 1, nan: 1, nan: 1, nan: 1, nan: 1, nan: 1, nan: 1, nan: 1, nan: 1, nan: 1, nan: 1, nan: 1, nan: 1, nan: 1, nan: 1, nan: 1, nan: 1, nan: 1, nan: 1, nan: 1, nan: 1, nan: 1, nan: 1, nan: 1, nan: 1, nan: 1, nan: 1, nan: 1, nan: 1, nan: 1, nan: 1, nan: 1, nan: 1, nan: 1, nan: 1, nan: 1, nan: 1, nan: 1, nan: 1, nan: 1, nan: 1, nan: 1, nan: 1, nan: 1, nan: 1, nan: 1, nan: 1, nan: 1, nan: 1, nan: 1, nan: 1, nan: 1, nan: 1, nan: 1, nan: 1, nan: 1, nan: 1, nan: 1, nan: 1, nan: 1, nan: 1, nan: 1, nan: 1, nan: 1, nan: 1, nan: 1, nan: 1, nan: 1, nan: 1, nan: 1, nan: 1, nan: 1, nan: 1, nan: 1, nan: 1, nan: 1, nan: 1, nan: 1, nan: 1, nan: 1, nan: 1, nan: 1, nan: 1, nan: 1, nan: 1, nan: 1, nan: 1, nan: 1, nan: 1, nan: 1, nan: 1, nan: 1, nan: 1, nan: 1, nan: 1, nan: 1, nan: 1, nan: 1, nan: 1, nan: 1, nan: 1, nan: 1, nan: 1, nan: 1, nan: 1, nan: 1, nan: 1, nan: 1, nan: 1, nan: 1, nan: 1, nan: 1, nan: 1, nan: 1, nan: 1, nan: 1, nan: 1, nan: 1, nan: 1, nan: 1, nan: 1, nan: 1, nan: 1, nan: 1, nan: 1, nan: 1, nan: 1, nan: 1, nan: 1, nan: 1, nan: 1, nan: 1, nan: 1, nan: 1, nan: 1, nan: 1, nan: 1, nan: 1, nan: 1, nan: 1, nan: 1, nan: 1, nan: 1, nan: 1, nan: 1, nan: 1, nan: 1, nan: 1, nan: 1, nan: 1, nan: 1, nan: 1, nan: 1, nan: 1, nan: 1, nan: 1, nan: 1, nan: 1, nan: 1, nan: 1, nan: 1, nan: 1, nan: 1, nan: 1, nan: 1, nan: 1, nan: 1, nan: 1, nan: 1, nan: 1, nan: 1, nan: 1, nan: 1, nan: 1, nan: 1, nan: 1, nan: 1, nan: 1, nan: 1, nan: 1, nan: 1, nan: 1, nan: 1, nan: 1, nan: 1, nan: 1, nan: 1, nan: 1, nan: 1, nan: 1, nan: 1, nan: 1, nan: 1, nan: 1, nan: 1, nan: 1, nan: 1, nan: 1, nan: 1, nan: 1, nan: 1, nan: 1, nan: 1, nan: 1, nan: 1, nan: 1, nan: 1, nan: 1, nan: 1, nan: 1, nan: 1, nan: 1, nan: 1, nan: 1, nan: 1, nan: 1, nan: 1, nan: 1, nan: 1, nan: 1})\n"
          ],
          "name": "stdout"
        }
      ]
    },
    {
      "cell_type": "code",
      "metadata": {
        "id": "LAEC8PThJrcz"
      },
      "source": [
        "# substituir os campos nulos pelo valor inteiro que mais aparece na contagem\r\n",
        "df['gcs_verbal_apache'].fillna(5, inplace = True)"
      ],
      "execution_count": null,
      "outputs": []
    },
    {
      "cell_type": "markdown",
      "metadata": {
        "id": "-lr2dSUkJ5NL"
      },
      "source": [
        "**Verificando os dados faltantes na variável glucose_apache**"
      ]
    },
    {
      "cell_type": "code",
      "metadata": {
        "colab": {
          "base_uri": "https://localhost:8080/"
        },
        "id": "LIbK3LflJ_Uu",
        "outputId": "926fa6c7-4b48-4a86-d07f-2257ba39ae80"
      },
      "source": [
        "# Quantidade de valores nulos na variável glucose_apache\r\n",
        "df['glucose_apache'].isnull().sum()"
      ],
      "execution_count": null,
      "outputs": [
        {
          "output_type": "execute_result",
          "data": {
            "text/plain": [
              "14696"
            ]
          },
          "metadata": {
            "tags": []
          },
          "execution_count": 61
        }
      ]
    },
    {
      "cell_type": "code",
      "metadata": {
        "colab": {
          "base_uri": "https://localhost:8080/"
        },
        "id": "B50so_OKLhI5",
        "outputId": "662e138f-5d71-4ead-831d-4d4b1d32bae4"
      },
      "source": [
        "# Média de glucose_apache nesse dataset\r\n",
        "glucose_apache_mean = df['glucose_apache'].mean()\r\n",
        "print(glucose_apache_mean)"
      ],
      "execution_count": null,
      "outputs": [
        {
          "output_type": "stream",
          "text": [
            "160.1414157161276\n"
          ],
          "name": "stdout"
        }
      ]
    },
    {
      "cell_type": "code",
      "metadata": {
        "id": "Pp4eJzABMzFM"
      },
      "source": [
        "# E no glucose_apache substituir pela média de glucose_apache no dataset.\r\n",
        "df['glucose_apache'].fillna(df['glucose_apache'].mean(), inplace = True)"
      ],
      "execution_count": null,
      "outputs": []
    },
    {
      "cell_type": "markdown",
      "metadata": {
        "id": "aB844YS2NcwB"
      },
      "source": [
        "**Verificando os dados faltantes na variável heart_rate_apache**"
      ]
    },
    {
      "cell_type": "code",
      "metadata": {
        "colab": {
          "base_uri": "https://localhost:8080/"
        },
        "id": "6iNAiZcCNiCG",
        "outputId": "a4b4df36-f5a0-4c50-c19f-dd55c3344d32"
      },
      "source": [
        "# Quantidade de valores nulos na variável heart_rate_apache\r\n",
        "df['heart_rate_apache'].isnull().sum()"
      ],
      "execution_count": null,
      "outputs": [
        {
          "output_type": "execute_result",
          "data": {
            "text/plain": [
              "309"
            ]
          },
          "metadata": {
            "tags": []
          },
          "execution_count": 64
        }
      ]
    },
    {
      "cell_type": "code",
      "metadata": {
        "colab": {
          "base_uri": "https://localhost:8080/"
        },
        "id": "SH85OXOLOb4a",
        "outputId": "32b798a7-c55e-4e25-efb4-de50a6ac26bb"
      },
      "source": [
        "# Média de heart_rate_apache nesse dataset\r\n",
        "heart_rate_apache_mean = df['heart_rate_apache'].mean()\r\n",
        "print(heart_rate_apache_mean)"
      ],
      "execution_count": null,
      "outputs": [
        {
          "output_type": "stream",
          "text": [
            "99.85452991189699\n"
          ],
          "name": "stdout"
        }
      ]
    },
    {
      "cell_type": "code",
      "metadata": {
        "id": "5V1BN_uiPItW"
      },
      "source": [
        "# E no heart_rate_apache substituir pela média de heart_rate_apache no dataset.\r\n",
        "df['heart_rate_apache'].fillna(df['heart_rate_apache'].mean(), inplace = True)"
      ],
      "execution_count": null,
      "outputs": []
    },
    {
      "cell_type": "markdown",
      "metadata": {
        "id": "w3JP2QfOPdqI"
      },
      "source": [
        "**Verificando os dados faltantes na variável hematocrit_apache**"
      ]
    },
    {
      "cell_type": "code",
      "metadata": {
        "colab": {
          "base_uri": "https://localhost:8080/"
        },
        "id": "dA06NYlwPl2B",
        "outputId": "e2ba62bb-da54-4d7f-d395-08bb8e4f1ece"
      },
      "source": [
        "# Quantidade de valores nulos na variável hematocrit_apache\r\n",
        "df['hematocrit_apache'].isnull().sum()"
      ],
      "execution_count": null,
      "outputs": [
        {
          "output_type": "execute_result",
          "data": {
            "text/plain": [
              "26758"
            ]
          },
          "metadata": {
            "tags": []
          },
          "execution_count": 67
        }
      ]
    },
    {
      "cell_type": "code",
      "metadata": {
        "colab": {
          "base_uri": "https://localhost:8080/"
        },
        "id": "jzU5lma6QI3-",
        "outputId": "9d3d9988-5547-4c38-a8f7-bfa98ce21c65"
      },
      "source": [
        "# Média de hematocrit_apache nesse dataset\r\n",
        "hematocrit_apache_mean = df['hematocrit_apache'].mean()\r\n",
        "print(hematocrit_apache_mean)"
      ],
      "execution_count": null,
      "outputs": [
        {
          "output_type": "stream",
          "text": [
            "32.97581698082194\n"
          ],
          "name": "stdout"
        }
      ]
    },
    {
      "cell_type": "code",
      "metadata": {
        "id": "DlRrgeHiQgAs"
      },
      "source": [
        "# E no hematocrit_apache substituir pela média de hematocrit_apache no dataset.\r\n",
        "df['hematocrit_apache'].fillna(df['hematocrit_apache'].mean(), inplace = True)"
      ],
      "execution_count": null,
      "outputs": []
    },
    {
      "cell_type": "markdown",
      "metadata": {
        "id": "2nPQQ2tUQvKV"
      },
      "source": [
        "**Verificando os dados faltantes na variável map_apache**"
      ]
    },
    {
      "cell_type": "code",
      "metadata": {
        "colab": {
          "base_uri": "https://localhost:8080/"
        },
        "id": "F5i3O2XuQ10Z",
        "outputId": "224c2408-b6a6-48e5-d9f2-8256ee679830"
      },
      "source": [
        "# Quantidade de valores nulos na variável map_apache\r\n",
        "df['map_apache'].isnull().sum()"
      ],
      "execution_count": null,
      "outputs": [
        {
          "output_type": "execute_result",
          "data": {
            "text/plain": [
              "420"
            ]
          },
          "metadata": {
            "tags": []
          },
          "execution_count": 70
        }
      ]
    },
    {
      "cell_type": "code",
      "metadata": {
        "colab": {
          "base_uri": "https://localhost:8080/"
        },
        "id": "-GAWpRjaRliQ",
        "outputId": "3d6e81fd-f0cc-4635-fd20-b04fb924dc62"
      },
      "source": [
        "# Média de map_apache nesse dataset\r\n",
        "map_apache_mean = df['map_apache'].mean()\r\n",
        "print(map_apache_mean)"
      ],
      "execution_count": null,
      "outputs": [
        {
          "output_type": "stream",
          "text": [
            "87.19304631677934\n"
          ],
          "name": "stdout"
        }
      ]
    },
    {
      "cell_type": "code",
      "metadata": {
        "id": "UpOjCs0rSDm6"
      },
      "source": [
        "# E no map_apache substituir pela média de map_apache no dataset.\r\n",
        "df['map_apache'].fillna(df['map_apache'].mean(), inplace = True)"
      ],
      "execution_count": null,
      "outputs": []
    },
    {
      "cell_type": "markdown",
      "metadata": {
        "id": "psRHUrJhSTdA"
      },
      "source": [
        "**Verificando os dados faltantes na variável paco2_apache**"
      ]
    },
    {
      "cell_type": "code",
      "metadata": {
        "colab": {
          "base_uri": "https://localhost:8080/"
        },
        "id": "nMQCaW6KSYmN",
        "outputId": "e4e08e42-b72f-4347-d43b-0535058f443b"
      },
      "source": [
        "# Quantidade de valores nulos na variável paco2_apache\r\n",
        "df['paco2_apache'].isnull().sum()"
      ],
      "execution_count": null,
      "outputs": [
        {
          "output_type": "execute_result",
          "data": {
            "text/plain": [
              "99720"
            ]
          },
          "metadata": {
            "tags": []
          },
          "execution_count": 73
        }
      ]
    },
    {
      "cell_type": "code",
      "metadata": {
        "colab": {
          "base_uri": "https://localhost:8080/"
        },
        "id": "FmCrlGGMS1Lm",
        "outputId": "0b9b41ce-16fb-4520-ae1b-aca497c07d56"
      },
      "source": [
        "# Média de paco2_apache nesse dataset\r\n",
        "paco2_apache_mean = df['paco2_apache'].mean()\r\n",
        "print(paco2_apache_mean)"
      ],
      "execution_count": null,
      "outputs": [
        {
          "output_type": "stream",
          "text": [
            "42.16124618063508\n"
          ],
          "name": "stdout"
        }
      ]
    },
    {
      "cell_type": "code",
      "metadata": {
        "id": "9TOX23xjTQAf"
      },
      "source": [
        "# E no paco2_apache substituir pela média de paco2_apache no dataset.\r\n",
        "df['paco2_apache'].fillna(df['paco2_apache'].mean(), inplace = True)"
      ],
      "execution_count": null,
      "outputs": []
    },
    {
      "cell_type": "markdown",
      "metadata": {
        "id": "fssry7b0TbV-"
      },
      "source": [
        "**Verificando os dados faltantes na variável paco2_for_ph_apache**"
      ]
    },
    {
      "cell_type": "code",
      "metadata": {
        "colab": {
          "base_uri": "https://localhost:8080/"
        },
        "id": "Y53jQsFEThlR",
        "outputId": "cf745b1c-7614-4355-d1fb-3c1a67bcd1f4"
      },
      "source": [
        "# Quantidade de valores nulos na variável paco2_for_ph_apache\r\n",
        "df['paco2_for_ph_apache'].isnull().sum()"
      ],
      "execution_count": null,
      "outputs": [
        {
          "output_type": "execute_result",
          "data": {
            "text/plain": [
              "99720"
            ]
          },
          "metadata": {
            "tags": []
          },
          "execution_count": 76
        }
      ]
    },
    {
      "cell_type": "code",
      "metadata": {
        "colab": {
          "base_uri": "https://localhost:8080/"
        },
        "id": "0F0rL0ikT7AL",
        "outputId": "f003f496-fa61-41e2-b4b1-79d5fb18f338"
      },
      "source": [
        "# Média de paco2_for_ph_apache nesse dataset\r\n",
        "paco2_for_ph_apache_mean = df['paco2_for_ph_apache'].mean()\r\n",
        "print(paco2_for_ph_apache_mean)"
      ],
      "execution_count": null,
      "outputs": [
        {
          "output_type": "stream",
          "text": [
            "42.16124618063508\n"
          ],
          "name": "stdout"
        }
      ]
    },
    {
      "cell_type": "code",
      "metadata": {
        "id": "yo2B7ubfULMW"
      },
      "source": [
        "# E no paco2_for_ph_apache substituir pela média de paco2_for_ph_apache no dataset.\r\n",
        "df['paco2_for_ph_apache'].fillna(df['paco2_for_ph_apache'].mean(), inplace = True)"
      ],
      "execution_count": null,
      "outputs": []
    },
    {
      "cell_type": "markdown",
      "metadata": {
        "id": "n6bLgYWVUYbh"
      },
      "source": [
        "**Verificando os dados faltantes na variável pao2_apache**"
      ]
    },
    {
      "cell_type": "code",
      "metadata": {
        "colab": {
          "base_uri": "https://localhost:8080/"
        },
        "id": "J4uvTt3uUdij",
        "outputId": "ebf61488-80e4-426b-d142-1fcedd227ed7"
      },
      "source": [
        "# Quantidade de valores nulos na variável pao2_apache\r\n",
        "df['pao2_apache'].isnull().sum()"
      ],
      "execution_count": null,
      "outputs": [
        {
          "output_type": "execute_result",
          "data": {
            "text/plain": [
              "99720"
            ]
          },
          "metadata": {
            "tags": []
          },
          "execution_count": 79
        }
      ]
    },
    {
      "cell_type": "code",
      "metadata": {
        "colab": {
          "base_uri": "https://localhost:8080/"
        },
        "id": "oU5e-dBoU2x5",
        "outputId": "2d579d5d-8404-4c2f-8f05-72c98ff32961"
      },
      "source": [
        "# Média de pao2_apache nesse dataset\r\n",
        "pao2_apache_mean = df['pao2_apache'].mean()\r\n",
        "print(pao2_apache_mean)"
      ],
      "execution_count": null,
      "outputs": [
        {
          "output_type": "stream",
          "text": [
            "132.06173735913526\n"
          ],
          "name": "stdout"
        }
      ]
    },
    {
      "cell_type": "code",
      "metadata": {
        "id": "GRcql3rqVPH3"
      },
      "source": [
        "# E no pao2_apache substituir pela média de pao2_apache no dataset.\r\n",
        "df['pao2_apache'].fillna(df['pao2_apache'].mean(), inplace = True)"
      ],
      "execution_count": null,
      "outputs": []
    },
    {
      "cell_type": "markdown",
      "metadata": {
        "id": "lGoMP50kVZiN"
      },
      "source": [
        "**Verificando os dados faltantes na variável ph_apache**"
      ]
    },
    {
      "cell_type": "code",
      "metadata": {
        "colab": {
          "base_uri": "https://localhost:8080/"
        },
        "id": "dpZTkHSVVfRx",
        "outputId": "e928fe65-5748-4bb5-e789-77ecd60b3803"
      },
      "source": [
        "# Quantidade de valores nulos na variável ph_apache\r\n",
        "df['ph_apache'].isnull().sum()"
      ],
      "execution_count": null,
      "outputs": [
        {
          "output_type": "execute_result",
          "data": {
            "text/plain": [
              "99720"
            ]
          },
          "metadata": {
            "tags": []
          },
          "execution_count": 82
        }
      ]
    },
    {
      "cell_type": "code",
      "metadata": {
        "colab": {
          "base_uri": "https://localhost:8080/"
        },
        "id": "8dYfdat0V6oL",
        "outputId": "650456aa-ed7d-4dd7-dda8-2666cf79d630"
      },
      "source": [
        "# Média de ph_apache nesse dataset\r\n",
        "ph_apache_mean = df['ph_apache'].mean()\r\n",
        "print(ph_apache_mean)"
      ],
      "execution_count": null,
      "outputs": [
        {
          "output_type": "stream",
          "text": [
            "7.352154320070936\n"
          ],
          "name": "stdout"
        }
      ]
    },
    {
      "cell_type": "code",
      "metadata": {
        "id": "H5oXiRKlWLKR"
      },
      "source": [
        "# E no ph_apache substituir pela média de ph_apache no dataset.\r\n",
        "df['ph_apache'].fillna(df['ph_apache'].mean(), inplace = True)"
      ],
      "execution_count": null,
      "outputs": []
    },
    {
      "cell_type": "markdown",
      "metadata": {
        "id": "Rj-8iTF4WYC4"
      },
      "source": [
        "**Verificando os dados faltantes na variável resprate_apache**"
      ]
    },
    {
      "cell_type": "code",
      "metadata": {
        "colab": {
          "base_uri": "https://localhost:8080/"
        },
        "id": "5lk6o3QYWcff",
        "outputId": "9d97af6c-5cbb-4cb0-c3b9-2c098600346d"
      },
      "source": [
        "# Quantidade de valores nulos na variável resprate_apache\t\r\n",
        "df['resprate_apache'].isnull().sum()"
      ],
      "execution_count": null,
      "outputs": [
        {
          "output_type": "execute_result",
          "data": {
            "text/plain": [
              "808"
            ]
          },
          "metadata": {
            "tags": []
          },
          "execution_count": 85
        }
      ]
    },
    {
      "cell_type": "code",
      "metadata": {
        "colab": {
          "base_uri": "https://localhost:8080/"
        },
        "id": "litD_Yp6W5r7",
        "outputId": "13d71117-7121-4763-9545-f6339aae75a3"
      },
      "source": [
        "# Média de resprate_apache nesse dataset\r\n",
        "resprate_apache_mean = df['resprate_apache'].mean()\r\n",
        "print(resprate_apache_mean)"
      ],
      "execution_count": null,
      "outputs": [
        {
          "output_type": "stream",
          "text": [
            "25.150602633186182\n"
          ],
          "name": "stdout"
        }
      ]
    },
    {
      "cell_type": "code",
      "metadata": {
        "id": "WajtdHtWXLT5"
      },
      "source": [
        "# E no resprate_apache substituir pela média de resprate_apache no dataset.\r\n",
        "df['resprate_apache'].fillna(df['resprate_apache'].mean(), inplace = True)"
      ],
      "execution_count": null,
      "outputs": []
    },
    {
      "cell_type": "markdown",
      "metadata": {
        "id": "D1UsDqS4XXql"
      },
      "source": [
        "**Verificando os dados faltantes na variável sodium_apache**"
      ]
    },
    {
      "cell_type": "code",
      "metadata": {
        "colab": {
          "base_uri": "https://localhost:8080/"
        },
        "id": "n2SVzs_SXdWX",
        "outputId": "8e0d6ac1-76c7-49d5-f916-982211977d6d"
      },
      "source": [
        "# Quantidade de valores nulos na variável sodium_apache\r\n",
        "df['sodium_apache'].isnull().sum()"
      ],
      "execution_count": null,
      "outputs": [
        {
          "output_type": "execute_result",
          "data": {
            "text/plain": [
              "24519"
            ]
          },
          "metadata": {
            "tags": []
          },
          "execution_count": 88
        }
      ]
    },
    {
      "cell_type": "code",
      "metadata": {
        "colab": {
          "base_uri": "https://localhost:8080/"
        },
        "id": "XnQ2m9wLYHSp",
        "outputId": "b0bfe476-3e22-4f24-adf6-549175fa5bdf"
      },
      "source": [
        "# Média de sodium_apache nesse dataset\r\n",
        "sodium_apache_mean = df['sodium_apache'].mean()\r\n",
        "print(sodium_apache_mean)"
      ],
      "execution_count": null,
      "outputs": [
        {
          "output_type": "stream",
          "text": [
            "137.94526022832696\n"
          ],
          "name": "stdout"
        }
      ]
    },
    {
      "cell_type": "code",
      "metadata": {
        "id": "Ie70uD_iYUTr"
      },
      "source": [
        "# E no sodium_apache substituir pela média de sodium_apache no dataset.\r\n",
        "df['sodium_apache'].fillna(df['sodium_apache'].mean(), inplace = True)"
      ],
      "execution_count": null,
      "outputs": []
    },
    {
      "cell_type": "markdown",
      "metadata": {
        "id": "IZTfQpkTYeV_"
      },
      "source": [
        "**Verificando os dados faltantes na variável temp_apache**"
      ]
    },
    {
      "cell_type": "code",
      "metadata": {
        "colab": {
          "base_uri": "https://localhost:8080/"
        },
        "id": "DMep7yN4Yjb9",
        "outputId": "748f38aa-dc5d-4018-acb1-58eb1126c9e6"
      },
      "source": [
        "# Quantidade de valores nulos na variável temp_apache\r\n",
        "df['temp_apache'].isnull().sum()"
      ],
      "execution_count": null,
      "outputs": [
        {
          "output_type": "execute_result",
          "data": {
            "text/plain": [
              "6611"
            ]
          },
          "metadata": {
            "tags": []
          },
          "execution_count": 91
        }
      ]
    },
    {
      "cell_type": "code",
      "metadata": {
        "colab": {
          "base_uri": "https://localhost:8080/"
        },
        "id": "tYtigSx7YxeJ",
        "outputId": "6125c857-8c4b-4144-9fd1-0b48dc995c7f"
      },
      "source": [
        "# Média de temp_apache nesse dataset\r\n",
        "temp_apache_mean = df['temp_apache'].mean()\r\n",
        "print(temp_apache_mean)"
      ],
      "execution_count": null,
      "outputs": [
        {
          "output_type": "stream",
          "text": [
            "36.420638061937886\n"
          ],
          "name": "stdout"
        }
      ]
    },
    {
      "cell_type": "code",
      "metadata": {
        "id": "PjUXI_tOZROQ"
      },
      "source": [
        "# E no temp_apache substituir pela média de temp_apache no dataset.\r\n",
        "df['temp_apache'].fillna(df['temp_apache'].mean(), inplace = True)"
      ],
      "execution_count": null,
      "outputs": []
    },
    {
      "cell_type": "markdown",
      "metadata": {
        "id": "cQvc0tCoZe91"
      },
      "source": [
        "**Verificando os dados faltantes na variável urineoutput_apache**"
      ]
    },
    {
      "cell_type": "code",
      "metadata": {
        "colab": {
          "base_uri": "https://localhost:8080/"
        },
        "id": "o44VxUEdZptQ",
        "outputId": "fc49965e-d2c4-4748-9323-a055d6b93af0"
      },
      "source": [
        "# Quantidade de valores nulos na variável urineoutput_apache\r\n",
        "df['urineoutput_apache'].isnull().sum()"
      ],
      "execution_count": null,
      "outputs": [
        {
          "output_type": "execute_result",
          "data": {
            "text/plain": [
              "63167"
            ]
          },
          "metadata": {
            "tags": []
          },
          "execution_count": 94
        }
      ]
    },
    {
      "cell_type": "code",
      "metadata": {
        "colab": {
          "base_uri": "https://localhost:8080/"
        },
        "id": "8KXHxSIxZ7fc",
        "outputId": "b34de3b5-8f46-47a3-e495-fef326e37c95"
      },
      "source": [
        "# Média de urineoutput_apache nesse dataset\r\n",
        "urineoutput_apache_mean = df['urineoutput_apache'].mean()\r\n",
        "print(urineoutput_apache_mean)"
      ],
      "execution_count": null,
      "outputs": [
        {
          "output_type": "stream",
          "text": [
            "1800.8034172073483\n"
          ],
          "name": "stdout"
        }
      ]
    },
    {
      "cell_type": "code",
      "metadata": {
        "id": "RlUJ_ZBCaISf"
      },
      "source": [
        "# E no urineoutput_apache substituir pela média de urineoutput_apache no dataset.\r\n",
        "df['urineoutput_apache'].fillna(df['urineoutput_apache'].mean(), inplace = True)"
      ],
      "execution_count": null,
      "outputs": []
    },
    {
      "cell_type": "markdown",
      "metadata": {
        "id": "yaX_IuMTaUSd"
      },
      "source": [
        "**Verificando os dados faltantes na variável wbc_apache**"
      ]
    },
    {
      "cell_type": "code",
      "metadata": {
        "colab": {
          "base_uri": "https://localhost:8080/"
        },
        "id": "tOKgA4ghaahq",
        "outputId": "6fa119e1-fd63-4300-f336-9e82aa79256f"
      },
      "source": [
        "# Quantidade de valores nulos na variável wbc_apache\r\n",
        "df['wbc_apache'].isnull().sum()"
      ],
      "execution_count": null,
      "outputs": [
        {
          "output_type": "execute_result",
          "data": {
            "text/plain": [
              "29475"
            ]
          },
          "metadata": {
            "tags": []
          },
          "execution_count": 97
        }
      ]
    },
    {
      "cell_type": "code",
      "metadata": {
        "colab": {
          "base_uri": "https://localhost:8080/"
        },
        "id": "KygkUBeKa0z8",
        "outputId": "5c1fc081-53c2-49e0-9576-fabff13fcca9"
      },
      "source": [
        "# Média de wbc_apache nesse dataset\r\n",
        "wbc_apache_mean = df['wbc_apache'].mean()\r\n",
        "print(wbc_apache_mean)"
      ],
      "execution_count": null,
      "outputs": [
        {
          "output_type": "stream",
          "text": [
            "12.187662144176878\n"
          ],
          "name": "stdout"
        }
      ]
    },
    {
      "cell_type": "code",
      "metadata": {
        "id": "Cw9wWmV8bAoS"
      },
      "source": [
        "# E no wbc_apache substituir pela média de wbc_apache no dataset.\r\n",
        "df['wbc_apache'].fillna(df['wbc_apache'].mean(), inplace = True)"
      ],
      "execution_count": null,
      "outputs": []
    },
    {
      "cell_type": "markdown",
      "metadata": {
        "id": "n_ioqjKbbIXS"
      },
      "source": [
        "**Verificando os dados faltantes na variável d1_diasbp_invasive_max**"
      ]
    },
    {
      "cell_type": "code",
      "metadata": {
        "colab": {
          "base_uri": "https://localhost:8080/"
        },
        "id": "zUaUHikTbNG2",
        "outputId": "10c7bec0-c8de-4ef7-b69e-3b547b5d4167"
      },
      "source": [
        "# Quantidade de valores nulos na variável d1_diasbp_invasive_max\r\n",
        "df['d1_diasbp_invasive_max'].isnull().sum()"
      ],
      "execution_count": null,
      "outputs": [
        {
          "output_type": "execute_result",
          "data": {
            "text/plain": [
              "95068"
            ]
          },
          "metadata": {
            "tags": []
          },
          "execution_count": 100
        }
      ]
    },
    {
      "cell_type": "code",
      "metadata": {
        "colab": {
          "base_uri": "https://localhost:8080/"
        },
        "id": "4WTmP5zTbdhD",
        "outputId": "696da381-5bae-4f7d-8e7a-692581346d67"
      },
      "source": [
        "# Média de d1_diasbp_invasive_max nesse dataset\r\n",
        "d1_diasbp_invasive_max_mean = df['d1_diasbp_invasive_max'].mean()\r\n",
        "print(d1_diasbp_invasive_max_mean)"
      ],
      "execution_count": null,
      "outputs": [
        {
          "output_type": "stream",
          "text": [
            "79.26156345293397\n"
          ],
          "name": "stdout"
        }
      ]
    },
    {
      "cell_type": "code",
      "metadata": {
        "id": "TBzYt93CbnY8"
      },
      "source": [
        "# E no d1_diasbp_invasive_max substituir pela média de d1_diasbp_invasive_max no dataset.\r\n",
        "df['d1_diasbp_invasive_max'].fillna(df['d1_diasbp_invasive_max'].mean(), inplace = True)"
      ],
      "execution_count": null,
      "outputs": []
    },
    {
      "cell_type": "markdown",
      "metadata": {
        "id": "Ta7vZlLjbxoS"
      },
      "source": [
        "**Verificando os dados faltantes na variável d1_diasbp_invasive_min**"
      ]
    },
    {
      "cell_type": "code",
      "metadata": {
        "colab": {
          "base_uri": "https://localhost:8080/"
        },
        "id": "6iE3tlnjb4mU",
        "outputId": "f23865a2-a3f6-4593-8df9-bfb09711e1a5"
      },
      "source": [
        "# Quantidade de valores nulos na variável d1_diasbp_invasive_min\r\n",
        "df['d1_diasbp_invasive_min'].isnull().sum()"
      ],
      "execution_count": null,
      "outputs": [
        {
          "output_type": "execute_result",
          "data": {
            "text/plain": [
              "95068"
            ]
          },
          "metadata": {
            "tags": []
          },
          "execution_count": 103
        }
      ]
    },
    {
      "cell_type": "code",
      "metadata": {
        "colab": {
          "base_uri": "https://localhost:8080/"
        },
        "id": "mn7IMPBAcLcv",
        "outputId": "88731305-da2e-4285-e42d-cc7e4c8eda30"
      },
      "source": [
        "# Média de d1_diasbp_invasive_min nesse dataset\r\n",
        "d1_diasbp_invasive_min_mean = df['d1_diasbp_invasive_min'].mean()\r\n",
        "print(d1_diasbp_invasive_min_mean)"
      ],
      "execution_count": null,
      "outputs": [
        {
          "output_type": "stream",
          "text": [
            "46.96970560574539\n"
          ],
          "name": "stdout"
        }
      ]
    },
    {
      "cell_type": "code",
      "metadata": {
        "id": "7XC0Z68bcVbQ"
      },
      "source": [
        "# E no d1_diasbp_invasive_min substituir pela média de d1_diasbp_invasive_min no dataset.\r\n",
        "df['d1_diasbp_invasive_min'].fillna(df['d1_diasbp_invasive_min'].mean(), inplace = True)"
      ],
      "execution_count": null,
      "outputs": []
    },
    {
      "cell_type": "markdown",
      "metadata": {
        "id": "s1-dK85lceUV"
      },
      "source": [
        "**Verificando os dados faltantes na variável d1_diasbp_max**"
      ]
    },
    {
      "cell_type": "code",
      "metadata": {
        "colab": {
          "base_uri": "https://localhost:8080/"
        },
        "id": "0gbUfoR6cdd5",
        "outputId": "35305b03-c093-4817-df1c-73bbc6e4a4ea"
      },
      "source": [
        "# Quantidade de valores nulos na variável d1_diasbp_max\r\n",
        "df['d1_diasbp_max'].isnull().sum()"
      ],
      "execution_count": null,
      "outputs": [
        {
          "output_type": "execute_result",
          "data": {
            "text/plain": [
              "277"
            ]
          },
          "metadata": {
            "tags": []
          },
          "execution_count": 106
        }
      ]
    },
    {
      "cell_type": "code",
      "metadata": {
        "colab": {
          "base_uri": "https://localhost:8080/"
        },
        "id": "KiILDpgjc3gC",
        "outputId": "b9f89b45-0779-4e0d-d7d8-2e9adef011e2"
      },
      "source": [
        "# Média de d1_diasbp_max nesse dataset\r\n",
        "d1_diasbp_max_mean = df['d1_diasbp_max'].mean()\r\n",
        "print(d1_diasbp_max_mean)"
      ],
      "execution_count": null,
      "outputs": [
        {
          "output_type": "stream",
          "text": [
            "88.57551586079458\n"
          ],
          "name": "stdout"
        }
      ]
    },
    {
      "cell_type": "code",
      "metadata": {
        "id": "cgcn-jz5dHZf"
      },
      "source": [
        "# E no d1_diasbp_max substituir pela média de d1_diasbp_max no dataset.\r\n",
        "df['d1_diasbp_max'].fillna(df['d1_diasbp_max'].mean(), inplace = True)"
      ],
      "execution_count": null,
      "outputs": []
    },
    {
      "cell_type": "markdown",
      "metadata": {
        "id": "Hhb8KQQ3dTHa"
      },
      "source": [
        "**Verificando os dados faltantes na variável d1_diasbp_min**"
      ]
    },
    {
      "cell_type": "code",
      "metadata": {
        "colab": {
          "base_uri": "https://localhost:8080/"
        },
        "id": "HaiLjyP0dYz6",
        "outputId": "1f879c2f-9a9f-4cb8-d76a-56f17d62028e"
      },
      "source": [
        "# Quantidade de valores nulos na variável d1_diasbp_min\r\n",
        "df['d1_diasbp_min'].isnull().sum()"
      ],
      "execution_count": null,
      "outputs": [
        {
          "output_type": "execute_result",
          "data": {
            "text/plain": [
              "277"
            ]
          },
          "metadata": {
            "tags": []
          },
          "execution_count": 109
        }
      ]
    },
    {
      "cell_type": "code",
      "metadata": {
        "colab": {
          "base_uri": "https://localhost:8080/"
        },
        "id": "G3PHBrQjsUw3",
        "outputId": "ae6c980d-a729-4ac1-d675-cd7428e34c78"
      },
      "source": [
        "# Média de d1_diasbp_min nesse dataset\r\n",
        "d1_diasbp_min_mean = df['d1_diasbp_min'].mean()\r\n",
        "print(d1_diasbp_min_mean)"
      ],
      "execution_count": null,
      "outputs": [
        {
          "output_type": "stream",
          "text": [
            "49.862988912842624\n"
          ],
          "name": "stdout"
        }
      ]
    },
    {
      "cell_type": "code",
      "metadata": {
        "id": "Y61eWMhQDiIa"
      },
      "source": [
        "# E no d1_diasbp_min substituir pela média de d1_diasbp_min no dataset.\r\n",
        "df['d1_diasbp_min'].fillna(df['d1_diasbp_min'].mean(), inplace = True)"
      ],
      "execution_count": null,
      "outputs": []
    },
    {
      "cell_type": "markdown",
      "metadata": {
        "id": "rqIdYAJZDsHw"
      },
      "source": [
        "**Verificando os dados faltantes na variável h1_diasbp_noninvasive_max**"
      ]
    },
    {
      "cell_type": "code",
      "metadata": {
        "colab": {
          "base_uri": "https://localhost:8080/"
        },
        "id": "iWwxvk2YD0Rx",
        "outputId": "2277f052-d2e6-4adf-c00c-a3eba857b09f"
      },
      "source": [
        "# Quantidade de valores nulos na variável h1_diasbp_noninvasive_max\r\n",
        "df['h1_diasbp_noninvasive_max'].isnull().sum()"
      ],
      "execution_count": null,
      "outputs": [
        {
          "output_type": "execute_result",
          "data": {
            "text/plain": [
              "11339"
            ]
          },
          "metadata": {
            "tags": []
          },
          "execution_count": 112
        }
      ]
    },
    {
      "cell_type": "code",
      "metadata": {
        "colab": {
          "base_uri": "https://localhost:8080/"
        },
        "id": "geJMZvDpEESU",
        "outputId": "32c0d11e-78df-4b99-e00c-d62c149bd148"
      },
      "source": [
        "# Média de h1_diasbp_noninvasive_max nesse dataset\r\n",
        "h1_diasbp_noninvasive_max_mean = df['h1_diasbp_noninvasive_max'].mean()\r\n",
        "print(h1_diasbp_noninvasive_max_mean)"
      ],
      "execution_count": null,
      "outputs": [
        {
          "output_type": "stream",
          "text": [
            "75.90158898483395\n"
          ],
          "name": "stdout"
        }
      ]
    },
    {
      "cell_type": "code",
      "metadata": {
        "id": "mHSglxIaEQNn"
      },
      "source": [
        "# E no h1_diasbp_noninvasive_max substituir pela média de h1_diasbp_noninvasive_max no dataset.\r\n",
        "df['h1_diasbp_noninvasive_max'].fillna(df['h1_diasbp_noninvasive_max'].mean(), inplace = True)"
      ],
      "execution_count": null,
      "outputs": []
    },
    {
      "cell_type": "markdown",
      "metadata": {
        "id": "XmPQsX3WEYU7"
      },
      "source": [
        "**Verificando os dados faltantes na variável h1_diasbp_noninvasive_min**"
      ]
    },
    {
      "cell_type": "code",
      "metadata": {
        "colab": {
          "base_uri": "https://localhost:8080/"
        },
        "id": "TfMTjXWdEdxq",
        "outputId": "a31e7aa2-69c1-464d-d643-bade99d95df8"
      },
      "source": [
        "# Quantidade de valores nulos na variável h1_diasbp_noninvasive_min\r\n",
        "df['h1_diasbp_noninvasive_min'].isnull().sum()"
      ],
      "execution_count": null,
      "outputs": [
        {
          "output_type": "execute_result",
          "data": {
            "text/plain": [
              "11339"
            ]
          },
          "metadata": {
            "tags": []
          },
          "execution_count": 115
        }
      ]
    },
    {
      "cell_type": "code",
      "metadata": {
        "colab": {
          "base_uri": "https://localhost:8080/"
        },
        "id": "CxlwENNuFE7H",
        "outputId": "54ee0c60-ac1f-47d7-ac98-9d9878ce4476"
      },
      "source": [
        "# Média de h1_diasbp_noninvasive_min nesse dataset\r\n",
        "h1_diasbp_noninvasive_min_mean = df['h1_diasbp_noninvasive_min'].mean()\r\n",
        "print(h1_diasbp_noninvasive_min_mean)"
      ],
      "execution_count": null,
      "outputs": [
        {
          "output_type": "stream",
          "text": [
            "62.89517581511219\n"
          ],
          "name": "stdout"
        }
      ]
    },
    {
      "cell_type": "code",
      "metadata": {
        "id": "UccWNmZEFfrF"
      },
      "source": [
        "# E no h1_diasbp_noninvasive_min substituir pela média de h1_diasbp_noninvasive_min no dataset.\r\n",
        "df['h1_diasbp_noninvasive_min'].fillna(df['h1_diasbp_noninvasive_min'].mean(), inplace = True)"
      ],
      "execution_count": null,
      "outputs": []
    },
    {
      "cell_type": "markdown",
      "metadata": {
        "id": "YSOH6qPLFxEY"
      },
      "source": [
        "**Verificando os dados faltantes na variável h1_heartrate_max**"
      ]
    },
    {
      "cell_type": "code",
      "metadata": {
        "colab": {
          "base_uri": "https://localhost:8080/"
        },
        "id": "ybVFPkT9F6Wt",
        "outputId": "958c6a7a-dfaf-4080-9958-e7bf9f74f502"
      },
      "source": [
        "# Quantidade de valores nulos na variável h1_heartrate_max\r\n",
        "df['h1_heartrate_max'].isnull().sum()"
      ],
      "execution_count": null,
      "outputs": [
        {
          "output_type": "execute_result",
          "data": {
            "text/plain": [
              "4074"
            ]
          },
          "metadata": {
            "tags": []
          },
          "execution_count": 118
        }
      ]
    },
    {
      "cell_type": "code",
      "metadata": {
        "colab": {
          "base_uri": "https://localhost:8080/"
        },
        "id": "jap2bgZeGoUi",
        "outputId": "c929947b-88db-4ff6-9111-56a2664f1ff0"
      },
      "source": [
        "# Média de h1_heartrate_max nesse dataset\r\n",
        "h1_heartrate_max_mean = df['h1_heartrate_max'].mean()\r\n",
        "print(h1_heartrate_max_mean)"
      ],
      "execution_count": null,
      "outputs": [
        {
          "output_type": "stream",
          "text": [
            "92.45738124885987\n"
          ],
          "name": "stdout"
        }
      ]
    },
    {
      "cell_type": "code",
      "metadata": {
        "id": "Yr3tlmj2Jph2"
      },
      "source": [
        "# E no h1_heartrate_max substituir pela média de h1_heartrate_max no dataset.\r\n",
        "df['h1_heartrate_max'].fillna(df['h1_heartrate_max'].mean(), inplace = True)"
      ],
      "execution_count": null,
      "outputs": []
    },
    {
      "cell_type": "markdown",
      "metadata": {
        "id": "-uV5ZWWnJx3k"
      },
      "source": [
        "**Verificando os dados faltantes na variável h1_heartrate_min**"
      ]
    },
    {
      "cell_type": "code",
      "metadata": {
        "colab": {
          "base_uri": "https://localhost:8080/"
        },
        "id": "ZVX99TYpJ250",
        "outputId": "01cccb9f-98b3-46a3-9396-0ced6822ef90"
      },
      "source": [
        "# Quantidade de valores nulos na variável h1_heartrate_min\r\n",
        "df['h1_heartrate_min'].isnull().sum()"
      ],
      "execution_count": null,
      "outputs": [
        {
          "output_type": "execute_result",
          "data": {
            "text/plain": [
              "4074"
            ]
          },
          "metadata": {
            "tags": []
          },
          "execution_count": 121
        }
      ]
    },
    {
      "cell_type": "code",
      "metadata": {
        "id": "WQeAusuNKO6d"
      },
      "source": [
        "# E no h1_heartrate_min substituir pela média de h1_heartrate_min no dataset.\r\n",
        "df['h1_heartrate_min'].fillna(df['h1_heartrate_min'].mean(), inplace = True)"
      ],
      "execution_count": null,
      "outputs": []
    },
    {
      "cell_type": "markdown",
      "metadata": {
        "id": "vdZ2N1iJKfFG"
      },
      "source": [
        "**Verificando os dados faltantes na variável h1_mbp_invasive_max**"
      ]
    },
    {
      "cell_type": "code",
      "metadata": {
        "colab": {
          "base_uri": "https://localhost:8080/"
        },
        "id": "dTuWdSTQKn4C",
        "outputId": "807f0909-8953-4363-9a4d-bb53452d8076"
      },
      "source": [
        "# Quantidade de valores nulos na variável h1_mbp_invasive_max\r\n",
        "df['h1_mbp_invasive_max'].isnull().sum()"
      ],
      "execution_count": null,
      "outputs": [
        {
          "output_type": "execute_result",
          "data": {
            "text/plain": [
              "104766"
            ]
          },
          "metadata": {
            "tags": []
          },
          "execution_count": 123
        }
      ]
    },
    {
      "cell_type": "code",
      "metadata": {
        "id": "wTMlIchJK3yc"
      },
      "source": [
        "# E no h1_mbp_invasive_max substituir pela média de h1_mbp_invasive_max no dataset.\r\n",
        "df['h1_mbp_invasive_max'].fillna(df['h1_mbp_invasive_max'].mean(), inplace = True)"
      ],
      "execution_count": null,
      "outputs": []
    },
    {
      "cell_type": "markdown",
      "metadata": {
        "id": "Qu9gBmfZLBU9"
      },
      "source": [
        "**Verificando os dados faltantes na variável h1_mbp_invasive_min**"
      ]
    },
    {
      "cell_type": "code",
      "metadata": {
        "colab": {
          "base_uri": "https://localhost:8080/"
        },
        "id": "xx4VwqVlLHTi",
        "outputId": "4111b9f4-450e-4c66-f601-b5e4a338a840"
      },
      "source": [
        "# Quantidade de valores nulos na variável h1_mbp_invasive_min\r\n",
        "df['h1_mbp_invasive_min'].isnull().sum()"
      ],
      "execution_count": null,
      "outputs": [
        {
          "output_type": "execute_result",
          "data": {
            "text/plain": [
              "104766"
            ]
          },
          "metadata": {
            "tags": []
          },
          "execution_count": 125
        }
      ]
    },
    {
      "cell_type": "code",
      "metadata": {
        "id": "inWulMcMLVpm"
      },
      "source": [
        "# E no h1_mbp_invasive_min substituir pela média de h1_mbp_invasive_min no dataset.\r\n",
        "df['h1_mbp_invasive_min'].fillna(df['h1_mbp_invasive_min'].mean(), inplace = True)"
      ],
      "execution_count": null,
      "outputs": []
    },
    {
      "cell_type": "markdown",
      "metadata": {
        "id": "doHFvuGBLeSJ"
      },
      "source": [
        "**Verificando os dados faltantes na variável h1_mbp_max**"
      ]
    },
    {
      "cell_type": "code",
      "metadata": {
        "colab": {
          "base_uri": "https://localhost:8080/"
        },
        "id": "Oi96ZulyLlG-",
        "outputId": "5daee0e7-350c-4a35-f9ce-b8ce31e2551e"
      },
      "source": [
        "# Quantidade de valores nulos na variável h1_mbp_max\r\n",
        "df['h1_mbp_max'].isnull().sum()"
      ],
      "execution_count": null,
      "outputs": [
        {
          "output_type": "execute_result",
          "data": {
            "text/plain": [
              "6530"
            ]
          },
          "metadata": {
            "tags": []
          },
          "execution_count": 127
        }
      ]
    },
    {
      "cell_type": "code",
      "metadata": {
        "id": "3VDYvJzML2Oh"
      },
      "source": [
        "# E no h1_mbp_max substituir pela média de h1_mbp_max no dataset.\r\n",
        "df['h1_mbp_max'].fillna(df['h1_mbp_max'].mean(), inplace = True)"
      ],
      "execution_count": null,
      "outputs": []
    },
    {
      "cell_type": "markdown",
      "metadata": {
        "id": "OqtiALQpL-BH"
      },
      "source": [
        "**Verificando os dados faltantes na variável h1_mbp_min**"
      ]
    },
    {
      "cell_type": "code",
      "metadata": {
        "colab": {
          "base_uri": "https://localhost:8080/"
        },
        "id": "lxj9kQY6MCWb",
        "outputId": "0482ad4f-c6a5-4ea9-fade-65db52f0cfb8"
      },
      "source": [
        "# Quantidade de valores nulos na variável h1_mbp_min\r\n",
        "df['h1_mbp_min'].isnull().sum()"
      ],
      "execution_count": null,
      "outputs": [
        {
          "output_type": "execute_result",
          "data": {
            "text/plain": [
              "6530"
            ]
          },
          "metadata": {
            "tags": []
          },
          "execution_count": 129
        }
      ]
    },
    {
      "cell_type": "code",
      "metadata": {
        "id": "ptrQ-iNeMPSo"
      },
      "source": [
        "# E no h1_mbp_min substituir pela média de h1_mbp_min no dataset.\r\n",
        "df['h1_mbp_min'].fillna(df['h1_mbp_min'].mean(), inplace = True)"
      ],
      "execution_count": null,
      "outputs": []
    },
    {
      "cell_type": "markdown",
      "metadata": {
        "id": "KNcImCOcMVsg"
      },
      "source": [
        "**Verificando os dados faltantes na variável h1_mbp_noninvasive_max**"
      ]
    },
    {
      "cell_type": "code",
      "metadata": {
        "colab": {
          "base_uri": "https://localhost:8080/"
        },
        "id": "3AS0gCWDMZv2",
        "outputId": "92cdf498-92c0-461d-fb3a-cb8f26841cdd"
      },
      "source": [
        "# Quantidade de valores nulos na variável h1_mbp_noninvasive_max\r\n",
        "df['h1_mbp_noninvasive_max'].isnull().sum()"
      ],
      "execution_count": null,
      "outputs": [
        {
          "output_type": "execute_result",
          "data": {
            "text/plain": [
              "13297"
            ]
          },
          "metadata": {
            "tags": []
          },
          "execution_count": 131
        }
      ]
    },
    {
      "cell_type": "code",
      "metadata": {
        "id": "IX-SnvAEMn8M"
      },
      "source": [
        "# E no h1_mbp_noninvasive_max substituir pela média de h1_mbp_noninvasive_max no dataset.\r\n",
        "df['h1_mbp_noninvasive_max'].fillna(df['h1_mbp_noninvasive_max'].mean(), inplace = True)"
      ],
      "execution_count": null,
      "outputs": []
    },
    {
      "cell_type": "markdown",
      "metadata": {
        "id": "nNSdfH2vMuzZ"
      },
      "source": [
        "**Verificando os dados faltantes na variável h1_mbp_noninvasive_min**"
      ]
    },
    {
      "cell_type": "code",
      "metadata": {
        "colab": {
          "base_uri": "https://localhost:8080/"
        },
        "id": "zRaqJ1s6MzSq",
        "outputId": "0539b897-041f-4c49-ba9f-d28bbe5bc489"
      },
      "source": [
        "# Quantidade de valores nulos na variável h1_mbp_noninvasive_min\r\n",
        "df['h1_mbp_noninvasive_min'].isnull().sum()"
      ],
      "execution_count": null,
      "outputs": [
        {
          "output_type": "execute_result",
          "data": {
            "text/plain": [
              "13297"
            ]
          },
          "metadata": {
            "tags": []
          },
          "execution_count": 133
        }
      ]
    },
    {
      "cell_type": "code",
      "metadata": {
        "id": "ncoZEjueM_-p"
      },
      "source": [
        "# E no h1_mbp_noninvasive_min substituir pela média de h1_mbp_noninvasive_min no dataset.\r\n",
        "df['h1_mbp_noninvasive_min'].fillna(df['h1_mbp_noninvasive_min'].mean(), inplace = True)"
      ],
      "execution_count": null,
      "outputs": []
    },
    {
      "cell_type": "markdown",
      "metadata": {
        "id": "iD7yZk0eNH9a"
      },
      "source": [
        "**Verificando os dados faltantes na variável h1_resprate_max**"
      ]
    },
    {
      "cell_type": "code",
      "metadata": {
        "colab": {
          "base_uri": "https://localhost:8080/"
        },
        "id": "LZYsaCvfNMKE",
        "outputId": "61689f9f-49d5-4e8f-a157-2f44553c62fb"
      },
      "source": [
        "# Quantidade de valores nulos na variável h1_resprate_max\r\n",
        "df['h1_resprate_max'].isnull().sum()"
      ],
      "execution_count": null,
      "outputs": [
        {
          "output_type": "execute_result",
          "data": {
            "text/plain": [
              "6454"
            ]
          },
          "metadata": {
            "tags": []
          },
          "execution_count": 135
        }
      ]
    },
    {
      "cell_type": "code",
      "metadata": {
        "id": "XEiP8jybNeuo"
      },
      "source": [
        "# E no h1_resprate_max substituir pela média de h1_resprate_max no dataset.\r\n",
        "df['h1_resprate_max'].fillna(df['h1_resprate_max'].mean(), inplace = True)"
      ],
      "execution_count": null,
      "outputs": []
    },
    {
      "cell_type": "markdown",
      "metadata": {
        "id": "F8wBXGkuApdd"
      },
      "source": [
        "**Verificando os dados faltantes na variável h1_resprate_min**"
      ]
    },
    {
      "cell_type": "code",
      "metadata": {
        "colab": {
          "base_uri": "https://localhost:8080/"
        },
        "id": "sp7BjXxMAtrH",
        "outputId": "ac2c413f-63fb-4501-970b-7adce265956e"
      },
      "source": [
        "# Quantidade de valores nulos na variável h1_resprate_min\r\n",
        "df['h1_resprate_min'].isnull().sum()"
      ],
      "execution_count": null,
      "outputs": [
        {
          "output_type": "execute_result",
          "data": {
            "text/plain": [
              "6454"
            ]
          },
          "metadata": {
            "tags": []
          },
          "execution_count": 137
        }
      ]
    },
    {
      "cell_type": "code",
      "metadata": {
        "id": "4VmZwrKeA6En"
      },
      "source": [
        "# E no h1_resprate_min substituir pela média de h1_resprate_min no dataset.\r\n",
        "df['h1_resprate_min'].fillna(df['h1_resprate_min'].mean(), inplace = True)"
      ],
      "execution_count": null,
      "outputs": []
    },
    {
      "cell_type": "markdown",
      "metadata": {
        "id": "WrlmKf1KBBVc"
      },
      "source": [
        "**Verificando os dados faltantes na variável h1_spo2_max**"
      ]
    },
    {
      "cell_type": "code",
      "metadata": {
        "colab": {
          "base_uri": "https://localhost:8080/"
        },
        "id": "PFZrx2ODBF9N",
        "outputId": "7076533b-7aa4-4871-c9a7-eb65feaa37bd"
      },
      "source": [
        "# Quantidade de valores nulos na variável h1_spo2_max\r\n",
        "df['h1_spo2_max'].isnull().sum()"
      ],
      "execution_count": null,
      "outputs": [
        {
          "output_type": "execute_result",
          "data": {
            "text/plain": [
              "6242"
            ]
          },
          "metadata": {
            "tags": []
          },
          "execution_count": 139
        }
      ]
    },
    {
      "cell_type": "code",
      "metadata": {
        "id": "Ar-HlcuSBNnr"
      },
      "source": [
        "# E no h1_spo2_max substituir pela média de h1_spo2_max no dataset.\r\n",
        "df['h1_spo2_max'].fillna(df['h1_spo2_max'].mean(), inplace = True)"
      ],
      "execution_count": null,
      "outputs": []
    },
    {
      "cell_type": "markdown",
      "metadata": {
        "id": "WV9di7vPBdJ2"
      },
      "source": [
        "**Verificando os dados faltantes na variável h1_spo2_min**"
      ]
    },
    {
      "cell_type": "code",
      "metadata": {
        "colab": {
          "base_uri": "https://localhost:8080/"
        },
        "id": "Vyzh0VfiBjU5",
        "outputId": "0bea6e0e-3a50-4295-e5d3-add52ac253a5"
      },
      "source": [
        "# Quantidade de valores nulos na variável h1_spo2_min\r\n",
        "df['h1_spo2_min'].isnull().sum()"
      ],
      "execution_count": null,
      "outputs": [
        {
          "output_type": "execute_result",
          "data": {
            "text/plain": [
              "6242"
            ]
          },
          "metadata": {
            "tags": []
          },
          "execution_count": 141
        }
      ]
    },
    {
      "cell_type": "code",
      "metadata": {
        "id": "T_HOnmTMBxDD"
      },
      "source": [
        "# E no h1_spo2_min substituir pela média de h1_spo2_min no dataset.\r\n",
        "df['h1_spo2_min'].fillna(df['h1_spo2_min'].mean(), inplace = True)"
      ],
      "execution_count": null,
      "outputs": []
    },
    {
      "cell_type": "markdown",
      "metadata": {
        "id": "VC7r5YmOB3Dn"
      },
      "source": [
        "**Verificando os dados faltantes na variável h1_sysbp_invasive_max**"
      ]
    },
    {
      "cell_type": "code",
      "metadata": {
        "id": "hp9vUalbB7vp",
        "colab": {
          "base_uri": "https://localhost:8080/"
        },
        "outputId": "f5caa802-0db1-4699-8d56-eb87db256f26"
      },
      "source": [
        "# Quantidade de valores nulos na variável h1_sysbp_invasive_max\r\n",
        "df['h1_sysbp_invasive_max'].isnull().sum()"
      ],
      "execution_count": null,
      "outputs": [
        {
          "output_type": "execute_result",
          "data": {
            "text/plain": [
              "104807"
            ]
          },
          "metadata": {
            "tags": []
          },
          "execution_count": 143
        }
      ]
    },
    {
      "cell_type": "code",
      "metadata": {
        "id": "dV3oFq4kCJF6"
      },
      "source": [
        "# E no h1_sysbp_invasive_max substituir pela média de h1_sysbp_invasive_max no dataset.\r\n",
        "df['h1_sysbp_invasive_max'].fillna(df['h1_sysbp_invasive_max'].mean(), inplace = True)"
      ],
      "execution_count": null,
      "outputs": []
    },
    {
      "cell_type": "markdown",
      "metadata": {
        "id": "XeqsLIK_CSEW"
      },
      "source": [
        "**Verificando os dados faltantes na variável h1_sysbp_invasive_min**"
      ]
    },
    {
      "cell_type": "code",
      "metadata": {
        "colab": {
          "base_uri": "https://localhost:8080/"
        },
        "id": "OOEsRZKBCWiz",
        "outputId": "f3ac97a8-4dfb-4860-810a-edbcde1c45cd"
      },
      "source": [
        "# Quantidade de valores nulos na variável h1_sysbp_invasive_min\r\n",
        "df['h1_sysbp_invasive_min'].isnull().sum()"
      ],
      "execution_count": null,
      "outputs": [
        {
          "output_type": "execute_result",
          "data": {
            "text/plain": [
              "104807"
            ]
          },
          "metadata": {
            "tags": []
          },
          "execution_count": 145
        }
      ]
    },
    {
      "cell_type": "code",
      "metadata": {
        "id": "s7_lJO1CCkSV"
      },
      "source": [
        "# E no h1_sysbp_invasive_min substituir pela média de h1_sysbp_invasive_min no dataset.\r\n",
        "df['h1_sysbp_invasive_min'].fillna(df['h1_sysbp_invasive_min'].mean(), inplace = True)"
      ],
      "execution_count": null,
      "outputs": []
    },
    {
      "cell_type": "markdown",
      "metadata": {
        "id": "wG5yrrYTC0Ei"
      },
      "source": [
        "**Verificando os dados faltantes na variável h1_sysbp_max**"
      ]
    },
    {
      "cell_type": "code",
      "metadata": {
        "colab": {
          "base_uri": "https://localhost:8080/"
        },
        "id": "tFCwfZRBC4gl",
        "outputId": "a36fabd9-8225-4719-d15f-56e6ce6e2db5"
      },
      "source": [
        "# Quantidade de valores nulos na variável h1_sysbp_max\r\n",
        "df['h1_sysbp_max'].isnull().sum()"
      ],
      "execution_count": null,
      "outputs": [
        {
          "output_type": "execute_result",
          "data": {
            "text/plain": [
              "5519"
            ]
          },
          "metadata": {
            "tags": []
          },
          "execution_count": 147
        }
      ]
    },
    {
      "cell_type": "code",
      "metadata": {
        "id": "pXj5dcIWDGxo"
      },
      "source": [
        "# E no h1_sysbp_max substituir pela média de h1_sysbp_max no dataset.\r\n",
        "df['h1_sysbp_max'].fillna(df['h1_sysbp_max'].mean(), inplace = True)"
      ],
      "execution_count": null,
      "outputs": []
    },
    {
      "cell_type": "markdown",
      "metadata": {
        "id": "zBn_0jlqDNrk"
      },
      "source": [
        "**Verificando os dados faltantes na variável h1_sysbp_min**"
      ]
    },
    {
      "cell_type": "code",
      "metadata": {
        "colab": {
          "base_uri": "https://localhost:8080/"
        },
        "id": "wLSueKucDR03",
        "outputId": "abef4266-e165-4572-b9a1-a2a5a74346a7"
      },
      "source": [
        "# Quantidade de valores nulos na variável h1_sysbp_min\r\n",
        "df['h1_sysbp_min'].isnull().sum()"
      ],
      "execution_count": null,
      "outputs": [
        {
          "output_type": "execute_result",
          "data": {
            "text/plain": [
              "5519"
            ]
          },
          "metadata": {
            "tags": []
          },
          "execution_count": 149
        }
      ]
    },
    {
      "cell_type": "code",
      "metadata": {
        "id": "hyBjLvyxDdVO"
      },
      "source": [
        "# E no h1_sysbp_min substituir pela média de h1_sysbp_min no dataset.\r\n",
        "df['h1_sysbp_min'].fillna(df['h1_sysbp_min'].mean(), inplace = True)"
      ],
      "execution_count": null,
      "outputs": []
    },
    {
      "cell_type": "markdown",
      "metadata": {
        "id": "vZrgkgvkDlFA"
      },
      "source": [
        "**Verificando os dados faltantes na variável h1_sysbp_noninvasive_max**"
      ]
    },
    {
      "cell_type": "code",
      "metadata": {
        "colab": {
          "base_uri": "https://localhost:8080/"
        },
        "id": "Z6kQvEabDsFz",
        "outputId": "a81952e6-2490-481b-97ef-32b0dd009492"
      },
      "source": [
        "# Quantidade de valores nulos na variável h1_sysbp_noninvasive_max\r\n",
        "df['h1_sysbp_noninvasive_max'].isnull().sum()"
      ],
      "execution_count": null,
      "outputs": [
        {
          "output_type": "execute_result",
          "data": {
            "text/plain": [
              "11330"
            ]
          },
          "metadata": {
            "tags": []
          },
          "execution_count": 151
        }
      ]
    },
    {
      "cell_type": "code",
      "metadata": {
        "id": "Q6Ek4TfOD6eF"
      },
      "source": [
        "# E no h1_sysbp_noninvasive_max substituir pela média de h1_sysbp_noninvasive_max no dataset.\r\n",
        "df['h1_sysbp_noninvasive_max'].fillna(df['h1_sysbp_noninvasive_max'].mean(), inplace = True)"
      ],
      "execution_count": null,
      "outputs": []
    },
    {
      "cell_type": "markdown",
      "metadata": {
        "id": "LQbqAmsPEBDn"
      },
      "source": [
        "**Verificando os dados faltantes na variável h1_sysbp_noninvasive_min**"
      ]
    },
    {
      "cell_type": "code",
      "metadata": {
        "colab": {
          "base_uri": "https://localhost:8080/"
        },
        "id": "JTA7vJNYEFeA",
        "outputId": "911b31d2-08b9-470b-e7e1-e65c39e3e8bd"
      },
      "source": [
        "# Quantidade de valores nulos na variável h1_sysbp_noninvasive_min\r\n",
        "df['h1_sysbp_noninvasive_min'].isnull().sum()"
      ],
      "execution_count": null,
      "outputs": [
        {
          "output_type": "execute_result",
          "data": {
            "text/plain": [
              "11330"
            ]
          },
          "metadata": {
            "tags": []
          },
          "execution_count": 153
        }
      ]
    },
    {
      "cell_type": "code",
      "metadata": {
        "id": "sGBxKEpBERxg"
      },
      "source": [
        "# E no h1_sysbp_noninvasive_min substituir pela média de h1_sysbp_noninvasive_min no dataset.\r\n",
        "df['h1_sysbp_noninvasive_min'].fillna(df['h1_sysbp_noninvasive_min'].mean(), inplace = True)"
      ],
      "execution_count": null,
      "outputs": []
    },
    {
      "cell_type": "markdown",
      "metadata": {
        "id": "los2NGeXEZUY"
      },
      "source": [
        "**Verificando os dados faltantes na variável h1_temp_max**"
      ]
    },
    {
      "cell_type": "code",
      "metadata": {
        "colab": {
          "base_uri": "https://localhost:8080/"
        },
        "id": "Lf55fRxgEeSb",
        "outputId": "90f1f39f-19b3-4d4c-e7ba-48b23e55ac5e"
      },
      "source": [
        "# Quantidade de valores nulos na variável h1_temp_max\r\n",
        "df['h1_temp_max'].isnull().sum()"
      ],
      "execution_count": null,
      "outputs": [
        {
          "output_type": "execute_result",
          "data": {
            "text/plain": [
              "29703"
            ]
          },
          "metadata": {
            "tags": []
          },
          "execution_count": 155
        }
      ]
    },
    {
      "cell_type": "code",
      "metadata": {
        "id": "brOW1Ji4Eq_z"
      },
      "source": [
        "# E no h1_temp_max substituir pela média de h1_temp_max no dataset.\r\n",
        "df['h1_temp_max'].fillna(df['h1_temp_max'].mean(), inplace = True)"
      ],
      "execution_count": null,
      "outputs": []
    },
    {
      "cell_type": "markdown",
      "metadata": {
        "id": "nUU8cc9UExw-"
      },
      "source": [
        "**Verificando os dados faltantes na variável h1_temp_min**"
      ]
    },
    {
      "cell_type": "code",
      "metadata": {
        "colab": {
          "base_uri": "https://localhost:8080/"
        },
        "id": "Ttv21Ug1E1yN",
        "outputId": "d1990b5b-9b29-4b8c-9541-2006906b1440"
      },
      "source": [
        "# Quantidade de valores nulos na variável h1_temp_min\r\n",
        "df['h1_temp_min'].isnull().sum()"
      ],
      "execution_count": null,
      "outputs": [
        {
          "output_type": "execute_result",
          "data": {
            "text/plain": [
              "29703"
            ]
          },
          "metadata": {
            "tags": []
          },
          "execution_count": 157
        }
      ]
    },
    {
      "cell_type": "code",
      "metadata": {
        "id": "cYZ8K7NuFAZF"
      },
      "source": [
        "# E no h1_temp_min substituir pela média de h1_temp_min no dataset.\r\n",
        "df['h1_temp_min'].fillna(df['h1_temp_min'].mean(), inplace = True)"
      ],
      "execution_count": null,
      "outputs": []
    },
    {
      "cell_type": "markdown",
      "metadata": {
        "id": "uMi1zVUVFHQg"
      },
      "source": [
        "**Verificando os dados faltantes na variável d1_albumin_max**"
      ]
    },
    {
      "cell_type": "code",
      "metadata": {
        "colab": {
          "base_uri": "https://localhost:8080/"
        },
        "id": "_thHn_3-FMKu",
        "outputId": "bfd55505-22d7-43a1-aca8-eb5994c0032a"
      },
      "source": [
        "# Quantidade de valores nulos na variável d1_albumin_max\r\n",
        "df['d1_albumin_max'].isnull().sum()"
      ],
      "execution_count": null,
      "outputs": [
        {
          "output_type": "execute_result",
          "data": {
            "text/plain": [
              "71406"
            ]
          },
          "metadata": {
            "tags": []
          },
          "execution_count": 159
        }
      ]
    },
    {
      "cell_type": "code",
      "metadata": {
        "id": "QeeFyPMaFXt8"
      },
      "source": [
        "# E no d1_albumin_max substituir pela média de d1_albumin_max no dataset.\r\n",
        "df['d1_albumin_max'].fillna(df['d1_albumin_max'].mean(), inplace = True)"
      ],
      "execution_count": null,
      "outputs": []
    },
    {
      "cell_type": "markdown",
      "metadata": {
        "id": "QDtedWJwFd0V"
      },
      "source": [
        "**Verificando os dados faltantes na variável d1_albumin_min**"
      ]
    },
    {
      "cell_type": "code",
      "metadata": {
        "colab": {
          "base_uri": "https://localhost:8080/"
        },
        "id": "F-QYtVVHFneb",
        "outputId": "e9774e81-bc63-4bd5-85ad-46187ed92c07"
      },
      "source": [
        "# Quantidade de valores nulos na variável d1_albumin_min\r\n",
        "df['d1_albumin_min'].isnull().sum()"
      ],
      "execution_count": null,
      "outputs": [
        {
          "output_type": "execute_result",
          "data": {
            "text/plain": [
              "71406"
            ]
          },
          "metadata": {
            "tags": []
          },
          "execution_count": 161
        }
      ]
    },
    {
      "cell_type": "code",
      "metadata": {
        "id": "B0Ggwza7FxMW"
      },
      "source": [
        "# E no d1_albumin_min substituir pela média de d1_albumin_min no dataset.\r\n",
        "df['d1_albumin_min'].fillna(df['d1_albumin_min'].mean(), inplace = True)"
      ],
      "execution_count": null,
      "outputs": []
    },
    {
      "cell_type": "markdown",
      "metadata": {
        "id": "TSM7AT1CF4PT"
      },
      "source": [
        "**Verificando os dados faltantes na variável d1_bilirubin_max**"
      ]
    },
    {
      "cell_type": "code",
      "metadata": {
        "colab": {
          "base_uri": "https://localhost:8080/"
        },
        "id": "llAoAk4FF8ZE",
        "outputId": "91c6524f-7846-448c-8b42-ac9e04e12ec8"
      },
      "source": [
        "# Quantidade de valores nulos na variável d1_bilirubin_max\r\n",
        "df['d1_bilirubin_max'].isnull().sum()"
      ],
      "execution_count": null,
      "outputs": [
        {
          "output_type": "execute_result",
          "data": {
            "text/plain": [
              "76735"
            ]
          },
          "metadata": {
            "tags": []
          },
          "execution_count": 163
        }
      ]
    },
    {
      "cell_type": "code",
      "metadata": {
        "id": "l0Y30QjYGI9s"
      },
      "source": [
        "# E no d1_bilirubin_max substituir pela média de d1_bilirubin_max no dataset.\r\n",
        "df['d1_bilirubin_max'].fillna(df['d1_bilirubin_max'].mean(), inplace = True)"
      ],
      "execution_count": null,
      "outputs": []
    },
    {
      "cell_type": "markdown",
      "metadata": {
        "id": "hWWKeqX1GOvF"
      },
      "source": [
        "**Verificando os dados faltantes na variável d1_bilirubin_min**"
      ]
    },
    {
      "cell_type": "code",
      "metadata": {
        "colab": {
          "base_uri": "https://localhost:8080/"
        },
        "id": "Ip5bJ7eMGSoM",
        "outputId": "a0b6bf91-bc2c-4691-9ff8-4f46aebe8e8b"
      },
      "source": [
        "# Quantidade de valores nulos na variável d1_bilirubin_min\r\n",
        "df['d1_bilirubin_min'].isnull().sum()"
      ],
      "execution_count": null,
      "outputs": [
        {
          "output_type": "execute_result",
          "data": {
            "text/plain": [
              "76735"
            ]
          },
          "metadata": {
            "tags": []
          },
          "execution_count": 165
        }
      ]
    },
    {
      "cell_type": "code",
      "metadata": {
        "id": "FUcVY57dGdzF"
      },
      "source": [
        "# E no d1_bilirubin_min substituir pela média de d1_bilirubin_min no dataset.\r\n",
        "df['d1_bilirubin_min'].fillna(df['d1_bilirubin_min'].mean(), inplace = True)"
      ],
      "execution_count": null,
      "outputs": []
    },
    {
      "cell_type": "markdown",
      "metadata": {
        "id": "jIMUf9STGjq0"
      },
      "source": [
        "**Verificando os dados faltantes na variável d1_bun_max**"
      ]
    },
    {
      "cell_type": "code",
      "metadata": {
        "colab": {
          "base_uri": "https://localhost:8080/"
        },
        "id": "Sywzu6aJGpdu",
        "outputId": "19956c84-ff18-483c-ba8c-46a32b1be492"
      },
      "source": [
        "# Quantidade de valores nulos na variável d1_bun_max\r\n",
        "df['d1_bun_max'].isnull().sum()"
      ],
      "execution_count": null,
      "outputs": [
        {
          "output_type": "execute_result",
          "data": {
            "text/plain": [
              "13734"
            ]
          },
          "metadata": {
            "tags": []
          },
          "execution_count": 167
        }
      ]
    },
    {
      "cell_type": "code",
      "metadata": {
        "id": "7Lsc_U21G2e7"
      },
      "source": [
        "# E no d1_bun_max substituir pela média de d1_bun_max no dataset.\r\n",
        "df['d1_bun_max'].fillna(df['d1_bun_max'].mean(), inplace = True)"
      ],
      "execution_count": null,
      "outputs": []
    },
    {
      "cell_type": "markdown",
      "metadata": {
        "id": "vJI8vF_VG9p5"
      },
      "source": [
        "**Verificando os dados faltantes na variável d1_bun_min**"
      ]
    },
    {
      "cell_type": "code",
      "metadata": {
        "colab": {
          "base_uri": "https://localhost:8080/"
        },
        "id": "W7ulKKrqHBq0",
        "outputId": "5b470eff-71b5-4b29-9a84-b72b8407b604"
      },
      "source": [
        "# Quantidade de valores nulos na variável d1_bun_min\r\n",
        "df['d1_bun_min'].isnull().sum()"
      ],
      "execution_count": null,
      "outputs": [
        {
          "output_type": "execute_result",
          "data": {
            "text/plain": [
              "13734"
            ]
          },
          "metadata": {
            "tags": []
          },
          "execution_count": 169
        }
      ]
    },
    {
      "cell_type": "code",
      "metadata": {
        "id": "GJq-qdMFHOC1"
      },
      "source": [
        "# E no d1_bun_min substituir pela média de d1_bun_min no dataset.\r\n",
        "df['d1_bun_min'].fillna(df['d1_bun_min'].mean(), inplace = True)"
      ],
      "execution_count": null,
      "outputs": []
    },
    {
      "cell_type": "markdown",
      "metadata": {
        "id": "czzVQB-iHSwx"
      },
      "source": [
        "**Verificando os dados faltantes na variável d1_calcium_max**"
      ]
    },
    {
      "cell_type": "code",
      "metadata": {
        "colab": {
          "base_uri": "https://localhost:8080/"
        },
        "id": "qvlg_6iaHW0Q",
        "outputId": "5dc4a3d7-31bc-49ba-9d7a-21df900f916d"
      },
      "source": [
        "# Quantidade de valores nulos na variável d1_calcium_max\r\n",
        "df['d1_calcium_max'].isnull().sum()"
      ],
      "execution_count": null,
      "outputs": [
        {
          "output_type": "execute_result",
          "data": {
            "text/plain": [
              "16692"
            ]
          },
          "metadata": {
            "tags": []
          },
          "execution_count": 171
        }
      ]
    },
    {
      "cell_type": "code",
      "metadata": {
        "id": "hmVx4aYrHh1i"
      },
      "source": [
        "# E no d1_calcium_max substituir pela média de d1_calcium_max no dataset.\r\n",
        "df['d1_calcium_max'].fillna(df['d1_calcium_max'].mean(), inplace = True)"
      ],
      "execution_count": null,
      "outputs": []
    },
    {
      "cell_type": "markdown",
      "metadata": {
        "id": "BPlacXehHnze"
      },
      "source": [
        "**Verificando os dados faltantes na variável d1_calcium_min**"
      ]
    },
    {
      "cell_type": "code",
      "metadata": {
        "colab": {
          "base_uri": "https://localhost:8080/"
        },
        "id": "5Wj2BKliHrys",
        "outputId": "0770b8e3-65dc-4d67-cd8b-67eab729d033"
      },
      "source": [
        "# Quantidade de valores nulos na variável d1_calcium_min\r\n",
        "df['d1_calcium_min'].isnull().sum()"
      ],
      "execution_count": null,
      "outputs": [
        {
          "output_type": "execute_result",
          "data": {
            "text/plain": [
              "16692"
            ]
          },
          "metadata": {
            "tags": []
          },
          "execution_count": 173
        }
      ]
    },
    {
      "cell_type": "code",
      "metadata": {
        "id": "e50OqnQMH3in"
      },
      "source": [
        "# E no d1_calcium_min substituir pela média de d1_calcium_min no dataset.\r\n",
        "df['d1_calcium_min'].fillna(df['d1_calcium_min'].mean(), inplace = True)"
      ],
      "execution_count": null,
      "outputs": []
    },
    {
      "cell_type": "markdown",
      "metadata": {
        "id": "KlwtCKlAH-NW"
      },
      "source": [
        "**Verificando os dados faltantes na variável d1_creatinine_max**"
      ]
    },
    {
      "cell_type": "code",
      "metadata": {
        "colab": {
          "base_uri": "https://localhost:8080/"
        },
        "id": "axVvSJdYICqE",
        "outputId": "3a9174f9-43ec-4f95-84eb-ed8cfd80f2dc"
      },
      "source": [
        "# Quantidade de valores nulos na variável d1_creatinine_max\r\n",
        "df['d1_creatinine_max'].isnull().sum()"
      ],
      "execution_count": null,
      "outputs": [
        {
          "output_type": "execute_result",
          "data": {
            "text/plain": [
              "13273"
            ]
          },
          "metadata": {
            "tags": []
          },
          "execution_count": 175
        }
      ]
    },
    {
      "cell_type": "code",
      "metadata": {
        "id": "PZ-33daiIPAt"
      },
      "source": [
        "# E no d1_creatinine_max substituir pela média de d1_creatinine_max no dataset.\r\n",
        "df['d1_creatinine_max'].fillna(df['d1_creatinine_max'].mean(), inplace = True)"
      ],
      "execution_count": null,
      "outputs": []
    },
    {
      "cell_type": "markdown",
      "metadata": {
        "id": "lDkoSFlFIVDO"
      },
      "source": [
        "**Verificando os dados faltantes na variável d1_creatinine_min**"
      ]
    },
    {
      "cell_type": "code",
      "metadata": {
        "colab": {
          "base_uri": "https://localhost:8080/"
        },
        "id": "jcT15fZ1IZKB",
        "outputId": "a1802159-6f97-43ce-908d-7037991b0884"
      },
      "source": [
        "# Quantidade de valores nulos na variável d1_creatinine_min\r\n",
        "df['d1_creatinine_min'].isnull().sum()"
      ],
      "execution_count": null,
      "outputs": [
        {
          "output_type": "execute_result",
          "data": {
            "text/plain": [
              "13273"
            ]
          },
          "metadata": {
            "tags": []
          },
          "execution_count": 177
        }
      ]
    },
    {
      "cell_type": "code",
      "metadata": {
        "id": "kVquD6GzIkw9"
      },
      "source": [
        "# E no d1_creatinine_min substituir pela média de d1_creatinine_min no dataset.\r\n",
        "df['d1_creatinine_min'].fillna(df['d1_creatinine_min'].mean(), inplace = True)"
      ],
      "execution_count": null,
      "outputs": []
    },
    {
      "cell_type": "markdown",
      "metadata": {
        "id": "zMaKZuIwIq66"
      },
      "source": [
        "**Verificando os dados faltantes na variável d1_glucose_max**"
      ]
    },
    {
      "cell_type": "code",
      "metadata": {
        "colab": {
          "base_uri": "https://localhost:8080/"
        },
        "id": "y28wKvsWIvMm",
        "outputId": "c4e2b7ee-f382-4b47-df58-c1a1a22b782c"
      },
      "source": [
        "# Quantidade de valores nulos na variável d1_glucose_max\r\n",
        "df['d1_glucose_max'].isnull().sum()"
      ],
      "execution_count": null,
      "outputs": [
        {
          "output_type": "execute_result",
          "data": {
            "text/plain": [
              "8243"
            ]
          },
          "metadata": {
            "tags": []
          },
          "execution_count": 179
        }
      ]
    },
    {
      "cell_type": "code",
      "metadata": {
        "id": "aNnuoGIhI5gF"
      },
      "source": [
        "# E no d1_glucose_max substituir pela média de d1_glucose_max no dataset.\r\n",
        "df['d1_glucose_max'].fillna(df['d1_glucose_max'].mean(), inplace = True)"
      ],
      "execution_count": null,
      "outputs": []
    },
    {
      "cell_type": "markdown",
      "metadata": {
        "id": "YioDJNDNI-nz"
      },
      "source": [
        "**Verificando os dados faltantes na variável d1_glucose_min**"
      ]
    },
    {
      "cell_type": "code",
      "metadata": {
        "colab": {
          "base_uri": "https://localhost:8080/"
        },
        "id": "MLLq06wkJDHJ",
        "outputId": "1c9e3144-2a22-40e6-92cc-5c7f003a9bf2"
      },
      "source": [
        "# Quantidade de valores nulos na variável d1_glucose_min\r\n",
        "df['d1_glucose_min'].isnull().sum()"
      ],
      "execution_count": null,
      "outputs": [
        {
          "output_type": "execute_result",
          "data": {
            "text/plain": [
              "8243"
            ]
          },
          "metadata": {
            "tags": []
          },
          "execution_count": 181
        }
      ]
    },
    {
      "cell_type": "code",
      "metadata": {
        "id": "8Wmuu94dJT57"
      },
      "source": [
        "# E no d1_glucose_min substituir pela média de d1_glucose_min no dataset.\r\n",
        "df['d1_glucose_min'].fillna(df['d1_glucose_min'].mean(), inplace = True)"
      ],
      "execution_count": null,
      "outputs": []
    },
    {
      "cell_type": "markdown",
      "metadata": {
        "id": "jcyS6DWBJZhZ"
      },
      "source": [
        "**Verificando os dados faltantes na variável d1_hco3_max**"
      ]
    },
    {
      "cell_type": "code",
      "metadata": {
        "colab": {
          "base_uri": "https://localhost:8080/"
        },
        "id": "cpRrgxVIJd7B",
        "outputId": "bedf5c9c-6533-47b9-8ede-771fa372e6d1"
      },
      "source": [
        "# Quantidade de valores nulos na variável d1_hco3_max\r\n",
        "df['d1_hco3_max'].isnull().sum()"
      ],
      "execution_count": null,
      "outputs": [
        {
          "output_type": "execute_result",
          "data": {
            "text/plain": [
              "20047"
            ]
          },
          "metadata": {
            "tags": []
          },
          "execution_count": 183
        }
      ]
    },
    {
      "cell_type": "code",
      "metadata": {
        "id": "7Z-HHC1DJpTG"
      },
      "source": [
        "# E no d1_hco3_max substituir pela média de d1_hco3_max no dataset.\r\n",
        "df['d1_hco3_max'].fillna(df['d1_hco3_max'].mean(), inplace = True)"
      ],
      "execution_count": null,
      "outputs": []
    },
    {
      "cell_type": "markdown",
      "metadata": {
        "id": "H1gturlFJvZ_"
      },
      "source": [
        "**Verificando os dados faltantes na variável d1_hco3_min**"
      ]
    },
    {
      "cell_type": "code",
      "metadata": {
        "colab": {
          "base_uri": "https://localhost:8080/"
        },
        "id": "MdrRZGezJzjh",
        "outputId": "8895507c-0ad3-4314-9c53-e453466ac50a"
      },
      "source": [
        "# Quantidade de valores nulos na variável d1_hco3_min\r\n",
        "df['d1_hco3_min'].isnull().sum()"
      ],
      "execution_count": null,
      "outputs": [
        {
          "output_type": "execute_result",
          "data": {
            "text/plain": [
              "20047"
            ]
          },
          "metadata": {
            "tags": []
          },
          "execution_count": 185
        }
      ]
    },
    {
      "cell_type": "code",
      "metadata": {
        "id": "5iScxFUzJ-fG"
      },
      "source": [
        "# E no d1_hco3_min substituir pela média de d1_hco3_min no dataset.\r\n",
        "df['d1_hco3_min'].fillna(df['d1_hco3_min'].mean(), inplace = True)"
      ],
      "execution_count": null,
      "outputs": []
    },
    {
      "cell_type": "markdown",
      "metadata": {
        "id": "IFE2z16WKEns"
      },
      "source": [
        "**Verificando os dados faltantes na variável d1_hemaglobin_max**"
      ]
    },
    {
      "cell_type": "code",
      "metadata": {
        "colab": {
          "base_uri": "https://localhost:8080/"
        },
        "id": "HjHk4HvaKIfB",
        "outputId": "d5520bc8-a1c3-43e5-be4d-4748d5fd84bc"
      },
      "source": [
        "# Quantidade de valores nulos na variável d1_hemaglobin_max\r\n",
        "df['d1_hemaglobin_max'].isnull().sum()"
      ],
      "execution_count": null,
      "outputs": [
        {
          "output_type": "execute_result",
          "data": {
            "text/plain": [
              "16232"
            ]
          },
          "metadata": {
            "tags": []
          },
          "execution_count": 187
        }
      ]
    },
    {
      "cell_type": "code",
      "metadata": {
        "id": "_ydWc1RiKU3i"
      },
      "source": [
        "# E no d1_hemaglobin_max substituir pela média de d1_hemaglobin_max no dataset.\r\n",
        "df['d1_hemaglobin_max'].fillna(df['d1_hemaglobin_max'].mean(), inplace = True)"
      ],
      "execution_count": null,
      "outputs": []
    },
    {
      "cell_type": "markdown",
      "metadata": {
        "id": "C0FOMVB0Kaoa"
      },
      "source": [
        "**Verificando os dados faltantes na variável d1_hemaglobin_min**"
      ]
    },
    {
      "cell_type": "code",
      "metadata": {
        "colab": {
          "base_uri": "https://localhost:8080/"
        },
        "id": "f4qkBdMIKeyS",
        "outputId": "d5887e72-ec95-4933-af82-d7b4085166cd"
      },
      "source": [
        "# Quantidade de valores nulos na variável d1_hemaglobin_min\r\n",
        "df['d1_hemaglobin_min'].isnull().sum()"
      ],
      "execution_count": null,
      "outputs": [
        {
          "output_type": "execute_result",
          "data": {
            "text/plain": [
              "16232"
            ]
          },
          "metadata": {
            "tags": []
          },
          "execution_count": 189
        }
      ]
    },
    {
      "cell_type": "code",
      "metadata": {
        "id": "DVxEZlZ7KpcN"
      },
      "source": [
        "# E no d1_hemaglobin_min substituir pela média de d1_hemaglobin_min no dataset.\r\n",
        "df['d1_hemaglobin_min'].fillna(df['d1_hemaglobin_min'].mean(), inplace = True)"
      ],
      "execution_count": null,
      "outputs": []
    },
    {
      "cell_type": "markdown",
      "metadata": {
        "id": "LGccWMM7Kvwj"
      },
      "source": [
        "**Verificando os dados faltantes na variável d1_hematocrit_max**"
      ]
    },
    {
      "cell_type": "code",
      "metadata": {
        "colab": {
          "base_uri": "https://localhost:8080/"
        },
        "id": "RLyQJW8FK2kt",
        "outputId": "eec85aa3-ee88-4f5f-bf34-d2ebf23d895b"
      },
      "source": [
        "# Quantidade de valores nulos na variável d1_hematocrit_max\r\n",
        "df['d1_hematocrit_max'].isnull().sum()"
      ],
      "execution_count": null,
      "outputs": [
        {
          "output_type": "execute_result",
          "data": {
            "text/plain": [
              "15588"
            ]
          },
          "metadata": {
            "tags": []
          },
          "execution_count": 191
        }
      ]
    },
    {
      "cell_type": "code",
      "metadata": {
        "id": "0JrqR1McLCq9"
      },
      "source": [
        "# E no d1_hematocrit_max substituir pela média de d1_hematocrit_max no dataset.\r\n",
        "df['d1_hematocrit_max'].fillna(df['d1_hematocrit_max'].mean(), inplace = True)"
      ],
      "execution_count": null,
      "outputs": []
    },
    {
      "cell_type": "markdown",
      "metadata": {
        "id": "kYXfS21zLIaA"
      },
      "source": [
        "**Verificando os dados faltantes na variável ...**"
      ]
    },
    {
      "cell_type": "code",
      "metadata": {
        "colab": {
          "base_uri": "https://localhost:8080/"
        },
        "id": "Pwf67h-cLM9J",
        "outputId": "f473d5c3-49a1-40f5-930e-6b7c823a1872"
      },
      "source": [
        "# Quantidade de valores nulos na variável ...\r\n",
        "variable_1 = df['d1_hematocrit_min'].isnull().sum()\r\n",
        "variable_2 = df['d1_inr_max'].isnull().sum()\r\n",
        "variable_3 = df['d1_inr_min'].isnull().sum()\r\n",
        "variable_4 = df['d1_lactate_max'].isnull().sum()\r\n",
        "variable_5 = df['d1_lactate_min'].isnull().sum()\r\n",
        "variable_6 = df['d1_platelets_max'].isnull().sum()\r\n",
        "variable_7 = df['d1_platelets_min'].isnull().sum()\r\n",
        "variable_8 = df['d1_potassium_max'].isnull().sum()\r\n",
        "variable_9 = df['d1_potassium_min'].isnull().sum()\r\n",
        "variable_10 = df['d1_sodium_max'].isnull().sum()\r\n",
        "variable_11 = df['d1_sodium_min'].isnull().sum()\r\n",
        "variable_12 = df['d1_wbc_max'].isnull().sum()\r\n",
        "variable_13 = df['d1_wbc_min'].isnull().sum()\r\n",
        "variable_14 = df['h1_albumin_max'].isnull().sum()\r\n",
        "\r\n",
        "print(variable_1)\r\n",
        "print(variable_2)\r\n",
        "print(variable_3)\r\n",
        "print(variable_4)\r\n",
        "print(variable_5)\r\n",
        "print(variable_6)\r\n",
        "print(variable_7)\r\n",
        "print(variable_8)\r\n",
        "print(variable_9)\r\n",
        "print(variable_10)\r\n",
        "print(variable_11)\r\n",
        "print(variable_12)\r\n",
        "print(variable_13)\r\n",
        "print(variable_14)"
      ],
      "execution_count": null,
      "outputs": [
        {
          "output_type": "stream",
          "text": [
            "15588\n",
            "81213\n",
            "81213\n",
            "95503\n",
            "95503\n",
            "18557\n",
            "18557\n",
            "12546\n",
            "12546\n",
            "13270\n",
            "13270\n",
            "17429\n",
            "17429\n",
            "119005\n"
          ],
          "name": "stdout"
        }
      ]
    },
    {
      "cell_type": "code",
      "metadata": {
        "id": "oB_QnAF5Nwi7"
      },
      "source": [
        "# substituir pela média no dataset.\r\n",
        "df['d1_hematocrit_min'].fillna(df['d1_hematocrit_min'].mean(), inplace = True)\r\n",
        "df['d1_inr_max'].fillna(df['d1_inr_max'].mean(), inplace = True)\r\n",
        "df['d1_inr_min'].fillna(df['d1_inr_min'].mean(), inplace = True)\r\n",
        "df['d1_lactate_max'].fillna(df['d1_lactate_max'].mean(), inplace = True)\r\n",
        "df['d1_lactate_min'].fillna(df['d1_lactate_min'].mean(), inplace = True)\r\n",
        "df['d1_platelets_max'].fillna(df['d1_platelets_max'].mean(), inplace = True)\r\n",
        "df['d1_platelets_min'].fillna(df['d1_platelets_min'].mean(), inplace = True)\r\n",
        "df['d1_potassium_max'].fillna(df['d1_potassium_max'].mean(), inplace = True)\r\n",
        "df['d1_potassium_min'].fillna(df['d1_potassium_min'].mean(), inplace = True)\r\n",
        "df['d1_sodium_max'].fillna(df['d1_sodium_max'].mean(), inplace = True)\r\n",
        "df['d1_sodium_min'].fillna(df['d1_sodium_min'].mean(), inplace = True)\r\n",
        "df['d1_wbc_max'].fillna(df['d1_wbc_max'].mean(), inplace = True)\r\n",
        "df['d1_wbc_min'].fillna(df['d1_wbc_min'].mean(), inplace = True)\r\n",
        "df['h1_albumin_max'].fillna(df['h1_albumin_max'].mean(), inplace = True)"
      ],
      "execution_count": null,
      "outputs": []
    },
    {
      "cell_type": "markdown",
      "metadata": {
        "id": "7P9OKJsVPByD"
      },
      "source": [
        "**Verificando os dados faltantes na variável ...**"
      ]
    },
    {
      "cell_type": "code",
      "metadata": {
        "colab": {
          "base_uri": "https://localhost:8080/"
        },
        "id": "wmwaUiS8PHV7",
        "outputId": "fc10c936-6774-416d-ac9d-225daccee164"
      },
      "source": [
        "# Quantidade de valores nulos na variável ...\r\n",
        "variable_15 = df['h1_albumin_min'].isnull().sum()\r\n",
        "variable_16 = df['h1_bilirubin_max'].isnull().sum()\r\n",
        "variable_17 = df['h1_bilirubin_min'].isnull().sum()\r\n",
        "variable_18 = df['h1_bun_max'].isnull().sum()\r\n",
        "variable_19 = df['h1_bun_min'].isnull().sum()\r\n",
        "variable_20 = df['h1_calcium_max'].isnull().sum()\r\n",
        "variable_21 = df['h1_calcium_min'].isnull().sum()\r\n",
        "variable_22 = df['h1_creatinine_max'].isnull().sum()\r\n",
        "variable_23 = df['h1_creatinine_min'].isnull().sum()\r\n",
        "variable_24 = df['h1_glucose_max'].isnull().sum()\r\n",
        "variable_25 = df['h1_glucose_min'].isnull().sum()\r\n",
        "variable_26 = df['h1_hco3_max'].isnull().sum()\r\n",
        "variable_27 = df['h1_hco3_min'].isnull().sum()\r\n",
        "variable_28 = df['h1_hemaglobin_max'].isnull().sum()\r\n",
        "\r\n",
        "print(variable_15)\r\n",
        "print(variable_16)\r\n",
        "print(variable_17)\r\n",
        "print(variable_18)\r\n",
        "print(variable_19)\r\n",
        "print(variable_20)\r\n",
        "print(variable_21)\r\n",
        "print(variable_22)\r\n",
        "print(variable_23)\r\n",
        "print(variable_24)\r\n",
        "print(variable_25)\r\n",
        "print(variable_26)\r\n",
        "print(variable_27)\r\n",
        "print(variable_28)"
      ],
      "execution_count": null,
      "outputs": [
        {
          "output_type": "stream",
          "text": [
            "119005\n",
            "119861\n",
            "119861\n",
            "104990\n",
            "104990\n",
            "105921\n",
            "105921\n",
            "104784\n",
            "104784\n",
            "75073\n",
            "75073\n",
            "106395\n",
            "106395\n",
            "102790\n"
          ],
          "name": "stdout"
        }
      ]
    },
    {
      "cell_type": "code",
      "metadata": {
        "id": "s9EiqPCtQTRL"
      },
      "source": [
        "# substituir pela média no dataset.\r\n",
        "df['h1_albumin_min'].fillna(df['h1_albumin_min'].mean(), inplace = True)\r\n",
        "df['h1_bilirubin_max'].fillna(df['h1_bilirubin_max'].mean(), inplace = True)\r\n",
        "df['h1_bilirubin_min'].fillna(df['h1_bilirubin_min'].mean(), inplace = True)\r\n",
        "df['h1_bun_max'].fillna(df['h1_bun_max'].mean(), inplace = True)\r\n",
        "df['h1_bun_min'].fillna(df['h1_bun_min'].mean(), inplace = True)\r\n",
        "df['h1_calcium_max'].fillna(df['h1_calcium_max'].mean(), inplace = True)\r\n",
        "df['h1_calcium_min'].fillna(df['h1_calcium_min'].mean(), inplace = True)\r\n",
        "df['h1_creatinine_max'].fillna(df['h1_creatinine_max'].mean(), inplace = True)\r\n",
        "df['h1_creatinine_min'].fillna(df['h1_creatinine_min'].mean(), inplace = True)\r\n",
        "df['h1_glucose_max'].fillna(df['h1_glucose_max'].mean(), inplace = True)\r\n",
        "df['h1_glucose_min'].fillna(df['h1_glucose_min'].mean(), inplace = True)\r\n",
        "df['h1_hco3_max'].fillna(df['h1_hco3_max'].mean(), inplace = True)\r\n",
        "df['h1_hco3_min'].fillna(df['h1_hco3_min'].mean(), inplace = True)\r\n",
        "df['h1_hemaglobin_max'].fillna(df['h1_hemaglobin_max'].mean(), inplace = True)"
      ],
      "execution_count": null,
      "outputs": []
    },
    {
      "cell_type": "markdown",
      "metadata": {
        "id": "9u2srOkhRhR5"
      },
      "source": [
        "**Verificando os dados faltantes na variável ...**"
      ]
    },
    {
      "cell_type": "code",
      "metadata": {
        "colab": {
          "base_uri": "https://localhost:8080/"
        },
        "id": "LczGHPyPRlyu",
        "outputId": "a9621243-6bd8-4597-d8a0-860c5703dca7"
      },
      "source": [
        "# Quantidade de valores nulos na variável ...\r\n",
        "variable_29 = df['h1_hemaglobin_min'].isnull().sum()\r\n",
        "variable_30 = df['h1_hematocrit_max'].isnull().sum()\r\n",
        "variable_31 = df['h1_hematocrit_min'].isnull().sum()\r\n",
        "variable_32 = df['h1_inr_max'].isnull().sum()\r\n",
        "variable_33 = df['h1_inr_min'].isnull().sum()\r\n",
        "variable_34 = df['h1_lactate_max'].isnull().sum()\r\n",
        "variable_35 = df['h1_lactate_min'].isnull().sum()\r\n",
        "variable_36 = df['h1_platelets_max'].isnull().sum()\r\n",
        "variable_37 = df['h1_platelets_min'].isnull().sum()\r\n",
        "variable_38 = df['h1_potassium_max'].isnull().sum()\r\n",
        "variable_39 = df['h1_potassium_min'].isnull().sum()\r\n",
        "variable_40 = df['h1_sodium_max'].isnull().sum()\r\n",
        "variable_41 = df['h1_sodium_min'].isnull().sum()\r\n",
        "variable_42 = df['h1_wbc_max'].isnull().sum()\r\n",
        "\r\n",
        "print(variable_29)\r\n",
        "print(variable_30)\r\n",
        "print(variable_31)\r\n",
        "print(variable_32)\r\n",
        "print(variable_33)\r\n",
        "print(variable_34)\r\n",
        "print(variable_35)\r\n",
        "print(variable_36)\r\n",
        "print(variable_37)\r\n",
        "print(variable_38)\r\n",
        "print(variable_39)\r\n",
        "print(variable_40)\r\n",
        "print(variable_41)\r\n",
        "print(variable_42)"
      ],
      "execution_count": null,
      "outputs": [
        {
          "output_type": "stream",
          "text": [
            "102790\n",
            "102956\n",
            "102956\n",
            "81213\n",
            "81213\n",
            "118467\n",
            "118467\n",
            "105729\n",
            "105729\n",
            "100821\n",
            "100821\n",
            "101781\n",
            "101781\n",
            "105986\n"
          ],
          "name": "stdout"
        }
      ]
    },
    {
      "cell_type": "code",
      "metadata": {
        "id": "ZnybyfbETCpS"
      },
      "source": [
        "# substituir pela média no dataset.\r\n",
        "df['h1_hemaglobin_min'].fillna(df['h1_hemaglobin_min'].mean(), inplace = True)\r\n",
        "df['h1_hematocrit_max'].fillna(df['h1_hematocrit_max'].mean(), inplace = True)\r\n",
        "df['h1_hematocrit_min'].fillna(df['h1_hematocrit_min'].mean(), inplace = True)\r\n",
        "df['h1_inr_max'].fillna(df['h1_inr_max'].mean(), inplace = True)\r\n",
        "df['h1_inr_min'].fillna(df['h1_inr_min'].mean(), inplace = True)\r\n",
        "df['h1_lactate_max'].fillna(df['h1_lactate_max'].mean(), inplace = True)\r\n",
        "df['h1_lactate_min'].fillna(df['h1_lactate_min'].mean(), inplace = True)\r\n",
        "df['h1_platelets_max'].fillna(df['h1_platelets_max'].mean(), inplace = True)\r\n",
        "df['h1_platelets_min'].fillna(df['h1_platelets_min'].mean(), inplace = True)\r\n",
        "df['h1_potassium_max'].fillna(df['h1_potassium_max'].mean(), inplace = True)\r\n",
        "df['h1_potassium_min'].fillna(df['h1_potassium_min'].mean(), inplace = True)\r\n",
        "df['h1_sodium_max'].fillna(df['h1_sodium_max'].mean(), inplace = True)\r\n",
        "df['h1_sodium_min'].fillna(df['h1_sodium_min'].mean(), inplace = True)\r\n",
        "df['h1_wbc_max'].fillna(df['h1_wbc_max'].mean(), inplace = True)"
      ],
      "execution_count": null,
      "outputs": []
    },
    {
      "cell_type": "markdown",
      "metadata": {
        "id": "YfoMoBz2UREg"
      },
      "source": [
        "**Verificando os dados faltantes na variável ...**"
      ]
    },
    {
      "cell_type": "code",
      "metadata": {
        "colab": {
          "base_uri": "https://localhost:8080/"
        },
        "id": "aXxaiJFZUWHr",
        "outputId": "f90d8435-1574-45a9-90ae-09385299006b"
      },
      "source": [
        "# Quantidade de valores nulos na variável ...\r\n",
        "variable_43 = df['h1_wbc_min'].isnull().sum()\r\n",
        "variable_44 = df['d1_arterial_pco2_max'].isnull().sum()\r\n",
        "variable_45 = df['d1_arterial_pco2_min'].isnull().sum()\r\n",
        "variable_46 = df['d1_arterial_ph_max'].isnull().sum()\r\n",
        "variable_47 = df['d1_arterial_ph_min'].isnull().sum()\r\n",
        "variable_48 = df['d1_arterial_po2_max'].isnull().sum()\r\n",
        "variable_49 = df['d1_arterial_po2_min'].isnull().sum()\r\n",
        "variable_50 = df['d1_pao2fio2ratio_max'].isnull().sum()\r\n",
        "variable_51 = df['d1_pao2fio2ratio_min'].isnull().sum()\r\n",
        "variable_52 = df['h1_arterial_pco2_max'].isnull().sum()\r\n",
        "variable_53 = df['h1_arterial_pco2_min'].isnull().sum()\r\n",
        "variable_54 = df['h1_arterial_ph_max'].isnull().sum()\r\n",
        "variable_55 = df['h1_arterial_ph_min'].isnull().sum()\r\n",
        "variable_56 = df['h1_arterial_po2_max'].isnull().sum()\r\n",
        "variable_57 = df['h1_arterial_po2_min'].isnull().sum()\r\n",
        "variable_58 = df['h1_pao2fio2ratio_max'].isnull().sum()\r\n",
        "variable_59 = df['h1_pao2fio2ratio_min'].isnull().sum()\r\n",
        "\r\n",
        "print(variable_43)\r\n",
        "print(variable_44)\r\n",
        "print(variable_45)\r\n",
        "print(variable_46)\r\n",
        "print(variable_47)\r\n",
        "print(variable_48)\r\n",
        "print(variable_49)\r\n",
        "print(variable_50)\r\n",
        "print(variable_51)\r\n",
        "print(variable_52)\r\n",
        "print(variable_53)\r\n",
        "print(variable_54)\r\n",
        "print(variable_55)\r\n",
        "print(variable_56)\r\n",
        "print(variable_57)\r\n",
        "print(variable_58)\r\n",
        "print(variable_59)"
      ],
      "execution_count": null,
      "outputs": [
        {
          "output_type": "stream",
          "text": [
            "105986\n",
            "84461\n",
            "84461\n",
            "84807\n",
            "84807\n",
            "84010\n",
            "84010\n",
            "93339\n",
            "93339\n",
            "107666\n",
            "107666\n",
            "107849\n",
            "107849\n",
            "107445\n",
            "107445\n",
            "113397\n",
            "113397\n"
          ],
          "name": "stdout"
        }
      ]
    },
    {
      "cell_type": "code",
      "metadata": {
        "id": "hII1XwSBWJpe"
      },
      "source": [
        "# substituir pela média no dataset.\r\n",
        "df['h1_wbc_min'].fillna(df['h1_wbc_min'].mean(), inplace = True)\r\n",
        "df['d1_arterial_pco2_max'].fillna(df['d1_arterial_pco2_max'].mean(), inplace = True)\r\n",
        "df['d1_arterial_pco2_min'].fillna(df['d1_arterial_pco2_min'].mean(), inplace = True)\r\n",
        "df['d1_arterial_ph_max'].fillna(df['d1_arterial_ph_max'].mean(), inplace = True)\r\n",
        "df['d1_arterial_ph_min'].fillna(df['d1_arterial_ph_min'].mean(), inplace = True)\r\n",
        "df['d1_arterial_po2_max'].fillna(df['d1_arterial_po2_max'].mean(), inplace = True)\r\n",
        "df['d1_arterial_po2_min'].fillna(df['d1_arterial_po2_min'].mean(), inplace = True)\r\n",
        "df['d1_pao2fio2ratio_max'].fillna(df['d1_pao2fio2ratio_max'].mean(), inplace = True)\r\n",
        "df['d1_pao2fio2ratio_min'].fillna(df['d1_pao2fio2ratio_min'].mean(), inplace = True)\r\n",
        "df['h1_arterial_pco2_max'].fillna(df['h1_arterial_pco2_max'].mean(), inplace = True)\r\n",
        "df['h1_arterial_pco2_min'].fillna(df['h1_arterial_pco2_min'].mean(), inplace = True)\r\n",
        "df['h1_arterial_ph_max'].fillna(df['h1_arterial_ph_max'].mean(), inplace = True)\r\n",
        "df['h1_arterial_ph_min'].fillna(df['h1_arterial_ph_min'].mean(), inplace = True)\r\n",
        "df['h1_arterial_po2_max'].fillna(df['h1_arterial_po2_max'].mean(), inplace = True)\r\n",
        "df['h1_arterial_po2_min'].fillna(df['h1_arterial_po2_min'].mean(), inplace = True)\r\n",
        "df['h1_pao2fio2ratio_max'].fillna(df['h1_pao2fio2ratio_max'].mean(), inplace = True)\r\n",
        "df['h1_pao2fio2ratio_min'].fillna(df['h1_pao2fio2ratio_min'].mean(), inplace = True)"
      ],
      "execution_count": null,
      "outputs": []
    },
    {
      "cell_type": "markdown",
      "metadata": {
        "id": "2NC7dGqvYGXH"
      },
      "source": [
        "**Verificando os dados faltantes na variável ...**"
      ]
    },
    {
      "cell_type": "code",
      "metadata": {
        "id": "M7ooxwt5YMSy",
        "colab": {
          "base_uri": "https://localhost:8080/"
        },
        "outputId": "e07cd4d2-e427-4448-9c60-7c0e7f62adba"
      },
      "source": [
        "# Quantidade de valores nulos na variável ...\r\n",
        "variable_60 = df['aids'].isnull().sum()\r\n",
        "variable_61 = df['cirrhosis'].isnull().sum()\r\n",
        "variable_62 = df['hepatic_failure'].isnull().sum()\r\n",
        "variable_63 = df['immunosuppression'].isnull().sum()\r\n",
        "variable_64 = df['leukemia'].isnull().sum()\r\n",
        "variable_65 = df['lymphoma'].isnull().sum()\r\n",
        "variable_66 = df['solid_tumor_with_metastasis'].isnull().sum()\r\n",
        "variable_67 = df['diabetes_mellitus'].isnull().sum()\r\n",
        "\r\n",
        "\r\n",
        "print(variable_60)\r\n",
        "print(variable_61)\r\n",
        "print(variable_62)\r\n",
        "print(variable_63)\r\n",
        "print(variable_64)\r\n",
        "print(variable_65)\r\n",
        "print(variable_66)\r\n",
        "print(variable_67)"
      ],
      "execution_count": null,
      "outputs": [
        {
          "output_type": "stream",
          "text": [
            "0\n",
            "0\n",
            "0\n",
            "0\n",
            "0\n",
            "0\n",
            "0\n",
            "0\n"
          ],
          "name": "stdout"
        }
      ]
    },
    {
      "cell_type": "code",
      "metadata": {
        "colab": {
          "base_uri": "https://localhost:8080/"
        },
        "id": "7sNBowdTS3jv",
        "outputId": "784c8936-553a-4f1d-d83f-60df2a22a51f"
      },
      "source": [
        "variable_70 = df['d1_diasbp_noninvasive_max'].isnull().sum()\r\n",
        "variable_71 = df['d1_diasbp_noninvasive_min'].isnull().sum()\r\n",
        "variable_72 = df['d1_heartrate_max'].isnull().sum()\r\n",
        "variable_73 = df['d1_heartrate_min'].isnull().sum()\r\n",
        "variable_74 = df['d1_mbp_invasive_max'].isnull().sum()\r\n",
        "variable_75 = df['d1_mbp_invasive_min'].isnull().sum()\r\n",
        "variable_76 = df['d1_mbp_max'].isnull().sum()\r\n",
        "variable_77 = df['d1_mbp_min'].isnull().sum()\r\n",
        "variable_78 = df['d1_mbp_noninvasive_max'].isnull().sum()\r\n",
        "variable_79 = df['d1_mbp_noninvasive_min'].isnull().sum()\r\n",
        "variable_80 = df['d1_resprate_max'].isnull().sum()\r\n",
        "variable_81 = df['d1_resprate_min'].isnull().sum()\r\n",
        "variable_82 = df['d1_spo2_max'].isnull().sum()\r\n",
        "variable_83 = df['d1_spo2_min'].isnull().sum()\r\n",
        "variable_84 = df['d1_sysbp_invasive_max'].isnull().sum()\r\n",
        "variable_85 = df['d1_sysbp_invasive_min'].isnull().sum()\r\n",
        "variable_86 = df['d1_sysbp_max'].isnull().sum()\r\n",
        "variable_87 = df['d1_sysbp_min'].isnull().sum()\r\n",
        "variable_88 = df['d1_sysbp_noninvasive_max'].isnull().sum()\r\n",
        "variable_89 = df['d1_sysbp_noninvasive_min'].isnull().sum()\r\n",
        "variable_90 = df['d1_temp_max'].isnull().sum()\r\n",
        "variable_91 = df['d1_temp_min'].isnull().sum()\r\n",
        "variable_92 = df['h1_diasbp_invasive_max'].isnull().sum()\r\n",
        "\r\n",
        "\r\n",
        "print(variable_70)\r\n",
        "print(variable_71)\r\n",
        "print(variable_72)\r\n",
        "print(variable_73)\r\n",
        "print(variable_74)\r\n",
        "print(variable_75)\r\n",
        "print(variable_76)\r\n",
        "print(variable_77)\r\n",
        "print(variable_78)\r\n",
        "print(variable_79)\r\n",
        "print(variable_80)\r\n",
        "print(variable_81)\r\n",
        "print(variable_82)\r\n",
        "print(variable_83)\r\n",
        "print(variable_84)\r\n",
        "print(variable_85)\r\n",
        "print(variable_86)\r\n",
        "print(variable_87)\r\n",
        "print(variable_88)\r\n",
        "print(variable_89)\r\n",
        "print(variable_90)\r\n",
        "print(variable_91)\r\n",
        "print(variable_92)\r\n"
      ],
      "execution_count": null,
      "outputs": [
        {
          "output_type": "stream",
          "text": [
            "1636\n",
            "1636\n",
            "262\n",
            "262\n",
            "94868\n",
            "94868\n",
            "327\n",
            "327\n",
            "2228\n",
            "2228\n",
            "683\n",
            "683\n",
            "532\n",
            "532\n",
            "95038\n",
            "95038\n",
            "271\n",
            "271\n",
            "1623\n",
            "1623\n",
            "4494\n",
            "4494\n",
            "104829\n"
          ],
          "name": "stdout"
        }
      ]
    },
    {
      "cell_type": "code",
      "metadata": {
        "id": "Ow0WyIWJS7GN"
      },
      "source": [
        "# substituir pela média no dataset.\r\n",
        "df['d1_diasbp_noninvasive_max'].fillna(df['d1_diasbp_noninvasive_max'].mean(), inplace = True)\r\n",
        "df['d1_diasbp_noninvasive_min'].fillna(df['d1_diasbp_noninvasive_min'].mean(), inplace = True)\r\n",
        "df['d1_heartrate_max'].fillna(df['d1_heartrate_max'].mean(), inplace = True)\r\n",
        "df['d1_heartrate_min'].fillna(df['d1_heartrate_min'].mean(), inplace = True)\r\n",
        "df['d1_mbp_invasive_max'].fillna(df['d1_mbp_invasive_max'].mean(), inplace = True)\r\n",
        "df['d1_mbp_invasive_min'].fillna(df['d1_mbp_invasive_min'].mean(), inplace = True)\r\n",
        "df['d1_mbp_max'].fillna(df['d1_mbp_max'].mean(), inplace = True)\r\n",
        "df['d1_mbp_min'].fillna(df['d1_mbp_min'].mean(), inplace = True)\r\n",
        "df['d1_mbp_noninvasive_max'].fillna(df['d1_mbp_noninvasive_max'].mean(), inplace = True)\r\n",
        "df['d1_mbp_noninvasive_min'].fillna(df['d1_mbp_noninvasive_min'].mean(), inplace = True)\r\n",
        "df['d1_resprate_max'].fillna(df['d1_resprate_max'].mean(), inplace = True)\r\n",
        "df['d1_resprate_min'].fillna(df['d1_resprate_min'].mean(), inplace = True)\r\n",
        "df['d1_spo2_max'].fillna(df['d1_spo2_max'].mean(), inplace = True)\r\n",
        "df['d1_spo2_min'].fillna(df['d1_spo2_min'].mean(), inplace = True)\r\n",
        "df['d1_sysbp_invasive_max'].fillna(df['d1_sysbp_invasive_max'].mean(), inplace = True)\r\n",
        "df['d1_sysbp_invasive_min'].fillna(df['d1_sysbp_invasive_min'].mean(), inplace = True)\r\n",
        "df['d1_sysbp_max'].fillna(df['d1_sysbp_max'].mean(), inplace = True)\r\n",
        "df['d1_sysbp_min'].fillna(df['d1_sysbp_min'].mean(), inplace = True)\r\n",
        "df['d1_sysbp_noninvasive_max'].fillna(df['d1_sysbp_noninvasive_max'].mean(), inplace = True)\r\n",
        "df['d1_sysbp_noninvasive_min'].fillna(df['d1_sysbp_noninvasive_min'].mean(), inplace = True)\r\n",
        "df['d1_temp_max'].fillna(df['d1_temp_max'].mean(), inplace = True)\r\n",
        "df['d1_temp_min'].fillna(df['d1_temp_min'].mean(), inplace = True)\r\n",
        "df['h1_diasbp_invasive_max'].fillna(df['h1_diasbp_invasive_max'].mean(), inplace = True)"
      ],
      "execution_count": null,
      "outputs": []
    },
    {
      "cell_type": "code",
      "metadata": {
        "id": "FFRomY_PTCwP",
        "colab": {
          "base_uri": "https://localhost:8080/"
        },
        "outputId": "00730014-b078-4acd-ce6a-01e5bbffe132"
      },
      "source": [
        "variable_93 = df['h1_diasbp_invasive_min'].isnull().sum()\r\n",
        "variable_94 = df['h1_diasbp_max'].isnull().sum()\r\n",
        "variable_95 = df['h1_diasbp_min'].isnull().sum()\r\n",
        "variable_96 = df['h1_diasbp_noninvasive_max'].isnull().sum()\r\n",
        "variable_97 = df['h1_diasbp_noninvasive_min'].isnull().sum()\r\n",
        "variable_98 = df['h1_heartrate_max'].isnull().sum()\r\n",
        "variable_99 = df['h1_heartrate_min'].isnull().sum()\r\n",
        "variable_100 = df['h1_mbp_invasive_max'].isnull().sum()\r\n",
        "variable_101 = df['h1_mbp_invasive_min'].isnull().sum()\r\n",
        "variable_102 = df['h1_mbp_max'].isnull().sum()\r\n",
        "variable_103 = df['h1_mbp_min'].isnull().sum()\r\n",
        "variable_104 = df['h1_mbp_noninvasive_max'].isnull().sum()\r\n",
        "variable_105 = df['h1_mbp_noninvasive_min'].isnull().sum()\r\n",
        "variable_106 = df['h1_resprate_max'].isnull().sum()\r\n",
        "variable_107 = df['h1_resprate_min'].isnull().sum()\r\n",
        "variable_108 = df['h1_spo2_max'].isnull().sum()\r\n",
        "variable_109 = df['h1_spo2_min'].isnull().sum()\r\n",
        "variable_110 = df['h1_sysbp_invasive_max'].isnull().sum()\r\n",
        "variable_111 = df['h1_sysbp_invasive_min'].isnull().sum()\r\n",
        "variable_112 = df['h1_sysbp_max'].isnull().sum()\r\n",
        "variable_113 = df['h1_sysbp_min'].isnull().sum()\r\n",
        "variable_114 = df['h1_sysbp_noninvasive_max'].isnull().sum()\r\n",
        "variable_115 = df['h1_sysbp_noninvasive_min'].isnull().sum()\r\n",
        "\r\n",
        "\r\n",
        "print(variable_93)\r\n",
        "print(variable_94)\r\n",
        "print(variable_95)\r\n",
        "print(variable_96)\r\n",
        "print(variable_97)\r\n",
        "print(variable_98)\r\n",
        "print(variable_99)\r\n",
        "print(variable_100)\r\n",
        "print(variable_101)\r\n",
        "print(variable_102)\r\n",
        "print(variable_103)\r\n",
        "print(variable_104)\r\n",
        "print(variable_105)\r\n",
        "print(variable_106)\r\n",
        "print(variable_107)\r\n",
        "print(variable_108)\r\n",
        "print(variable_109)\r\n",
        "print(variable_110)\r\n",
        "print(variable_111)\r\n",
        "print(variable_112)\r\n",
        "print(variable_113)\r\n",
        "print(variable_114)\r\n",
        "print(variable_115)\r\n"
      ],
      "execution_count": null,
      "outputs": [
        {
          "output_type": "stream",
          "text": [
            "104829\n",
            "5527\n",
            "5527\n",
            "0\n",
            "0\n",
            "0\n",
            "0\n",
            "0\n",
            "0\n",
            "0\n",
            "0\n",
            "0\n",
            "0\n",
            "0\n",
            "0\n",
            "0\n",
            "0\n",
            "0\n",
            "0\n",
            "0\n",
            "0\n",
            "0\n",
            "0\n"
          ],
          "name": "stdout"
        }
      ]
    },
    {
      "cell_type": "code",
      "metadata": {
        "id": "_ssqlmjiTJoZ"
      },
      "source": [
        "# substituir pela média no dataset.\r\n",
        "df['h1_diasbp_invasive_min'].fillna(df['h1_diasbp_invasive_min'].mean(), inplace = True)\r\n",
        "df['h1_diasbp_max'].fillna(df['h1_diasbp_max'].mean(), inplace = True)\r\n",
        "df['h1_diasbp_min'].fillna(df['h1_diasbp_min'].mean(), inplace = True)"
      ],
      "execution_count": null,
      "outputs": []
    },
    {
      "cell_type": "markdown",
      "metadata": {
        "id": "xpqeSvk-9rDE"
      },
      "source": [
        "\r\n",
        "# **Correlação entre as variáveis do banco**"
      ]
    },
    {
      "cell_type": "code",
      "metadata": {
        "id": "YlLt26BVuXf2"
      },
      "source": [
        "# Identificando a correlação entre as variáveis\r\n",
        "# Correlação não implica causalidade\r\n",
        "def plot_corr(df, size=10):\r\n",
        "  corr = df.corr()\r\n",
        "  fig, ax = plt.subplots(figsize = (size, size))\r\n",
        "  ax.matshow(corr)\r\n",
        "  plt.xticks(range(len(corr.columns)), corr.columns)\r\n",
        "  plt.yticks(range(len(corr.columns)), corr.columns)"
      ],
      "execution_count": null,
      "outputs": []
    },
    {
      "cell_type": "code",
      "metadata": {
        "colab": {
          "base_uri": "https://localhost:8080/",
          "height": 598
        },
        "id": "gIdV8d-resN0",
        "outputId": "5aa6bba9-43ce-4860-e32f-33fe6fb1b12a"
      },
      "source": [
        "# Criando o gráfico\r\n",
        "plot_corr(df)"
      ],
      "execution_count": null,
      "outputs": [
        {
          "output_type": "display_data",
          "data": {
            "image/png": "[encoded data removed]",
            "text/plain": [
              "<Figure size 720x720 with 1 Axes>"
            ]
          },
          "metadata": {
            "tags": [],
            "needs_background": "light"
          }
        }
      ]
    },
    {
      "cell_type": "code",
      "metadata": {
        "colab": {
          "base_uri": "https://localhost:8080/",
          "height": 456
        },
        "id": "SdQQYw8Ze8RE",
        "outputId": "efb548aa-7e45-4821-a054-ef019ecc5779"
      },
      "source": [
        "# Visualizando a correlação em tabela\r\n",
        "# Coeficiente de correlação\r\n",
        "# +1 = forte correlação positiva\r\n",
        "# 0 = não há correlação\r\n",
        "# -1 = forte correlação negativa\r\n",
        "df.corr()"
      ],
      "execution_count": null,
      "outputs": [
        {
          "output_type": "execute_result",
          "data": {
            "text/html": [
              "<div>\n",
              "<style scoped>\n",
              "    .dataframe tbody tr th:only-of-type {\n",
              "        vertical-align: middle;\n",
              "    }\n",
              "\n",
              "    .dataframe tbody tr th {\n",
              "        vertical-align: top;\n",
              "    }\n",
              "\n",
              "    .dataframe thead th {\n",
              "        text-align: right;\n",
              "    }\n",
              "</style>\n",
              "<table border=\"1\" class=\"dataframe\">\n",
              "  <thead>\n",
              "    <tr style=\"text-align: right;\">\n",
              "      <th></th>\n",
              "      <th>Unnamed: 0</th>\n",
              "      <th>encounter_id</th>\n",
              "      <th>hospital_id</th>\n",
              "      <th>age</th>\n",
              "      <th>elective_surgery</th>\n",
              "      <th>height</th>\n",
              "      <th>icu_id</th>\n",
              "      <th>pre_icu_los_days</th>\n",
              "      <th>readmission_status</th>\n",
              "      <th>weight</th>\n",
              "      <th>albumin_apache</th>\n",
              "      <th>apache_post_operative</th>\n",
              "      <th>arf_apache</th>\n",
              "      <th>bilirubin_apache</th>\n",
              "      <th>bun_apache</th>\n",
              "      <th>creatinine_apache</th>\n",
              "      <th>fio2_apache</th>\n",
              "      <th>gcs_eyes_apache</th>\n",
              "      <th>gcs_motor_apache</th>\n",
              "      <th>gcs_unable_apache</th>\n",
              "      <th>gcs_verbal_apache</th>\n",
              "      <th>glucose_apache</th>\n",
              "      <th>heart_rate_apache</th>\n",
              "      <th>hematocrit_apache</th>\n",
              "      <th>intubated_apache</th>\n",
              "      <th>map_apache</th>\n",
              "      <th>paco2_apache</th>\n",
              "      <th>paco2_for_ph_apache</th>\n",
              "      <th>pao2_apache</th>\n",
              "      <th>ph_apache</th>\n",
              "      <th>resprate_apache</th>\n",
              "      <th>sodium_apache</th>\n",
              "      <th>temp_apache</th>\n",
              "      <th>urineoutput_apache</th>\n",
              "      <th>ventilated_apache</th>\n",
              "      <th>wbc_apache</th>\n",
              "      <th>d1_diasbp_invasive_max</th>\n",
              "      <th>d1_diasbp_invasive_min</th>\n",
              "      <th>d1_diasbp_max</th>\n",
              "      <th>d1_diasbp_min</th>\n",
              "      <th>...</th>\n",
              "      <th>h1_hemaglobin_max</th>\n",
              "      <th>h1_hemaglobin_min</th>\n",
              "      <th>h1_hematocrit_max</th>\n",
              "      <th>h1_hematocrit_min</th>\n",
              "      <th>h1_inr_max</th>\n",
              "      <th>h1_inr_min</th>\n",
              "      <th>h1_lactate_max</th>\n",
              "      <th>h1_lactate_min</th>\n",
              "      <th>h1_platelets_max</th>\n",
              "      <th>h1_platelets_min</th>\n",
              "      <th>h1_potassium_max</th>\n",
              "      <th>h1_potassium_min</th>\n",
              "      <th>h1_sodium_max</th>\n",
              "      <th>h1_sodium_min</th>\n",
              "      <th>h1_wbc_max</th>\n",
              "      <th>h1_wbc_min</th>\n",
              "      <th>d1_arterial_pco2_max</th>\n",
              "      <th>d1_arterial_pco2_min</th>\n",
              "      <th>d1_arterial_ph_max</th>\n",
              "      <th>d1_arterial_ph_min</th>\n",
              "      <th>d1_arterial_po2_max</th>\n",
              "      <th>d1_arterial_po2_min</th>\n",
              "      <th>d1_pao2fio2ratio_max</th>\n",
              "      <th>d1_pao2fio2ratio_min</th>\n",
              "      <th>h1_arterial_pco2_max</th>\n",
              "      <th>h1_arterial_pco2_min</th>\n",
              "      <th>h1_arterial_ph_max</th>\n",
              "      <th>h1_arterial_ph_min</th>\n",
              "      <th>h1_arterial_po2_max</th>\n",
              "      <th>h1_arterial_po2_min</th>\n",
              "      <th>h1_pao2fio2ratio_max</th>\n",
              "      <th>h1_pao2fio2ratio_min</th>\n",
              "      <th>aids</th>\n",
              "      <th>cirrhosis</th>\n",
              "      <th>hepatic_failure</th>\n",
              "      <th>immunosuppression</th>\n",
              "      <th>leukemia</th>\n",
              "      <th>lymphoma</th>\n",
              "      <th>solid_tumor_with_metastasis</th>\n",
              "      <th>diabetes_mellitus</th>\n",
              "    </tr>\n",
              "  </thead>\n",
              "  <tbody>\n",
              "    <tr>\n",
              "      <th>Unnamed: 0</th>\n",
              "      <td>1.000000</td>\n",
              "      <td>-0.001862</td>\n",
              "      <td>-0.000194</td>\n",
              "      <td>-0.036989</td>\n",
              "      <td>-0.016849</td>\n",
              "      <td>0.008752</td>\n",
              "      <td>0.989875</td>\n",
              "      <td>-0.009097</td>\n",
              "      <td>NaN</td>\n",
              "      <td>0.000512</td>\n",
              "      <td>0.037177</td>\n",
              "      <td>-0.016019</td>\n",
              "      <td>-0.005982</td>\n",
              "      <td>0.010229</td>\n",
              "      <td>-0.010851</td>\n",
              "      <td>-0.004267</td>\n",
              "      <td>0.005350</td>\n",
              "      <td>0.014109</td>\n",
              "      <td>-0.000821</td>\n",
              "      <td>0.006288</td>\n",
              "      <td>0.008151</td>\n",
              "      <td>0.011157</td>\n",
              "      <td>0.017095</td>\n",
              "      <td>0.005721</td>\n",
              "      <td>-0.008316</td>\n",
              "      <td>-0.015341</td>\n",
              "      <td>0.003408</td>\n",
              "      <td>0.003408</td>\n",
              "      <td>0.009365</td>\n",
              "      <td>-0.012629</td>\n",
              "      <td>-0.017161</td>\n",
              "      <td>-0.034974</td>\n",
              "      <td>0.009793</td>\n",
              "      <td>0.059647</td>\n",
              "      <td>0.016015</td>\n",
              "      <td>0.016364</td>\n",
              "      <td>0.020322</td>\n",
              "      <td>0.020599</td>\n",
              "      <td>-0.004876</td>\n",
              "      <td>-0.017948</td>\n",
              "      <td>...</td>\n",
              "      <td>0.014053</td>\n",
              "      <td>0.021121</td>\n",
              "      <td>0.013857</td>\n",
              "      <td>0.019662</td>\n",
              "      <td>-0.012358</td>\n",
              "      <td>-0.017710</td>\n",
              "      <td>-0.007616</td>\n",
              "      <td>-0.007922</td>\n",
              "      <td>-0.003629</td>\n",
              "      <td>-0.004713</td>\n",
              "      <td>-0.005887</td>\n",
              "      <td>-0.000838</td>\n",
              "      <td>-0.017923</td>\n",
              "      <td>-0.014014</td>\n",
              "      <td>-0.001221</td>\n",
              "      <td>-0.002439</td>\n",
              "      <td>0.006954</td>\n",
              "      <td>0.018657</td>\n",
              "      <td>-0.020686</td>\n",
              "      <td>-0.010917</td>\n",
              "      <td>-0.019363</td>\n",
              "      <td>-0.005113</td>\n",
              "      <td>0.003778</td>\n",
              "      <td>0.003980</td>\n",
              "      <td>-0.000592</td>\n",
              "      <td>0.005574</td>\n",
              "      <td>-0.012394</td>\n",
              "      <td>-0.004630</td>\n",
              "      <td>-0.014682</td>\n",
              "      <td>0.006060</td>\n",
              "      <td>0.009058</td>\n",
              "      <td>0.013517</td>\n",
              "      <td>0.006372</td>\n",
              "      <td>-0.005301</td>\n",
              "      <td>0.000224</td>\n",
              "      <td>-0.019898</td>\n",
              "      <td>0.003937</td>\n",
              "      <td>-0.000596</td>\n",
              "      <td>-0.005415</td>\n",
              "      <td>-0.019601</td>\n",
              "    </tr>\n",
              "    <tr>\n",
              "      <th>encounter_id</th>\n",
              "      <td>-0.001862</td>\n",
              "      <td>1.000000</td>\n",
              "      <td>-0.001463</td>\n",
              "      <td>-0.001350</td>\n",
              "      <td>0.001618</td>\n",
              "      <td>0.001382</td>\n",
              "      <td>-0.001498</td>\n",
              "      <td>-0.001066</td>\n",
              "      <td>NaN</td>\n",
              "      <td>0.004378</td>\n",
              "      <td>0.001727</td>\n",
              "      <td>0.000235</td>\n",
              "      <td>-0.000847</td>\n",
              "      <td>-0.003587</td>\n",
              "      <td>0.000150</td>\n",
              "      <td>0.000152</td>\n",
              "      <td>0.000030</td>\n",
              "      <td>0.001553</td>\n",
              "      <td>0.003610</td>\n",
              "      <td>-0.003379</td>\n",
              "      <td>0.003620</td>\n",
              "      <td>0.000697</td>\n",
              "      <td>-0.003651</td>\n",
              "      <td>0.000948</td>\n",
              "      <td>-0.001683</td>\n",
              "      <td>-0.000002</td>\n",
              "      <td>0.006315</td>\n",
              "      <td>0.006315</td>\n",
              "      <td>-0.001894</td>\n",
              "      <td>-0.003029</td>\n",
              "      <td>-0.000320</td>\n",
              "      <td>-0.001337</td>\n",
              "      <td>-0.001851</td>\n",
              "      <td>0.004028</td>\n",
              "      <td>0.000895</td>\n",
              "      <td>0.002308</td>\n",
              "      <td>-0.000360</td>\n",
              "      <td>0.000341</td>\n",
              "      <td>-0.000159</td>\n",
              "      <td>0.002171</td>\n",
              "      <td>...</td>\n",
              "      <td>0.000699</td>\n",
              "      <td>0.001020</td>\n",
              "      <td>0.001139</td>\n",
              "      <td>0.001522</td>\n",
              "      <td>-0.005424</td>\n",
              "      <td>-0.003330</td>\n",
              "      <td>0.000638</td>\n",
              "      <td>0.000555</td>\n",
              "      <td>0.004814</td>\n",
              "      <td>0.004941</td>\n",
              "      <td>0.000326</td>\n",
              "      <td>-0.000101</td>\n",
              "      <td>-0.000022</td>\n",
              "      <td>0.000396</td>\n",
              "      <td>0.002898</td>\n",
              "      <td>0.002960</td>\n",
              "      <td>0.000565</td>\n",
              "      <td>0.002995</td>\n",
              "      <td>0.000573</td>\n",
              "      <td>0.000317</td>\n",
              "      <td>-0.003095</td>\n",
              "      <td>-0.003216</td>\n",
              "      <td>-0.000278</td>\n",
              "      <td>-0.001614</td>\n",
              "      <td>-0.000497</td>\n",
              "      <td>0.000096</td>\n",
              "      <td>-0.002290</td>\n",
              "      <td>-0.003041</td>\n",
              "      <td>0.002941</td>\n",
              "      <td>0.002757</td>\n",
              "      <td>-0.000209</td>\n",
              "      <td>-0.000571</td>\n",
              "      <td>0.002830</td>\n",
              "      <td>0.000727</td>\n",
              "      <td>-0.002442</td>\n",
              "      <td>-0.000217</td>\n",
              "      <td>-0.001831</td>\n",
              "      <td>0.002531</td>\n",
              "      <td>0.006676</td>\n",
              "      <td>-0.002007</td>\n",
              "    </tr>\n",
              "    <tr>\n",
              "      <th>hospital_id</th>\n",
              "      <td>-0.000194</td>\n",
              "      <td>-0.001463</td>\n",
              "      <td>1.000000</td>\n",
              "      <td>-0.019370</td>\n",
              "      <td>0.028321</td>\n",
              "      <td>0.022478</td>\n",
              "      <td>0.005414</td>\n",
              "      <td>-0.005174</td>\n",
              "      <td>NaN</td>\n",
              "      <td>0.015070</td>\n",
              "      <td>-0.004370</td>\n",
              "      <td>0.026420</td>\n",
              "      <td>0.001426</td>\n",
              "      <td>0.003382</td>\n",
              "      <td>-0.009668</td>\n",
              "      <td>0.000022</td>\n",
              "      <td>-0.010980</td>\n",
              "      <td>-0.007801</td>\n",
              "      <td>-0.013965</td>\n",
              "      <td>-0.031415</td>\n",
              "      <td>-0.012029</td>\n",
              "      <td>-0.003000</td>\n",
              "      <td>-0.001374</td>\n",
              "      <td>0.005315</td>\n",
              "      <td>0.009567</td>\n",
              "      <td>-0.005402</td>\n",
              "      <td>-0.014591</td>\n",
              "      <td>-0.014591</td>\n",
              "      <td>-0.011795</td>\n",
              "      <td>0.010542</td>\n",
              "      <td>-0.040556</td>\n",
              "      <td>0.022478</td>\n",
              "      <td>-0.019097</td>\n",
              "      <td>-0.019606</td>\n",
              "      <td>0.027235</td>\n",
              "      <td>-0.000756</td>\n",
              "      <td>-0.002778</td>\n",
              "      <td>0.018832</td>\n",
              "      <td>-0.028136</td>\n",
              "      <td>0.038957</td>\n",
              "      <td>...</td>\n",
              "      <td>0.005951</td>\n",
              "      <td>0.004597</td>\n",
              "      <td>0.009288</td>\n",
              "      <td>0.007396</td>\n",
              "      <td>-0.002976</td>\n",
              "      <td>-0.006038</td>\n",
              "      <td>-0.004312</td>\n",
              "      <td>-0.003578</td>\n",
              "      <td>-0.005178</td>\n",
              "      <td>-0.005411</td>\n",
              "      <td>-0.007091</td>\n",
              "      <td>-0.011836</td>\n",
              "      <td>0.020816</td>\n",
              "      <td>0.018597</td>\n",
              "      <td>-0.000283</td>\n",
              "      <td>-0.001116</td>\n",
              "      <td>-0.005381</td>\n",
              "      <td>-0.019858</td>\n",
              "      <td>0.024181</td>\n",
              "      <td>0.003110</td>\n",
              "      <td>-0.000387</td>\n",
              "      <td>-0.014958</td>\n",
              "      <td>0.015692</td>\n",
              "      <td>-0.005939</td>\n",
              "      <td>-0.011411</td>\n",
              "      <td>-0.012550</td>\n",
              "      <td>0.006529</td>\n",
              "      <td>0.006067</td>\n",
              "      <td>-0.008914</td>\n",
              "      <td>-0.014185</td>\n",
              "      <td>0.004047</td>\n",
              "      <td>0.000085</td>\n",
              "      <td>0.000956</td>\n",
              "      <td>0.002127</td>\n",
              "      <td>0.003403</td>\n",
              "      <td>-0.003745</td>\n",
              "      <td>0.002609</td>\n",
              "      <td>0.001734</td>\n",
              "      <td>-0.009420</td>\n",
              "      <td>0.001937</td>\n",
              "    </tr>\n",
              "    <tr>\n",
              "      <th>age</th>\n",
              "      <td>-0.036989</td>\n",
              "      <td>-0.001350</td>\n",
              "      <td>-0.019370</td>\n",
              "      <td>1.000000</td>\n",
              "      <td>0.057334</td>\n",
              "      <td>-0.109525</td>\n",
              "      <td>-0.035133</td>\n",
              "      <td>0.048539</td>\n",
              "      <td>NaN</td>\n",
              "      <td>-0.121448</td>\n",
              "      <td>-0.071230</td>\n",
              "      <td>0.050510</td>\n",
              "      <td>0.001281</td>\n",
              "      <td>-0.030558</td>\n",
              "      <td>0.206572</td>\n",
              "      <td>0.052231</td>\n",
              "      <td>0.012611</td>\n",
              "      <td>0.029565</td>\n",
              "      <td>0.026983</td>\n",
              "      <td>-0.002472</td>\n",
              "      <td>-0.009407</td>\n",
              "      <td>0.008900</td>\n",
              "      <td>-0.147377</td>\n",
              "      <td>-0.100118</td>\n",
              "      <td>0.004669</td>\n",
              "      <td>-0.019687</td>\n",
              "      <td>0.014634</td>\n",
              "      <td>0.014634</td>\n",
              "      <td>-0.014104</td>\n",
              "      <td>0.020129</td>\n",
              "      <td>0.031877</td>\n",
              "      <td>0.027835</td>\n",
              "      <td>-0.074786</td>\n",
              "      <td>-0.130302</td>\n",
              "      <td>0.032511</td>\n",
              "      <td>-0.010836</td>\n",
              "      <td>-0.086239</td>\n",
              "      <td>-0.116837</td>\n",
              "      <td>-0.056273</td>\n",
              "      <td>-0.209225</td>\n",
              "      <td>...</td>\n",
              "      <td>-0.056590</td>\n",
              "      <td>-0.056885</td>\n",
              "      <td>-0.047095</td>\n",
              "      <td>-0.047385</td>\n",
              "      <td>0.062609</td>\n",
              "      <td>0.069571</td>\n",
              "      <td>0.002148</td>\n",
              "      <td>0.002710</td>\n",
              "      <td>-0.038697</td>\n",
              "      <td>-0.038573</td>\n",
              "      <td>0.020211</td>\n",
              "      <td>0.019637</td>\n",
              "      <td>0.009301</td>\n",
              "      <td>0.008755</td>\n",
              "      <td>-0.022351</td>\n",
              "      <td>-0.021988</td>\n",
              "      <td>0.021974</td>\n",
              "      <td>0.030623</td>\n",
              "      <td>0.022899</td>\n",
              "      <td>0.027571</td>\n",
              "      <td>-0.017136</td>\n",
              "      <td>-0.028147</td>\n",
              "      <td>-0.066351</td>\n",
              "      <td>-0.058263</td>\n",
              "      <td>0.016703</td>\n",
              "      <td>0.014607</td>\n",
              "      <td>0.036347</td>\n",
              "      <td>0.033376</td>\n",
              "      <td>-0.000506</td>\n",
              "      <td>-0.009042</td>\n",
              "      <td>-0.032975</td>\n",
              "      <td>-0.034127</td>\n",
              "      <td>-0.028410</td>\n",
              "      <td>-0.025420</td>\n",
              "      <td>-0.019572</td>\n",
              "      <td>0.021863</td>\n",
              "      <td>0.028640</td>\n",
              "      <td>0.022629</td>\n",
              "      <td>0.026042</td>\n",
              "      <td>0.079893</td>\n",
              "    </tr>\n",
              "    <tr>\n",
              "      <th>elective_surgery</th>\n",
              "      <td>-0.016849</td>\n",
              "      <td>0.001618</td>\n",
              "      <td>0.028321</td>\n",
              "      <td>0.057334</td>\n",
              "      <td>1.000000</td>\n",
              "      <td>0.019810</td>\n",
              "      <td>-0.015269</td>\n",
              "      <td>0.125292</td>\n",
              "      <td>NaN</td>\n",
              "      <td>0.021638</td>\n",
              "      <td>-0.018517</td>\n",
              "      <td>0.909573</td>\n",
              "      <td>-0.025150</td>\n",
              "      <td>-0.007314</td>\n",
              "      <td>-0.146687</td>\n",
              "      <td>-0.093685</td>\n",
              "      <td>-0.006939</td>\n",
              "      <td>0.027494</td>\n",
              "      <td>0.033999</td>\n",
              "      <td>0.034328</td>\n",
              "      <td>0.013228</td>\n",
              "      <td>-0.031258</td>\n",
              "      <td>-0.077761</td>\n",
              "      <td>-0.104452</td>\n",
              "      <td>0.156368</td>\n",
              "      <td>-0.000773</td>\n",
              "      <td>-0.027719</td>\n",
              "      <td>-0.027719</td>\n",
              "      <td>0.037066</td>\n",
              "      <td>0.025240</td>\n",
              "      <td>-0.161254</td>\n",
              "      <td>0.045607</td>\n",
              "      <td>-0.038929</td>\n",
              "      <td>0.028193</td>\n",
              "      <td>0.138293</td>\n",
              "      <td>0.069887</td>\n",
              "      <td>0.000150</td>\n",
              "      <td>-0.008752</td>\n",
              "      <td>-0.189109</td>\n",
              "      <td>0.002115</td>\n",
              "      <td>...</td>\n",
              "      <td>-0.054019</td>\n",
              "      <td>-0.071887</td>\n",
              "      <td>-0.072925</td>\n",
              "      <td>-0.095547</td>\n",
              "      <td>-0.071738</td>\n",
              "      <td>-0.080845</td>\n",
              "      <td>-0.005707</td>\n",
              "      <td>-0.007441</td>\n",
              "      <td>-0.119179</td>\n",
              "      <td>-0.122147</td>\n",
              "      <td>-0.025667</td>\n",
              "      <td>-0.046048</td>\n",
              "      <td>0.100945</td>\n",
              "      <td>0.085338</td>\n",
              "      <td>0.043785</td>\n",
              "      <td>0.041591</td>\n",
              "      <td>-0.014520</td>\n",
              "      <td>-0.036899</td>\n",
              "      <td>0.044699</td>\n",
              "      <td>0.010358</td>\n",
              "      <td>0.122950</td>\n",
              "      <td>0.024772</td>\n",
              "      <td>0.062251</td>\n",
              "      <td>0.014737</td>\n",
              "      <td>-0.045937</td>\n",
              "      <td>-0.065694</td>\n",
              "      <td>0.096211</td>\n",
              "      <td>0.070194</td>\n",
              "      <td>0.138861</td>\n",
              "      <td>0.088113</td>\n",
              "      <td>0.027241</td>\n",
              "      <td>0.019101</td>\n",
              "      <td>-0.008820</td>\n",
              "      <td>-0.030267</td>\n",
              "      <td>-0.032311</td>\n",
              "      <td>-0.012172</td>\n",
              "      <td>-0.016686</td>\n",
              "      <td>-0.005905</td>\n",
              "      <td>0.021358</td>\n",
              "      <td>-0.004910</td>\n",
              "    </tr>\n",
              "    <tr>\n",
              "      <th>...</th>\n",
              "      <td>...</td>\n",
              "      <td>...</td>\n",
              "      <td>...</td>\n",
              "      <td>...</td>\n",
              "      <td>...</td>\n",
              "      <td>...</td>\n",
              "      <td>...</td>\n",
              "      <td>...</td>\n",
              "      <td>...</td>\n",
              "      <td>...</td>\n",
              "      <td>...</td>\n",
              "      <td>...</td>\n",
              "      <td>...</td>\n",
              "      <td>...</td>\n",
              "      <td>...</td>\n",
              "      <td>...</td>\n",
              "      <td>...</td>\n",
              "      <td>...</td>\n",
              "      <td>...</td>\n",
              "      <td>...</td>\n",
              "      <td>...</td>\n",
              "      <td>...</td>\n",
              "      <td>...</td>\n",
              "      <td>...</td>\n",
              "      <td>...</td>\n",
              "      <td>...</td>\n",
              "      <td>...</td>\n",
              "      <td>...</td>\n",
              "      <td>...</td>\n",
              "      <td>...</td>\n",
              "      <td>...</td>\n",
              "      <td>...</td>\n",
              "      <td>...</td>\n",
              "      <td>...</td>\n",
              "      <td>...</td>\n",
              "      <td>...</td>\n",
              "      <td>...</td>\n",
              "      <td>...</td>\n",
              "      <td>...</td>\n",
              "      <td>...</td>\n",
              "      <td>...</td>\n",
              "      <td>...</td>\n",
              "      <td>...</td>\n",
              "      <td>...</td>\n",
              "      <td>...</td>\n",
              "      <td>...</td>\n",
              "      <td>...</td>\n",
              "      <td>...</td>\n",
              "      <td>...</td>\n",
              "      <td>...</td>\n",
              "      <td>...</td>\n",
              "      <td>...</td>\n",
              "      <td>...</td>\n",
              "      <td>...</td>\n",
              "      <td>...</td>\n",
              "      <td>...</td>\n",
              "      <td>...</td>\n",
              "      <td>...</td>\n",
              "      <td>...</td>\n",
              "      <td>...</td>\n",
              "      <td>...</td>\n",
              "      <td>...</td>\n",
              "      <td>...</td>\n",
              "      <td>...</td>\n",
              "      <td>...</td>\n",
              "      <td>...</td>\n",
              "      <td>...</td>\n",
              "      <td>...</td>\n",
              "      <td>...</td>\n",
              "      <td>...</td>\n",
              "      <td>...</td>\n",
              "      <td>...</td>\n",
              "      <td>...</td>\n",
              "      <td>...</td>\n",
              "      <td>...</td>\n",
              "      <td>...</td>\n",
              "      <td>...</td>\n",
              "      <td>...</td>\n",
              "      <td>...</td>\n",
              "      <td>...</td>\n",
              "      <td>...</td>\n",
              "    </tr>\n",
              "    <tr>\n",
              "      <th>immunosuppression</th>\n",
              "      <td>-0.019898</td>\n",
              "      <td>-0.000217</td>\n",
              "      <td>-0.003745</td>\n",
              "      <td>0.021863</td>\n",
              "      <td>-0.012172</td>\n",
              "      <td>0.000806</td>\n",
              "      <td>-0.021252</td>\n",
              "      <td>0.038840</td>\n",
              "      <td>NaN</td>\n",
              "      <td>-0.028541</td>\n",
              "      <td>-0.055609</td>\n",
              "      <td>-0.011624</td>\n",
              "      <td>0.000136</td>\n",
              "      <td>0.011849</td>\n",
              "      <td>0.014954</td>\n",
              "      <td>-0.003585</td>\n",
              "      <td>0.002633</td>\n",
              "      <td>0.018454</td>\n",
              "      <td>0.019333</td>\n",
              "      <td>-0.007794</td>\n",
              "      <td>0.020903</td>\n",
              "      <td>-0.005182</td>\n",
              "      <td>0.057498</td>\n",
              "      <td>-0.077374</td>\n",
              "      <td>-0.009663</td>\n",
              "      <td>-0.016220</td>\n",
              "      <td>-0.006082</td>\n",
              "      <td>-0.006082</td>\n",
              "      <td>-0.002467</td>\n",
              "      <td>0.001521</td>\n",
              "      <td>0.029917</td>\n",
              "      <td>-0.026753</td>\n",
              "      <td>0.010330</td>\n",
              "      <td>-0.008571</td>\n",
              "      <td>-0.006194</td>\n",
              "      <td>-0.030868</td>\n",
              "      <td>-0.001937</td>\n",
              "      <td>-0.003573</td>\n",
              "      <td>-0.010919</td>\n",
              "      <td>-0.015249</td>\n",
              "      <td>...</td>\n",
              "      <td>-0.029863</td>\n",
              "      <td>-0.026915</td>\n",
              "      <td>-0.028272</td>\n",
              "      <td>-0.025449</td>\n",
              "      <td>0.022406</td>\n",
              "      <td>0.024300</td>\n",
              "      <td>0.000480</td>\n",
              "      <td>0.000601</td>\n",
              "      <td>-0.011273</td>\n",
              "      <td>-0.010818</td>\n",
              "      <td>0.000506</td>\n",
              "      <td>0.001795</td>\n",
              "      <td>-0.018972</td>\n",
              "      <td>-0.018541</td>\n",
              "      <td>-0.016034</td>\n",
              "      <td>-0.015825</td>\n",
              "      <td>-0.011758</td>\n",
              "      <td>-0.008808</td>\n",
              "      <td>0.002934</td>\n",
              "      <td>0.008262</td>\n",
              "      <td>-0.013095</td>\n",
              "      <td>-0.003624</td>\n",
              "      <td>-0.006561</td>\n",
              "      <td>-0.002646</td>\n",
              "      <td>-0.007946</td>\n",
              "      <td>-0.006305</td>\n",
              "      <td>0.005937</td>\n",
              "      <td>0.007922</td>\n",
              "      <td>-0.014631</td>\n",
              "      <td>-0.010702</td>\n",
              "      <td>-0.005324</td>\n",
              "      <td>-0.004368</td>\n",
              "      <td>0.017513</td>\n",
              "      <td>0.000879</td>\n",
              "      <td>0.002754</td>\n",
              "      <td>1.000000</td>\n",
              "      <td>0.130967</td>\n",
              "      <td>0.100071</td>\n",
              "      <td>0.277214</td>\n",
              "      <td>-0.003022</td>\n",
              "    </tr>\n",
              "    <tr>\n",
              "      <th>leukemia</th>\n",
              "      <td>0.003937</td>\n",
              "      <td>-0.001831</td>\n",
              "      <td>0.002609</td>\n",
              "      <td>0.028640</td>\n",
              "      <td>-0.016686</td>\n",
              "      <td>0.003428</td>\n",
              "      <td>0.003795</td>\n",
              "      <td>0.055669</td>\n",
              "      <td>NaN</td>\n",
              "      <td>-0.012293</td>\n",
              "      <td>-0.027213</td>\n",
              "      <td>-0.014462</td>\n",
              "      <td>0.011689</td>\n",
              "      <td>0.007266</td>\n",
              "      <td>0.028112</td>\n",
              "      <td>0.017840</td>\n",
              "      <td>0.005380</td>\n",
              "      <td>0.001588</td>\n",
              "      <td>0.004409</td>\n",
              "      <td>-0.004951</td>\n",
              "      <td>0.005585</td>\n",
              "      <td>-0.005655</td>\n",
              "      <td>0.021112</td>\n",
              "      <td>-0.060487</td>\n",
              "      <td>-0.003959</td>\n",
              "      <td>-0.016951</td>\n",
              "      <td>-0.005945</td>\n",
              "      <td>-0.005945</td>\n",
              "      <td>-0.003987</td>\n",
              "      <td>-0.001450</td>\n",
              "      <td>0.019529</td>\n",
              "      <td>-0.010451</td>\n",
              "      <td>0.008708</td>\n",
              "      <td>0.001176</td>\n",
              "      <td>-0.001772</td>\n",
              "      <td>0.012932</td>\n",
              "      <td>-0.008892</td>\n",
              "      <td>-0.008386</td>\n",
              "      <td>-0.010308</td>\n",
              "      <td>-0.023672</td>\n",
              "      <td>...</td>\n",
              "      <td>-0.030710</td>\n",
              "      <td>-0.029469</td>\n",
              "      <td>-0.032461</td>\n",
              "      <td>-0.030207</td>\n",
              "      <td>0.007770</td>\n",
              "      <td>0.010012</td>\n",
              "      <td>-0.000846</td>\n",
              "      <td>-0.001191</td>\n",
              "      <td>-0.027396</td>\n",
              "      <td>-0.027071</td>\n",
              "      <td>-0.002413</td>\n",
              "      <td>-0.001570</td>\n",
              "      <td>-0.003319</td>\n",
              "      <td>-0.003114</td>\n",
              "      <td>0.005261</td>\n",
              "      <td>0.005540</td>\n",
              "      <td>-0.008853</td>\n",
              "      <td>-0.013250</td>\n",
              "      <td>0.004807</td>\n",
              "      <td>0.001028</td>\n",
              "      <td>-0.005079</td>\n",
              "      <td>-0.005067</td>\n",
              "      <td>-0.006055</td>\n",
              "      <td>-0.004859</td>\n",
              "      <td>-0.004163</td>\n",
              "      <td>-0.004164</td>\n",
              "      <td>0.003691</td>\n",
              "      <td>0.003277</td>\n",
              "      <td>-0.005641</td>\n",
              "      <td>-0.004041</td>\n",
              "      <td>-0.000697</td>\n",
              "      <td>-0.000357</td>\n",
              "      <td>-0.002754</td>\n",
              "      <td>-0.003796</td>\n",
              "      <td>0.000052</td>\n",
              "      <td>0.130967</td>\n",
              "      <td>1.000000</td>\n",
              "      <td>0.029363</td>\n",
              "      <td>0.008315</td>\n",
              "      <td>0.003574</td>\n",
              "    </tr>\n",
              "    <tr>\n",
              "      <th>lymphoma</th>\n",
              "      <td>-0.000596</td>\n",
              "      <td>0.002531</td>\n",
              "      <td>0.001734</td>\n",
              "      <td>0.022629</td>\n",
              "      <td>-0.005905</td>\n",
              "      <td>0.003781</td>\n",
              "      <td>-0.000570</td>\n",
              "      <td>0.016220</td>\n",
              "      <td>NaN</td>\n",
              "      <td>-0.007873</td>\n",
              "      <td>-0.015261</td>\n",
              "      <td>-0.007010</td>\n",
              "      <td>-0.000908</td>\n",
              "      <td>0.004394</td>\n",
              "      <td>0.008998</td>\n",
              "      <td>-0.001920</td>\n",
              "      <td>0.008143</td>\n",
              "      <td>0.009449</td>\n",
              "      <td>0.006981</td>\n",
              "      <td>-0.000226</td>\n",
              "      <td>0.006891</td>\n",
              "      <td>-0.003160</td>\n",
              "      <td>0.016493</td>\n",
              "      <td>-0.023662</td>\n",
              "      <td>-0.002082</td>\n",
              "      <td>-0.012253</td>\n",
              "      <td>0.000360</td>\n",
              "      <td>0.000360</td>\n",
              "      <td>-0.001874</td>\n",
              "      <td>-0.001679</td>\n",
              "      <td>0.010527</td>\n",
              "      <td>-0.007500</td>\n",
              "      <td>-0.000405</td>\n",
              "      <td>-0.001351</td>\n",
              "      <td>-0.002804</td>\n",
              "      <td>-0.013284</td>\n",
              "      <td>-0.002179</td>\n",
              "      <td>-0.003327</td>\n",
              "      <td>-0.009822</td>\n",
              "      <td>-0.011952</td>\n",
              "      <td>...</td>\n",
              "      <td>-0.011157</td>\n",
              "      <td>-0.010535</td>\n",
              "      <td>-0.010911</td>\n",
              "      <td>-0.010275</td>\n",
              "      <td>0.006869</td>\n",
              "      <td>0.005472</td>\n",
              "      <td>0.000846</td>\n",
              "      <td>0.000966</td>\n",
              "      <td>-0.011521</td>\n",
              "      <td>-0.011762</td>\n",
              "      <td>0.003106</td>\n",
              "      <td>0.003898</td>\n",
              "      <td>-0.008881</td>\n",
              "      <td>-0.008931</td>\n",
              "      <td>-0.009443</td>\n",
              "      <td>-0.009587</td>\n",
              "      <td>0.001550</td>\n",
              "      <td>-0.002466</td>\n",
              "      <td>0.001499</td>\n",
              "      <td>-0.003716</td>\n",
              "      <td>-0.006855</td>\n",
              "      <td>-0.004036</td>\n",
              "      <td>-0.004525</td>\n",
              "      <td>-0.003042</td>\n",
              "      <td>-0.002959</td>\n",
              "      <td>-0.003051</td>\n",
              "      <td>0.005326</td>\n",
              "      <td>0.006045</td>\n",
              "      <td>-0.006699</td>\n",
              "      <td>-0.005277</td>\n",
              "      <td>0.001618</td>\n",
              "      <td>0.001865</td>\n",
              "      <td>0.012759</td>\n",
              "      <td>-0.000723</td>\n",
              "      <td>-0.000423</td>\n",
              "      <td>0.100071</td>\n",
              "      <td>0.029363</td>\n",
              "      <td>1.000000</td>\n",
              "      <td>0.017183</td>\n",
              "      <td>-0.000253</td>\n",
              "    </tr>\n",
              "    <tr>\n",
              "      <th>solid_tumor_with_metastasis</th>\n",
              "      <td>-0.005415</td>\n",
              "      <td>0.006676</td>\n",
              "      <td>-0.009420</td>\n",
              "      <td>0.026042</td>\n",
              "      <td>0.021358</td>\n",
              "      <td>0.004339</td>\n",
              "      <td>-0.005885</td>\n",
              "      <td>0.033236</td>\n",
              "      <td>NaN</td>\n",
              "      <td>-0.037175</td>\n",
              "      <td>-0.055820</td>\n",
              "      <td>0.018298</td>\n",
              "      <td>-0.010099</td>\n",
              "      <td>0.017202</td>\n",
              "      <td>0.005561</td>\n",
              "      <td>-0.014662</td>\n",
              "      <td>0.001314</td>\n",
              "      <td>0.013607</td>\n",
              "      <td>0.015664</td>\n",
              "      <td>0.002088</td>\n",
              "      <td>0.015378</td>\n",
              "      <td>-0.008442</td>\n",
              "      <td>0.037216</td>\n",
              "      <td>-0.054489</td>\n",
              "      <td>-0.013475</td>\n",
              "      <td>-0.010587</td>\n",
              "      <td>-0.008714</td>\n",
              "      <td>-0.008714</td>\n",
              "      <td>0.001892</td>\n",
              "      <td>0.000040</td>\n",
              "      <td>0.005435</td>\n",
              "      <td>-0.025286</td>\n",
              "      <td>-0.000157</td>\n",
              "      <td>-0.013433</td>\n",
              "      <td>-0.016209</td>\n",
              "      <td>-0.003584</td>\n",
              "      <td>0.011390</td>\n",
              "      <td>0.008173</td>\n",
              "      <td>-0.019209</td>\n",
              "      <td>-0.007085</td>\n",
              "      <td>...</td>\n",
              "      <td>-0.017669</td>\n",
              "      <td>-0.015791</td>\n",
              "      <td>-0.015484</td>\n",
              "      <td>-0.013163</td>\n",
              "      <td>0.011074</td>\n",
              "      <td>0.012351</td>\n",
              "      <td>0.005587</td>\n",
              "      <td>0.006076</td>\n",
              "      <td>0.002147</td>\n",
              "      <td>0.002418</td>\n",
              "      <td>0.008181</td>\n",
              "      <td>0.010282</td>\n",
              "      <td>-0.019378</td>\n",
              "      <td>-0.018091</td>\n",
              "      <td>-0.003768</td>\n",
              "      <td>-0.003583</td>\n",
              "      <td>-0.013149</td>\n",
              "      <td>-0.007556</td>\n",
              "      <td>-0.002958</td>\n",
              "      <td>0.003387</td>\n",
              "      <td>-0.005914</td>\n",
              "      <td>0.006131</td>\n",
              "      <td>-0.000595</td>\n",
              "      <td>0.007642</td>\n",
              "      <td>-0.006415</td>\n",
              "      <td>-0.004818</td>\n",
              "      <td>-0.004783</td>\n",
              "      <td>-0.003329</td>\n",
              "      <td>-0.006018</td>\n",
              "      <td>-0.001907</td>\n",
              "      <td>0.002182</td>\n",
              "      <td>0.002533</td>\n",
              "      <td>-0.001331</td>\n",
              "      <td>-0.002840</td>\n",
              "      <td>0.005150</td>\n",
              "      <td>0.277214</td>\n",
              "      <td>0.008315</td>\n",
              "      <td>0.017183</td>\n",
              "      <td>1.000000</td>\n",
              "      <td>-0.013190</td>\n",
              "    </tr>\n",
              "    <tr>\n",
              "      <th>diabetes_mellitus</th>\n",
              "      <td>-0.019601</td>\n",
              "      <td>-0.002007</td>\n",
              "      <td>0.001937</td>\n",
              "      <td>0.079893</td>\n",
              "      <td>-0.004910</td>\n",
              "      <td>-0.004274</td>\n",
              "      <td>-0.016913</td>\n",
              "      <td>0.022141</td>\n",
              "      <td>NaN</td>\n",
              "      <td>0.153479</td>\n",
              "      <td>-0.015832</td>\n",
              "      <td>-0.011761</td>\n",
              "      <td>0.108469</td>\n",
              "      <td>-0.025091</td>\n",
              "      <td>0.131911</td>\n",
              "      <td>0.113704</td>\n",
              "      <td>-0.006209</td>\n",
              "      <td>0.021948</td>\n",
              "      <td>0.021701</td>\n",
              "      <td>-0.012548</td>\n",
              "      <td>0.018025</td>\n",
              "      <td>0.343609</td>\n",
              "      <td>-0.016487</td>\n",
              "      <td>-0.047780</td>\n",
              "      <td>-0.000318</td>\n",
              "      <td>0.002364</td>\n",
              "      <td>0.003909</td>\n",
              "      <td>0.003909</td>\n",
              "      <td>-0.018671</td>\n",
              "      <td>-0.010164</td>\n",
              "      <td>-0.006716</td>\n",
              "      <td>-0.038495</td>\n",
              "      <td>-0.005996</td>\n",
              "      <td>0.010353</td>\n",
              "      <td>0.011903</td>\n",
              "      <td>0.005981</td>\n",
              "      <td>-0.029197</td>\n",
              "      <td>-0.044333</td>\n",
              "      <td>-0.016343</td>\n",
              "      <td>-0.049891</td>\n",
              "      <td>...</td>\n",
              "      <td>-0.029560</td>\n",
              "      <td>-0.030506</td>\n",
              "      <td>-0.024793</td>\n",
              "      <td>-0.023746</td>\n",
              "      <td>0.013677</td>\n",
              "      <td>0.017347</td>\n",
              "      <td>0.000398</td>\n",
              "      <td>0.000354</td>\n",
              "      <td>0.012658</td>\n",
              "      <td>0.012917</td>\n",
              "      <td>0.047577</td>\n",
              "      <td>0.047162</td>\n",
              "      <td>-0.019752</td>\n",
              "      <td>-0.018981</td>\n",
              "      <td>0.006807</td>\n",
              "      <td>0.006680</td>\n",
              "      <td>0.001641</td>\n",
              "      <td>0.002329</td>\n",
              "      <td>-0.014049</td>\n",
              "      <td>-0.019270</td>\n",
              "      <td>-0.018443</td>\n",
              "      <td>-0.021781</td>\n",
              "      <td>-0.008078</td>\n",
              "      <td>-0.010577</td>\n",
              "      <td>-0.000500</td>\n",
              "      <td>-0.002260</td>\n",
              "      <td>-0.012636</td>\n",
              "      <td>-0.014747</td>\n",
              "      <td>-0.012881</td>\n",
              "      <td>-0.017786</td>\n",
              "      <td>-0.012300</td>\n",
              "      <td>-0.013894</td>\n",
              "      <td>-0.010464</td>\n",
              "      <td>0.015179</td>\n",
              "      <td>0.009535</td>\n",
              "      <td>-0.003022</td>\n",
              "      <td>0.003574</td>\n",
              "      <td>-0.000253</td>\n",
              "      <td>-0.013190</td>\n",
              "      <td>1.000000</td>\n",
              "    </tr>\n",
              "  </tbody>\n",
              "</table>\n",
              "<p>172 rows × 172 columns</p>\n",
              "</div>"
            ],
            "text/plain": [
              "                             Unnamed: 0  ...  diabetes_mellitus\n",
              "Unnamed: 0                     1.000000  ...          -0.019601\n",
              "encounter_id                  -0.001862  ...          -0.002007\n",
              "hospital_id                   -0.000194  ...           0.001937\n",
              "age                           -0.036989  ...           0.079893\n",
              "elective_surgery              -0.016849  ...          -0.004910\n",
              "...                                 ...  ...                ...\n",
              "immunosuppression             -0.019898  ...          -0.003022\n",
              "leukemia                       0.003937  ...           0.003574\n",
              "lymphoma                      -0.000596  ...          -0.000253\n",
              "solid_tumor_with_metastasis   -0.005415  ...          -0.013190\n",
              "diabetes_mellitus             -0.019601  ...           1.000000\n",
              "\n",
              "[172 rows x 172 columns]"
            ]
          },
          "metadata": {
            "tags": []
          },
          "execution_count": 208
        }
      ]
    },
    {
      "cell_type": "code",
      "metadata": {
        "colab": {
          "base_uri": "https://localhost:8080/"
        },
        "id": "ILKSveO9fV7E",
        "outputId": "9e8e71df-79a3-4242-e002-a52372286332"
      },
      "source": [
        "# Verificando como os dados estão distribuídos\r\n",
        "num_true = len(df.loc[df['diabetes_mellitus'] == True])\r\n",
        "num_false = len(df.loc[df['diabetes_mellitus'] == False])\r\n",
        "print(\"Número de casos verdadeiros: {0} ({1:2.2f}%)\".format(num_true, (num_true/ (num_true + num_false))*100))\r\n",
        "print(\"Número de casos falsos: {0} ({1:2.2f}%)\".format(num_false, (num_false/ (num_true + num_false))*100))"
      ],
      "execution_count": null,
      "outputs": [
        {
          "output_type": "stream",
          "text": [
            "Número de casos verdadeiros: 28151 (21.63%)\n",
            "Número de casos falsos: 102006 (78.37%)\n"
          ],
          "name": "stdout"
        }
      ]
    },
    {
      "cell_type": "markdown",
      "metadata": {
        "id": "U2cY-aWjkKvR"
      },
      "source": [
        "# **Spliting**"
      ]
    },
    {
      "cell_type": "markdown",
      "metadata": {
        "id": "HY9LWP1ZkoZl"
      },
      "source": [
        "70% para dados de treino e 30% para dados de teste"
      ]
    },
    {
      "cell_type": "code",
      "metadata": {
        "id": "nYZBnDtNfn6Z"
      },
      "source": [
        "from sklearn.model_selection import train_test_split"
      ],
      "execution_count": null,
      "outputs": []
    },
    {
      "cell_type": "code",
      "metadata": {
        "id": "QTXfxgTvlQmW"
      },
      "source": [
        "# Seleção de variáveis preditoras (Feature Selection)\r\n",
        "atributos = ['hospital_id', 'age', 'pre_icu_los_days', 'weight', 'arf_apache', 'bun_apache', 'creatinine_apache', 'gcs_eyes_apache', 'gcs_motor_apache', 'gcs_verbal_apache', 'glucose_apache', 'map_apache', 'paco2_apache', 'paco2_for_ph_apache', 'urineoutput_apache', 'ventilated_apache', 'wbc_apache', 'h1_inr_max', 'h1_inr_min', 'h1_lactate_max', 'h1_lactate_min', 'h1_platelets_max', 'h1_platelets_min', 'h1_potassium_max', 'h1_potassium_min', 'h1_wbc_max', 'h1_wbc_min', 'd1_arterial_pco2_max', 'd1_arterial_pco2_min', 'cirrhosis', 'hepatic_failure', 'leukemia']"
      ],
      "execution_count": null,
      "outputs": []
    },
    {
      "cell_type": "code",
      "metadata": {
        "id": "2eDDHlzWwq9i"
      },
      "source": [
        "# Variável a ser prevista\r\n",
        "atrib_prev = ['diabetes_mellitus']"
      ],
      "execution_count": null,
      "outputs": []
    },
    {
      "cell_type": "code",
      "metadata": {
        "id": "RG4mrTCZx0Sm"
      },
      "source": [
        "# Criando objetos\r\n",
        "X = df[atributos].values\r\n",
        "Y = df[atrib_prev].values"
      ],
      "execution_count": null,
      "outputs": []
    },
    {
      "cell_type": "code",
      "metadata": {
        "colab": {
          "base_uri": "https://localhost:8080/"
        },
        "id": "8wwDxDRjzGck",
        "outputId": "af0cb10e-c651-49db-e0d1-e8b9b7a74fcb"
      },
      "source": [
        "X"
      ],
      "execution_count": null,
      "outputs": [
        {
          "output_type": "execute_result",
          "data": {
            "text/plain": [
              "array([[1.18000000e+02, 6.80000000e+01, 5.41666667e-01, ...,\n",
              "        0.00000000e+00, 0.00000000e+00, 0.00000000e+00],\n",
              "       [8.10000000e+01, 7.70000000e+01, 9.27777778e-01, ...,\n",
              "        0.00000000e+00, 0.00000000e+00, 0.00000000e+00],\n",
              "       [1.18000000e+02, 2.50000000e+01, 6.94444000e-04, ...,\n",
              "        0.00000000e+00, 0.00000000e+00, 0.00000000e+00],\n",
              "       ...,\n",
              "       [7.00000000e+00, 7.30000000e+01, 1.43055556e-01, ...,\n",
              "        0.00000000e+00, 0.00000000e+00, 0.00000000e+00],\n",
              "       [1.70000000e+02, 8.10000000e+01, 1.88194444e-01, ...,\n",
              "        0.00000000e+00, 0.00000000e+00, 0.00000000e+00],\n",
              "       [7.00000000e+00, 3.50000000e+01, 7.50000000e-02, ...,\n",
              "        0.00000000e+00, 0.00000000e+00, 0.00000000e+00]])"
            ]
          },
          "metadata": {
            "tags": []
          },
          "execution_count": 214
        }
      ]
    },
    {
      "cell_type": "code",
      "metadata": {
        "colab": {
          "base_uri": "https://localhost:8080/"
        },
        "id": "VjK3jSxHzHcd",
        "outputId": "a5883e2c-c4d6-4e2b-8d06-b8b10d8f74ba"
      },
      "source": [
        "Y"
      ],
      "execution_count": null,
      "outputs": [
        {
          "output_type": "execute_result",
          "data": {
            "text/plain": [
              "array([[1],\n",
              "       [1],\n",
              "       [0],\n",
              "       ...,\n",
              "       [1],\n",
              "       [0],\n",
              "       [0]])"
            ]
          },
          "metadata": {
            "tags": []
          },
          "execution_count": 215
        }
      ]
    },
    {
      "cell_type": "code",
      "metadata": {
        "id": "feTPR3SPzJsR"
      },
      "source": [
        "# Definindo a taxa de split\r\n",
        "split_test_size = 0.30"
      ],
      "execution_count": null,
      "outputs": []
    },
    {
      "cell_type": "code",
      "metadata": {
        "id": "M8MlsEJt2AJ7"
      },
      "source": [
        "# Criando dados de treino e de teste\r\n",
        "X_treino, X_teste, Y_treino, Y_teste = train_test_split(X, Y, test_size = split_test_size, random_state = 42)"
      ],
      "execution_count": null,
      "outputs": []
    },
    {
      "cell_type": "code",
      "metadata": {
        "colab": {
          "base_uri": "https://localhost:8080/"
        },
        "id": "Ai_lntXM3Gxf",
        "outputId": "bc03eaf3-a4f2-4ce5-cb13-24c075f424c0"
      },
      "source": [
        "# Imprimindo os resultados\r\n",
        "print(\"{0:0.2f}% nos dados de treino\".format((len(X_treino)/len(df.index))*100))\r\n",
        "print(\"{0:0.2f}% nos dados de teste\".format((len(X_teste)/len(df.index))*100))"
      ],
      "execution_count": null,
      "outputs": [
        {
          "output_type": "stream",
          "text": [
            "70.00% nos dados de treino\n",
            "30.00% nos dados de teste\n"
          ],
          "name": "stdout"
        }
      ]
    },
    {
      "cell_type": "code",
      "metadata": {
        "colab": {
          "base_uri": "https://localhost:8080/"
        },
        "id": "TS-xyXlq4bK_",
        "outputId": "0b3acb3e-d79f-41bf-9a41-3975977edaf3"
      },
      "source": [
        "X_treino"
      ],
      "execution_count": null,
      "outputs": [
        {
          "output_type": "execute_result",
          "data": {
            "text/plain": [
              "array([[1.95000000e+02, 6.10000000e+01, 1.29861111e-01, ...,\n",
              "        0.00000000e+00, 0.00000000e+00, 0.00000000e+00],\n",
              "       [1.32000000e+02, 2.00000000e+01, 4.23611110e-02, ...,\n",
              "        0.00000000e+00, 0.00000000e+00, 0.00000000e+00],\n",
              "       [1.70000000e+02, 6.19951026e+01, 4.79166667e-01, ...,\n",
              "        0.00000000e+00, 0.00000000e+00, 0.00000000e+00],\n",
              "       ...,\n",
              "       [3.30000000e+01, 8.70000000e+01, 2.91666670e-02, ...,\n",
              "        0.00000000e+00, 0.00000000e+00, 0.00000000e+00],\n",
              "       [1.16000000e+02, 6.30000000e+01, 1.84027778e-01, ...,\n",
              "        0.00000000e+00, 0.00000000e+00, 0.00000000e+00],\n",
              "       [1.75000000e+02, 6.70000000e+01, 6.88194444e-01, ...,\n",
              "        0.00000000e+00, 0.00000000e+00, 0.00000000e+00]])"
            ]
          },
          "metadata": {
            "tags": []
          },
          "execution_count": 219
        }
      ]
    },
    {
      "cell_type": "markdown",
      "metadata": {
        "id": "lg4h2tlY49oK"
      },
      "source": [
        "# **Verificando o Split**"
      ]
    },
    {
      "cell_type": "code",
      "metadata": {
        "colab": {
          "base_uri": "https://localhost:8080/"
        },
        "id": "8HIgT1c95C8g",
        "outputId": "4405bcc5-a4e7-44c7-a08a-41296b158ae7"
      },
      "source": [
        "print(\"Original True : {0} ({1:0.2f}%)\".format(len(df.loc[df['diabetes_mellitus'] == 1]), (len(df.loc[df['diabetes_mellitus'] == 1])/len(df.index)* 100)))\r\n",
        "print(\"Original False : {0} ({1:0.2f}%)\".format(len(df.loc[df['diabetes_mellitus'] == 0]), (len(df.loc[df['diabetes_mellitus'] == 0])/len(df.index)* 100)))"
      ],
      "execution_count": null,
      "outputs": [
        {
          "output_type": "stream",
          "text": [
            "Original True : 28151 (21.63%)\n",
            "Original False : 102006 (78.37%)\n"
          ],
          "name": "stdout"
        }
      ]
    },
    {
      "cell_type": "code",
      "metadata": {
        "colab": {
          "base_uri": "https://localhost:8080/"
        },
        "id": "8roU7luIA92V",
        "outputId": "fb68b888-3dab-4763-ef87-2dfbd8bfd92b"
      },
      "source": [
        "print(\"Training True : {0} ({1:0.2f}%)\".format(len(Y_treino[Y_treino[:] == 1]),\r\n",
        "                                               (len(Y_treino[Y_treino[:] == 1])/len(Y_treino)*100)))\r\n",
        "\r\n",
        "print(\"Training False : {0} ({1:0.2f}%)\".format(len(Y_treino[Y_treino[:] == 0]),\r\n",
        "                                               (len(Y_treino[Y_treino[:] == 0])/len(Y_treino)*100)))"
      ],
      "execution_count": null,
      "outputs": [
        {
          "output_type": "stream",
          "text": [
            "Training True : 19677 (21.60%)\n",
            "Training False : 71432 (78.40%)\n"
          ],
          "name": "stdout"
        }
      ]
    },
    {
      "cell_type": "code",
      "metadata": {
        "colab": {
          "base_uri": "https://localhost:8080/"
        },
        "id": "kcYjQ5YFDBsk",
        "outputId": "b2844e81-7126-40e1-e0fd-64971cb9f337"
      },
      "source": [
        "print(\"Test True : {0} ({1:0.2f}%)\".format(len(Y_teste[Y_teste[:] == 1]),\r\n",
        "                                               (len(Y_teste[Y_teste[:] == 1])/len(Y_teste)*100)))\r\n",
        "\r\n",
        "print(\"Test False : {0} ({1:0.2f}%)\".format(len(Y_teste[Y_teste[:] == 0]),\r\n",
        "                                               (len(Y_teste[Y_teste[:] == 0])/len(Y_teste)*100)))"
      ],
      "execution_count": null,
      "outputs": [
        {
          "output_type": "stream",
          "text": [
            "Test True : 8474 (21.70%)\n",
            "Test False : 30574 (78.30%)\n"
          ],
          "name": "stdout"
        }
      ]
    },
    {
      "cell_type": "markdown",
      "metadata": {
        "id": "lseIHIE_-nXF"
      },
      "source": [
        "# **Valores Missing Ocultos**"
      ]
    },
    {
      "cell_type": "code",
      "metadata": {
        "colab": {
          "base_uri": "https://localhost:8080/"
        },
        "id": "eUYX-cdiRsOd",
        "outputId": "0371255e-3fdb-4862-a867-9ce729bdfc7f"
      },
      "source": [
        "# Verificando se existem valores nulos\r\n",
        "df.isnull().values.any()"
      ],
      "execution_count": null,
      "outputs": [
        {
          "output_type": "execute_result",
          "data": {
            "text/plain": [
              "False"
            ]
          },
          "metadata": {
            "tags": []
          },
          "execution_count": 223
        }
      ]
    },
    {
      "cell_type": "code",
      "metadata": {
        "colab": {
          "base_uri": "https://localhost:8080/"
        },
        "id": "jBaDHYuaRyQ9",
        "outputId": "5fd4f6b8-b20b-4e41-98f0-c0db990dd948"
      },
      "source": [
        "df.head(5)"
      ],
      "execution_count": null,
      "outputs": [
        {
          "output_type": "execute_result",
          "data": {
            "text/html": [
              "<div>\n",
              "<style scoped>\n",
              "    .dataframe tbody tr th:only-of-type {\n",
              "        vertical-align: middle;\n",
              "    }\n",
              "\n",
              "    .dataframe tbody tr th {\n",
              "        vertical-align: top;\n",
              "    }\n",
              "\n",
              "    .dataframe thead th {\n",
              "        text-align: right;\n",
              "    }\n",
              "</style>\n",
              "<table border=\"1\" class=\"dataframe\">\n",
              "  <thead>\n",
              "    <tr style=\"text-align: right;\">\n",
              "      <th></th>\n",
              "      <th>Unnamed: 0</th>\n",
              "      <th>encounter_id</th>\n",
              "      <th>hospital_id</th>\n",
              "      <th>age</th>\n",
              "      <th>bmi</th>\n",
              "      <th>elective_surgery</th>\n",
              "      <th>ethnicity</th>\n",
              "      <th>gender</th>\n",
              "      <th>height</th>\n",
              "      <th>hospital_admit_source</th>\n",
              "      <th>icu_admit_source</th>\n",
              "      <th>icu_id</th>\n",
              "      <th>icu_stay_type</th>\n",
              "      <th>icu_type</th>\n",
              "      <th>pre_icu_los_days</th>\n",
              "      <th>readmission_status</th>\n",
              "      <th>weight</th>\n",
              "      <th>albumin_apache</th>\n",
              "      <th>apache_2_diagnosis</th>\n",
              "      <th>apache_3j_diagnosis</th>\n",
              "      <th>apache_post_operative</th>\n",
              "      <th>arf_apache</th>\n",
              "      <th>bilirubin_apache</th>\n",
              "      <th>bun_apache</th>\n",
              "      <th>creatinine_apache</th>\n",
              "      <th>fio2_apache</th>\n",
              "      <th>gcs_eyes_apache</th>\n",
              "      <th>gcs_motor_apache</th>\n",
              "      <th>gcs_unable_apache</th>\n",
              "      <th>gcs_verbal_apache</th>\n",
              "      <th>glucose_apache</th>\n",
              "      <th>heart_rate_apache</th>\n",
              "      <th>hematocrit_apache</th>\n",
              "      <th>intubated_apache</th>\n",
              "      <th>map_apache</th>\n",
              "      <th>paco2_apache</th>\n",
              "      <th>paco2_for_ph_apache</th>\n",
              "      <th>pao2_apache</th>\n",
              "      <th>ph_apache</th>\n",
              "      <th>resprate_apache</th>\n",
              "      <th>...</th>\n",
              "      <th>h1_hemaglobin_max</th>\n",
              "      <th>h1_hemaglobin_min</th>\n",
              "      <th>h1_hematocrit_max</th>\n",
              "      <th>h1_hematocrit_min</th>\n",
              "      <th>h1_inr_max</th>\n",
              "      <th>h1_inr_min</th>\n",
              "      <th>h1_lactate_max</th>\n",
              "      <th>h1_lactate_min</th>\n",
              "      <th>h1_platelets_max</th>\n",
              "      <th>h1_platelets_min</th>\n",
              "      <th>h1_potassium_max</th>\n",
              "      <th>h1_potassium_min</th>\n",
              "      <th>h1_sodium_max</th>\n",
              "      <th>h1_sodium_min</th>\n",
              "      <th>h1_wbc_max</th>\n",
              "      <th>h1_wbc_min</th>\n",
              "      <th>d1_arterial_pco2_max</th>\n",
              "      <th>d1_arterial_pco2_min</th>\n",
              "      <th>d1_arterial_ph_max</th>\n",
              "      <th>d1_arterial_ph_min</th>\n",
              "      <th>d1_arterial_po2_max</th>\n",
              "      <th>d1_arterial_po2_min</th>\n",
              "      <th>d1_pao2fio2ratio_max</th>\n",
              "      <th>d1_pao2fio2ratio_min</th>\n",
              "      <th>h1_arterial_pco2_max</th>\n",
              "      <th>h1_arterial_pco2_min</th>\n",
              "      <th>h1_arterial_ph_max</th>\n",
              "      <th>h1_arterial_ph_min</th>\n",
              "      <th>h1_arterial_po2_max</th>\n",
              "      <th>h1_arterial_po2_min</th>\n",
              "      <th>h1_pao2fio2ratio_max</th>\n",
              "      <th>h1_pao2fio2ratio_min</th>\n",
              "      <th>aids</th>\n",
              "      <th>cirrhosis</th>\n",
              "      <th>hepatic_failure</th>\n",
              "      <th>immunosuppression</th>\n",
              "      <th>leukemia</th>\n",
              "      <th>lymphoma</th>\n",
              "      <th>solid_tumor_with_metastasis</th>\n",
              "      <th>diabetes_mellitus</th>\n",
              "    </tr>\n",
              "  </thead>\n",
              "  <tbody>\n",
              "    <tr>\n",
              "      <th>0</th>\n",
              "      <td>1</td>\n",
              "      <td>214826</td>\n",
              "      <td>118</td>\n",
              "      <td>68.0</td>\n",
              "      <td>22.7328</td>\n",
              "      <td>0</td>\n",
              "      <td>Caucasian</td>\n",
              "      <td>M</td>\n",
              "      <td>180.3</td>\n",
              "      <td>Floor</td>\n",
              "      <td>Floor</td>\n",
              "      <td>92</td>\n",
              "      <td>admit</td>\n",
              "      <td>CTICU</td>\n",
              "      <td>0.541667</td>\n",
              "      <td>0</td>\n",
              "      <td>73.900000</td>\n",
              "      <td>2.300000</td>\n",
              "      <td>113</td>\n",
              "      <td>502.01</td>\n",
              "      <td>0</td>\n",
              "      <td>0</td>\n",
              "      <td>0.400000</td>\n",
              "      <td>31.00000</td>\n",
              "      <td>2.510000</td>\n",
              "      <td>0.595735</td>\n",
              "      <td>3.0</td>\n",
              "      <td>6.0</td>\n",
              "      <td>0.0</td>\n",
              "      <td>4.0</td>\n",
              "      <td>168.000000</td>\n",
              "      <td>118.0</td>\n",
              "      <td>27.400000</td>\n",
              "      <td>0</td>\n",
              "      <td>40.0</td>\n",
              "      <td>42.161246</td>\n",
              "      <td>42.161246</td>\n",
              "      <td>132.061737</td>\n",
              "      <td>7.352154</td>\n",
              "      <td>36.0</td>\n",
              "      <td>...</td>\n",
              "      <td>11.204166</td>\n",
              "      <td>11.088205</td>\n",
              "      <td>33.73183</td>\n",
              "      <td>33.349796</td>\n",
              "      <td>1.577788</td>\n",
              "      <td>1.463473</td>\n",
              "      <td>3.028198</td>\n",
              "      <td>2.976982</td>\n",
              "      <td>193.943057</td>\n",
              "      <td>193.123506</td>\n",
              "      <td>4.188984</td>\n",
              "      <td>4.147028</td>\n",
              "      <td>138.167205</td>\n",
              "      <td>137.879814</td>\n",
              "      <td>13.387873</td>\n",
              "      <td>13.336485</td>\n",
              "      <td>45.341451</td>\n",
              "      <td>38.535587</td>\n",
              "      <td>7.387687</td>\n",
              "      <td>7.322903</td>\n",
              "      <td>165.003814</td>\n",
              "      <td>102.957476</td>\n",
              "      <td>287.600071</td>\n",
              "      <td>224.005403</td>\n",
              "      <td>44.552966</td>\n",
              "      <td>43.341081</td>\n",
              "      <td>7.337283</td>\n",
              "      <td>7.327771</td>\n",
              "      <td>163.035835</td>\n",
              "      <td>145.949537</td>\n",
              "      <td>247.525419</td>\n",
              "      <td>239.617358</td>\n",
              "      <td>0</td>\n",
              "      <td>0</td>\n",
              "      <td>0</td>\n",
              "      <td>0</td>\n",
              "      <td>0</td>\n",
              "      <td>0</td>\n",
              "      <td>0</td>\n",
              "      <td>1</td>\n",
              "    </tr>\n",
              "    <tr>\n",
              "      <th>1</th>\n",
              "      <td>2</td>\n",
              "      <td>246060</td>\n",
              "      <td>81</td>\n",
              "      <td>77.0</td>\n",
              "      <td>27.4219</td>\n",
              "      <td>0</td>\n",
              "      <td>Caucasian</td>\n",
              "      <td>F</td>\n",
              "      <td>160.0</td>\n",
              "      <td>Floor</td>\n",
              "      <td>Floor</td>\n",
              "      <td>90</td>\n",
              "      <td>admit</td>\n",
              "      <td>Med-Surg ICU</td>\n",
              "      <td>0.927778</td>\n",
              "      <td>0</td>\n",
              "      <td>70.200000</td>\n",
              "      <td>2.886149</td>\n",
              "      <td>108</td>\n",
              "      <td>203.01</td>\n",
              "      <td>0</td>\n",
              "      <td>0</td>\n",
              "      <td>1.201222</td>\n",
              "      <td>9.00000</td>\n",
              "      <td>0.560000</td>\n",
              "      <td>1.000000</td>\n",
              "      <td>1.0</td>\n",
              "      <td>3.0</td>\n",
              "      <td>0.0</td>\n",
              "      <td>1.0</td>\n",
              "      <td>145.000000</td>\n",
              "      <td>120.0</td>\n",
              "      <td>36.900000</td>\n",
              "      <td>0</td>\n",
              "      <td>46.0</td>\n",
              "      <td>37.000000</td>\n",
              "      <td>37.000000</td>\n",
              "      <td>51.000000</td>\n",
              "      <td>7.450000</td>\n",
              "      <td>33.0</td>\n",
              "      <td>...</td>\n",
              "      <td>11.300000</td>\n",
              "      <td>11.300000</td>\n",
              "      <td>36.90000</td>\n",
              "      <td>36.900000</td>\n",
              "      <td>1.300000</td>\n",
              "      <td>1.300000</td>\n",
              "      <td>3.500000</td>\n",
              "      <td>3.500000</td>\n",
              "      <td>557.000000</td>\n",
              "      <td>557.000000</td>\n",
              "      <td>4.200000</td>\n",
              "      <td>4.200000</td>\n",
              "      <td>145.000000</td>\n",
              "      <td>145.000000</td>\n",
              "      <td>12.700000</td>\n",
              "      <td>12.700000</td>\n",
              "      <td>37.000000</td>\n",
              "      <td>37.000000</td>\n",
              "      <td>7.450000</td>\n",
              "      <td>7.450000</td>\n",
              "      <td>51.000000</td>\n",
              "      <td>51.000000</td>\n",
              "      <td>54.800000</td>\n",
              "      <td>51.000000</td>\n",
              "      <td>37.000000</td>\n",
              "      <td>37.000000</td>\n",
              "      <td>7.450000</td>\n",
              "      <td>7.450000</td>\n",
              "      <td>51.000000</td>\n",
              "      <td>51.000000</td>\n",
              "      <td>51.000000</td>\n",
              "      <td>51.000000</td>\n",
              "      <td>0</td>\n",
              "      <td>0</td>\n",
              "      <td>0</td>\n",
              "      <td>0</td>\n",
              "      <td>0</td>\n",
              "      <td>0</td>\n",
              "      <td>0</td>\n",
              "      <td>1</td>\n",
              "    </tr>\n",
              "    <tr>\n",
              "      <th>2</th>\n",
              "      <td>3</td>\n",
              "      <td>276985</td>\n",
              "      <td>118</td>\n",
              "      <td>25.0</td>\n",
              "      <td>31.9527</td>\n",
              "      <td>0</td>\n",
              "      <td>Caucasian</td>\n",
              "      <td>F</td>\n",
              "      <td>172.7</td>\n",
              "      <td>Emergency Department</td>\n",
              "      <td>Accident &amp; Emergency</td>\n",
              "      <td>93</td>\n",
              "      <td>admit</td>\n",
              "      <td>Med-Surg ICU</td>\n",
              "      <td>0.000694</td>\n",
              "      <td>0</td>\n",
              "      <td>95.300000</td>\n",
              "      <td>2.886149</td>\n",
              "      <td>122</td>\n",
              "      <td>703.03</td>\n",
              "      <td>0</td>\n",
              "      <td>0</td>\n",
              "      <td>1.201222</td>\n",
              "      <td>25.71807</td>\n",
              "      <td>1.481629</td>\n",
              "      <td>0.595735</td>\n",
              "      <td>3.0</td>\n",
              "      <td>6.0</td>\n",
              "      <td>0.0</td>\n",
              "      <td>5.0</td>\n",
              "      <td>160.141416</td>\n",
              "      <td>102.0</td>\n",
              "      <td>32.975817</td>\n",
              "      <td>0</td>\n",
              "      <td>68.0</td>\n",
              "      <td>42.161246</td>\n",
              "      <td>42.161246</td>\n",
              "      <td>132.061737</td>\n",
              "      <td>7.352154</td>\n",
              "      <td>37.0</td>\n",
              "      <td>...</td>\n",
              "      <td>11.204166</td>\n",
              "      <td>11.088205</td>\n",
              "      <td>33.73183</td>\n",
              "      <td>33.349796</td>\n",
              "      <td>1.577788</td>\n",
              "      <td>1.463473</td>\n",
              "      <td>3.028198</td>\n",
              "      <td>2.976982</td>\n",
              "      <td>193.943057</td>\n",
              "      <td>193.123506</td>\n",
              "      <td>4.188984</td>\n",
              "      <td>4.147028</td>\n",
              "      <td>138.167205</td>\n",
              "      <td>137.879814</td>\n",
              "      <td>13.387873</td>\n",
              "      <td>13.336485</td>\n",
              "      <td>45.341451</td>\n",
              "      <td>38.535587</td>\n",
              "      <td>7.387687</td>\n",
              "      <td>7.322903</td>\n",
              "      <td>165.003814</td>\n",
              "      <td>102.957476</td>\n",
              "      <td>287.600071</td>\n",
              "      <td>224.005403</td>\n",
              "      <td>44.552966</td>\n",
              "      <td>43.341081</td>\n",
              "      <td>7.337283</td>\n",
              "      <td>7.327771</td>\n",
              "      <td>163.035835</td>\n",
              "      <td>145.949537</td>\n",
              "      <td>247.525419</td>\n",
              "      <td>239.617358</td>\n",
              "      <td>0</td>\n",
              "      <td>0</td>\n",
              "      <td>0</td>\n",
              "      <td>0</td>\n",
              "      <td>0</td>\n",
              "      <td>0</td>\n",
              "      <td>0</td>\n",
              "      <td>0</td>\n",
              "    </tr>\n",
              "    <tr>\n",
              "      <th>3</th>\n",
              "      <td>4</td>\n",
              "      <td>262220</td>\n",
              "      <td>118</td>\n",
              "      <td>81.0</td>\n",
              "      <td>22.6355</td>\n",
              "      <td>1</td>\n",
              "      <td>Caucasian</td>\n",
              "      <td>F</td>\n",
              "      <td>165.1</td>\n",
              "      <td>Operating Room</td>\n",
              "      <td>Operating Room / Recovery</td>\n",
              "      <td>92</td>\n",
              "      <td>admit</td>\n",
              "      <td>CTICU</td>\n",
              "      <td>0.000694</td>\n",
              "      <td>0</td>\n",
              "      <td>61.700000</td>\n",
              "      <td>2.886149</td>\n",
              "      <td>203</td>\n",
              "      <td>1206.03</td>\n",
              "      <td>1</td>\n",
              "      <td>0</td>\n",
              "      <td>1.201222</td>\n",
              "      <td>25.71807</td>\n",
              "      <td>1.481629</td>\n",
              "      <td>0.600000</td>\n",
              "      <td>4.0</td>\n",
              "      <td>6.0</td>\n",
              "      <td>0.0</td>\n",
              "      <td>5.0</td>\n",
              "      <td>185.000000</td>\n",
              "      <td>114.0</td>\n",
              "      <td>25.900000</td>\n",
              "      <td>1</td>\n",
              "      <td>60.0</td>\n",
              "      <td>30.000000</td>\n",
              "      <td>30.000000</td>\n",
              "      <td>142.000000</td>\n",
              "      <td>7.390000</td>\n",
              "      <td>4.0</td>\n",
              "      <td>...</td>\n",
              "      <td>11.600000</td>\n",
              "      <td>11.600000</td>\n",
              "      <td>34.00000</td>\n",
              "      <td>34.000000</td>\n",
              "      <td>1.600000</td>\n",
              "      <td>1.100000</td>\n",
              "      <td>3.028198</td>\n",
              "      <td>2.976982</td>\n",
              "      <td>43.000000</td>\n",
              "      <td>43.000000</td>\n",
              "      <td>4.188984</td>\n",
              "      <td>4.147028</td>\n",
              "      <td>138.167205</td>\n",
              "      <td>137.879814</td>\n",
              "      <td>8.800000</td>\n",
              "      <td>8.800000</td>\n",
              "      <td>37.000000</td>\n",
              "      <td>27.000000</td>\n",
              "      <td>7.440000</td>\n",
              "      <td>7.340000</td>\n",
              "      <td>337.000000</td>\n",
              "      <td>102.000000</td>\n",
              "      <td>342.500000</td>\n",
              "      <td>236.666667</td>\n",
              "      <td>36.000000</td>\n",
              "      <td>33.000000</td>\n",
              "      <td>7.370000</td>\n",
              "      <td>7.340000</td>\n",
              "      <td>337.000000</td>\n",
              "      <td>265.000000</td>\n",
              "      <td>337.000000</td>\n",
              "      <td>337.000000</td>\n",
              "      <td>0</td>\n",
              "      <td>0</td>\n",
              "      <td>0</td>\n",
              "      <td>0</td>\n",
              "      <td>0</td>\n",
              "      <td>0</td>\n",
              "      <td>0</td>\n",
              "      <td>0</td>\n",
              "    </tr>\n",
              "    <tr>\n",
              "      <th>4</th>\n",
              "      <td>5</td>\n",
              "      <td>201746</td>\n",
              "      <td>33</td>\n",
              "      <td>19.0</td>\n",
              "      <td>None</td>\n",
              "      <td>0</td>\n",
              "      <td>Caucasian</td>\n",
              "      <td>M</td>\n",
              "      <td>188.0</td>\n",
              "      <td>None</td>\n",
              "      <td>Accident &amp; Emergency</td>\n",
              "      <td>91</td>\n",
              "      <td>admit</td>\n",
              "      <td>Med-Surg ICU</td>\n",
              "      <td>0.073611</td>\n",
              "      <td>0</td>\n",
              "      <td>83.791104</td>\n",
              "      <td>2.886149</td>\n",
              "      <td>119</td>\n",
              "      <td>601.01</td>\n",
              "      <td>0</td>\n",
              "      <td>0</td>\n",
              "      <td>1.201222</td>\n",
              "      <td>25.71807</td>\n",
              "      <td>1.481629</td>\n",
              "      <td>0.595735</td>\n",
              "      <td>4.0</td>\n",
              "      <td>6.0</td>\n",
              "      <td>0.0</td>\n",
              "      <td>5.0</td>\n",
              "      <td>160.141416</td>\n",
              "      <td>60.0</td>\n",
              "      <td>32.975817</td>\n",
              "      <td>0</td>\n",
              "      <td>103.0</td>\n",
              "      <td>42.161246</td>\n",
              "      <td>42.161246</td>\n",
              "      <td>132.061737</td>\n",
              "      <td>7.352154</td>\n",
              "      <td>16.0</td>\n",
              "      <td>...</td>\n",
              "      <td>11.204166</td>\n",
              "      <td>11.088205</td>\n",
              "      <td>33.73183</td>\n",
              "      <td>33.349796</td>\n",
              "      <td>1.577788</td>\n",
              "      <td>1.463473</td>\n",
              "      <td>3.028198</td>\n",
              "      <td>2.976982</td>\n",
              "      <td>193.943057</td>\n",
              "      <td>193.123506</td>\n",
              "      <td>4.188984</td>\n",
              "      <td>4.147028</td>\n",
              "      <td>138.167205</td>\n",
              "      <td>137.879814</td>\n",
              "      <td>13.387873</td>\n",
              "      <td>13.336485</td>\n",
              "      <td>45.341451</td>\n",
              "      <td>38.535587</td>\n",
              "      <td>7.387687</td>\n",
              "      <td>7.322903</td>\n",
              "      <td>165.003814</td>\n",
              "      <td>102.957476</td>\n",
              "      <td>287.600071</td>\n",
              "      <td>224.005403</td>\n",
              "      <td>44.552966</td>\n",
              "      <td>43.341081</td>\n",
              "      <td>7.337283</td>\n",
              "      <td>7.327771</td>\n",
              "      <td>163.035835</td>\n",
              "      <td>145.949537</td>\n",
              "      <td>247.525419</td>\n",
              "      <td>239.617358</td>\n",
              "      <td>0</td>\n",
              "      <td>0</td>\n",
              "      <td>0</td>\n",
              "      <td>0</td>\n",
              "      <td>0</td>\n",
              "      <td>0</td>\n",
              "      <td>0</td>\n",
              "      <td>0</td>\n",
              "    </tr>\n",
              "  </tbody>\n",
              "</table>\n",
              "<p>5 rows × 181 columns</p>\n",
              "</div>"
            ],
            "text/plain": [
              "   Unnamed: 0  encounter_id  ...  solid_tumor_with_metastasis  diabetes_mellitus\n",
              "0           1        214826  ...                            0                  1\n",
              "1           2        246060  ...                            0                  1\n",
              "2           3        276985  ...                            0                  0\n",
              "3           4        262220  ...                            0                  0\n",
              "4           5        201746  ...                            0                  0\n",
              "\n",
              "[5 rows x 181 columns]"
            ]
          },
          "metadata": {
            "tags": []
          },
          "execution_count": 224
        }
      ]
    },
    {
      "cell_type": "code",
      "metadata": {
        "colab": {
          "base_uri": "https://localhost:8080/"
        },
        "id": "kFXulCV6VKNC",
        "outputId": "ffe8954c-1fff-4587-daad-0cd608d56123"
      },
      "source": [
        "# Verificando as variáveis que não são binárias (float ou integer) se possuem valor 0\r\n",
        "print(\"# Linhas no dataframe {0}\".format(len(df)))\r\n",
        "print(\"# Linhas missing encounter_id: {0}\".format(len(df.loc[df['encounter_id'] == 0])))\r\n",
        "print(\"# Linhas missing hospital_id: {0}\".format(len(df.loc[df['hospital_id'] == 0])))\r\n",
        "print(\"# Linhas missing age: {0}\".format(len(df.loc[df['age'] == 0])))\r\n",
        "print(\"# Linhas missing bmi: {0}\".format(len(df.loc[df['bmi'] == 0])))\r\n",
        "print(\"# Linhas missing ethnicity: {0}\".format(len(df.loc[df['ethnicity'] == 0])))\r\n",
        "print(\"# Linhas missing gender: {0}\".format(len(df.loc[df['gender'] == 0])))\r\n",
        "print(\"# Linhas missing height: {0}\".format(len(df.loc[df['height'] == 0])))\r\n",
        "print(\"# Linhas missing icu_id: {0}\".format(len(df.loc[df['icu_id'] == 0])))\r\n",
        "print(\"# Linhas missing pre_icu_los_days: {0}\".format(len(df.loc[df['pre_icu_los_days'] == 0])))\r\n",
        "print(\"# Linhas missing weight: {0}\".format(len(df.loc[df['weight'] == 0])))\r\n",
        "print(\"# Linhas missing albumin_apache: {0}\".format(len(df.loc[df['albumin_apache'] == 0])))\r\n",
        "print(\"# Linhas missing bilirubin_apache: {0}\".format(len(df.loc[df['bilirubin_apache'] == 0])))\r\n",
        "print(\"# Linhas missing bun_apache: {0}\".format(len(df.loc[df['bun_apache'] == 0])))\r\n",
        "print(\"# Linhas missing creatinine_apache: {0}\".format(len(df.loc[df['creatinine_apache'] == 0])))\r\n",
        "print(\"# Linhas missing fio2_apache: {0}\".format(len(df.loc[df['fio2_apache'] == 0])))\r\n",
        "print(\"# Linhas missing gcs_eyes_apache: {0}\".format(len(df.loc[df['gcs_eyes_apache'] == 0])))\r\n",
        "print(\"# Linhas missing gcs_motor_apache: {0}\".format(len(df.loc[df['gcs_motor_apache'] == 0])))\r\n",
        "print(\"# Linhas missing gcs_verbal_apache: {0}\".format(len(df.loc[df['gcs_verbal_apache'] == 0])))\r\n",
        "print(\"# Linhas missing glucose_apache: {0}\".format(len(df.loc[df['glucose_apache'] == 0])))\r\n",
        "print(\"# Linhas missing map_apache: {0}\".format(len(df.loc[df['map_apache'] == 0])))\r\n",
        "print(\"# Linhas missing paco2_apache: {0}\".format(len(df.loc[df['paco2_apache'] == 0])))\r\n",
        "print(\"# Linhas missing paco2_for_ph_apache: {0}\".format(len(df.loc[df['paco2_for_ph_apache'] == 0])))\r\n",
        "print(\"# Linhas missing urineoutput_apache: {0}\".format(len(df.loc[df['urineoutput_apache'] == 0])))\r\n",
        "print(\"# Linhas missing ventilated_apache: {0}\".format(len(df.loc[df['ventilated_apache'] == 0])))\r\n",
        "print(\"# Linhas missing wbc_apache: {0}\".format(len(df.loc[df['wbc_apache'] == 0])))\r\n",
        "print(\"# Linhas missing h1_inr_max: {0}\".format(len(df.loc[df['h1_inr_max'] == 0])))\r\n",
        "print(\"# Linhas missing h1_inr_min: {0}\".format(len(df.loc[df['h1_inr_min'] == 0])))\r\n",
        "print(\"# Linhas missing h1_lactate_max: {0}\".format(len(df.loc[df['h1_lactate_max'] == 0])))\r\n",
        "print(\"# Linhas missing h1_lactate_min: {0}\".format(len(df.loc[df['h1_lactate_min'] == 0])))\r\n",
        "print(\"# Linhas missing h1_platelets_max: {0}\".format(len(df.loc[df['h1_platelets_max'] == 0])))\r\n",
        "print(\"# Linhas missing h1_platelets_min: {0}\".format(len(df.loc[df['h1_platelets_min'] == 0])))\r\n",
        "print(\"# Linhas missing h1_potassium_max: {0}\".format(len(df.loc[df['h1_potassium_max'] == 0])))\r\n",
        "print(\"# Linhas missing h1_potassium_min: {0}\".format(len(df.loc[df['h1_potassium_min'] == 0])))\r\n",
        "print(\"# Linhas missing h1_wbc_max: {0}\".format(len(df.loc[df['h1_wbc_max'] == 0])))\r\n",
        "print(\"# Linhas missing h1_wbc_min: {0}\".format(len(df.loc[df['h1_wbc_min'] == 0])))\r\n",
        "print(\"# Linhas missing d1_arterial_pco2_max: {0}\".format(len(df.loc[df['d1_arterial_pco2_max'] == 0])))\r\n",
        "print(\"# Linhas missing d1_arterial_pco2_min: {0}\".format(len(df.loc[df['d1_arterial_pco2_min'] == 0])))\r\n",
        "print(\"# Linhas missing cirrhosis: {0}\".format(len(df.loc[df['cirrhosis'] == 0])))\r\n",
        "print(\"# Linhas missing hepatic_failure: {0}\".format(len(df.loc[df['hepatic_failure'] == 0])))\r\n",
        "print(\"# Linhas missing leukemia: {0}\".format(len(df.loc[df['leukemia'] == 0])))\r\n"
      ],
      "execution_count": null,
      "outputs": [
        {
          "output_type": "stream",
          "text": [
            "# Linhas no dataframe 130157\n",
            "# Linhas missing encounter_id: 0\n",
            "# Linhas missing hospital_id: 0\n",
            "# Linhas missing age: 30\n",
            "# Linhas missing bmi: 0\n",
            "# Linhas missing ethnicity: 0\n",
            "# Linhas missing gender: 0\n",
            "# Linhas missing height: 0\n",
            "# Linhas missing icu_id: 0\n",
            "# Linhas missing pre_icu_los_days: 5364\n",
            "# Linhas missing weight: 0\n",
            "# Linhas missing albumin_apache: 0\n",
            "# Linhas missing bilirubin_apache: 0\n",
            "# Linhas missing bun_apache: 0\n",
            "# Linhas missing creatinine_apache: 0\n",
            "# Linhas missing fio2_apache: 0\n",
            "# Linhas missing gcs_eyes_apache: 0\n",
            "# Linhas missing gcs_motor_apache: 0\n",
            "# Linhas missing gcs_verbal_apache: 0\n",
            "# Linhas missing glucose_apache: 0\n",
            "# Linhas missing map_apache: 0\n",
            "# Linhas missing paco2_apache: 0\n",
            "# Linhas missing paco2_for_ph_apache: 0\n",
            "# Linhas missing urineoutput_apache: 1279\n",
            "# Linhas missing ventilated_apache: 87149\n",
            "# Linhas missing wbc_apache: 0\n",
            "# Linhas missing h1_inr_max: 0\n",
            "# Linhas missing h1_inr_min: 0\n",
            "# Linhas missing h1_lactate_max: 0\n",
            "# Linhas missing h1_lactate_min: 0\n",
            "# Linhas missing h1_platelets_max: 0\n",
            "# Linhas missing h1_platelets_min: 0\n",
            "# Linhas missing h1_potassium_max: 0\n",
            "# Linhas missing h1_potassium_min: 0\n",
            "# Linhas missing h1_wbc_max: 0\n",
            "# Linhas missing h1_wbc_min: 0\n",
            "# Linhas missing d1_arterial_pco2_max: 0\n",
            "# Linhas missing d1_arterial_pco2_min: 0\n",
            "# Linhas missing cirrhosis: 128064\n",
            "# Linhas missing hepatic_failure: 128387\n",
            "# Linhas missing leukemia: 129206\n"
          ],
          "name": "stdout"
        }
      ]
    },
    {
      "cell_type": "markdown",
      "metadata": {
        "id": "iKzDqSu2hSVe"
      },
      "source": [
        "# **Tratando Dados Missing - Imput**"
      ]
    },
    {
      "cell_type": "markdown",
      "metadata": {
        "id": "sZsIOVdahefq"
      },
      "source": [
        "Substituindo os valores iguais a zero, pela média dos dados"
      ]
    },
    {
      "cell_type": "code",
      "metadata": {
        "id": "Ay36pROYgshF"
      },
      "source": [
        "from sklearn.impute import SimpleImputer"
      ],
      "execution_count": null,
      "outputs": []
    },
    {
      "cell_type": "code",
      "metadata": {
        "id": "k0KNLTeah1G6"
      },
      "source": [
        "# Criando objeto\r\n",
        "preenche_0 = SimpleImputer(missing_values = 0, strategy = 'mean', fill_value=None, verbose=0, copy=True)\r\n",
        "\r\n",
        "# Substituindo os valores iguais a zero, pela média dos dados\r\n",
        "X_treino = preenche_0.fit_transform(X_treino)\r\n",
        "X_teste = preenche_0.fit_transform(X_teste)"
      ],
      "execution_count": null,
      "outputs": []
    },
    {
      "cell_type": "markdown",
      "metadata": {
        "id": "PUtUCwb8iyHX"
      },
      "source": [
        "# **Construindo e treinando o modelo**"
      ]
    },
    {
      "cell_type": "code",
      "metadata": {
        "id": "SlLLzP7-o4dL"
      },
      "source": [
        "# Utilizando um classificador Naive Bayes\r\n",
        "from sklearn.naive_bayes import GaussianNB"
      ],
      "execution_count": null,
      "outputs": []
    },
    {
      "cell_type": "code",
      "metadata": {
        "id": "6cvTNdzQpLH0"
      },
      "source": [
        "# Criando o modelo preditivo\r\n",
        "modelo_vl = GaussianNB()"
      ],
      "execution_count": null,
      "outputs": []
    },
    {
      "cell_type": "code",
      "metadata": {
        "id": "45KAgCSZpbIo",
        "colab": {
          "base_uri": "https://localhost:8080/"
        },
        "outputId": "68a87f73-d682-448b-94ad-93e94adf54b7"
      },
      "source": [
        "# Treinando o modelo\r\n",
        "modelo_vl.fit(X_treino, Y_treino.ravel())"
      ],
      "execution_count": null,
      "outputs": [
        {
          "output_type": "execute_result",
          "data": {
            "text/plain": [
              "GaussianNB(priors=None, var_smoothing=1e-09)"
            ]
          },
          "metadata": {
            "tags": []
          },
          "execution_count": 241
        }
      ]
    },
    {
      "cell_type": "markdown",
      "metadata": {
        "id": "8k7PtDs5puIo"
      },
      "source": [
        "# **Verificando a exatidão no modelo nos dados de treino**"
      ]
    },
    {
      "cell_type": "code",
      "metadata": {
        "id": "xhC0FjKCp7SE"
      },
      "source": [
        "from sklearn import metrics"
      ],
      "execution_count": null,
      "outputs": []
    },
    {
      "cell_type": "code",
      "metadata": {
        "id": "6VOUWNBfqEaG",
        "colab": {
          "base_uri": "https://localhost:8080/"
        },
        "outputId": "04adff6e-696b-41ce-cf62-075574a22397"
      },
      "source": [
        "nb_predict_train = modelo_vl.predict(X_treino)\r\n",
        "print(\"Exatidão (Accuracy): {0:.4f}\".format(metrics.accuracy_score(Y_treino, nb_predict_train)))\r\n",
        "print()"
      ],
      "execution_count": null,
      "outputs": [
        {
          "output_type": "stream",
          "text": [
            "Exatidão (Accuracy): 0.7542\n",
            "\n"
          ],
          "name": "stdout"
        }
      ]
    },
    {
      "cell_type": "markdown",
      "metadata": {
        "id": "-G5u8Vysrf_Y"
      },
      "source": [
        "# **Verificando a Exatidão do Modelo nos Dados de Teste**"
      ]
    },
    {
      "cell_type": "code",
      "metadata": {
        "id": "ZHxM1pdUstxE",
        "colab": {
          "base_uri": "https://localhost:8080/"
        },
        "outputId": "5ee14854-67bf-45e5-963d-57961b217b2c"
      },
      "source": [
        "nb_predict_test = modelo_vl.predict(X_teste)\r\n",
        "print(\"Exatidão (Accuracy): {0:.4f}\".format(metrics.accuracy_score(Y_teste, nb_predict_test)))\r\n",
        "print()"
      ],
      "execution_count": null,
      "outputs": [
        {
          "output_type": "stream",
          "text": [
            "Exatidão (Accuracy): 0.7500\n",
            "\n"
          ],
          "name": "stdout"
        }
      ]
    },
    {
      "cell_type": "markdown",
      "metadata": {
        "id": "W4VtNaJ6u5Ia"
      },
      "source": [
        "# **Métricas**"
      ]
    },
    {
      "cell_type": "code",
      "metadata": {
        "id": "bUDnJD_xu8Tr",
        "colab": {
          "base_uri": "https://localhost:8080/"
        },
        "outputId": "416c02a9-59f4-4bea-a33c-b09503f7e36c"
      },
      "source": [
        "# Criando uma Confusion Matrix\r\n",
        "print(\"Confusion Matrix\")\r\n",
        "\r\n",
        "print(\"{0}\".format(metrics.confusion_matrix(Y_teste, nb_predict_test, labels=[1,0])))\r\n",
        "print(\"\")\r\n",
        "\r\n",
        "print(\"Classification Report\")\r\n",
        "print(metrics.classification_report(Y_teste, nb_predict_test, labels=[1,0]))"
      ],
      "execution_count": null,
      "outputs": [
        {
          "output_type": "stream",
          "text": [
            "Confusion Matrix\n",
            "[[ 2558  5916]\n",
            " [ 3845 26729]]\n",
            "\n",
            "Classification Report\n",
            "              precision    recall  f1-score   support\n",
            "\n",
            "           1       0.40      0.30      0.34      8474\n",
            "           0       0.82      0.87      0.85     30574\n",
            "\n",
            "    accuracy                           0.75     39048\n",
            "   macro avg       0.61      0.59      0.59     39048\n",
            "weighted avg       0.73      0.75      0.74     39048\n",
            "\n"
          ],
          "name": "stdout"
        }
      ]
    },
    {
      "cell_type": "markdown",
      "metadata": {
        "id": "aG92EqFwxgV0"
      },
      "source": [
        "# **Otimizando o Modelo com Random Forest**"
      ]
    },
    {
      "cell_type": "code",
      "metadata": {
        "id": "vnQMmiH7xl9y"
      },
      "source": [
        "from sklearn.ensemble import RandomForestClassifier"
      ],
      "execution_count": null,
      "outputs": []
    },
    {
      "cell_type": "code",
      "metadata": {
        "colab": {
          "base_uri": "https://localhost:8080/"
        },
        "id": "L2I88v_zyXyV",
        "outputId": "e08e1cdf-ee17-4c02-a64a-b5706e04782a"
      },
      "source": [
        "modelo_v2 = RandomForestClassifier(random_state = 42)\r\n",
        "modelo_v2.fit(X_treino, Y_treino.ravel())"
      ],
      "execution_count": null,
      "outputs": [
        {
          "output_type": "execute_result",
          "data": {
            "text/plain": [
              "RandomForestClassifier(bootstrap=True, ccp_alpha=0.0, class_weight=None,\n",
              "                       criterion='gini', max_depth=None, max_features='auto',\n",
              "                       max_leaf_nodes=None, max_samples=None,\n",
              "                       min_impurity_decrease=0.0, min_impurity_split=None,\n",
              "                       min_samples_leaf=1, min_samples_split=2,\n",
              "                       min_weight_fraction_leaf=0.0, n_estimators=100,\n",
              "                       n_jobs=None, oob_score=False, random_state=42, verbose=0,\n",
              "                       warm_start=False)"
            ]
          },
          "metadata": {
            "tags": []
          },
          "execution_count": 247
        }
      ]
    },
    {
      "cell_type": "code",
      "metadata": {
        "colab": {
          "base_uri": "https://localhost:8080/"
        },
        "id": "1lBhQgDay2vn",
        "outputId": "ea256249-98ca-46ca-c00c-a288f36b0f40"
      },
      "source": [
        "# Verificando os dados de treino\r\n",
        "rf_predict_train = modelo_v2.predict(X_treino)\r\n",
        "print(\"Exatidão (Accuracy): {0:.4f}\".format(metrics.accuracy_score(Y_treino, rf_predict_train)))"
      ],
      "execution_count": null,
      "outputs": [
        {
          "output_type": "stream",
          "text": [
            "Exatidão (Accuracy): 1.0000\n"
          ],
          "name": "stdout"
        }
      ]
    },
    {
      "cell_type": "code",
      "metadata": {
        "colab": {
          "base_uri": "https://localhost:8080/"
        },
        "id": "YZS3cNnzzuwr",
        "outputId": "eb3bcf3e-c5eb-4fd1-aa9d-98706bec96cc"
      },
      "source": [
        "# Verificando os dados de teste\r\n",
        "rf_predict_test = modelo_v2.predict(X_teste)\r\n",
        "print(\"Exatidão (Accuracy): {0:.4f}\".format(metrics.accuracy_score(Y_teste, rf_predict_test)))\r\n",
        "print()"
      ],
      "execution_count": null,
      "outputs": [
        {
          "output_type": "stream",
          "text": [
            "Exatidão (Accuracy): 0.8139\n",
            "\n"
          ],
          "name": "stdout"
        }
      ]
    },
    {
      "cell_type": "code",
      "metadata": {
        "colab": {
          "base_uri": "https://localhost:8080/"
        },
        "id": "7wVay-DH0G4H",
        "outputId": "a5109e34-29d3-4439-e233-db94e2032a91"
      },
      "source": [
        "# Criando uma Confusion Matrix\r\n",
        "print(\"Confusion Matrix\")\r\n",
        "\r\n",
        "print(\"{0}\".format(metrics.confusion_matrix(Y_teste, rf_predict_test, labels=[1,0])))\r\n",
        "print(\"\")\r\n",
        "\r\n",
        "print(\"Classification Report\")\r\n",
        "print(metrics.classification_report(Y_teste, rf_predict_test, labels=[1,0]))"
      ],
      "execution_count": null,
      "outputs": [
        {
          "output_type": "stream",
          "text": [
            "Confusion Matrix\n",
            "[[ 2705  5769]\n",
            " [ 1497 29077]]\n",
            "\n",
            "Classification Report\n",
            "              precision    recall  f1-score   support\n",
            "\n",
            "           1       0.64      0.32      0.43      8474\n",
            "           0       0.83      0.95      0.89     30574\n",
            "\n",
            "    accuracy                           0.81     39048\n",
            "   macro avg       0.74      0.64      0.66     39048\n",
            "weighted avg       0.79      0.81      0.79     39048\n",
            "\n"
          ],
          "name": "stdout"
        }
      ]
    },
    {
      "cell_type": "markdown",
      "metadata": {
        "id": "__B-UoWc0mu6"
      },
      "source": [
        "# **Regressão Logística**"
      ]
    },
    {
      "cell_type": "code",
      "metadata": {
        "id": "tFSPHhDV0sJg"
      },
      "source": [
        "from sklearn.linear_model import LogisticRegression"
      ],
      "execution_count": null,
      "outputs": []
    },
    {
      "cell_type": "code",
      "metadata": {
        "id": "4eWcCEJi3IrA",
        "colab": {
          "base_uri": "https://localhost:8080/"
        },
        "outputId": "1387aec5-4783-4aa9-c783-13af97305400"
      },
      "source": [
        "# Terceira versão do modelo usando Regressão Logística\r\n",
        "modelo_v3 = LogisticRegression(C = 0.7, random_state = 42)\r\n",
        "modelo_v3.fit(X_treino, Y_treino.ravel())\r\n",
        "lr_predict_test = modelo_v3.predict(X_teste)"
      ],
      "execution_count": null,
      "outputs": [
        {
          "output_type": "stream",
          "text": [
            "/usr/local/lib/python3.7/dist-packages/sklearn/linear_model/_logistic.py:940: ConvergenceWarning: lbfgs failed to converge (status=1):\n",
            "STOP: TOTAL NO. of ITERATIONS REACHED LIMIT.\n",
            "\n",
            "Increase the number of iterations (max_iter) or scale the data as shown in:\n",
            "    https://scikit-learn.org/stable/modules/preprocessing.html\n",
            "Please also refer to the documentation for alternative solver options:\n",
            "    https://scikit-learn.org/stable/modules/linear_model.html#logistic-regression\n",
            "  extra_warning_msg=_LOGISTIC_SOLVER_CONVERGENCE_MSG)\n"
          ],
          "name": "stderr"
        }
      ]
    },
    {
      "cell_type": "code",
      "metadata": {
        "id": "0KNanjqB4Fyh",
        "colab": {
          "base_uri": "https://localhost:8080/"
        },
        "outputId": "e866fd79-881d-4012-de97-00e52ebece25"
      },
      "source": [
        "print(\"Exatidão (Accuracy): {0:.4f}\".format(metrics.accuracy_score(Y_teste, lr_predict_test)))\r\n",
        "print()\r\n",
        "\r\n",
        "print(\"Classification Report\")\r\n",
        "print(metrics.classification_report(Y_teste, lr_predict_test, labels=[1,0]))"
      ],
      "execution_count": null,
      "outputs": [
        {
          "output_type": "stream",
          "text": [
            "Exatidão (Accuracy): 0.7950\n",
            "\n",
            "Classification Report\n",
            "              precision    recall  f1-score   support\n",
            "\n",
            "           1       0.59      0.18      0.28      8474\n",
            "           0       0.81      0.96      0.88     30574\n",
            "\n",
            "    accuracy                           0.80     39048\n",
            "   macro avg       0.70      0.57      0.58     39048\n",
            "weighted avg       0.76      0.80      0.75     39048\n",
            "\n"
          ],
          "name": "stdout"
        }
      ]
    },
    {
      "cell_type": "markdown",
      "metadata": {
        "id": "wrnlTlWO4w-H"
      },
      "source": [
        "# **Exportando Previsões com o Modelo Treinado**"
      ]
    },
    {
      "cell_type": "code",
      "metadata": {
        "id": "W3asbnV4XZ3n"
      },
      "source": [
        "# Ajustando o Transformer API\r\n",
        "scaler = preprocessing.StandardScaler().fit(X_treino)"
      ],
      "execution_count": null,
      "outputs": []
    },
    {
      "cell_type": "code",
      "metadata": {
        "id": "ftGHXuk9ZHmR"
      },
      "source": [
        "X_treino_scaled = scaler.transform(X_treino)"
      ],
      "execution_count": null,
      "outputs": []
    },
    {
      "cell_type": "code",
      "metadata": {
        "id": "uJ23hzxwXjhr"
      },
      "source": [
        "#n_estimators=100 (número de nós) , n_jobs=-1 ( todo o processamento possível) , warm_start=True (mantém o aprendizado e reprocessa o modelo, melhorando-o)\r\n",
        "pipeline = make_pipeline(preprocessing.StandardScaler(), RandomForestRegressor(n_estimators=200, n_jobs=-1, warm_start=True))"
      ],
      "execution_count": null,
      "outputs": []
    },
    {
      "cell_type": "code",
      "metadata": {
        "id": "tlR9_cb7Yh4E"
      },
      "source": [
        "# max_features : O número de features a considerar quando pesquisar pela melhor separação (testará as 3 opções e identificará a melhor para o modelo)\r\n",
        "# max_depth :  Profundidade máxima da árvore de decisão. Se None (nenhuma), os nós serão expandidos até acabar as folhas ou até que elas contenham o mínimo valor de amostras possível.\r\n",
        "hyperparameters = { 'randomforestregressor__max_features' : ['auto', 'sqrt', 'log2'],\r\n",
        "                  'randomforestregressor__max_depth': [None, 5, 3, 1]}"
      ],
      "execution_count": null,
      "outputs": []
    },
    {
      "cell_type": "code",
      "metadata": {
        "id": "MdIGUfHOaDCf"
      },
      "source": [
        "pred_diabetes = modelo_v2.predict(X_teste)"
      ],
      "execution_count": null,
      "outputs": []
    },
    {
      "cell_type": "code",
      "metadata": {
        "id": "gQBzbfZld0Ai"
      },
      "source": [
        "df_resposta = pd.DataFrame()"
      ],
      "execution_count": null,
      "outputs": []
    },
    {
      "cell_type": "code",
      "metadata": {
        "id": "cvVzyAB741QT"
      },
      "source": [
        "df_resposta['diabetes_mellitus'] = np.around(rf_predict_test,2)"
      ],
      "execution_count": null,
      "outputs": []
    },
    {
      "cell_type": "code",
      "metadata": {
        "colab": {
          "base_uri": "https://localhost:8080/"
        },
        "id": "hl-nf7T7KfYR",
        "outputId": "59545380-a989-40fc-da08-34726e4ad678"
      },
      "source": [
        "df_resposta.shape"
      ],
      "execution_count": null,
      "outputs": [
        {
          "output_type": "execute_result",
          "data": {
            "text/plain": [
              "(39048, 1)"
            ]
          },
          "metadata": {
            "tags": []
          },
          "execution_count": 263
        }
      ]
    },
    {
      "cell_type": "code",
      "metadata": {
        "colab": {
          "base_uri": "https://localhost:8080/"
        },
        "id": "2-qtskoqecsP",
        "outputId": "bafb063f-9f66-439d-cba4-112335f294aa"
      },
      "source": [
        "df_resposta['diabetes_mellitus'].unique()"
      ],
      "execution_count": null,
      "outputs": [
        {
          "output_type": "execute_result",
          "data": {
            "text/plain": [
              "array([0, 1])"
            ]
          },
          "metadata": {
            "tags": []
          },
          "execution_count": 261
        }
      ]
    },
    {
      "cell_type": "code",
      "metadata": {
        "id": "j_2u7_9Sf7zG"
      },
      "source": [
        "df_resposta.to_csv('submit.csv', index=False, header=True)"
      ],
      "execution_count": null,
      "outputs": []
    }
  ]
}